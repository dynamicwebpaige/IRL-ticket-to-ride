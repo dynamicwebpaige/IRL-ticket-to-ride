{
 "cells": [
  {
   "cell_type": "markdown",
   "metadata": {},
   "source": [
    "# 🚂⛰️ **IRL Ticket to Ride**: `Portland`\n",
    "### _December 12th - 13th_"
   ]
  },
  {
   "cell_type": "markdown",
   "metadata": {},
   "source": [
    "### Import libraries\n",
    "\n",
    "To visualize the data and the route maps, we'll be using `micropip` with Pyodide, which brings the Python 3.9 runtime and the entire Python scientific data science stack to WebAssembly; as well as several other data analysis and geographic visualization libraries:\n",
    "\n",
    "* [Folium](http://python-visualization.github.io/folium/): visualizes Python data on a `leaflet.js` map.\n",
    "* [Plotly](https://github.com/plotly/plotly.py): interactive graphing library for Python.\n",
    "* [Pandas](https://pandas.pydata.org/): open-source data analysis and manipulation tool, included out of the box with Pyodide.\n",
    "\n",
    "To launch this notebook using `github.dev`, simply press `.` on your computer keyboard, or swap `github.com` in your browser's URL to `github.dev`. Dependent on the speed of your internet connection, running the cell below should take somewhere between 20-45 seconds."
   ]
  },
  {
   "cell_type": "code",
   "execution_count": null,
   "metadata": {},
   "outputs": [
    {
     "name": "stderr",
     "output_type": "stream",
     "text": [
      "/lib/python3.9/site-packages/pandas/compat/__init__.py:117: UserWarning: Could not import the lzma module. Your installed Python is incomplete. Attempting to use lzma compression will result in a RuntimeError.\n",
      "  warnings.warn(msg)\n"
     ]
    }
   ],
   "source": [
    "import pyodide\n",
    "import micropip\n",
    "\n",
    "await micropip.install('plotly')\n",
    "await micropip.install('folium')\n",
    "\n",
    "import plotly.graph_objects as go\n",
    "import pandas as pd\n",
    "import folium"
   ]
  },
  {
   "cell_type": "markdown",
   "metadata": {},
   "source": [
    "### Import the data\n",
    "\n",
    "First we'll ingest the data describing train stops. The features included in this data set are straightforward: `Latitude` and `Longitude` for each of the stations, as well as `Location` and `Time` and `Date` of when I'll be passing through."
   ]
  },
  {
   "cell_type": "code",
   "execution_count": null,
   "metadata": {},
   "outputs": [],
   "source": [
    "df = pd.read_csv(pyodide.open_url('https://raw.githubusercontent.com/dynamicwebpaige/IRL-ticket-to-ride/main/data/train-stations.csv'))\n",
    "stops = pd.read_csv(pyodide.open_url('https://raw.githubusercontent.com/dynamicwebpaige/IRL-ticket-to-ride/main/data/trip-stops.csv'))"
   ]
  },
  {
   "cell_type": "code",
   "execution_count": 5,
   "metadata": {},
   "outputs": [
    {
     "data": {
      "text/html": [
       "<div>\n",
       "<style scoped>\n",
       "    .dataframe tbody tr th:only-of-type {\n",
       "        vertical-align: middle;\n",
       "    }\n",
       "\n",
       "    .dataframe tbody tr th {\n",
       "        vertical-align: top;\n",
       "    }\n",
       "\n",
       "    .dataframe thead th {\n",
       "        text-align: right;\n",
       "    }\n",
       "</style>\n",
       "<table border=\"1\" class=\"dataframe\">\n",
       "  <thead>\n",
       "    <tr style=\"text-align: right;\">\n",
       "      <th></th>\n",
       "      <th>Time</th>\n",
       "      <th>Date</th>\n",
       "      <th>Location</th>\n",
       "    </tr>\n",
       "  </thead>\n",
       "  <tbody>\n",
       "    <tr>\n",
       "      <th>0</th>\n",
       "      <td>7:22</td>\n",
       "      <td>December 12, 2021</td>\n",
       "      <td>Seattle, WA</td>\n",
       "    </tr>\n",
       "    <tr>\n",
       "      <th>1</th>\n",
       "      <td>7:34</td>\n",
       "      <td>December 12, 2021</td>\n",
       "      <td>Tukwila, WA</td>\n",
       "    </tr>\n",
       "    <tr>\n",
       "      <th>2</th>\n",
       "      <td>8:05</td>\n",
       "      <td>December 12, 2021</td>\n",
       "      <td>Tacoma, WA</td>\n",
       "    </tr>\n",
       "    <tr>\n",
       "      <th>3</th>\n",
       "      <td>8:38</td>\n",
       "      <td>December 12, 2021</td>\n",
       "      <td>Olympia-Lacey, WA</td>\n",
       "    </tr>\n",
       "    <tr>\n",
       "      <th>4</th>\n",
       "      <td>8:58</td>\n",
       "      <td>December 12, 2021</td>\n",
       "      <td>Centralia, WA</td>\n",
       "    </tr>\n",
       "    <tr>\n",
       "      <th>5</th>\n",
       "      <td>9:38</td>\n",
       "      <td>December 12, 2021</td>\n",
       "      <td>Kelso-Longview, WA</td>\n",
       "    </tr>\n",
       "    <tr>\n",
       "      <th>6</th>\n",
       "      <td>10:19</td>\n",
       "      <td>December 12, 2021</td>\n",
       "      <td>Vancouver, WA</td>\n",
       "    </tr>\n",
       "    <tr>\n",
       "      <th>7</th>\n",
       "      <td>10:47</td>\n",
       "      <td>December 12, 2021</td>\n",
       "      <td>Portland, OR</td>\n",
       "    </tr>\n",
       "  </tbody>\n",
       "</table>\n",
       "</div>"
      ],
      "text/plain": [
       "    Time               Date            Location\n",
       "0   7:22  December 12, 2021         Seattle, WA\n",
       "1   7:34  December 12, 2021         Tukwila, WA\n",
       "2   8:05  December 12, 2021          Tacoma, WA\n",
       "3   8:38  December 12, 2021   Olympia-Lacey, WA\n",
       "4   8:58  December 12, 2021       Centralia, WA\n",
       "5   9:38  December 12, 2021  Kelso-Longview, WA\n",
       "6  10:19  December 12, 2021       Vancouver, WA\n",
       "7  10:47  December 12, 2021        Portland, OR"
      ]
     },
     "execution_count": 5,
     "metadata": {},
     "output_type": "execute_result"
    }
   ],
   "source": [
    "# Segment out the Portland stops.\n",
    "Portland = df.iloc[0:8]\n",
    "Portland[['Time','Date','Location']]"
   ]
  },
  {
   "cell_type": "markdown",
   "metadata": {},
   "source": [
    "### Seattle to Portland: the trip down\n",
    "\n",
    "![](https://upload.wikimedia.org/wikipedia/commons/2/22/AmtrakCascadesEdmonds.jpg)\n",
    "\n",
    "_Beautiful!_ \n",
    "\n",
    "The train that I'll be riding through these cities is called the [Amtrak Cascades](https://en.wikipedia.org/wiki/Amtrak_Cascades). Add some more details about the train, and about its history. If it has had any appearances in films or literature, list them here."
   ]
  },
  {
   "cell_type": "code",
   "execution_count": 6,
   "metadata": {},
   "outputs": [
    {
     "data": {
      "text/html": [
       "<div style=\"width:100%;\"><div style=\"position:relative;width:100%;height:0;padding-bottom:60%;\"><span style=\"color:#565656\">Make this Notebook Trusted to load map: File -> Trust Notebook</span><iframe src=\"about:blank\" style=\"position:absolute;width:100%;height:100%;left:0;top:0;border:none !important;\" data-html=%3C%21DOCTYPE%20html%3E%0A%3Chead%3E%20%20%20%20%0A%20%20%20%20%3Cmeta%20http-equiv%3D%22content-type%22%20content%3D%22text/html%3B%20charset%3DUTF-8%22%20/%3E%0A%20%20%20%20%0A%20%20%20%20%20%20%20%20%3Cscript%3E%0A%20%20%20%20%20%20%20%20%20%20%20%20L_NO_TOUCH%20%3D%20false%3B%0A%20%20%20%20%20%20%20%20%20%20%20%20L_DISABLE_3D%20%3D%20false%3B%0A%20%20%20%20%20%20%20%20%3C/script%3E%0A%20%20%20%20%0A%20%20%20%20%3Cstyle%3Ehtml%2C%20body%20%7Bwidth%3A%20100%25%3Bheight%3A%20100%25%3Bmargin%3A%200%3Bpadding%3A%200%3B%7D%3C/style%3E%0A%20%20%20%20%3Cstyle%3E%23map%20%7Bposition%3Aabsolute%3Btop%3A0%3Bbottom%3A0%3Bright%3A0%3Bleft%3A0%3B%7D%3C/style%3E%0A%20%20%20%20%3Cscript%20src%3D%22https%3A//cdn.jsdelivr.net/npm/leaflet%401.6.0/dist/leaflet.js%22%3E%3C/script%3E%0A%20%20%20%20%3Cscript%20src%3D%22https%3A//code.jquery.com/jquery-1.12.4.min.js%22%3E%3C/script%3E%0A%20%20%20%20%3Cscript%20src%3D%22https%3A//maxcdn.bootstrapcdn.com/bootstrap/3.2.0/js/bootstrap.min.js%22%3E%3C/script%3E%0A%20%20%20%20%3Cscript%20src%3D%22https%3A//cdnjs.cloudflare.com/ajax/libs/Leaflet.awesome-markers/2.0.2/leaflet.awesome-markers.js%22%3E%3C/script%3E%0A%20%20%20%20%3Clink%20rel%3D%22stylesheet%22%20href%3D%22https%3A//cdn.jsdelivr.net/npm/leaflet%401.6.0/dist/leaflet.css%22/%3E%0A%20%20%20%20%3Clink%20rel%3D%22stylesheet%22%20href%3D%22https%3A//maxcdn.bootstrapcdn.com/bootstrap/3.2.0/css/bootstrap.min.css%22/%3E%0A%20%20%20%20%3Clink%20rel%3D%22stylesheet%22%20href%3D%22https%3A//maxcdn.bootstrapcdn.com/bootstrap/3.2.0/css/bootstrap-theme.min.css%22/%3E%0A%20%20%20%20%3Clink%20rel%3D%22stylesheet%22%20href%3D%22https%3A//maxcdn.bootstrapcdn.com/font-awesome/4.6.3/css/font-awesome.min.css%22/%3E%0A%20%20%20%20%3Clink%20rel%3D%22stylesheet%22%20href%3D%22https%3A//cdnjs.cloudflare.com/ajax/libs/Leaflet.awesome-markers/2.0.2/leaflet.awesome-markers.css%22/%3E%0A%20%20%20%20%3Clink%20rel%3D%22stylesheet%22%20href%3D%22https%3A//cdn.jsdelivr.net/gh/python-visualization/folium/folium/templates/leaflet.awesome.rotate.min.css%22/%3E%0A%20%20%20%20%0A%20%20%20%20%20%20%20%20%20%20%20%20%3Cmeta%20name%3D%22viewport%22%20content%3D%22width%3Ddevice-width%2C%0A%20%20%20%20%20%20%20%20%20%20%20%20%20%20%20%20initial-scale%3D1.0%2C%20maximum-scale%3D1.0%2C%20user-scalable%3Dno%22%20/%3E%0A%20%20%20%20%20%20%20%20%20%20%20%20%3Cstyle%3E%0A%20%20%20%20%20%20%20%20%20%20%20%20%20%20%20%20%23map_c17b23ac791d4faa8a55077e846e0ded%20%7B%0A%20%20%20%20%20%20%20%20%20%20%20%20%20%20%20%20%20%20%20%20position%3A%20relative%3B%0A%20%20%20%20%20%20%20%20%20%20%20%20%20%20%20%20%20%20%20%20width%3A%20100.0%25%3B%0A%20%20%20%20%20%20%20%20%20%20%20%20%20%20%20%20%20%20%20%20height%3A%20100.0%25%3B%0A%20%20%20%20%20%20%20%20%20%20%20%20%20%20%20%20%20%20%20%20left%3A%200.0%25%3B%0A%20%20%20%20%20%20%20%20%20%20%20%20%20%20%20%20%20%20%20%20top%3A%200.0%25%3B%0A%20%20%20%20%20%20%20%20%20%20%20%20%20%20%20%20%7D%0A%20%20%20%20%20%20%20%20%20%20%20%20%3C/style%3E%0A%20%20%20%20%20%20%20%20%0A%3C/head%3E%0A%3Cbody%3E%20%20%20%20%0A%20%20%20%20%0A%20%20%20%20%20%20%20%20%20%20%20%20%3Cdiv%20class%3D%22folium-map%22%20id%3D%22map_c17b23ac791d4faa8a55077e846e0ded%22%20%3E%3C/div%3E%0A%20%20%20%20%20%20%20%20%0A%3C/body%3E%0A%3Cscript%3E%20%20%20%20%0A%20%20%20%20%0A%20%20%20%20%20%20%20%20%20%20%20%20var%20map_c17b23ac791d4faa8a55077e846e0ded%20%3D%20L.map%28%0A%20%20%20%20%20%20%20%20%20%20%20%20%20%20%20%20%22map_c17b23ac791d4faa8a55077e846e0ded%22%2C%0A%20%20%20%20%20%20%20%20%20%20%20%20%20%20%20%20%7B%0A%20%20%20%20%20%20%20%20%20%20%20%20%20%20%20%20%20%20%20%20center%3A%20%5B0%2C%200%5D%2C%0A%20%20%20%20%20%20%20%20%20%20%20%20%20%20%20%20%20%20%20%20crs%3A%20L.CRS.EPSG3857%2C%0A%20%20%20%20%20%20%20%20%20%20%20%20%20%20%20%20%20%20%20%20zoom%3A%201%2C%0A%20%20%20%20%20%20%20%20%20%20%20%20%20%20%20%20%20%20%20%20zoomControl%3A%20true%2C%0A%20%20%20%20%20%20%20%20%20%20%20%20%20%20%20%20%20%20%20%20preferCanvas%3A%20false%2C%0A%20%20%20%20%20%20%20%20%20%20%20%20%20%20%20%20%7D%0A%20%20%20%20%20%20%20%20%20%20%20%20%29%3B%0A%0A%20%20%20%20%20%20%20%20%20%20%20%20%0A%0A%20%20%20%20%20%20%20%20%0A%20%20%20%20%0A%20%20%20%20%20%20%20%20%20%20%20%20var%20tile_layer_0665b4b53b3e4208816227ef04209265%20%3D%20L.tileLayer%28%0A%20%20%20%20%20%20%20%20%20%20%20%20%20%20%20%20%22https%3A//stamen-tiles-%7Bs%7D.a.ssl.fastly.net/terrain/%7Bz%7D/%7Bx%7D/%7By%7D.jpg%22%2C%0A%20%20%20%20%20%20%20%20%20%20%20%20%20%20%20%20%7B%22attribution%22%3A%20%22Map%20tiles%20by%20%5Cu003ca%20href%3D%5C%22http%3A//stamen.com%5C%22%5Cu003eStamen%20Design%5Cu003c/a%5Cu003e%2C%20under%20%5Cu003ca%20href%3D%5C%22http%3A//creativecommons.org/licenses/by/3.0%5C%22%5Cu003eCC%20BY%203.0%5Cu003c/a%5Cu003e.%20Data%20by%20%5Cu0026copy%3B%20%5Cu003ca%20href%3D%5C%22http%3A//openstreetmap.org%5C%22%5Cu003eOpenStreetMap%5Cu003c/a%5Cu003e%2C%20under%20%5Cu003ca%20href%3D%5C%22http%3A//creativecommons.org/licenses/by-sa/3.0%5C%22%5Cu003eCC%20BY%20SA%5Cu003c/a%5Cu003e.%22%2C%20%22detectRetina%22%3A%20false%2C%20%22maxNativeZoom%22%3A%2018%2C%20%22maxZoom%22%3A%2018%2C%20%22minZoom%22%3A%200%2C%20%22noWrap%22%3A%20false%2C%20%22opacity%22%3A%201%2C%20%22subdomains%22%3A%20%22abc%22%2C%20%22tms%22%3A%20false%7D%0A%20%20%20%20%20%20%20%20%20%20%20%20%29.addTo%28map_c17b23ac791d4faa8a55077e846e0ded%29%3B%0A%20%20%20%20%20%20%20%20%0A%20%20%20%20%0A%20%20%20%20%20%20%20%20%20%20%20%20var%20marker_a3d2c6c086df442a97397232bdb12f4e%20%3D%20L.marker%28%0A%20%20%20%20%20%20%20%20%20%20%20%20%20%20%20%20%5B47.61362861%2C%20-122.3530159%5D%2C%0A%20%20%20%20%20%20%20%20%20%20%20%20%20%20%20%20%7B%7D%0A%20%20%20%20%20%20%20%20%20%20%20%20%29.addTo%28map_c17b23ac791d4faa8a55077e846e0ded%29%3B%0A%20%20%20%20%20%20%20%20%0A%20%20%20%20%0A%20%20%20%20%20%20%20%20%20%20%20%20var%20icon_084eb75658d346fd8a679bdd4d38ab7e%20%3D%20L.AwesomeMarkers.icon%28%0A%20%20%20%20%20%20%20%20%20%20%20%20%20%20%20%20%7B%22extraClasses%22%3A%20%22fa-rotate-0%22%2C%20%22icon%22%3A%20%22train%22%2C%20%22iconColor%22%3A%20%22white%22%2C%20%22markerColor%22%3A%20%22orange%22%2C%20%22prefix%22%3A%20%22fa%22%7D%0A%20%20%20%20%20%20%20%20%20%20%20%20%29%3B%0A%20%20%20%20%20%20%20%20%20%20%20%20marker_a3d2c6c086df442a97397232bdb12f4e.setIcon%28icon_084eb75658d346fd8a679bdd4d38ab7e%29%3B%0A%20%20%20%20%20%20%20%20%0A%20%20%20%20%0A%20%20%20%20%20%20%20%20var%20popup_12e3d0d09e5643b3b205d946b8726df3%20%3D%20L.popup%28%7B%22maxWidth%22%3A%20%22100%25%22%7D%29%3B%0A%0A%20%20%20%20%20%20%20%20%0A%20%20%20%20%20%20%20%20%20%20%20%20var%20html_c1aef1c8529b42d0b29b0950d7f6d750%20%3D%20%24%28%60%3Cdiv%20id%3D%22html_c1aef1c8529b42d0b29b0950d7f6d750%22%20style%3D%22width%3A%20100.0%25%3B%20height%3A%20100.0%25%3B%22%3E%3Cb%3ESeattle%2C%20WA%3C/b%3E%3Cbr%3E%3Cbr%3EDecember%2012%2C%202021%3Cbr%3E%3Cbr%3E7%3A22%3C/div%3E%60%29%5B0%5D%3B%0A%20%20%20%20%20%20%20%20%20%20%20%20popup_12e3d0d09e5643b3b205d946b8726df3.setContent%28html_c1aef1c8529b42d0b29b0950d7f6d750%29%3B%0A%20%20%20%20%20%20%20%20%0A%0A%20%20%20%20%20%20%20%20marker_a3d2c6c086df442a97397232bdb12f4e.bindPopup%28popup_12e3d0d09e5643b3b205d946b8726df3%29%0A%20%20%20%20%20%20%20%20%3B%0A%0A%20%20%20%20%20%20%20%20%0A%20%20%20%20%0A%20%20%20%20%0A%20%20%20%20%20%20%20%20%20%20%20%20var%20marker_1dcf0e760cb94cb28bb2e5c42a24cdef%20%3D%20L.marker%28%0A%20%20%20%20%20%20%20%20%20%20%20%20%20%20%20%20%5B47.46108662%2C%20-122.24026880000001%5D%2C%0A%20%20%20%20%20%20%20%20%20%20%20%20%20%20%20%20%7B%7D%0A%20%20%20%20%20%20%20%20%20%20%20%20%29.addTo%28map_c17b23ac791d4faa8a55077e846e0ded%29%3B%0A%20%20%20%20%20%20%20%20%0A%20%20%20%20%0A%20%20%20%20%20%20%20%20%20%20%20%20var%20icon_72cb68d711764406ba3cddf21e9b19b0%20%3D%20L.AwesomeMarkers.icon%28%0A%20%20%20%20%20%20%20%20%20%20%20%20%20%20%20%20%7B%22extraClasses%22%3A%20%22fa-rotate-0%22%2C%20%22icon%22%3A%20%22train%22%2C%20%22iconColor%22%3A%20%22white%22%2C%20%22markerColor%22%3A%20%22orange%22%2C%20%22prefix%22%3A%20%22fa%22%7D%0A%20%20%20%20%20%20%20%20%20%20%20%20%29%3B%0A%20%20%20%20%20%20%20%20%20%20%20%20marker_1dcf0e760cb94cb28bb2e5c42a24cdef.setIcon%28icon_72cb68d711764406ba3cddf21e9b19b0%29%3B%0A%20%20%20%20%20%20%20%20%0A%20%20%20%20%0A%20%20%20%20%20%20%20%20var%20popup_5a7ac651689445abb8000dea2ec9b533%20%3D%20L.popup%28%7B%22maxWidth%22%3A%20%22100%25%22%7D%29%3B%0A%0A%20%20%20%20%20%20%20%20%0A%20%20%20%20%20%20%20%20%20%20%20%20var%20html_898ab352fe3a4f9ca5b0125d1f2eaaad%20%3D%20%24%28%60%3Cdiv%20id%3D%22html_898ab352fe3a4f9ca5b0125d1f2eaaad%22%20style%3D%22width%3A%20100.0%25%3B%20height%3A%20100.0%25%3B%22%3E%3Cb%3ETukwila%2C%20WA%3C/b%3E%3Cbr%3E%3Cbr%3EDecember%2012%2C%202021%3Cbr%3E%3Cbr%3E7%3A34%3C/div%3E%60%29%5B0%5D%3B%0A%20%20%20%20%20%20%20%20%20%20%20%20popup_5a7ac651689445abb8000dea2ec9b533.setContent%28html_898ab352fe3a4f9ca5b0125d1f2eaaad%29%3B%0A%20%20%20%20%20%20%20%20%0A%0A%20%20%20%20%20%20%20%20marker_1dcf0e760cb94cb28bb2e5c42a24cdef.bindPopup%28popup_5a7ac651689445abb8000dea2ec9b533%29%0A%20%20%20%20%20%20%20%20%3B%0A%0A%20%20%20%20%20%20%20%20%0A%20%20%20%20%0A%20%20%20%20%0A%20%20%20%20%20%20%20%20%20%20%20%20var%20marker_72e6641fba244b63a21d5a0a0371cfe7%20%3D%20L.marker%28%0A%20%20%20%20%20%20%20%20%20%20%20%20%20%20%20%20%5B47.24189459%2C%20-122.42051880000001%5D%2C%0A%20%20%20%20%20%20%20%20%20%20%20%20%20%20%20%20%7B%7D%0A%20%20%20%20%20%20%20%20%20%20%20%20%29.addTo%28map_c17b23ac791d4faa8a55077e846e0ded%29%3B%0A%20%20%20%20%20%20%20%20%0A%20%20%20%20%0A%20%20%20%20%20%20%20%20%20%20%20%20var%20icon_3f1d142024854787bf79ceddf561e395%20%3D%20L.AwesomeMarkers.icon%28%0A%20%20%20%20%20%20%20%20%20%20%20%20%20%20%20%20%7B%22extraClasses%22%3A%20%22fa-rotate-0%22%2C%20%22icon%22%3A%20%22train%22%2C%20%22iconColor%22%3A%20%22white%22%2C%20%22markerColor%22%3A%20%22orange%22%2C%20%22prefix%22%3A%20%22fa%22%7D%0A%20%20%20%20%20%20%20%20%20%20%20%20%29%3B%0A%20%20%20%20%20%20%20%20%20%20%20%20marker_72e6641fba244b63a21d5a0a0371cfe7.setIcon%28icon_3f1d142024854787bf79ceddf561e395%29%3B%0A%20%20%20%20%20%20%20%20%0A%20%20%20%20%0A%20%20%20%20%20%20%20%20var%20popup_ffe310e6a62f442fa73e0e56d7de9023%20%3D%20L.popup%28%7B%22maxWidth%22%3A%20%22100%25%22%7D%29%3B%0A%0A%20%20%20%20%20%20%20%20%0A%20%20%20%20%20%20%20%20%20%20%20%20var%20html_512cefcbaea245a1a11ef40e188fb320%20%3D%20%24%28%60%3Cdiv%20id%3D%22html_512cefcbaea245a1a11ef40e188fb320%22%20style%3D%22width%3A%20100.0%25%3B%20height%3A%20100.0%25%3B%22%3E%3Cb%3ETacoma%2C%20WA%3C/b%3E%3Cbr%3E%3Cbr%3EDecember%2012%2C%202021%3Cbr%3E%3Cbr%3E8%3A05%3C/div%3E%60%29%5B0%5D%3B%0A%20%20%20%20%20%20%20%20%20%20%20%20popup_ffe310e6a62f442fa73e0e56d7de9023.setContent%28html_512cefcbaea245a1a11ef40e188fb320%29%3B%0A%20%20%20%20%20%20%20%20%0A%0A%20%20%20%20%20%20%20%20marker_72e6641fba244b63a21d5a0a0371cfe7.bindPopup%28popup_ffe310e6a62f442fa73e0e56d7de9023%29%0A%20%20%20%20%20%20%20%20%3B%0A%0A%20%20%20%20%20%20%20%20%0A%20%20%20%20%0A%20%20%20%20%0A%20%20%20%20%20%20%20%20%20%20%20%20var%20marker_36934b8ba9a447b8bd813e2090493d1d%20%3D%20L.marker%28%0A%20%20%20%20%20%20%20%20%20%20%20%20%20%20%20%20%5B46.99127853%2C%20-122.79407379999999%5D%2C%0A%20%20%20%20%20%20%20%20%20%20%20%20%20%20%20%20%7B%7D%0A%20%20%20%20%20%20%20%20%20%20%20%20%29.addTo%28map_c17b23ac791d4faa8a55077e846e0ded%29%3B%0A%20%20%20%20%20%20%20%20%0A%20%20%20%20%0A%20%20%20%20%20%20%20%20%20%20%20%20var%20icon_81e87aa86ed5433882de4b3e8580a24d%20%3D%20L.AwesomeMarkers.icon%28%0A%20%20%20%20%20%20%20%20%20%20%20%20%20%20%20%20%7B%22extraClasses%22%3A%20%22fa-rotate-0%22%2C%20%22icon%22%3A%20%22train%22%2C%20%22iconColor%22%3A%20%22white%22%2C%20%22markerColor%22%3A%20%22orange%22%2C%20%22prefix%22%3A%20%22fa%22%7D%0A%20%20%20%20%20%20%20%20%20%20%20%20%29%3B%0A%20%20%20%20%20%20%20%20%20%20%20%20marker_36934b8ba9a447b8bd813e2090493d1d.setIcon%28icon_81e87aa86ed5433882de4b3e8580a24d%29%3B%0A%20%20%20%20%20%20%20%20%0A%20%20%20%20%0A%20%20%20%20%20%20%20%20var%20popup_bbc02a1121c549a091bfa128738fea92%20%3D%20L.popup%28%7B%22maxWidth%22%3A%20%22100%25%22%7D%29%3B%0A%0A%20%20%20%20%20%20%20%20%0A%20%20%20%20%20%20%20%20%20%20%20%20var%20html_4829ee818b9549f881a363dab431af20%20%3D%20%24%28%60%3Cdiv%20id%3D%22html_4829ee818b9549f881a363dab431af20%22%20style%3D%22width%3A%20100.0%25%3B%20height%3A%20100.0%25%3B%22%3E%3Cb%3EOlympia-Lacey%2C%20WA%3C/b%3E%3Cbr%3E%3Cbr%3EDecember%2012%2C%202021%3Cbr%3E%3Cbr%3E8%3A38%3C/div%3E%60%29%5B0%5D%3B%0A%20%20%20%20%20%20%20%20%20%20%20%20popup_bbc02a1121c549a091bfa128738fea92.setContent%28html_4829ee818b9549f881a363dab431af20%29%3B%0A%20%20%20%20%20%20%20%20%0A%0A%20%20%20%20%20%20%20%20marker_36934b8ba9a447b8bd813e2090493d1d.bindPopup%28popup_bbc02a1121c549a091bfa128738fea92%29%0A%20%20%20%20%20%20%20%20%3B%0A%0A%20%20%20%20%20%20%20%20%0A%20%20%20%20%0A%20%20%20%20%0A%20%20%20%20%20%20%20%20%20%20%20%20var%20marker_5eb4c17446084b5ea9cfaf44978c28aa%20%3D%20L.marker%28%0A%20%20%20%20%20%20%20%20%20%20%20%20%20%20%20%20%5B46.7174755%2C%20-122.95307679999999%5D%2C%0A%20%20%20%20%20%20%20%20%20%20%20%20%20%20%20%20%7B%7D%0A%20%20%20%20%20%20%20%20%20%20%20%20%29.addTo%28map_c17b23ac791d4faa8a55077e846e0ded%29%3B%0A%20%20%20%20%20%20%20%20%0A%20%20%20%20%0A%20%20%20%20%20%20%20%20%20%20%20%20var%20icon_835c9645102e4986b8ee23256f57531f%20%3D%20L.AwesomeMarkers.icon%28%0A%20%20%20%20%20%20%20%20%20%20%20%20%20%20%20%20%7B%22extraClasses%22%3A%20%22fa-rotate-0%22%2C%20%22icon%22%3A%20%22train%22%2C%20%22iconColor%22%3A%20%22white%22%2C%20%22markerColor%22%3A%20%22orange%22%2C%20%22prefix%22%3A%20%22fa%22%7D%0A%20%20%20%20%20%20%20%20%20%20%20%20%29%3B%0A%20%20%20%20%20%20%20%20%20%20%20%20marker_5eb4c17446084b5ea9cfaf44978c28aa.setIcon%28icon_835c9645102e4986b8ee23256f57531f%29%3B%0A%20%20%20%20%20%20%20%20%0A%20%20%20%20%0A%20%20%20%20%20%20%20%20var%20popup_03d156ca3ff9453d91a7522ab99dc415%20%3D%20L.popup%28%7B%22maxWidth%22%3A%20%22100%25%22%7D%29%3B%0A%0A%20%20%20%20%20%20%20%20%0A%20%20%20%20%20%20%20%20%20%20%20%20var%20html_497c281012344ee98fd0f3738ede9a75%20%3D%20%24%28%60%3Cdiv%20id%3D%22html_497c281012344ee98fd0f3738ede9a75%22%20style%3D%22width%3A%20100.0%25%3B%20height%3A%20100.0%25%3B%22%3E%3Cb%3ECentralia%2C%20WA%3C/b%3E%3Cbr%3E%3Cbr%3EDecember%2012%2C%202021%3Cbr%3E%3Cbr%3E8%3A58%3C/div%3E%60%29%5B0%5D%3B%0A%20%20%20%20%20%20%20%20%20%20%20%20popup_03d156ca3ff9453d91a7522ab99dc415.setContent%28html_497c281012344ee98fd0f3738ede9a75%29%3B%0A%20%20%20%20%20%20%20%20%0A%0A%20%20%20%20%20%20%20%20marker_5eb4c17446084b5ea9cfaf44978c28aa.bindPopup%28popup_03d156ca3ff9453d91a7522ab99dc415%29%0A%20%20%20%20%20%20%20%20%3B%0A%0A%20%20%20%20%20%20%20%20%0A%20%20%20%20%0A%20%20%20%20%0A%20%20%20%20%20%20%20%20%20%20%20%20var%20marker_606c0dadd5c94eef97a7c28f1b716251%20%3D%20L.marker%28%0A%20%20%20%20%20%20%20%20%20%20%20%20%20%20%20%20%5B46.14226948%2C%20-122.91303070000001%5D%2C%0A%20%20%20%20%20%20%20%20%20%20%20%20%20%20%20%20%7B%7D%0A%20%20%20%20%20%20%20%20%20%20%20%20%29.addTo%28map_c17b23ac791d4faa8a55077e846e0ded%29%3B%0A%20%20%20%20%20%20%20%20%0A%20%20%20%20%0A%20%20%20%20%20%20%20%20%20%20%20%20var%20icon_89a02ac92af44cec999273282d0c51c5%20%3D%20L.AwesomeMarkers.icon%28%0A%20%20%20%20%20%20%20%20%20%20%20%20%20%20%20%20%7B%22extraClasses%22%3A%20%22fa-rotate-0%22%2C%20%22icon%22%3A%20%22train%22%2C%20%22iconColor%22%3A%20%22white%22%2C%20%22markerColor%22%3A%20%22orange%22%2C%20%22prefix%22%3A%20%22fa%22%7D%0A%20%20%20%20%20%20%20%20%20%20%20%20%29%3B%0A%20%20%20%20%20%20%20%20%20%20%20%20marker_606c0dadd5c94eef97a7c28f1b716251.setIcon%28icon_89a02ac92af44cec999273282d0c51c5%29%3B%0A%20%20%20%20%20%20%20%20%0A%20%20%20%20%0A%20%20%20%20%20%20%20%20var%20popup_6e6d24b90d5741e9bd3e542692e8e1b4%20%3D%20L.popup%28%7B%22maxWidth%22%3A%20%22100%25%22%7D%29%3B%0A%0A%20%20%20%20%20%20%20%20%0A%20%20%20%20%20%20%20%20%20%20%20%20var%20html_08c9f582726c485e9b11147ecf595ad1%20%3D%20%24%28%60%3Cdiv%20id%3D%22html_08c9f582726c485e9b11147ecf595ad1%22%20style%3D%22width%3A%20100.0%25%3B%20height%3A%20100.0%25%3B%22%3E%3Cb%3EKelso-Longview%2C%20WA%3C/b%3E%3Cbr%3E%3Cbr%3EDecember%2012%2C%202021%3Cbr%3E%3Cbr%3E9%3A38%3C/div%3E%60%29%5B0%5D%3B%0A%20%20%20%20%20%20%20%20%20%20%20%20popup_6e6d24b90d5741e9bd3e542692e8e1b4.setContent%28html_08c9f582726c485e9b11147ecf595ad1%29%3B%0A%20%20%20%20%20%20%20%20%0A%0A%20%20%20%20%20%20%20%20marker_606c0dadd5c94eef97a7c28f1b716251.bindPopup%28popup_6e6d24b90d5741e9bd3e542692e8e1b4%29%0A%20%20%20%20%20%20%20%20%3B%0A%0A%20%20%20%20%20%20%20%20%0A%20%20%20%20%0A%20%20%20%20%0A%20%20%20%20%20%20%20%20%20%20%20%20var%20marker_f6a82680b82e4862bc68b92ffb61334f%20%3D%20L.marker%28%0A%20%20%20%20%20%20%20%20%20%20%20%20%20%20%20%20%5B45.62890647%2C%20-122.68655849999999%5D%2C%0A%20%20%20%20%20%20%20%20%20%20%20%20%20%20%20%20%7B%7D%0A%20%20%20%20%20%20%20%20%20%20%20%20%29.addTo%28map_c17b23ac791d4faa8a55077e846e0ded%29%3B%0A%20%20%20%20%20%20%20%20%0A%20%20%20%20%0A%20%20%20%20%20%20%20%20%20%20%20%20var%20icon_49388df2755c4156bcc2aed45b689ee3%20%3D%20L.AwesomeMarkers.icon%28%0A%20%20%20%20%20%20%20%20%20%20%20%20%20%20%20%20%7B%22extraClasses%22%3A%20%22fa-rotate-0%22%2C%20%22icon%22%3A%20%22train%22%2C%20%22iconColor%22%3A%20%22white%22%2C%20%22markerColor%22%3A%20%22orange%22%2C%20%22prefix%22%3A%20%22fa%22%7D%0A%20%20%20%20%20%20%20%20%20%20%20%20%29%3B%0A%20%20%20%20%20%20%20%20%20%20%20%20marker_f6a82680b82e4862bc68b92ffb61334f.setIcon%28icon_49388df2755c4156bcc2aed45b689ee3%29%3B%0A%20%20%20%20%20%20%20%20%0A%20%20%20%20%0A%20%20%20%20%20%20%20%20var%20popup_e0c91cd573b842969e89c06c79b01101%20%3D%20L.popup%28%7B%22maxWidth%22%3A%20%22100%25%22%7D%29%3B%0A%0A%20%20%20%20%20%20%20%20%0A%20%20%20%20%20%20%20%20%20%20%20%20var%20html_d4a27cca0668463986a1f4c7de114069%20%3D%20%24%28%60%3Cdiv%20id%3D%22html_d4a27cca0668463986a1f4c7de114069%22%20style%3D%22width%3A%20100.0%25%3B%20height%3A%20100.0%25%3B%22%3E%3Cb%3EVancouver%2C%20WA%3C/b%3E%3Cbr%3E%3Cbr%3EDecember%2012%2C%202021%3Cbr%3E%3Cbr%3E10%3A19%3C/div%3E%60%29%5B0%5D%3B%0A%20%20%20%20%20%20%20%20%20%20%20%20popup_e0c91cd573b842969e89c06c79b01101.setContent%28html_d4a27cca0668463986a1f4c7de114069%29%3B%0A%20%20%20%20%20%20%20%20%0A%0A%20%20%20%20%20%20%20%20marker_f6a82680b82e4862bc68b92ffb61334f.bindPopup%28popup_e0c91cd573b842969e89c06c79b01101%29%0A%20%20%20%20%20%20%20%20%3B%0A%0A%20%20%20%20%20%20%20%20%0A%20%20%20%20%0A%20%20%20%20%0A%20%20%20%20%20%20%20%20%20%20%20%20var%20marker_039aec6625574194b3289ac5bdf66b16%20%3D%20L.marker%28%0A%20%20%20%20%20%20%20%20%20%20%20%20%20%20%20%20%5B45.53051247%2C%20-122.6782215%5D%2C%0A%20%20%20%20%20%20%20%20%20%20%20%20%20%20%20%20%7B%7D%0A%20%20%20%20%20%20%20%20%20%20%20%20%29.addTo%28map_c17b23ac791d4faa8a55077e846e0ded%29%3B%0A%20%20%20%20%20%20%20%20%0A%20%20%20%20%0A%20%20%20%20%20%20%20%20%20%20%20%20var%20icon_46154798fd6a41e284b1b8917e969c2e%20%3D%20L.AwesomeMarkers.icon%28%0A%20%20%20%20%20%20%20%20%20%20%20%20%20%20%20%20%7B%22extraClasses%22%3A%20%22fa-rotate-0%22%2C%20%22icon%22%3A%20%22train%22%2C%20%22iconColor%22%3A%20%22white%22%2C%20%22markerColor%22%3A%20%22orange%22%2C%20%22prefix%22%3A%20%22fa%22%7D%0A%20%20%20%20%20%20%20%20%20%20%20%20%29%3B%0A%20%20%20%20%20%20%20%20%20%20%20%20marker_039aec6625574194b3289ac5bdf66b16.setIcon%28icon_46154798fd6a41e284b1b8917e969c2e%29%3B%0A%20%20%20%20%20%20%20%20%0A%20%20%20%20%0A%20%20%20%20%20%20%20%20var%20popup_6be0421346254557b10382166b012a52%20%3D%20L.popup%28%7B%22maxWidth%22%3A%20%22100%25%22%7D%29%3B%0A%0A%20%20%20%20%20%20%20%20%0A%20%20%20%20%20%20%20%20%20%20%20%20var%20html_d154b2b03738466e8f5c17ebd9f1f1b2%20%3D%20%24%28%60%3Cdiv%20id%3D%22html_d154b2b03738466e8f5c17ebd9f1f1b2%22%20style%3D%22width%3A%20100.0%25%3B%20height%3A%20100.0%25%3B%22%3E%3Cb%3EPortland%2C%20OR%3C/b%3E%3Cbr%3E%3Cbr%3EDecember%2012%2C%202021%3Cbr%3E%3Cbr%3E10%3A47%3C/div%3E%60%29%5B0%5D%3B%0A%20%20%20%20%20%20%20%20%20%20%20%20popup_6be0421346254557b10382166b012a52.setContent%28html_d154b2b03738466e8f5c17ebd9f1f1b2%29%3B%0A%20%20%20%20%20%20%20%20%0A%0A%20%20%20%20%20%20%20%20marker_039aec6625574194b3289ac5bdf66b16.bindPopup%28popup_6be0421346254557b10382166b012a52%29%0A%20%20%20%20%20%20%20%20%3B%0A%0A%20%20%20%20%20%20%20%20%0A%20%20%20%20%0A%20%20%20%20%0A%20%20%20%20%20%20%20%20%20%20%20%20map_c17b23ac791d4faa8a55077e846e0ded.fitBounds%28%0A%20%20%20%20%20%20%20%20%20%20%20%20%20%20%20%20%5B%5B45.53051247%2C%20-122.95307679999999%5D%2C%20%5B47.61362861%2C%20-122.24026880000001%5D%5D%2C%0A%20%20%20%20%20%20%20%20%20%20%20%20%20%20%20%20%7B%7D%0A%20%20%20%20%20%20%20%20%20%20%20%20%29%3B%0A%20%20%20%20%20%20%20%20%0A%3C/script%3E onload=\"this.contentDocument.open();this.contentDocument.write(    decodeURIComponent(this.getAttribute('data-html')));this.contentDocument.close();\" allowfullscreen webkitallowfullscreen mozallowfullscreen></iframe></div></div>"
      ],
      "text/plain": [
       "<folium.folium.Map at 0x5b7dc90>"
      ]
     },
     "execution_count": 6,
     "metadata": {},
     "output_type": "execute_result"
    }
   ],
   "source": [
    "m = folium.Map(tiles=\"Stamen Terrain\")\n",
    "\n",
    "for i in range(0, 8, 1):\n",
    "   folium.Marker(\n",
    "      location=[df['Longitude'][i], df['Latitude'][i]], \n",
    "      popup=\"<b>\" + df['Location'][i] + \"</b>\" + \"<br><br>\" + df['Date'][i] + \"<br><br>\" + df['Time'][i], icon=folium.Icon(color='orange', icon='train', prefix='fa')).add_to(m)\n",
    "\n",
    "# Show the map again\n",
    "m.fit_bounds(m.get_bounds())\n",
    "m"
   ]
  },
  {
   "cell_type": "markdown",
   "metadata": {},
   "source": [
    "#### Amtrak Stations\n",
    "\n",
    "| City | Picture | Description |\n",
    "| --- | --- | --- |\n",
    "| [Seattle, WA](https://en.wikipedia.org/wiki/King_Street_Station) | ![](https://upload.wikimedia.org/wikipedia/commons/8/80/King_Street_Station_%28Seattle%29_2005_05_23.jpg) | The train left bright and early on Sunday morning, from Seattle's very own King Street Station. <br> <br> I took the light rail to the Pioneer Street Station stop, and spent a few hours waiting for the train and reading up on the station's history. <br> <br> The tower that you see in the image to the left is 242ft (74m) tall, and -- at the time of construction -- was the tallest building in Seattle. It was modeled after a tower in Venice, Italy called [St. Mark's Campanile](https://en.wikipedia.org/wiki/St_Mark%27s_Campanile), which had recently collapsed. |\n",
    "| [Tukwila, WA](https://en.wikipedia.org/wiki/Tukwila_station) | ![](https://assets.simpleviewinc.com/simpleview/image/fetch/c_fill,g_auto,h_750,q_50,w_1920/https://assets.simpleviewinc.com/simpleview/image/upload/crm/seattlesouthside/Found_102218784_8814850-a84b8f7beabb3bd_a84b907c-e2c1-afa5-4809db5ff118d917.jpg) | Beautiful station, with a piece of public art called [_Imaginary Landscape_](https://www.sheilaklein.com/projects/imaginary-landscape/imaginary-landscape.html) by Sheila Klein immediately outside it. The piece consists of planted red-twig dogwood shrubs, painted steel panels, and a steel \"crown\" atop the building. <br> <br> The station also has bike lockers! I wonder if there are any interesting trails nearby, or if people bike down from Seattle? |\n",
    "| [Tacoma, WA](https://en.wikipedia.org/wiki/Tacoma_Dome_Station) | ![](https://upload.wikimedia.org/wikipedia/commons/thumb/4/46/Tacoma_Dome_Station_-_Sounder_and_Amtrak_-_December_2017.jpg/1920px-Tacoma_Dome_Station_-_Sounder_and_Amtrak_-_December_2017.jpg) | The Tacoma Dome is the largest wood-domed arena in the world, contructed with 1.6 million board feet (and it sure is distinctive when viewed from the train). <br> <br> Tacoma's Union Station was designed by Reed & Stern, the same architects who designed Grand Central Terminal in New York City. Tacoma also features an urban park that is a whopping 700 acres: the second largest in the US, after Central Park. |\n",
    "| [Olympia-Lacey, WA](https://en.wikipedia.org/wiki/Centennial_Station) | ![](https://upload.wikimedia.org/wikipedia/commons/thumb/9/98/Olympia_station.jpg/1920px-Olympia_station.jpg) | Capital city of Washington, and actually quite lovely. This was also the birthplace of Nirvana; and is the hometown of one of my favorite musicians, Kimya Dawson. For some reason, I was expecting this place to feel more populated? |\n",
    "| [Centralia, WA](https://en.wikipedia.org/wiki/Centralia_station_(Washington)) | ![](https://upload.wikimedia.org/wikipedia/commons/e/eb/Centralia_Union_Depot.jpg) | According to the internet, _\"one of the worst places for Millennials to live in Washington\"_. So, given that ringing endorsement... <br> <br> The station was built in the early 1900s, responding to a 400% popultion boom in the area. Now, Centralia feels very sleepy, and its major economic growth center (Northern Pacific Railway) has declined. |\n",
    "| [Kelso-Longview, WA](https://en.wikipedia.org/wiki/Kelso_Multimodal_Transportation_Center) | ![](https://upload.wikimedia.org/wikipedia/commons/b/b4/Kelso_WA_%28Amtrak_station%29_01.jpg) | _Into the Wild_ was filmed in Longview; and Longview also has one of the few (*few* ?!) [bridges dedicated to squirrels](https://www.greatamericanstations.com/stations/kelso-longview-wa-kel/). This bridge was constructed from a retired fire hose and suspension cables made from wire, and has secured Longview's place as one of my most favorite cities in Washington. <br> <br> Given Kelso's proximity to volcanic eruptions, several of the town's businesses and homes have been [built on volcanic ash dredged from the mudflow](https://www.greatamericanstations.com/stations/kelso-longview-wa-kel/) that went into Cowlitz River. I wonder if that explains some of the [roadcuts]() that looked a but like columnar pillars? The visitor's center in Kelso's Amtrak Station also has an exhibit dedicated to the eruption. |\n",
    "| [Vancouver, WA](https://en.wikipedia.org/wiki/Vancouver_station_(Washington)) | ![](https://upload.wikimedia.org/wikipedia/commons/3/34/Vancouver_Amtrak_station_170392234.jpg) | Another sleepy (but very industrial) city, just across the Columbia River from Portland. The conductor for the train gave us a 10-15min warning, and mentioned that there might be some jostling as we changed tracks. <br> <br> The highlight of the Vancouver Station was really the Columbia River suspension bridge: as you cross it, you transition from Washington State to Oregon, and see lovely views of both cities. |\n",
    "| [Portland, OR](https://en.wikipedia.org/wiki/Portland_Union_Station) | ![](https://upload.wikimedia.org/wikipedia/commons/thumb/a/a9/UnionStationPortland.jpg/1920px-UnionStationPortland.jpg) | And finally, we've arrived! The renovations on the interior of Portland's Union Station are lovely -- and we continue the volcano theme: Portland has an extinct volcano within its city limits, Mt. Tabor. |"
   ]
  },
  {
   "cell_type": "markdown",
   "metadata": {},
   "source": [
    "### I can't _not_ talk about geology, right?\n",
    "\n",
    "| Elevation Profile | Features | \n",
    "| --- | --- |\n",
    "| ![](https://raw.githubusercontent.com/dynamicwebpaige/IRL-ticket-to-ride/main/plots/Seattle_to_Tukwila.jpg) | \n",
    "| ![](https://raw.githubusercontent.com/dynamicwebpaige/IRL-ticket-to-ride/main/plots/Tukwila_to_Tacoma.jpg) |\n",
    "| ![](https://raw.githubusercontent.com/dynamicwebpaige/IRL-ticket-to-ride/main/plots/Tacoma_to_Olympia-Lacey.jpg)\n",
    "| ![](https://raw.githubusercontent.com/dynamicwebpaige/IRL-ticket-to-ride/main/plots/Olympia-Lacey_to_Centralia.jpg)\n",
    "| ![](https://raw.githubusercontent.com/dynamicwebpaige/IRL-ticket-to-ride/main/plots/Centralia_to_Kelso-Longview.jpg)\n",
    "| ![](https://raw.githubusercontent.com/dynamicwebpaige/IRL-ticket-to-ride/main/plots/Kelso-Longview_to_Vancouver.jpg)\n",
    "| ![](https://raw.githubusercontent.com/dynamicwebpaige/IRL-ticket-to-ride/main/plots/Vancouver_to_Portland.jpg)\n",
    "| ![](https://raw.githubusercontent.com/dynamicwebpaige/IRL-ticket-to-ride/main/plots/Seattle_to_Portland.jpg) | Bundling it all together: let's take a look at the elevation change, if you're doing a straight shot from Seattle to Portland. You can see a significnt peak around 100km, which makes sense (Mt. Rainier and Mt. Saint Helens are proximal). The elevation generally gets much more flat around Portland, and around Kelso-Longview. |"
   ]
  },
  {
   "cell_type": "markdown",
   "metadata": {},
   "source": [
    "## Portland, Oregon\n",
    "#### _December 12 - December 13_\n",
    "\n",
    "Temperatures were definitely brisk in Portland upon arrival, and rainy throughout the day -- which meant that parks (other than the Lan Su Chinese Garden downtown) were more or less out of the question. The next time I pass through Portland, though, it will certainly feature a visit to [Cathedral Park](), as well as the perfectly named [\"Boring Lava Fields\"]() which are anything but.\n",
    "\n",
    "#### Hotel\n",
    "[The Hoxton - Portland](https://thehoxton.com/portland/)\n",
    "\n",
    "#### Things to see:\n",
    "* [Microsoft Offices in Portland](https://goo.gl/maps/ghr4SQaqTXNLNzUG8)\n",
    "* [Transcendence Sculpture](https://www.atlasobscura.com/places/transcendence)\n",
    "* [Lan Su Chinese Garden](https://lansugarden.org/?)\n",
    "* [Architecture Walk: Downtown Portland]()\n",
    "* [Starlight Patio & Lounge at the Star Theater](https://www.startheaterportland.com/)\n",
    "   * Lucky me: Sunday night went hard on EDM at Starlight Patio. Headlining was [XIBLING, with Hallows and Pleasure Victim](https://www.startheaterportland.com/event/?event_id=11165485) as a openers. I opted *not* to attend the [HIVE DANCE PARTY](https://www.startheaterportland.com/event/?event_id=11611305) at 10pm, given that Monday is a work night - but it looked like a particularly fun time.\n",
    "   * [Pleasure Victim]() _Passion & Punishment_. Automatic brownie points for naming yourself after a Berlin album.\n",
    "   * [HALLOWS]() _All That is True Dies_\n",
    "   * [XIBLING]() _Maladjusted_\n",
    "\n",
    "Check out the appendix, towards the end of this notebook, for a collection of pictures of all of the above!\n",
    "\n",
    "#### ☕️ Coffee Count\n",
    "* 4 (Sunday), XX (Monday)\n",
    "* Grand Prize: almond butter almond milk latte at [Lovely Rita]() coffee bar."
   ]
  },
  {
   "cell_type": "code",
   "execution_count": 7,
   "metadata": {},
   "outputs": [
    {
     "data": {
      "text/html": [
       "<div>\n",
       "<style scoped>\n",
       "    .dataframe tbody tr th:only-of-type {\n",
       "        vertical-align: middle;\n",
       "    }\n",
       "\n",
       "    .dataframe tbody tr th {\n",
       "        vertical-align: top;\n",
       "    }\n",
       "\n",
       "    .dataframe thead th {\n",
       "        text-align: right;\n",
       "    }\n",
       "</style>\n",
       "<table border=\"1\" class=\"dataframe\">\n",
       "  <thead>\n",
       "    <tr style=\"text-align: right;\">\n",
       "      <th></th>\n",
       "      <th>City</th>\n",
       "      <th>Stop</th>\n",
       "      <th>Latitude</th>\n",
       "      <th>Longitude</th>\n",
       "      <th>Type</th>\n",
       "    </tr>\n",
       "  </thead>\n",
       "  <tbody>\n",
       "    <tr>\n",
       "      <th>0</th>\n",
       "      <td>Portland</td>\n",
       "      <td>The Hoxton Hotel</td>\n",
       "      <td>45.523400</td>\n",
       "      <td>-122.6747</td>\n",
       "      <td>Hotel</td>\n",
       "    </tr>\n",
       "    <tr>\n",
       "      <th>1</th>\n",
       "      <td>Portland</td>\n",
       "      <td>Powell's Books</td>\n",
       "      <td>45.523100</td>\n",
       "      <td>-122.6812</td>\n",
       "      <td>Books</td>\n",
       "    </tr>\n",
       "    <tr>\n",
       "      <th>2</th>\n",
       "      <td>Portland</td>\n",
       "      <td>Microsoft Office</td>\n",
       "      <td>45.531255</td>\n",
       "      <td>-122.685935</td>\n",
       "      <td>Work</td>\n",
       "    </tr>\n",
       "    <tr>\n",
       "      <th>3</th>\n",
       "      <td>Portland</td>\n",
       "      <td>Lan Su Chinese Garden</td>\n",
       "      <td>45.525300</td>\n",
       "      <td>-122.6733</td>\n",
       "      <td>Park</td>\n",
       "    </tr>\n",
       "    <tr>\n",
       "      <th>4</th>\n",
       "      <td>Portland</td>\n",
       "      <td>Portland Amtrak Station</td>\n",
       "      <td>45.530512</td>\n",
       "      <td>-122.6782215</td>\n",
       "      <td>Train Station</td>\n",
       "    </tr>\n",
       "    <tr>\n",
       "      <th>5</th>\n",
       "      <td>Portland</td>\n",
       "      <td>Transcendence Sculpture</td>\n",
       "      <td>45.517850</td>\n",
       "      <td>-122.68229</td>\n",
       "      <td>Art</td>\n",
       "    </tr>\n",
       "    <tr>\n",
       "      <th>6</th>\n",
       "      <td>Portland</td>\n",
       "      <td>Starlight Patio &amp; Lounge at the Star Theater</td>\n",
       "      <td>45.523554</td>\n",
       "      <td>-122.6766017</td>\n",
       "      <td>Music</td>\n",
       "    </tr>\n",
       "    <tr>\n",
       "      <th>7</th>\n",
       "      <td>Portland</td>\n",
       "      <td>Three Kings</td>\n",
       "      <td>45.522124</td>\n",
       "      <td>-122.6771441</td>\n",
       "      <td>Art</td>\n",
       "    </tr>\n",
       "    <tr>\n",
       "      <th>8</th>\n",
       "      <td>Portland</td>\n",
       "      <td>United States National Bank</td>\n",
       "      <td>45.521545</td>\n",
       "      <td>--122.6783135550291</td>\n",
       "      <td>Art</td>\n",
       "    </tr>\n",
       "  </tbody>\n",
       "</table>\n",
       "</div>"
      ],
      "text/plain": [
       "       City                                          Stop   Latitude  \\\n",
       "0  Portland                              The Hoxton Hotel  45.523400   \n",
       "1  Portland                                Powell's Books  45.523100   \n",
       "2  Portland                              Microsoft Office  45.531255   \n",
       "3  Portland                         Lan Su Chinese Garden  45.525300   \n",
       "4  Portland                       Portland Amtrak Station  45.530512   \n",
       "5  Portland                       Transcendence Sculpture  45.517850   \n",
       "6  Portland  Starlight Patio & Lounge at the Star Theater  45.523554   \n",
       "7  Portland                                   Three Kings  45.522124   \n",
       "8  Portland                   United States National Bank  45.521545   \n",
       "\n",
       "             Longitude           Type  \n",
       "0            -122.6747          Hotel  \n",
       "1            -122.6812          Books  \n",
       "2          -122.685935           Work  \n",
       "3            -122.6733           Park  \n",
       "4         -122.6782215  Train Station  \n",
       "5           -122.68229            Art  \n",
       "6         -122.6766017          Music  \n",
       "7         -122.6771441            Art  \n",
       "8  --122.6783135550291            Art  "
      ]
     },
     "execution_count": 7,
     "metadata": {},
     "output_type": "execute_result"
    }
   ],
   "source": [
    "stops[stops['City'] == 'Portland']"
   ]
  },
  {
   "cell_type": "code",
   "execution_count": null,
   "metadata": {},
   "outputs": [
    {
     "ename": "<class 'ValueError'>",
     "evalue": "Location should consist of two numerical values, but '--122.6783135550291' of type <class 'str'> is not convertible to float.",
     "output_type": "error",
     "traceback": [
      "\u001b[0;31m---------------------------------------------------------------------------\u001b[0m",
      "\u001b[0;31mValueError\u001b[0m                                Traceback (most recent call last)",
      "\u001b[0;32m/lib/python3.9/site-packages/folium/utilities.py\u001b[0m in \u001b[0;36mvalidate_location\u001b[0;34m(location)\u001b[0m\n\u001b[1;32m     59\u001b[0m         \u001b[0;32mtry\u001b[0m\u001b[0;34m:\u001b[0m\u001b[0;34m\u001b[0m\u001b[0;34m\u001b[0m\u001b[0m\n\u001b[0;32m---> 60\u001b[0;31m             \u001b[0mfloat\u001b[0m\u001b[0;34m(\u001b[0m\u001b[0mcoord\u001b[0m\u001b[0;34m)\u001b[0m\u001b[0;34m\u001b[0m\u001b[0;34m\u001b[0m\u001b[0m\n\u001b[0m\u001b[1;32m     61\u001b[0m         \u001b[0;32mexcept\u001b[0m \u001b[0;34m(\u001b[0m\u001b[0mTypeError\u001b[0m\u001b[0;34m,\u001b[0m \u001b[0mValueError\u001b[0m\u001b[0;34m)\u001b[0m\u001b[0;34m:\u001b[0m\u001b[0;34m\u001b[0m\u001b[0;34m\u001b[0m\u001b[0m\n",
      "\u001b[0;31mValueError\u001b[0m: could not convert string to float: '--122.6783135550291'",
      "\nDuring handling of the above exception, another exception occurred:\n",
      "\u001b[0;31mValueError\u001b[0m                                Traceback (most recent call last)",
      "\u001b[0;32m<ipython-input-14-4015389e4302>\u001b[0m in \u001b[0;36m<module>\u001b[0;34m\u001b[0m\n\u001b[1;32m      7\u001b[0m         \u001b[0mfolium\u001b[0m\u001b[0;34m.\u001b[0m\u001b[0mMarker\u001b[0m\u001b[0;34m(\u001b[0m\u001b[0mlocation\u001b[0m\u001b[0;34m=\u001b[0m\u001b[0;34m[\u001b[0m\u001b[0mstops\u001b[0m\u001b[0;34m[\u001b[0m\u001b[0;34m'Latitude'\u001b[0m\u001b[0;34m]\u001b[0m\u001b[0;34m[\u001b[0m\u001b[0;36m2\u001b[0m\u001b[0;34m]\u001b[0m\u001b[0;34m,\u001b[0m \u001b[0mstops\u001b[0m\u001b[0;34m[\u001b[0m\u001b[0;34m'Longitude'\u001b[0m\u001b[0;34m]\u001b[0m\u001b[0;34m[\u001b[0m\u001b[0;36m2\u001b[0m\u001b[0;34m]\u001b[0m\u001b[0;34m]\u001b[0m\u001b[0;34m,\u001b[0m \u001b[0mpopup\u001b[0m\u001b[0;34m=\u001b[0m\u001b[0;34m\"<b>\"\u001b[0m \u001b[0;34m+\u001b[0m \u001b[0mstops\u001b[0m\u001b[0;34m[\u001b[0m\u001b[0;34m'Stop'\u001b[0m\u001b[0;34m]\u001b[0m\u001b[0;34m[\u001b[0m\u001b[0;36m2\u001b[0m\u001b[0;34m]\u001b[0m \u001b[0;34m+\u001b[0m \u001b[0;34m\"</b\"\u001b[0m\u001b[0;34m,\u001b[0m \u001b[0micon\u001b[0m\u001b[0;34m=\u001b[0m\u001b[0mfolium\u001b[0m\u001b[0;34m.\u001b[0m\u001b[0mIcon\u001b[0m\u001b[0;34m(\u001b[0m\u001b[0mcolor\u001b[0m\u001b[0;34m=\u001b[0m\u001b[0;34m'cadetblue'\u001b[0m\u001b[0;34m,\u001b[0m \u001b[0micon\u001b[0m\u001b[0;34m=\u001b[0m\u001b[0;34m'briefcase'\u001b[0m\u001b[0;34m,\u001b[0m \u001b[0mprefix\u001b[0m\u001b[0;34m=\u001b[0m\u001b[0;34m'fa'\u001b[0m\u001b[0;34m)\u001b[0m\u001b[0;34m)\u001b[0m\u001b[0;34m.\u001b[0m\u001b[0madd_to\u001b[0m\u001b[0;34m(\u001b[0m\u001b[0mm\u001b[0m\u001b[0;34m)\u001b[0m\u001b[0;34m\u001b[0m\u001b[0;34m\u001b[0m\u001b[0m\n\u001b[1;32m      8\u001b[0m     \u001b[0;32melif\u001b[0m \u001b[0mrow\u001b[0m\u001b[0;34m[\u001b[0m\u001b[0;34m'Type'\u001b[0m\u001b[0;34m]\u001b[0m \u001b[0;34m==\u001b[0m \u001b[0;34m'Train Station'\u001b[0m\u001b[0;34m:\u001b[0m\u001b[0;34m\u001b[0m\u001b[0;34m\u001b[0m\u001b[0m\n\u001b[0;32m----> 9\u001b[0;31m         \u001b[0mfolium\u001b[0m\u001b[0;34m.\u001b[0m\u001b[0mMarker\u001b[0m\u001b[0;34m(\u001b[0m\u001b[0mlocation\u001b[0m\u001b[0;34m=\u001b[0m\u001b[0;34m[\u001b[0m\u001b[0mstops\u001b[0m\u001b[0;34m[\u001b[0m\u001b[0;34m'Longitude'\u001b[0m\u001b[0;34m]\u001b[0m\u001b[0;34m[\u001b[0m\u001b[0;36m8\u001b[0m\u001b[0;34m]\u001b[0m\u001b[0;34m,\u001b[0m \u001b[0mstops\u001b[0m\u001b[0;34m[\u001b[0m\u001b[0;34m'Latitude'\u001b[0m\u001b[0;34m]\u001b[0m\u001b[0;34m[\u001b[0m\u001b[0;36m8\u001b[0m\u001b[0;34m]\u001b[0m\u001b[0;34m]\u001b[0m\u001b[0;34m,\u001b[0m \u001b[0mpopup\u001b[0m\u001b[0;34m=\u001b[0m\u001b[0;34m\"<b>\"\u001b[0m \u001b[0;34m+\u001b[0m \u001b[0mstops\u001b[0m\u001b[0;34m[\u001b[0m\u001b[0;34m'Stop'\u001b[0m\u001b[0;34m]\u001b[0m\u001b[0;34m[\u001b[0m\u001b[0;36m8\u001b[0m\u001b[0;34m]\u001b[0m \u001b[0;34m+\u001b[0m \u001b[0;34m\"</b\"\u001b[0m\u001b[0;34m,\u001b[0m \u001b[0micon\u001b[0m\u001b[0;34m=\u001b[0m\u001b[0mfolium\u001b[0m\u001b[0;34m.\u001b[0m\u001b[0mIcon\u001b[0m\u001b[0;34m(\u001b[0m\u001b[0mcolor\u001b[0m\u001b[0;34m=\u001b[0m\u001b[0;34m'red'\u001b[0m\u001b[0;34m,\u001b[0m \u001b[0micon\u001b[0m\u001b[0;34m=\u001b[0m\u001b[0;34m'train'\u001b[0m\u001b[0;34m,\u001b[0m \u001b[0mprefix\u001b[0m\u001b[0;34m=\u001b[0m\u001b[0;34m'fa'\u001b[0m\u001b[0;34m)\u001b[0m\u001b[0;34m)\u001b[0m\u001b[0;34m.\u001b[0m\u001b[0madd_to\u001b[0m\u001b[0;34m(\u001b[0m\u001b[0mm\u001b[0m\u001b[0;34m)\u001b[0m\u001b[0;34m\u001b[0m\u001b[0;34m\u001b[0m\u001b[0m\n\u001b[0m\u001b[1;32m     10\u001b[0m     \u001b[0;32melif\u001b[0m \u001b[0mrow\u001b[0m\u001b[0;34m[\u001b[0m\u001b[0;34m'Type'\u001b[0m\u001b[0;34m]\u001b[0m \u001b[0;34m==\u001b[0m \u001b[0;34m'Park'\u001b[0m\u001b[0;34m:\u001b[0m\u001b[0;34m\u001b[0m\u001b[0;34m\u001b[0m\u001b[0m\n\u001b[1;32m     11\u001b[0m         \u001b[0mfolium\u001b[0m\u001b[0;34m.\u001b[0m\u001b[0mMarker\u001b[0m\u001b[0;34m(\u001b[0m\u001b[0mlocation\u001b[0m\u001b[0;34m=\u001b[0m\u001b[0;34m[\u001b[0m\u001b[0mstops\u001b[0m\u001b[0;34m[\u001b[0m\u001b[0;34m'Latitude'\u001b[0m\u001b[0;34m]\u001b[0m\u001b[0;34m[\u001b[0m\u001b[0;36m4\u001b[0m\u001b[0;34m]\u001b[0m\u001b[0;34m,\u001b[0m \u001b[0mstops\u001b[0m\u001b[0;34m[\u001b[0m\u001b[0;34m'Longitude'\u001b[0m\u001b[0;34m]\u001b[0m\u001b[0;34m[\u001b[0m\u001b[0;36m4\u001b[0m\u001b[0;34m]\u001b[0m\u001b[0;34m]\u001b[0m\u001b[0;34m,\u001b[0m \u001b[0mpopup\u001b[0m\u001b[0;34m=\u001b[0m\u001b[0;34m\"<b>\"\u001b[0m \u001b[0;34m+\u001b[0m \u001b[0mstops\u001b[0m\u001b[0;34m[\u001b[0m\u001b[0;34m'Stop'\u001b[0m\u001b[0;34m]\u001b[0m\u001b[0;34m[\u001b[0m\u001b[0;36m4\u001b[0m\u001b[0;34m]\u001b[0m \u001b[0;34m+\u001b[0m \u001b[0;34m\"</b\"\u001b[0m\u001b[0;34m,\u001b[0m \u001b[0micon\u001b[0m\u001b[0;34m=\u001b[0m\u001b[0mfolium\u001b[0m\u001b[0;34m.\u001b[0m\u001b[0mIcon\u001b[0m\u001b[0;34m(\u001b[0m\u001b[0mcolor\u001b[0m\u001b[0;34m=\u001b[0m\u001b[0;34m'lightgreen'\u001b[0m\u001b[0;34m,\u001b[0m \u001b[0micon\u001b[0m\u001b[0;34m=\u001b[0m\u001b[0;34m'tree'\u001b[0m\u001b[0;34m,\u001b[0m \u001b[0mprefix\u001b[0m\u001b[0;34m=\u001b[0m\u001b[0;34m'fa'\u001b[0m\u001b[0;34m)\u001b[0m\u001b[0;34m)\u001b[0m\u001b[0;34m.\u001b[0m\u001b[0madd_to\u001b[0m\u001b[0;34m(\u001b[0m\u001b[0mm\u001b[0m\u001b[0;34m)\u001b[0m\u001b[0;34m\u001b[0m\u001b[0;34m\u001b[0m\u001b[0m\n",
      "\u001b[0;32m/lib/python3.9/site-packages/folium/map.py\u001b[0m in \u001b[0;36m__init__\u001b[0;34m(self, location, popup, tooltip, icon, draggable, **kwargs)\u001b[0m\n\u001b[1;32m    275\u001b[0m         \u001b[0msuper\u001b[0m\u001b[0;34m(\u001b[0m\u001b[0mMarker\u001b[0m\u001b[0;34m,\u001b[0m \u001b[0mself\u001b[0m\u001b[0;34m)\u001b[0m\u001b[0;34m.\u001b[0m\u001b[0m__init__\u001b[0m\u001b[0;34m(\u001b[0m\u001b[0;34m)\u001b[0m\u001b[0;34m\u001b[0m\u001b[0;34m\u001b[0m\u001b[0m\n\u001b[1;32m    276\u001b[0m         \u001b[0mself\u001b[0m\u001b[0;34m.\u001b[0m\u001b[0m_name\u001b[0m \u001b[0;34m=\u001b[0m \u001b[0;34m'Marker'\u001b[0m\u001b[0;34m\u001b[0m\u001b[0;34m\u001b[0m\u001b[0m\n\u001b[0;32m--> 277\u001b[0;31m         \u001b[0mself\u001b[0m\u001b[0;34m.\u001b[0m\u001b[0mlocation\u001b[0m \u001b[0;34m=\u001b[0m \u001b[0mvalidate_location\u001b[0m\u001b[0;34m(\u001b[0m\u001b[0mlocation\u001b[0m\u001b[0;34m)\u001b[0m \u001b[0;32mif\u001b[0m \u001b[0mlocation\u001b[0m \u001b[0;32melse\u001b[0m \u001b[0;32mNone\u001b[0m\u001b[0;34m\u001b[0m\u001b[0;34m\u001b[0m\u001b[0m\n\u001b[0m\u001b[1;32m    278\u001b[0m         self.options = parse_options(\n\u001b[1;32m    279\u001b[0m             \u001b[0mdraggable\u001b[0m\u001b[0;34m=\u001b[0m\u001b[0mdraggable\u001b[0m \u001b[0;32mor\u001b[0m \u001b[0;32mNone\u001b[0m\u001b[0;34m,\u001b[0m\u001b[0;34m\u001b[0m\u001b[0;34m\u001b[0m\u001b[0m\n",
      "\u001b[0;32m/lib/python3.9/site-packages/folium/utilities.py\u001b[0m in \u001b[0;36mvalidate_location\u001b[0;34m(location)\u001b[0m\n\u001b[1;32m     60\u001b[0m             \u001b[0mfloat\u001b[0m\u001b[0;34m(\u001b[0m\u001b[0mcoord\u001b[0m\u001b[0;34m)\u001b[0m\u001b[0;34m\u001b[0m\u001b[0;34m\u001b[0m\u001b[0m\n\u001b[1;32m     61\u001b[0m         \u001b[0;32mexcept\u001b[0m \u001b[0;34m(\u001b[0m\u001b[0mTypeError\u001b[0m\u001b[0;34m,\u001b[0m \u001b[0mValueError\u001b[0m\u001b[0;34m)\u001b[0m\u001b[0;34m:\u001b[0m\u001b[0;34m\u001b[0m\u001b[0;34m\u001b[0m\u001b[0m\n\u001b[0;32m---> 62\u001b[0;31m             raise ValueError('Location should consist of two numerical values, '\n\u001b[0m\u001b[1;32m     63\u001b[0m                              \u001b[0;34m'but {!r} of type {} is not convertible to float.'\u001b[0m\u001b[0;34m\u001b[0m\u001b[0;34m\u001b[0m\u001b[0m\n\u001b[1;32m     64\u001b[0m                              .format(coord, type(coord)))\n",
      "\u001b[0;31mValueError\u001b[0m: Location should consist of two numerical values, but '--122.6783135550291' of type <class 'str'> is not convertible to float."
     ]
    }
   ],
   "source": [
    "m = folium.Map(tiles=\"Stamen Terrain\")\n",
    "\n",
    "for index, row in stops.iterrows():\n",
    "    if row['Type'] == 'Hotel':\n",
    "        folium.Marker(location=[stops['Latitude'][0], stops['Longitude'][0]], popup=\"<b>\" + stops['Stop'][0] + \"</b>\", icon=folium.Icon(color='orange', icon='hotel', prefix='fa')).add_to(m)\n",
    "    elif row['Type'] == 'Work':\n",
    "        folium.Marker(location=[stops['Latitude'][2], stops['Longitude'][2]], popup=\"<b>\" + stops['Stop'][2] + \"</b\", icon=folium.Icon(color='cadetblue', icon='briefcase', prefix='fa')).add_to(m)\n",
    "    elif row['Type'] == 'Train Station':\n",
    "        folium.Marker(location=[stops['Longitude'][8], stops['Latitude'][8]], popup=\"<b>\" + stops['Stop'][8] + \"</b\", icon=folium.Icon(color='red', icon='train', prefix='fa')).add_to(m)\n",
    "    elif row['Type'] == 'Park':\n",
    "        folium.Marker(location=[stops['Latitude'][4], stops['Longitude'][4]], popup=\"<b>\" + stops['Stop'][4] + \"</b\", icon=folium.Icon(color='lightgreen', icon='tree', prefix='fa')).add_to(m)\n",
    "    elif row['Type'] == 'Books':\n",
    "        folium.Marker(location=[stops['Latitude'][1], stops['Longitude'][1]], popup=\"<b>\" + stops['Stop'][1] + \"</b\", icon=folium.Icon(color='pink', icon='book', prefix='fa')).add_to(m)\n",
    "    elif row['Type'] == 'Art':\n",
    "        folium.Marker(location=[stops['Latitude'][1], stops['Longitude'][1]], popup=\"<b>\" + stops['Stop'][1] + \"</b\", icon=folium.Icon(color='pink', icon='art', prefix='fa')).add_to(m)\n",
    "    elif row['Type'] == 'Music':\n",
    "        folium.Marker(location=[stops['Latitude'][1], stops['Longitude'][1]], popup=\"<b>\" + stops['Stop'][1] + \"</b\", icon=folium.Icon(color='pink', icon='music', prefix='fa')).add_to(m)\n",
    "\n",
    "# Show the map again\n",
    "m.fit_bounds(m.get_bounds())\n",
    "m"
   ]
  },
  {
   "cell_type": "code",
   "execution_count": 45,
   "metadata": {},
   "outputs": [
    {
     "data": {
      "text/html": [
       "<div style=\"width:100%;\"><div style=\"position:relative;width:100%;height:0;padding-bottom:60%;\"><span style=\"color:#565656\">Make this Notebook Trusted to load map: File -> Trust Notebook</span><iframe src=\"about:blank\" style=\"position:absolute;width:100%;height:100%;left:0;top:0;border:none !important;\" data-html=%3C%21DOCTYPE%20html%3E%0A%3Chead%3E%20%20%20%20%0A%20%20%20%20%3Cmeta%20http-equiv%3D%22content-type%22%20content%3D%22text/html%3B%20charset%3DUTF-8%22%20/%3E%0A%20%20%20%20%0A%20%20%20%20%20%20%20%20%3Cscript%3E%0A%20%20%20%20%20%20%20%20%20%20%20%20L_NO_TOUCH%20%3D%20false%3B%0A%20%20%20%20%20%20%20%20%20%20%20%20L_DISABLE_3D%20%3D%20false%3B%0A%20%20%20%20%20%20%20%20%3C/script%3E%0A%20%20%20%20%0A%20%20%20%20%3Cstyle%3Ehtml%2C%20body%20%7Bwidth%3A%20100%25%3Bheight%3A%20100%25%3Bmargin%3A%200%3Bpadding%3A%200%3B%7D%3C/style%3E%0A%20%20%20%20%3Cstyle%3E%23map%20%7Bposition%3Aabsolute%3Btop%3A0%3Bbottom%3A0%3Bright%3A0%3Bleft%3A0%3B%7D%3C/style%3E%0A%20%20%20%20%3Cscript%20src%3D%22https%3A//cdn.jsdelivr.net/npm/leaflet%401.6.0/dist/leaflet.js%22%3E%3C/script%3E%0A%20%20%20%20%3Cscript%20src%3D%22https%3A//code.jquery.com/jquery-1.12.4.min.js%22%3E%3C/script%3E%0A%20%20%20%20%3Cscript%20src%3D%22https%3A//maxcdn.bootstrapcdn.com/bootstrap/3.2.0/js/bootstrap.min.js%22%3E%3C/script%3E%0A%20%20%20%20%3Cscript%20src%3D%22https%3A//cdnjs.cloudflare.com/ajax/libs/Leaflet.awesome-markers/2.0.2/leaflet.awesome-markers.js%22%3E%3C/script%3E%0A%20%20%20%20%3Clink%20rel%3D%22stylesheet%22%20href%3D%22https%3A//cdn.jsdelivr.net/npm/leaflet%401.6.0/dist/leaflet.css%22/%3E%0A%20%20%20%20%3Clink%20rel%3D%22stylesheet%22%20href%3D%22https%3A//maxcdn.bootstrapcdn.com/bootstrap/3.2.0/css/bootstrap.min.css%22/%3E%0A%20%20%20%20%3Clink%20rel%3D%22stylesheet%22%20href%3D%22https%3A//maxcdn.bootstrapcdn.com/bootstrap/3.2.0/css/bootstrap-theme.min.css%22/%3E%0A%20%20%20%20%3Clink%20rel%3D%22stylesheet%22%20href%3D%22https%3A//maxcdn.bootstrapcdn.com/font-awesome/4.6.3/css/font-awesome.min.css%22/%3E%0A%20%20%20%20%3Clink%20rel%3D%22stylesheet%22%20href%3D%22https%3A//cdnjs.cloudflare.com/ajax/libs/Leaflet.awesome-markers/2.0.2/leaflet.awesome-markers.css%22/%3E%0A%20%20%20%20%3Clink%20rel%3D%22stylesheet%22%20href%3D%22https%3A//cdn.jsdelivr.net/gh/python-visualization/folium/folium/templates/leaflet.awesome.rotate.min.css%22/%3E%0A%20%20%20%20%0A%20%20%20%20%20%20%20%20%20%20%20%20%3Cmeta%20name%3D%22viewport%22%20content%3D%22width%3Ddevice-width%2C%0A%20%20%20%20%20%20%20%20%20%20%20%20%20%20%20%20initial-scale%3D1.0%2C%20maximum-scale%3D1.0%2C%20user-scalable%3Dno%22%20/%3E%0A%20%20%20%20%20%20%20%20%20%20%20%20%3Cstyle%3E%0A%20%20%20%20%20%20%20%20%20%20%20%20%20%20%20%20%23map_4a3527e3c6fa4958a2a259c6e969883f%20%7B%0A%20%20%20%20%20%20%20%20%20%20%20%20%20%20%20%20%20%20%20%20position%3A%20relative%3B%0A%20%20%20%20%20%20%20%20%20%20%20%20%20%20%20%20%20%20%20%20width%3A%20100.0%25%3B%0A%20%20%20%20%20%20%20%20%20%20%20%20%20%20%20%20%20%20%20%20height%3A%20100.0%25%3B%0A%20%20%20%20%20%20%20%20%20%20%20%20%20%20%20%20%20%20%20%20left%3A%200.0%25%3B%0A%20%20%20%20%20%20%20%20%20%20%20%20%20%20%20%20%20%20%20%20top%3A%200.0%25%3B%0A%20%20%20%20%20%20%20%20%20%20%20%20%20%20%20%20%7D%0A%20%20%20%20%20%20%20%20%20%20%20%20%3C/style%3E%0A%20%20%20%20%20%20%20%20%0A%3C/head%3E%0A%3Cbody%3E%20%20%20%20%0A%20%20%20%20%0A%20%20%20%20%20%20%20%20%20%20%20%20%3Cdiv%20class%3D%22folium-map%22%20id%3D%22map_4a3527e3c6fa4958a2a259c6e969883f%22%20%3E%3C/div%3E%0A%20%20%20%20%20%20%20%20%0A%3C/body%3E%0A%3Cscript%3E%20%20%20%20%0A%20%20%20%20%0A%20%20%20%20%20%20%20%20%20%20%20%20var%20map_4a3527e3c6fa4958a2a259c6e969883f%20%3D%20L.map%28%0A%20%20%20%20%20%20%20%20%20%20%20%20%20%20%20%20%22map_4a3527e3c6fa4958a2a259c6e969883f%22%2C%0A%20%20%20%20%20%20%20%20%20%20%20%20%20%20%20%20%7B%0A%20%20%20%20%20%20%20%20%20%20%20%20%20%20%20%20%20%20%20%20center%3A%20%5B0%2C%200%5D%2C%0A%20%20%20%20%20%20%20%20%20%20%20%20%20%20%20%20%20%20%20%20crs%3A%20L.CRS.EPSG3857%2C%0A%20%20%20%20%20%20%20%20%20%20%20%20%20%20%20%20%20%20%20%20zoom%3A%201%2C%0A%20%20%20%20%20%20%20%20%20%20%20%20%20%20%20%20%20%20%20%20zoomControl%3A%20true%2C%0A%20%20%20%20%20%20%20%20%20%20%20%20%20%20%20%20%20%20%20%20preferCanvas%3A%20false%2C%0A%20%20%20%20%20%20%20%20%20%20%20%20%20%20%20%20%7D%0A%20%20%20%20%20%20%20%20%20%20%20%20%29%3B%0A%0A%20%20%20%20%20%20%20%20%20%20%20%20%0A%0A%20%20%20%20%20%20%20%20%0A%20%20%20%20%0A%20%20%20%20%20%20%20%20%20%20%20%20var%20tile_layer_747213e7717e42389545884fc27fa423%20%3D%20L.tileLayer%28%0A%20%20%20%20%20%20%20%20%20%20%20%20%20%20%20%20%22https%3A//stamen-tiles-%7Bs%7D.a.ssl.fastly.net/terrain/%7Bz%7D/%7Bx%7D/%7By%7D.jpg%22%2C%0A%20%20%20%20%20%20%20%20%20%20%20%20%20%20%20%20%7B%22attribution%22%3A%20%22Map%20tiles%20by%20%5Cu003ca%20href%3D%5C%22http%3A//stamen.com%5C%22%5Cu003eStamen%20Design%5Cu003c/a%5Cu003e%2C%20under%20%5Cu003ca%20href%3D%5C%22http%3A//creativecommons.org/licenses/by/3.0%5C%22%5Cu003eCC%20BY%203.0%5Cu003c/a%5Cu003e.%20Data%20by%20%5Cu0026copy%3B%20%5Cu003ca%20href%3D%5C%22http%3A//openstreetmap.org%5C%22%5Cu003eOpenStreetMap%5Cu003c/a%5Cu003e%2C%20under%20%5Cu003ca%20href%3D%5C%22http%3A//creativecommons.org/licenses/by-sa/3.0%5C%22%5Cu003eCC%20BY%20SA%5Cu003c/a%5Cu003e.%22%2C%20%22detectRetina%22%3A%20false%2C%20%22maxNativeZoom%22%3A%2018%2C%20%22maxZoom%22%3A%2018%2C%20%22minZoom%22%3A%200%2C%20%22noWrap%22%3A%20false%2C%20%22opacity%22%3A%201%2C%20%22subdomains%22%3A%20%22abc%22%2C%20%22tms%22%3A%20false%7D%0A%20%20%20%20%20%20%20%20%20%20%20%20%29.addTo%28map_4a3527e3c6fa4958a2a259c6e969883f%29%3B%0A%20%20%20%20%20%20%20%20%0A%20%20%20%20%0A%20%20%20%20%20%20%20%20%20%20%20%20var%20marker_0298e85ac41349edaf8242712bf61baf%20%3D%20L.marker%28%0A%20%20%20%20%20%20%20%20%20%20%20%20%20%20%20%20%5B45.5234%2C%20-122.6747%5D%2C%0A%20%20%20%20%20%20%20%20%20%20%20%20%20%20%20%20%7B%7D%0A%20%20%20%20%20%20%20%20%20%20%20%20%29.addTo%28map_4a3527e3c6fa4958a2a259c6e969883f%29%3B%0A%20%20%20%20%20%20%20%20%0A%20%20%20%20%0A%20%20%20%20%20%20%20%20%20%20%20%20var%20icon_4dd78fc01c3d41a0b292e64aa79d9cca%20%3D%20L.AwesomeMarkers.icon%28%0A%20%20%20%20%20%20%20%20%20%20%20%20%20%20%20%20%7B%22extraClasses%22%3A%20%22fa-rotate-0%22%2C%20%22icon%22%3A%20%22hotel%22%2C%20%22iconColor%22%3A%20%22white%22%2C%20%22markerColor%22%3A%20%22orange%22%2C%20%22prefix%22%3A%20%22fa%22%7D%0A%20%20%20%20%20%20%20%20%20%20%20%20%29%3B%0A%20%20%20%20%20%20%20%20%20%20%20%20marker_0298e85ac41349edaf8242712bf61baf.setIcon%28icon_4dd78fc01c3d41a0b292e64aa79d9cca%29%3B%0A%20%20%20%20%20%20%20%20%0A%20%20%20%20%0A%20%20%20%20%20%20%20%20var%20popup_8a9f6f5cae544b508ce6c5d20196c76a%20%3D%20L.popup%28%7B%22maxWidth%22%3A%20%22100%25%22%7D%29%3B%0A%0A%20%20%20%20%20%20%20%20%0A%20%20%20%20%20%20%20%20%20%20%20%20var%20html_9f7417b6065b463f81737b8548ed569b%20%3D%20%24%28%60%3Cdiv%20id%3D%22html_9f7417b6065b463f81737b8548ed569b%22%20style%3D%22width%3A%20100.0%25%3B%20height%3A%20100.0%25%3B%22%3E%3Cb%3EThe%20Hoxton%20Hotel%3C/b%3E%3C/div%3E%60%29%5B0%5D%3B%0A%20%20%20%20%20%20%20%20%20%20%20%20popup_8a9f6f5cae544b508ce6c5d20196c76a.setContent%28html_9f7417b6065b463f81737b8548ed569b%29%3B%0A%20%20%20%20%20%20%20%20%0A%0A%20%20%20%20%20%20%20%20marker_0298e85ac41349edaf8242712bf61baf.bindPopup%28popup_8a9f6f5cae544b508ce6c5d20196c76a%29%0A%20%20%20%20%20%20%20%20%3B%0A%0A%20%20%20%20%20%20%20%20%0A%20%20%20%20%0A%20%20%20%20%0A%20%20%20%20%20%20%20%20%20%20%20%20var%20marker_73198fe6cc7d4a3c9fc43afd36991789%20%3D%20L.marker%28%0A%20%20%20%20%20%20%20%20%20%20%20%20%20%20%20%20%5B45.53051247%2C%20-122.6782215%5D%2C%0A%20%20%20%20%20%20%20%20%20%20%20%20%20%20%20%20%7B%7D%0A%20%20%20%20%20%20%20%20%20%20%20%20%29.addTo%28map_4a3527e3c6fa4958a2a259c6e969883f%29%3B%0A%20%20%20%20%20%20%20%20%0A%20%20%20%20%0A%20%20%20%20%20%20%20%20%20%20%20%20var%20icon_24ad7cffb5b4401d8050d05e3f8525c3%20%3D%20L.AwesomeMarkers.icon%28%0A%20%20%20%20%20%20%20%20%20%20%20%20%20%20%20%20%7B%22extraClasses%22%3A%20%22fa-rotate-0%22%2C%20%22icon%22%3A%20%22train%22%2C%20%22iconColor%22%3A%20%22white%22%2C%20%22markerColor%22%3A%20%22red%22%2C%20%22prefix%22%3A%20%22fa%22%7D%0A%20%20%20%20%20%20%20%20%20%20%20%20%29%3B%0A%20%20%20%20%20%20%20%20%20%20%20%20marker_73198fe6cc7d4a3c9fc43afd36991789.setIcon%28icon_24ad7cffb5b4401d8050d05e3f8525c3%29%3B%0A%20%20%20%20%20%20%20%20%0A%20%20%20%20%0A%20%20%20%20%20%20%20%20var%20popup_3c9672e75fd645ed83ebf5f7fa48799c%20%3D%20L.popup%28%7B%22maxWidth%22%3A%20%22100%25%22%7D%29%3B%0A%0A%20%20%20%20%20%20%20%20%0A%20%20%20%20%20%20%20%20%20%20%20%20var%20html_05ef5105239048a688b627f100681142%20%3D%20%24%28%60%3Cdiv%20id%3D%22html_05ef5105239048a688b627f100681142%22%20style%3D%22width%3A%20100.0%25%3B%20height%3A%20100.0%25%3B%22%3E%3Cb%3EPortland%20Amtrak%20Station%3C/b%3C/div%3E%60%29%5B0%5D%3B%0A%20%20%20%20%20%20%20%20%20%20%20%20popup_3c9672e75fd645ed83ebf5f7fa48799c.setContent%28html_05ef5105239048a688b627f100681142%29%3B%0A%20%20%20%20%20%20%20%20%0A%0A%20%20%20%20%20%20%20%20marker_73198fe6cc7d4a3c9fc43afd36991789.bindPopup%28popup_3c9672e75fd645ed83ebf5f7fa48799c%29%0A%20%20%20%20%20%20%20%20%3B%0A%0A%20%20%20%20%20%20%20%20%0A%20%20%20%20%0A%20%20%20%20%0A%20%20%20%20%20%20%20%20%20%20%20%20var%20marker_55b6b2342b304da5bb19c53bdda20766%20%3D%20L.marker%28%0A%20%20%20%20%20%20%20%20%20%20%20%20%20%20%20%20%5B45.5231%2C%20-122.6812%5D%2C%0A%20%20%20%20%20%20%20%20%20%20%20%20%20%20%20%20%7B%7D%0A%20%20%20%20%20%20%20%20%20%20%20%20%29.addTo%28map_4a3527e3c6fa4958a2a259c6e969883f%29%3B%0A%20%20%20%20%20%20%20%20%0A%20%20%20%20%0A%20%20%20%20%20%20%20%20%20%20%20%20var%20icon_f8160b24ec0544deb5f9c6aab323a8f5%20%3D%20L.AwesomeMarkers.icon%28%0A%20%20%20%20%20%20%20%20%20%20%20%20%20%20%20%20%7B%22extraClasses%22%3A%20%22fa-rotate-0%22%2C%20%22icon%22%3A%20%22book%22%2C%20%22iconColor%22%3A%20%22white%22%2C%20%22markerColor%22%3A%20%22lightblue%22%2C%20%22prefix%22%3A%20%22fa%22%7D%0A%20%20%20%20%20%20%20%20%20%20%20%20%29%3B%0A%20%20%20%20%20%20%20%20%20%20%20%20marker_55b6b2342b304da5bb19c53bdda20766.setIcon%28icon_f8160b24ec0544deb5f9c6aab323a8f5%29%3B%0A%20%20%20%20%20%20%20%20%0A%20%20%20%20%0A%20%20%20%20%20%20%20%20var%20popup_a8969b8a0ba146d48d8232e580f1f0cc%20%3D%20L.popup%28%7B%22maxWidth%22%3A%20%22100%25%22%7D%29%3B%0A%0A%20%20%20%20%20%20%20%20%0A%20%20%20%20%20%20%20%20%20%20%20%20var%20html_85749f13d6384f3491cd13f17688f153%20%3D%20%24%28%60%3Cdiv%20id%3D%22html_85749f13d6384f3491cd13f17688f153%22%20style%3D%22width%3A%20100.0%25%3B%20height%3A%20100.0%25%3B%22%3E%3Cb%3EPowell%27s%20Books%3C/b%3C/div%3E%60%29%5B0%5D%3B%0A%20%20%20%20%20%20%20%20%20%20%20%20popup_a8969b8a0ba146d48d8232e580f1f0cc.setContent%28html_85749f13d6384f3491cd13f17688f153%29%3B%0A%20%20%20%20%20%20%20%20%0A%0A%20%20%20%20%20%20%20%20marker_55b6b2342b304da5bb19c53bdda20766.bindPopup%28popup_a8969b8a0ba146d48d8232e580f1f0cc%29%0A%20%20%20%20%20%20%20%20%3B%0A%0A%20%20%20%20%20%20%20%20%0A%20%20%20%20%0A%20%20%20%20%0A%20%20%20%20%20%20%20%20%20%20%20%20var%20marker_c4810beb72ea48a397c26e1f29ab1858%20%3D%20L.marker%28%0A%20%20%20%20%20%20%20%20%20%20%20%20%20%20%20%20%5B45.53125541%2C%20-122.68593500000001%5D%2C%0A%20%20%20%20%20%20%20%20%20%20%20%20%20%20%20%20%7B%7D%0A%20%20%20%20%20%20%20%20%20%20%20%20%29.addTo%28map_4a3527e3c6fa4958a2a259c6e969883f%29%3B%0A%20%20%20%20%20%20%20%20%0A%20%20%20%20%0A%20%20%20%20%20%20%20%20%20%20%20%20var%20icon_94a6da00f2874928bfb19e01ae7113b2%20%3D%20L.AwesomeMarkers.icon%28%0A%20%20%20%20%20%20%20%20%20%20%20%20%20%20%20%20%7B%22extraClasses%22%3A%20%22fa-rotate-0%22%2C%20%22icon%22%3A%20%22briefcase%22%2C%20%22iconColor%22%3A%20%22white%22%2C%20%22markerColor%22%3A%20%22cadetblue%22%2C%20%22prefix%22%3A%20%22fa%22%7D%0A%20%20%20%20%20%20%20%20%20%20%20%20%29%3B%0A%20%20%20%20%20%20%20%20%20%20%20%20marker_c4810beb72ea48a397c26e1f29ab1858.setIcon%28icon_94a6da00f2874928bfb19e01ae7113b2%29%3B%0A%20%20%20%20%20%20%20%20%0A%20%20%20%20%0A%20%20%20%20%20%20%20%20var%20popup_e17c9604ede6463784895bb4ee7f4f97%20%3D%20L.popup%28%7B%22maxWidth%22%3A%20%22100%25%22%7D%29%3B%0A%0A%20%20%20%20%20%20%20%20%0A%20%20%20%20%20%20%20%20%20%20%20%20var%20html_79ec3b3a92ba4138b8385f79608581c8%20%3D%20%24%28%60%3Cdiv%20id%3D%22html_79ec3b3a92ba4138b8385f79608581c8%22%20style%3D%22width%3A%20100.0%25%3B%20height%3A%20100.0%25%3B%22%3E%3Cb%3EMicrosoft%20Office%3C/b%3C/div%3E%60%29%5B0%5D%3B%0A%20%20%20%20%20%20%20%20%20%20%20%20popup_e17c9604ede6463784895bb4ee7f4f97.setContent%28html_79ec3b3a92ba4138b8385f79608581c8%29%3B%0A%20%20%20%20%20%20%20%20%0A%0A%20%20%20%20%20%20%20%20marker_c4810beb72ea48a397c26e1f29ab1858.bindPopup%28popup_e17c9604ede6463784895bb4ee7f4f97%29%0A%20%20%20%20%20%20%20%20%3B%0A%0A%20%20%20%20%20%20%20%20%0A%20%20%20%20%0A%20%20%20%20%0A%20%20%20%20%20%20%20%20%20%20%20%20var%20marker_9513976f13b04345af88ee6c4e577650%20%3D%20L.marker%28%0A%20%20%20%20%20%20%20%20%20%20%20%20%20%20%20%20%5B45.5252%2C%20-122.7163%5D%2C%0A%20%20%20%20%20%20%20%20%20%20%20%20%20%20%20%20%7B%7D%0A%20%20%20%20%20%20%20%20%20%20%20%20%29.addTo%28map_4a3527e3c6fa4958a2a259c6e969883f%29%3B%0A%20%20%20%20%20%20%20%20%0A%20%20%20%20%0A%20%20%20%20%20%20%20%20%20%20%20%20var%20icon_a03bbf5f2b984d1d935b3b14bd05cb5b%20%3D%20L.AwesomeMarkers.icon%28%0A%20%20%20%20%20%20%20%20%20%20%20%20%20%20%20%20%7B%22extraClasses%22%3A%20%22fa-rotate-0%22%2C%20%22icon%22%3A%20%22home%22%2C%20%22iconColor%22%3A%20%22white%22%2C%20%22markerColor%22%3A%20%22lightgreen%22%2C%20%22prefix%22%3A%20%22fa%22%7D%0A%20%20%20%20%20%20%20%20%20%20%20%20%29%3B%0A%20%20%20%20%20%20%20%20%20%20%20%20marker_9513976f13b04345af88ee6c4e577650.setIcon%28icon_a03bbf5f2b984d1d935b3b14bd05cb5b%29%3B%0A%20%20%20%20%20%20%20%20%0A%20%20%20%20%0A%20%20%20%20%20%20%20%20var%20popup_b5433becd57a4f37a641976d6d6c6c90%20%3D%20L.popup%28%7B%22maxWidth%22%3A%20%22100%25%22%7D%29%3B%0A%0A%20%20%20%20%20%20%20%20%0A%20%20%20%20%20%20%20%20%20%20%20%20var%20html_67c14205b915450bb4b6e7f44aff34ab%20%3D%20%24%28%60%3Cdiv%20id%3D%22html_67c14205b915450bb4b6e7f44aff34ab%22%20style%3D%22width%3A%20100.0%25%3B%20height%3A%20100.0%25%3B%22%3E%3Cb%3EPittock%20Mansion%3C/b%3C/div%3E%60%29%5B0%5D%3B%0A%20%20%20%20%20%20%20%20%20%20%20%20popup_b5433becd57a4f37a641976d6d6c6c90.setContent%28html_67c14205b915450bb4b6e7f44aff34ab%29%3B%0A%20%20%20%20%20%20%20%20%0A%0A%20%20%20%20%20%20%20%20marker_9513976f13b04345af88ee6c4e577650.bindPopup%28popup_b5433becd57a4f37a641976d6d6c6c90%29%0A%20%20%20%20%20%20%20%20%3B%0A%0A%20%20%20%20%20%20%20%20%0A%20%20%20%20%0A%20%20%20%20%0A%20%20%20%20%20%20%20%20%20%20%20%20var%20marker_c6e943aaa65e48109e93f6c8f21226f0%20%3D%20L.marker%28%0A%20%20%20%20%20%20%20%20%20%20%20%20%20%20%20%20%5B45.5194%2C%20-122.7069%5D%2C%0A%20%20%20%20%20%20%20%20%20%20%20%20%20%20%20%20%7B%7D%0A%20%20%20%20%20%20%20%20%20%20%20%20%29.addTo%28map_4a3527e3c6fa4958a2a259c6e969883f%29%3B%0A%20%20%20%20%20%20%20%20%0A%20%20%20%20%0A%20%20%20%20%20%20%20%20%20%20%20%20var%20icon_c1b47692952b4ef5961952e1e55033c7%20%3D%20L.AwesomeMarkers.icon%28%0A%20%20%20%20%20%20%20%20%20%20%20%20%20%20%20%20%7B%22extraClasses%22%3A%20%22fa-rotate-0%22%2C%20%22icon%22%3A%20%22tree%22%2C%20%22iconColor%22%3A%20%22white%22%2C%20%22markerColor%22%3A%20%22lightgreen%22%2C%20%22prefix%22%3A%20%22fa%22%7D%0A%20%20%20%20%20%20%20%20%20%20%20%20%29%3B%0A%20%20%20%20%20%20%20%20%20%20%20%20marker_c6e943aaa65e48109e93f6c8f21226f0.setIcon%28icon_c1b47692952b4ef5961952e1e55033c7%29%3B%0A%20%20%20%20%20%20%20%20%0A%20%20%20%20%0A%20%20%20%20%20%20%20%20var%20popup_5c1f4779aa0643cb8fe7b2f831aff1d7%20%3D%20L.popup%28%7B%22maxWidth%22%3A%20%22100%25%22%7D%29%3B%0A%0A%20%20%20%20%20%20%20%20%0A%20%20%20%20%20%20%20%20%20%20%20%20var%20html_27ec1d175e0941ce87e1b8becdad5fd3%20%3D%20%24%28%60%3Cdiv%20id%3D%22html_27ec1d175e0941ce87e1b8becdad5fd3%22%20style%3D%22width%3A%20100.0%25%3B%20height%3A%20100.0%25%3B%22%3E%3Cb%3EPortland%20Japanese%20Garden%3C/b%3C/div%3E%60%29%5B0%5D%3B%0A%20%20%20%20%20%20%20%20%20%20%20%20popup_5c1f4779aa0643cb8fe7b2f831aff1d7.setContent%28html_27ec1d175e0941ce87e1b8becdad5fd3%29%3B%0A%20%20%20%20%20%20%20%20%0A%0A%20%20%20%20%20%20%20%20marker_c6e943aaa65e48109e93f6c8f21226f0.bindPopup%28popup_5c1f4779aa0643cb8fe7b2f831aff1d7%29%0A%20%20%20%20%20%20%20%20%3B%0A%0A%20%20%20%20%20%20%20%20%0A%20%20%20%20%0A%20%20%20%20%0A%20%20%20%20%20%20%20%20%20%20%20%20var%20marker_83562327f4aa40e483fb97967280f925%20%3D%20L.marker%28%0A%20%20%20%20%20%20%20%20%20%20%20%20%20%20%20%20%5B45.5875%2C%20-122.7625%5D%2C%0A%20%20%20%20%20%20%20%20%20%20%20%20%20%20%20%20%7B%7D%0A%20%20%20%20%20%20%20%20%20%20%20%20%29.addTo%28map_4a3527e3c6fa4958a2a259c6e969883f%29%3B%0A%20%20%20%20%20%20%20%20%0A%20%20%20%20%0A%20%20%20%20%20%20%20%20%20%20%20%20var%20icon_feae86cc22c64fbdaf1c8b1bec1919e6%20%3D%20L.AwesomeMarkers.icon%28%0A%20%20%20%20%20%20%20%20%20%20%20%20%20%20%20%20%7B%22extraClasses%22%3A%20%22fa-rotate-0%22%2C%20%22icon%22%3A%20%22tree%22%2C%20%22iconColor%22%3A%20%22white%22%2C%20%22markerColor%22%3A%20%22lightgreen%22%2C%20%22prefix%22%3A%20%22fa%22%7D%0A%20%20%20%20%20%20%20%20%20%20%20%20%29%3B%0A%20%20%20%20%20%20%20%20%20%20%20%20marker_83562327f4aa40e483fb97967280f925.setIcon%28icon_feae86cc22c64fbdaf1c8b1bec1919e6%29%3B%0A%20%20%20%20%20%20%20%20%0A%20%20%20%20%0A%20%20%20%20%20%20%20%20var%20popup_f1fc61d0d7e643c8ae4fc57c05037d7d%20%3D%20L.popup%28%7B%22maxWidth%22%3A%20%22100%25%22%7D%29%3B%0A%0A%20%20%20%20%20%20%20%20%0A%20%20%20%20%20%20%20%20%20%20%20%20var%20html_b69c31ec0d4840b78957ff972795a014%20%3D%20%24%28%60%3Cdiv%20id%3D%22html_b69c31ec0d4840b78957ff972795a014%22%20style%3D%22width%3A%20100.0%25%3B%20height%3A%20100.0%25%3B%22%3E%3Cb%3ECathedral%20Park%3C/b%3C/div%3E%60%29%5B0%5D%3B%0A%20%20%20%20%20%20%20%20%20%20%20%20popup_f1fc61d0d7e643c8ae4fc57c05037d7d.setContent%28html_b69c31ec0d4840b78957ff972795a014%29%3B%0A%20%20%20%20%20%20%20%20%0A%0A%20%20%20%20%20%20%20%20marker_83562327f4aa40e483fb97967280f925.bindPopup%28popup_f1fc61d0d7e643c8ae4fc57c05037d7d%29%0A%20%20%20%20%20%20%20%20%3B%0A%0A%20%20%20%20%20%20%20%20%0A%20%20%20%20%0A%20%20%20%20%0A%20%20%20%20%20%20%20%20%20%20%20%20var%20marker_2f35fbb8dc5f4e9f95d1d800270b06f1%20%3D%20L.marker%28%0A%20%20%20%20%20%20%20%20%20%20%20%20%20%20%20%20%5B45.5445%2C%20-122.6585%5D%2C%0A%20%20%20%20%20%20%20%20%20%20%20%20%20%20%20%20%7B%7D%0A%20%20%20%20%20%20%20%20%20%20%20%20%29.addTo%28map_4a3527e3c6fa4958a2a259c6e969883f%29%3B%0A%20%20%20%20%20%20%20%20%0A%20%20%20%20%0A%20%20%20%20%20%20%20%20%20%20%20%20var%20icon_b11e2d06944e48cc9383e6761eb050a9%20%3D%20L.AwesomeMarkers.icon%28%0A%20%20%20%20%20%20%20%20%20%20%20%20%20%20%20%20%7B%22extraClasses%22%3A%20%22fa-rotate-0%22%2C%20%22icon%22%3A%20%22tree%22%2C%20%22iconColor%22%3A%20%22white%22%2C%20%22markerColor%22%3A%20%22lightgreen%22%2C%20%22prefix%22%3A%20%22fa%22%7D%0A%20%20%20%20%20%20%20%20%20%20%20%20%29%3B%0A%20%20%20%20%20%20%20%20%20%20%20%20marker_2f35fbb8dc5f4e9f95d1d800270b06f1.setIcon%28icon_b11e2d06944e48cc9383e6761eb050a9%29%3B%0A%20%20%20%20%20%20%20%20%0A%20%20%20%20%0A%20%20%20%20%20%20%20%20var%20popup_27b548ebc3624abbb30dcecbb27d73ae%20%3D%20L.popup%28%7B%22maxWidth%22%3A%20%22100%25%22%7D%29%3B%0A%0A%20%20%20%20%20%20%20%20%0A%20%20%20%20%20%20%20%20%20%20%20%20var%20html_9b7c0bae052b42b5ad30f229f842ea8f%20%3D%20%24%28%60%3Cdiv%20id%3D%22html_9b7c0bae052b42b5ad30f229f842ea8f%22%20style%3D%22width%3A%20100.0%25%3B%20height%3A%20100.0%25%3B%22%3E%3Cb%3EPortland%20Wishing%20Tree%3C/b%3C/div%3E%60%29%5B0%5D%3B%0A%20%20%20%20%20%20%20%20%20%20%20%20popup_27b548ebc3624abbb30dcecbb27d73ae.setContent%28html_9b7c0bae052b42b5ad30f229f842ea8f%29%3B%0A%20%20%20%20%20%20%20%20%0A%0A%20%20%20%20%20%20%20%20marker_2f35fbb8dc5f4e9f95d1d800270b06f1.bindPopup%28popup_27b548ebc3624abbb30dcecbb27d73ae%29%0A%20%20%20%20%20%20%20%20%3B%0A%0A%20%20%20%20%20%20%20%20%0A%20%20%20%20%0A%20%20%20%20%0A%20%20%20%20%20%20%20%20%20%20%20%20var%20marker_326e69a27d74466f8b83d1947f678304%20%3D%20L.marker%28%0A%20%20%20%20%20%20%20%20%20%20%20%20%20%20%20%20%5B45.5253%2C%20-122.6733%5D%2C%0A%20%20%20%20%20%20%20%20%20%20%20%20%20%20%20%20%7B%7D%0A%20%20%20%20%20%20%20%20%20%20%20%20%29.addTo%28map_4a3527e3c6fa4958a2a259c6e969883f%29%3B%0A%20%20%20%20%20%20%20%20%0A%20%20%20%20%0A%20%20%20%20%20%20%20%20%20%20%20%20var%20icon_8096b04743e24d689519b80bdcbb96e8%20%3D%20L.AwesomeMarkers.icon%28%0A%20%20%20%20%20%20%20%20%20%20%20%20%20%20%20%20%7B%22extraClasses%22%3A%20%22fa-rotate-0%22%2C%20%22icon%22%3A%20%22tree%22%2C%20%22iconColor%22%3A%20%22white%22%2C%20%22markerColor%22%3A%20%22lightgreen%22%2C%20%22prefix%22%3A%20%22fa%22%7D%0A%20%20%20%20%20%20%20%20%20%20%20%20%29%3B%0A%20%20%20%20%20%20%20%20%20%20%20%20marker_326e69a27d74466f8b83d1947f678304.setIcon%28icon_8096b04743e24d689519b80bdcbb96e8%29%3B%0A%20%20%20%20%20%20%20%20%0A%20%20%20%20%0A%20%20%20%20%20%20%20%20var%20popup_9e56f6e361474259ae4b85dd97cc173c%20%3D%20L.popup%28%7B%22maxWidth%22%3A%20%22100%25%22%7D%29%3B%0A%0A%20%20%20%20%20%20%20%20%0A%20%20%20%20%20%20%20%20%20%20%20%20var%20html_6100d5625628452ea49f583bf2fda774%20%3D%20%24%28%60%3Cdiv%20id%3D%22html_6100d5625628452ea49f583bf2fda774%22%20style%3D%22width%3A%20100.0%25%3B%20height%3A%20100.0%25%3B%22%3E%3Cb%3ELan%20Su%20Chinese%20Garden%3C/b%3C/div%3E%60%29%5B0%5D%3B%0A%20%20%20%20%20%20%20%20%20%20%20%20popup_9e56f6e361474259ae4b85dd97cc173c.setContent%28html_6100d5625628452ea49f583bf2fda774%29%3B%0A%20%20%20%20%20%20%20%20%0A%0A%20%20%20%20%20%20%20%20marker_326e69a27d74466f8b83d1947f678304.bindPopup%28popup_9e56f6e361474259ae4b85dd97cc173c%29%0A%20%20%20%20%20%20%20%20%3B%0A%0A%20%20%20%20%20%20%20%20%0A%20%20%20%20%0A%20%20%20%20%0A%20%20%20%20%20%20%20%20%20%20%20%20map_4a3527e3c6fa4958a2a259c6e969883f.fitBounds%28%0A%20%20%20%20%20%20%20%20%20%20%20%20%20%20%20%20%5B%5B45.5194%2C%20-122.7625%5D%2C%20%5B45.5875%2C%20-122.6585%5D%5D%2C%0A%20%20%20%20%20%20%20%20%20%20%20%20%20%20%20%20%7B%7D%0A%20%20%20%20%20%20%20%20%20%20%20%20%29%3B%0A%20%20%20%20%20%20%20%20%0A%3C/script%3E onload=\"this.contentDocument.open();this.contentDocument.write(    decodeURIComponent(this.getAttribute('data-html')));this.contentDocument.close();\" allowfullscreen webkitallowfullscreen mozallowfullscreen></iframe></div></div>"
      ],
      "text/plain": [
       "<folium.folium.Map at 0x5d89ef8>"
      ]
     },
     "execution_count": 45,
     "metadata": {},
     "output_type": "execute_result"
    }
   ],
   "source": [
    "m = folium.Map(tiles=\"Stamen Terrain\")\n",
    "\n",
    "\n",
    "folium.Marker(location=[stops['Latitude'][0], stops['Longitude'][0]], \n",
    "      popup=\"<b>\" + stops['Stop'][0] + \"</b>\", \n",
    "      icon=folium.Icon(color='orange', icon='hotel', prefix='fa')).add_to(m)\n",
    "\n",
    "folium.Marker(location=[stops['Longitude'][8], stops['Latitude'][8]], \n",
    "      popup=\"<b>\" + stops['Stop'][8] + \"</b\",\n",
    "      icon=folium.Icon(color='red', icon='train', prefix='fa')).add_to(m)\n",
    "\n",
    "folium.Marker(location=[stops['Latitude'][1], stops['Longitude'][1]], \n",
    "      popup=\"<b>\" + stops['Stop'][1] + \"</b\",\n",
    "      icon=folium.Icon(color='lightblue', icon='book', prefix='fa')).add_to(m)\n",
    "\n",
    "folium.Marker(location=[stops['Latitude'][2], stops['Longitude'][2]], \n",
    "      popup=\"<b>\" + stops['Stop'][2] + \"</b\",\n",
    "      icon=folium.Icon(color='cadetblue', icon='briefcase', prefix='fa')).add_to(m)\n",
    "\n",
    "folium.Marker(location=[stops['Latitude'][3], stops['Longitude'][3]], \n",
    "      popup=\"<b>\" + stops['Stop'][3] + \"</b\",\n",
    "      icon=folium.Icon(color='lightgreen', icon='home', prefix='fa')).add_to(m)\n",
    "\n",
    "folium.Marker(location=[stops['Latitude'][4], stops['Longitude'][4]], \n",
    "      popup=\"<b>\" + stops['Stop'][4] + \"</b\",\n",
    "      icon=folium.Icon(color='lightgreen', icon='tree', prefix='fa')).add_to(m)\n",
    "\n",
    "folium.Marker(location=[stops['Latitude'][5], stops['Longitude'][5]], \n",
    "      popup=\"<b>\" + stops['Stop'][5] + \"</b\",\n",
    "      icon=folium.Icon(color='lightgreen', icon='tree', prefix='fa')).add_to(m)\n",
    "\n",
    "folium.Marker(location=[stops['Latitude'][6], stops['Longitude'][6]], \n",
    "      popup=\"<b>\" + stops['Stop'][6] + \"</b\",\n",
    "      icon=folium.Icon(color='lightgreen', icon='tree', prefix='fa')).add_to(m)\n",
    "\n",
    "folium.Marker(location=[stops['Latitude'][7], stops['Longitude'][7]], \n",
    "      popup=\"<b>\" + stops['Stop'][7] + \"</b\",\n",
    "      icon=folium.Icon(color='lightgreen', icon='tree', prefix='fa')).add_to(m)\n",
    "\n",
    "\n",
    "# Show the map again\n",
    "m.fit_bounds(m.get_bounds())\n",
    "m"
   ]
  },
  {
   "cell_type": "markdown",
   "metadata": {},
   "source": [
    "### Appendix\n",
    "\n",
    "#### Architecture in Downtown Portland\n",
    "\n",
    "| Image | Description |\n",
    "| --- | --- |\n",
    "| ![](https://lh3.googleusercontent.com/UGczf8WnmEJ0e0FXAc2pSO6LxpXD4n0zB1latwm-zVsKgNQ2uslMa1wGIQNIYlGy4n0Pm_C4d59cUr1m07LqQZ9bRPODUfEFqDzdaxfbl89L1fw2PXoOmMGOyw0HpnBuBzi7i7k4IT27m4_HRnu0bD5hrcQmkAPKqDhATuxvB1Ih9eaFYhr8s-_yXwogzGstqb_S1H0URKLkE7CiCb4kJvGEihxB7Q4NjKSbOP8C75TNP9lyv3ItrADIcZg9AsIU_YvohW3m-XWHBrDKxFDxlmQKo9YppWjCiPitO8A9a5--bsYYOmowRtame0GZe0WadEy9yvEWl6bcWISkvZ73nzrAHZ5AAKvkToQf7xXbuXwCv108ZyEuzVs1EXce_ODY8gU86RrWukzBbFmAwGw0SXhi9HF8cM0pjxmh3BQfJHqbCUTCDZUaMqDcmMWlwSrhu2Yk-A8pDnBakX1b9iJm_nMBtnMxKYUm2HyMMGqzfU_2_bHJhAt4rK8GSpM4ItTmdfA7JCkZT0Aw1U2eDTwjZAsOrQGtkm6dzTIB1Mc20UCe3Zxdwpfpr8Z8GLRwws0bCNjfV9Aya6exyyzYIhZjwyXSepnX_8fxwAMsYh4MpCQBlfbeMZ1PBZhwzG8Qnl1SbMlzc7FT7vh5tzGoC6bzx9HmaDJo3CplYTHRD5dULIoj4nU-q1bSXRNIwAoHLAp5LUbfYLMkd1yINSsi6IWvzC0=w1392-h1044-no?authuser=2) | |\n",
    "| ![](https://lh3.googleusercontent.com/9OPsS4WYAHPQ2hxxGr1wFRGF77OGszcrgCrVIM1qIu2L6olXHZha3knGUsMK5u5HBu_j0-OOYwr8pFGuv7hmlRL-R4PJ2hBCsnMlfSrNs65mwLeeMxryq6On-2_aSZw1MdI3J1hYtr_2RgAe6iPmKHXs2RVhDVTH0NisXZqtrsNr-_xPCZwweIti1N6GDjrvlBQj8wulLCTlK2wHvNlywl8xpQKLjs3BbYV6YzNYbJYeBItB5s0jOPmnE3mbRv-HPpa9MY3UcoTX8CDISowTkgQ6u7keHsHFRM1_s9peW4RtxyflWimctA1JsCqZXWbogA3Uxn4mCDiyWcaH61GRfI09lXY7hylgaV664yOvmI-b2z08zcme8VUnRGRtUY0_KXql3ajdRhZUvSgBFfuxKP70CZmFzEY1jfr5GHXt_YHRnckxcaQM1-T5gqLdpGSyzZteGlrfMqo9-k4izKmcPAhgZKJWFR3iWTHSJw7rkGcspnrhbr7uq31PiqnOSdq6hems_tC-vrGCFku2D6o-nSvezj5ZcvG05G0MGgxJQU481vAWvrtWp2MEY4XG1YPVqg3A2mJXQhMwOc6N-ugiavvuNUZl3NnioojeEMRzzjswqmbwsD-tnHd8dO0D-6fP9KyWPcHUSIx7Ki3kNGyvuSjDoJHbnkW594dzj9rbKCfHPdhNRmfLavKygJa02AB1Zl2dF9jWN9odSMDQfr8xgpo=w1066-h1420-no?authuser=2) | | \n",
    "| ![](https://lh3.googleusercontent.com/Eg_TO2N7j3nCQTB6ohSGSSYXycyiBUvfv94kq8iaEvuF1v2qoI_2VjrWnjMxR9RhzKiq28Thu_Dx55fYcHGFPvlmkV8mFfXZ1RMS_20HCXMEQv-poc3ofYfNJi0aaP9VRL1RQwkrFSVxr559e57LcQhD6jfjgT6Y6bIQOJkqsJJrwDGCgVbYZ0rJu_PwgOF-WGGZ7_IzqR54jMuYahJG3Wq5GXZfWk0kRdgIUMeMDl3xh5vD5IEOotskvhDs6LWygptVEhYiHWH1wWEff7RfSbQRuMoQDC_hOGVpDBtt2jpgg3nlkH58jCJN-q4vH-5PkUuWazoSUVdRJotQ5AhW-gcgy8wMPYw2wSFrxhvqGkDqJNPHRKSH35cXvGuTlxeE9isu5xPLvJmTth5DSXBoCuT4e94jC9qNuRXtff5FSr267rhtdb8mgfm0LS3Y_o4Z4cUMqhsGZvM6-3xP5JxKE7rQSUTR_0sZlSZrIs6MHXQCEN5zBD6dppyAW3ttjb_OuPQBkvDgNA5DP_BbTLcS87TNd0FPtNoQKeIqWtstOY_W9zGs0W-HRe5gK667BpLxnirTfaEZAhmO4nE1uN7YxtE0yKeEHqGDq8eO6GIDbp3YdzjvBaslwVjA-PdCKKvfcdL8YJOs2dpIjNJTflnZaIOp1Kpffc2rI_2zFyEMFdJjhxKG4-HCwb8GoyL-3xF7aVrUScRihHr8tN41qda-5lY=w1392-h1044-no?authuser=2) | |\n",
    "\n",
    "### Portland's China Town\n",
    "\n",
    "| ![](https://lh3.googleusercontent.com/bVBsQ65PN1SXvWLlJvEKArzNHBnyW_wcAkO1LvSnyI_xLt09tdrqmnR4PSG9puvDeZLAi0AsddQ8D9g0MOGbxuhORej14yLp8OZ8sfQxwlYosODnOr0gi-rqwocv14KVyghxJIEKITsZ-w7rs-rbVuXVZGAsHKRO-D_dLIBkrD7JuV4pyK80FWnvoxadNSwxy_7-m3C-aCFyTYSRSa-m3QIzfmlhuIZBNs8uMM3xXqSCKceyeNWBDMMwMdqwxIO15JJbv7JYJO4VJc6VEBJfN9k9Netd-O_iE4snWckG-h5v5kmtNraLf21W8XxwCsB1gtEFcJklfdeCemZsIXtTGwyEuwhFOfgtZBelR3hAKAh1A27rotZNeMB413hP-3HOA-WUZTbIRtKyOBV68on-VJcAY0TwKbcO9c2zoC_aB4JN26_HDrjQe48aods-QOlKAsFvbuG1Z4HTTSJHQOZrKjn4ekQtrrfeiuFmflNett-i2s_I-60z-mPg-LWqhOuVWOP7ylL48ACTfUEcSPHuMmmmoZ2cTraWKWM2FQbxr9Fg7By5ERMiUYDqBlEA8jyodbNI_69q8UrQ-KwIh53n36UlQzJ_MMHMtLDET_YESsppKMSGaSw_VtHaRuYYnzAnxcDTP7AtufoqNjWY39mRBl6oMzNFktt8CklKWdvrIHq1F-jn9AAL_hLuXWah6JS44KAiejBHFZ0Oz_KkMb8NA-Y=w1066-h1420-no?authuser=2) | ![](https://lh3.googleusercontent.com/q-kP1QeNn2zOSt-qxAU5rjMkNQxUyMpGZ5OB-qX4ElNLSoWmlSmDlAMdQXfRKCSqLFi434dmLYOb3vQsbiF8fSnQ0h6Uan50LKgf5SV63gDl6_2W2VOMsMJejI7Maf2hp2NoLtlmqG5yvtxrVjA36PUzz84ZwozIlVSoJCpKSzC6gDi4e1dynH64dQp4szJOXvPluRvFkLJ11utCBC_oZHaMSg7kCrCgJRAzcHGIgSCdisPFYBGAdK72sBtO1b1Eh8TSTPCl-ih2tBjCLJr2C-ZhYsW8l6fH7tGduCZECK4joWUwHBpOs_n-UtSYr6GxV3C8Xj45AZkUV0pLtMg9erPNivQQeHgbfR88soVlrgS-hYqiTVEoL1G0ixf9iLycgceizUIT9PeXwZmFTIteoTlttPG3TGD7EMiGI4kxE1BHwv0X5NJbwYTiy5kzxlSLpdRn3gE2wIr80wPSfUgojFhQXhjQI3bN3gw-1q-2lsscCAD3GSUkYP7OJS1KA24z2lTMr-bTV3pdw2yWQEW-pW6lor4K3fC3gGI8AGv-IOVis7kRpJ_Zyhf4khDbynVmB4teCnYj_wKLHMmb2xPFNdS86t7_RcZnAWtpoP6z1Y6JShfYT-PvjB6RVGNHJy-wqU4TsLsYLmcJK_mtJN4VadnzvqEjuyRu8SizaNaOXzK0VK0POhvxSA8FpoAf8Ez_wEG3X1QpllK-OWq-6KqWWow=w1392-h1244-no?authuser=2) |\n",
    "| --- | --- |\n",
    "\n",
    "### Powell's Books\n",
    "\n",
    "| They're awesome | because |\n",
    "| --- | --- |\n",
    "| ![](https://lh3.googleusercontent.com/07bXI5K8mWkREyOwaRHSAdJxkqdCCMkpB_rX98PPPpD9MJKGjmwgZDfHAD7etH6TADziq06jcSSPCNpGWvnwZswQzTFMLewMEHL3dYhqTOaH8dOwyzdrpsyKZ61xTaveyixqmgX9PneYJLImbS9X_R77hJv5mLbfuHjvhWZdq2j5ypHKWdv3AVhcFKvhdDKDnxlV070EBnjrX0jVKVMgUuwac94sqhBWWIfksgc4XDoPdoqcPMXHXbWo-rMsD95pg9vPIltGu0OHsDOq2ym5ER4bsOgBoWlou4Xn26Vv6Tx_RLpJD6K4l4PJclm96Sak9BDFOFjhX6_jaba_nZc7AmFHsdnw-PRVC36Pk9XRbZeBBY5nXGop0GNXlMfPCBd9aGpYOWtM89UkXMit3Ls3zeYLSe5EsXsOsh886dgYVoJV4BeR1mH-jB83APdzTa47W4_swta3b-qjKw49_WUS8JAXxL-VnfzxtS2BTzoGYzoYSa4PyV2qQIIlPdqTsvVcYyaOPWASUv6J2m5BRLj2FL8OEW0PJ2Stf82u4DY74EphEFtwTzaZkqqkgLsMySaGR-yNalnL82kIBXzFYTHZ61NHZ0pOWDquoPtUVH5K04mtcrErlXC6T3Any7ZrcMCrBOuw4NjLWkh69D7JQf6sp0WRDUyxCweVfqK6i9_rJr22r_hwMnP8qL9Aq5qsgTF7YJBP0GLTDENCuYwoMeRN_7w=w1066-h1420-no?authuser=2) | |\n",
    "| ![](https://lh3.googleusercontent.com/25eFPwz-Oamb4_6AvUciGiNsb4NG6zudny2LqV5rtDM8ekBYuCk-px_E1PQetMhVSLRFZm57dnm4pcBO38A134xz_u7i-2yTlj2xJIhqLlgvDTUxph_aauRHXIdvPhrHL2EkPbV_Ox_dZY9k_iH5hz8EooKQbk3FgXIaBWQ72rZtjxyemNJK7ye33--S9JFFHLdhARr5q8Yn7z1qAqLRr_zCnI1c2hVJ4b4IC5e5Ec7wLct6xxQRWduIVTvWWLXRqqyoeogsnyopKp4DAGvMSeduxqZkTTG5cJOOdm5KTuUIIUjwekR9wrF9lGA8NMK4WBXUadomW7hkhDEqoB5xNLs4rFuzlK-KuKN2GnpBNJahJ27sRtMKcw4cwzMWUQfshvijydmeObaQG_WGXhBhuO7Z2dYSTH43lm6LNZs9efVaA-fBV56P3Ke6xeAEwPuKM1R1LoBIS5cwdfKV1uvGOuOYq83CEnLNHHKnSeLCp8ijlfSiMX1t-8Xv2np1XkUddhCXifi12vk4NdgnQptmS-WoYmhjqhhrxutimDTWj5lnZ-dEDWkYHzZOIhVhLjnW3SACZ3ARrFz_qAxGmIuIWysN3_RkFNvfWV1-F2zjy_74mDGJX6GW8UwyhhgPoQ52vC_lfTyfW1EygmuwySOb75Uau_9JshrGxZPbKghXYofLefiujIW4OSL-nmkZwW1pfBIIdA8Eu71VSZgKCr_zg9o=w1066-h1420-no?authuser=2) | |\n",
    "| ![](https://lh3.googleusercontent.com/clxcmWESEIAxsV_fSvbWcvat4NLWKe3OYxE16Su9Hh5fGKAPQ6F2SLZzLMcVTa8Sx-lJcjnmFwa1s-Z_uVAXcT7E4A_oerU3pq3olYCA1rrw6ZX-EC49TBDITXDIxRtgp3VfxMQQzddl1zgDRTyWs0IVJqj50HMmXSsaEexkf56YxIea_FQ7v0NTnFLa2TDp1hJRRPuMpvoVnI3T7T_aoE9w9VPBVtZ8mHeQaH4hyREHBz9MbJEnGW6x3NJW_FdbqGbyVLqamAmQ3d3iKZzbsVSAWLWs4jLFHRewpuqfMzxgNz3UverXa3UGpXvGwhOIylgHaUhjKw-dMz7oHOTN3yXQreEWWJkRhzcmEk8-JLfYhmy2mIqNM5W_JT8nb7Bxj06sUwJ2kcnR4Y_-GKyB_b06FMqtRUy3cXNjIElpIghepH07sLuozhHIHZXFdyCOkhHiLp0RAWXo5gLPOj2yhdrS4PinoLsWce7m2Qo8WiohIoIowalJHMFo-nR5LfWGT7omMm9V6dL7npwVjmHewCbTFwlBgwwaHq9mP8AeJzI1dwa4mXT-MOLWFDHkYCx6c6WpKSK0qOQzhUyqD4YLjJEmDPIZJVAmEK7rARvAOmSKA7F8HbHAiCBLhhkHQUgYl08MEUqQAf-PNKTp6t3awC-N9XNaG9nX7xqdIiWwY-7i4f3CFodioEL0UQDnZkwDihnjbX68aCLNYUQfeQYRFCU=w1066-h1420-no?authuser=2) | |\n",
    "| ![](https://lh3.googleusercontent.com/jMnKfIP-M6laNMfSAA1TJC3LfUkbo8fjQbIb-UQyZ4T-6rcwUPeavBXNwbcxLEjg1duQX8lwJ7dOnDNvCswS0yhi7LeLZmJgb4dpzuX1KY0n3oLhcdjabptSWRIcwvbZbooMtnXO1P-WUIU0lBEuizVCzRdQgz002--5WvP5ch1oLzxCXJmokF8lhg6R7iV4QDx3Nx5-zCZNQsUxvipQis7cFIOVJsEIL8oSZXrGIJQ4143qPLDliYQUk4B2zQfQIzQzLNjJb-bjjxmJJJu9skY1p-_MQ5BJX9-PLxI5s4ZRPg-QyUbTjbRya4J3YfZI3Ehdx2kzXIAymwPBkSPZxyEjr6GeONUiP30cIXl9jiM1jxghnTSmIqEbgyPMhk4Y1AuqCmZjxXyhsoV1sGfYfW78JWhq0PF8TGItiPVwN9sLb9aGCnvj7gVSu1H2HcHMH0jxbB1vp8RsHDPfKddv5BBrzlBKcY_Wdc3hWGsmuTvCe4tYpd_Z6OQiOaxJLVOOaDTQEapieIWhNVoKCRGEO0qb7bT50gyKPLJ3wnPM-uB4tkovL0k-7Du4NZbyPNCumr6Zexvaqvbi1RY9oFunMLRgYNSxszbh6PefHVUlONsY2wuZUUO37wuVaMqXMJVL49N3pj6NYJ5YoTCKNWipWt8OnMbCbVXdoPZz61ungZSFL6FRrV4kyZNKdYZBADmthif5OFWIdkv8LGSEMCJVmbs=w1066-h1420-no?authuser=2) | |\n",
    "\n",
    "### The Hoxton Hotel\n",
    "\n",
    "| ![](https://lh3.googleusercontent.com/FPz5kIfy0kNGgHA5N2-Hn3WllvLqMqrVQSqvdYJa60rmYlJc7deK9ynbk8V-0pM85otHT8nszVJFPju7Ilvfgr1I3Ug5SXRVN7cRypxnSaLVqjCf5e5ljugDZAR3ozb0mGlmX12pW2Bnpud7gmqWZs-ODudDwfXUVt65xGeGO_Q-QnDV9e_1_gOrIvLGqGT72XqYOxdIgNDsxA3aOyZplqtUd6sOV6k4twXl7102QDOmygWqI_W9E4cwXQbJ8SeTecXM5sqXa5ffE1EHqUqSXU557qUwhf_yQXNdi6gIvHuNLpGcds_r8ks6zoagNERXaVPq49RIe6c1gjBAWRZ639YgSuzt6UYrW3TjSUcbc6O0DQGFc3eHmmKVY349dkq1MrNmpeXgRR1BjUTvGr9pjQpj4ba2Hl3q8cEu8Pos-96m6ZmvKEeAst3wVIk_sLkhPMM9zcbRi-Xk8g7wn6nZSgnn9iQGELGDSMX266QfMlr_Xoiev6N37zdvPi4mgWbwXhUmBbZYpfIQ93BxmW5GCNDqnN1l_ifYwX5LRRsXIPWzfmCzC-Ne2RNs07Dt9-H_QiPyBw_2Jg7bNFbe7dxLfwUI4ymaccvlZNe9hjkbXyrAUY50MbjMBq8pFodGvDXw-nEOzjfItEQ44ZWDtrAGkTV4aRnCQxgKUJkFCBULr_tYg49AadrKwooO37bsERTfJZoRjBXWiiJrW1i54XSea60=w1066-h1420-no?authuser=2) | ![](https://lh3.googleusercontent.com/8zJtzEVEzctVwWJDUR_5G3GXdSHnE8KaRNOrsSn9c92MzwCv503KbRHJJo2q_w5r9HOjdWZ5CcMGBTOIytfJnEPRtu5P7x5GEr_FnYFhqx0YTiHrjCcJwomrqt_u3ewYGTcpl8pHaatXzrdL8WhZ3TkW1kqVHiNHp9iSB8t-q-KFr_wmn2uwDW71XN4JjSdK0-2pxeXBkzJwzJe4PS9Xdlp9gM5b7GRGE7f4vUESV0_Wv8Mgt9JagzxY_wCQdfmQIxMaf1W460i4yeDkEeK9D5iAlqELATPLVzQUWyPc_VZIfcDcwqWbDCgS4aOAgiHW0vd3MAviXNkTwFwBacgUYFaKZGjWb8EAVMSEV_lZd_LAyLfFqscuOxN0w3tc3h-F5kl1Ihi0hGWIRFrKBSV9wOzME8n9u_qO3VfraMK4DWWRpMTx0xWNhaPIoyKiOfkyD8iiQlkO31rkGMcYytAPS7B9n7yb1wIzmD32tz6AfBCjVVl-CDL2tnPohMTcNZj-vGWRVDso-6DxGP3focqcWyJgSmHSIQU34ygfa5kpd_j_unf72xon_Cs0xXSVx1wcV6wMcp4llIm5MoqcCewVb2BJWymRNrfxJ2YaEknp89K5cMZl6aCxQEb3wgX8jc-o9lCFnBg07g2asKvP4JqcUSSXdVLkgc3iT2XDXiAgr5V5sXRVjB0QEa4Mj3K5cGc7rk0pwlF3VG7ZDyFCekGD5lQ=w1392-h1044-no?authuser=2) |\n",
    "| --- | --- |"
   ]
  },
  {
   "cell_type": "markdown",
   "metadata": {},
   "source": []
  }
 ],
 "metadata": {
  "language_info": {
   "name": "python"
  },
  "orig_nbformat": 4
 },
 "nbformat": 4,
 "nbformat_minor": 2
}
