{
 "cells": [
  {
   "cell_type": "markdown",
   "metadata": {},
   "source": [
    "# 🚂⛰️ **IRL Ticket to Ride**: `Portland`\n",
    "### _December 12th - 13th_"
   ]
  },
  {
   "cell_type": "markdown",
   "metadata": {},
   "source": [
    "### Import libraries\n",
    "\n",
    "To visualize the data and the route maps, we'll be using `micropip` with Pyodide, which brings the Python 3.9 runtime and the entire Python scientific data science stack to WebAssembly; as well as several other data analysis and geographic visualization libraries:\n",
    "\n",
    "* [Folium](http://python-visualization.github.io/folium/): visualizes Python data on a `leaflet.js` map.\n",
    "* [Plotly](https://github.com/plotly/plotly.py): interactive graphing library for Python.\n",
    "* [Pandas](https://pandas.pydata.org/): open-source data analysis and manipulation tool, included out of the box with Pyodide.\n",
    "\n",
    "To launch this notebook using `github.dev`, simply press `.` on your computer keyboard, or swap `github.com` in your browser's URL to `github.dev`. Dependent on the speed of your internet connection, running the cell below should take somewhere between 20-45 seconds."
   ]
  },
  {
   "cell_type": "code",
   "execution_count": null,
   "metadata": {},
   "outputs": [],
   "source": [
    "import pyodide\n",
    "import micropip\n",
    "\n",
    "await micropip.install('plotly')\n",
    "await micropip.install('folium')\n",
    "\n",
    "import plotly.graph_objects as go\n",
    "import pandas as pd\n",
    "import folium"
   ]
  },
  {
   "cell_type": "markdown",
   "metadata": {},
   "source": [
    "### Import the data\n",
    "\n",
    "First we'll ingest the data describing train stops. The features included in this data set are straightforward: `Latitude` and `Longitude` for each of the stations, as well as `Location` and `Time` and `Date` of when I'll be passing through."
   ]
  },
  {
   "cell_type": "code",
   "execution_count": null,
   "metadata": {},
   "outputs": [],
   "source": [
    "df = pd.read_csv(pyodide.open_url('https://raw.githubusercontent.com/dynamicwebpaige/IRL-ticket-to-ride/main/data/train-stations.csv'))\n",
    "stops = pd.read_csv(pyodide.open_url('https://raw.githubusercontent.com/dynamicwebpaige/IRL-ticket-to-ride/main/data/trip-stops.csv'))"
   ]
  },
  {
   "cell_type": "code",
   "execution_count": 19,
   "metadata": {},
   "outputs": [
    {
     "data": {
      "text/html": [
       "<div>\n",
       "<style scoped>\n",
       "    .dataframe tbody tr th:only-of-type {\n",
       "        vertical-align: middle;\n",
       "    }\n",
       "\n",
       "    .dataframe tbody tr th {\n",
       "        vertical-align: top;\n",
       "    }\n",
       "\n",
       "    .dataframe thead th {\n",
       "        text-align: right;\n",
       "    }\n",
       "</style>\n",
       "<table border=\"1\" class=\"dataframe\">\n",
       "  <thead>\n",
       "    <tr style=\"text-align: right;\">\n",
       "      <th></th>\n",
       "      <th>Time</th>\n",
       "      <th>Date</th>\n",
       "      <th>Location</th>\n",
       "    </tr>\n",
       "  </thead>\n",
       "  <tbody>\n",
       "    <tr>\n",
       "      <th>0</th>\n",
       "      <td>7:22</td>\n",
       "      <td>December 12, 2021</td>\n",
       "      <td>Seattle, WA</td>\n",
       "    </tr>\n",
       "    <tr>\n",
       "      <th>1</th>\n",
       "      <td>7:34</td>\n",
       "      <td>December 12, 2021</td>\n",
       "      <td>Tukwila, WA</td>\n",
       "    </tr>\n",
       "    <tr>\n",
       "      <th>2</th>\n",
       "      <td>8:05</td>\n",
       "      <td>December 12, 2021</td>\n",
       "      <td>Tacoma, WA</td>\n",
       "    </tr>\n",
       "    <tr>\n",
       "      <th>3</th>\n",
       "      <td>8:38</td>\n",
       "      <td>December 12, 2021</td>\n",
       "      <td>Olympia-Lacey, WA</td>\n",
       "    </tr>\n",
       "    <tr>\n",
       "      <th>4</th>\n",
       "      <td>8:58</td>\n",
       "      <td>December 12, 2021</td>\n",
       "      <td>Centralia, WA</td>\n",
       "    </tr>\n",
       "    <tr>\n",
       "      <th>5</th>\n",
       "      <td>9:38</td>\n",
       "      <td>December 12, 2021</td>\n",
       "      <td>Kelso-Longview, WA</td>\n",
       "    </tr>\n",
       "    <tr>\n",
       "      <th>6</th>\n",
       "      <td>10:19</td>\n",
       "      <td>December 12, 2021</td>\n",
       "      <td>Vancouver, WA</td>\n",
       "    </tr>\n",
       "    <tr>\n",
       "      <th>7</th>\n",
       "      <td>10:47</td>\n",
       "      <td>December 12, 2021</td>\n",
       "      <td>Portland, OR</td>\n",
       "    </tr>\n",
       "  </tbody>\n",
       "</table>\n",
       "</div>"
      ],
      "text/plain": [
       "    Time               Date            Location\n",
       "0   7:22  December 12, 2021         Seattle, WA\n",
       "1   7:34  December 12, 2021         Tukwila, WA\n",
       "2   8:05  December 12, 2021          Tacoma, WA\n",
       "3   8:38  December 12, 2021   Olympia-Lacey, WA\n",
       "4   8:58  December 12, 2021       Centralia, WA\n",
       "5   9:38  December 12, 2021  Kelso-Longview, WA\n",
       "6  10:19  December 12, 2021       Vancouver, WA\n",
       "7  10:47  December 12, 2021        Portland, OR"
      ]
     },
     "execution_count": 19,
     "metadata": {},
     "output_type": "execute_result"
    }
   ],
   "source": [
    "# Segment out the Portland stops.\n",
    "Portland = df.iloc[0:8]\n",
    "Portland[['Time','Date','Location']]"
   ]
  },
  {
   "cell_type": "markdown",
   "metadata": {},
   "source": [
    "### Seattle to Portland: the trip down\n",
    "\n",
    "![](https://upload.wikimedia.org/wikipedia/commons/2/22/AmtrakCascadesEdmonds.jpg)\n",
    "\n",
    "_Beautiful!_ \n",
    "\n",
    "The train that I'll be riding through these cities is called the [Amtrak Cascades](https://en.wikipedia.org/wiki/Amtrak_Cascades). Add some more details about the train, and about its history. If it has had any appearances in films or literature, list them here."
   ]
  },
  {
   "cell_type": "code",
   "execution_count": 6,
   "metadata": {},
   "outputs": [
    {
     "data": {
      "text/html": [
       "<div style=\"width:100%;\"><div style=\"position:relative;width:100%;height:0;padding-bottom:60%;\"><span style=\"color:#565656\">Make this Notebook Trusted to load map: File -> Trust Notebook</span><iframe src=\"about:blank\" style=\"position:absolute;width:100%;height:100%;left:0;top:0;border:none !important;\" data-html=%3C%21DOCTYPE%20html%3E%0A%3Chead%3E%20%20%20%20%0A%20%20%20%20%3Cmeta%20http-equiv%3D%22content-type%22%20content%3D%22text/html%3B%20charset%3DUTF-8%22%20/%3E%0A%20%20%20%20%0A%20%20%20%20%20%20%20%20%3Cscript%3E%0A%20%20%20%20%20%20%20%20%20%20%20%20L_NO_TOUCH%20%3D%20false%3B%0A%20%20%20%20%20%20%20%20%20%20%20%20L_DISABLE_3D%20%3D%20false%3B%0A%20%20%20%20%20%20%20%20%3C/script%3E%0A%20%20%20%20%0A%20%20%20%20%3Cstyle%3Ehtml%2C%20body%20%7Bwidth%3A%20100%25%3Bheight%3A%20100%25%3Bmargin%3A%200%3Bpadding%3A%200%3B%7D%3C/style%3E%0A%20%20%20%20%3Cstyle%3E%23map%20%7Bposition%3Aabsolute%3Btop%3A0%3Bbottom%3A0%3Bright%3A0%3Bleft%3A0%3B%7D%3C/style%3E%0A%20%20%20%20%3Cscript%20src%3D%22https%3A//cdn.jsdelivr.net/npm/leaflet%401.6.0/dist/leaflet.js%22%3E%3C/script%3E%0A%20%20%20%20%3Cscript%20src%3D%22https%3A//code.jquery.com/jquery-1.12.4.min.js%22%3E%3C/script%3E%0A%20%20%20%20%3Cscript%20src%3D%22https%3A//maxcdn.bootstrapcdn.com/bootstrap/3.2.0/js/bootstrap.min.js%22%3E%3C/script%3E%0A%20%20%20%20%3Cscript%20src%3D%22https%3A//cdnjs.cloudflare.com/ajax/libs/Leaflet.awesome-markers/2.0.2/leaflet.awesome-markers.js%22%3E%3C/script%3E%0A%20%20%20%20%3Clink%20rel%3D%22stylesheet%22%20href%3D%22https%3A//cdn.jsdelivr.net/npm/leaflet%401.6.0/dist/leaflet.css%22/%3E%0A%20%20%20%20%3Clink%20rel%3D%22stylesheet%22%20href%3D%22https%3A//maxcdn.bootstrapcdn.com/bootstrap/3.2.0/css/bootstrap.min.css%22/%3E%0A%20%20%20%20%3Clink%20rel%3D%22stylesheet%22%20href%3D%22https%3A//maxcdn.bootstrapcdn.com/bootstrap/3.2.0/css/bootstrap-theme.min.css%22/%3E%0A%20%20%20%20%3Clink%20rel%3D%22stylesheet%22%20href%3D%22https%3A//maxcdn.bootstrapcdn.com/font-awesome/4.6.3/css/font-awesome.min.css%22/%3E%0A%20%20%20%20%3Clink%20rel%3D%22stylesheet%22%20href%3D%22https%3A//cdnjs.cloudflare.com/ajax/libs/Leaflet.awesome-markers/2.0.2/leaflet.awesome-markers.css%22/%3E%0A%20%20%20%20%3Clink%20rel%3D%22stylesheet%22%20href%3D%22https%3A//cdn.jsdelivr.net/gh/python-visualization/folium/folium/templates/leaflet.awesome.rotate.min.css%22/%3E%0A%20%20%20%20%0A%20%20%20%20%20%20%20%20%20%20%20%20%3Cmeta%20name%3D%22viewport%22%20content%3D%22width%3Ddevice-width%2C%0A%20%20%20%20%20%20%20%20%20%20%20%20%20%20%20%20initial-scale%3D1.0%2C%20maximum-scale%3D1.0%2C%20user-scalable%3Dno%22%20/%3E%0A%20%20%20%20%20%20%20%20%20%20%20%20%3Cstyle%3E%0A%20%20%20%20%20%20%20%20%20%20%20%20%20%20%20%20%23map_c17b23ac791d4faa8a55077e846e0ded%20%7B%0A%20%20%20%20%20%20%20%20%20%20%20%20%20%20%20%20%20%20%20%20position%3A%20relative%3B%0A%20%20%20%20%20%20%20%20%20%20%20%20%20%20%20%20%20%20%20%20width%3A%20100.0%25%3B%0A%20%20%20%20%20%20%20%20%20%20%20%20%20%20%20%20%20%20%20%20height%3A%20100.0%25%3B%0A%20%20%20%20%20%20%20%20%20%20%20%20%20%20%20%20%20%20%20%20left%3A%200.0%25%3B%0A%20%20%20%20%20%20%20%20%20%20%20%20%20%20%20%20%20%20%20%20top%3A%200.0%25%3B%0A%20%20%20%20%20%20%20%20%20%20%20%20%20%20%20%20%7D%0A%20%20%20%20%20%20%20%20%20%20%20%20%3C/style%3E%0A%20%20%20%20%20%20%20%20%0A%3C/head%3E%0A%3Cbody%3E%20%20%20%20%0A%20%20%20%20%0A%20%20%20%20%20%20%20%20%20%20%20%20%3Cdiv%20class%3D%22folium-map%22%20id%3D%22map_c17b23ac791d4faa8a55077e846e0ded%22%20%3E%3C/div%3E%0A%20%20%20%20%20%20%20%20%0A%3C/body%3E%0A%3Cscript%3E%20%20%20%20%0A%20%20%20%20%0A%20%20%20%20%20%20%20%20%20%20%20%20var%20map_c17b23ac791d4faa8a55077e846e0ded%20%3D%20L.map%28%0A%20%20%20%20%20%20%20%20%20%20%20%20%20%20%20%20%22map_c17b23ac791d4faa8a55077e846e0ded%22%2C%0A%20%20%20%20%20%20%20%20%20%20%20%20%20%20%20%20%7B%0A%20%20%20%20%20%20%20%20%20%20%20%20%20%20%20%20%20%20%20%20center%3A%20%5B0%2C%200%5D%2C%0A%20%20%20%20%20%20%20%20%20%20%20%20%20%20%20%20%20%20%20%20crs%3A%20L.CRS.EPSG3857%2C%0A%20%20%20%20%20%20%20%20%20%20%20%20%20%20%20%20%20%20%20%20zoom%3A%201%2C%0A%20%20%20%20%20%20%20%20%20%20%20%20%20%20%20%20%20%20%20%20zoomControl%3A%20true%2C%0A%20%20%20%20%20%20%20%20%20%20%20%20%20%20%20%20%20%20%20%20preferCanvas%3A%20false%2C%0A%20%20%20%20%20%20%20%20%20%20%20%20%20%20%20%20%7D%0A%20%20%20%20%20%20%20%20%20%20%20%20%29%3B%0A%0A%20%20%20%20%20%20%20%20%20%20%20%20%0A%0A%20%20%20%20%20%20%20%20%0A%20%20%20%20%0A%20%20%20%20%20%20%20%20%20%20%20%20var%20tile_layer_0665b4b53b3e4208816227ef04209265%20%3D%20L.tileLayer%28%0A%20%20%20%20%20%20%20%20%20%20%20%20%20%20%20%20%22https%3A//stamen-tiles-%7Bs%7D.a.ssl.fastly.net/terrain/%7Bz%7D/%7Bx%7D/%7By%7D.jpg%22%2C%0A%20%20%20%20%20%20%20%20%20%20%20%20%20%20%20%20%7B%22attribution%22%3A%20%22Map%20tiles%20by%20%5Cu003ca%20href%3D%5C%22http%3A//stamen.com%5C%22%5Cu003eStamen%20Design%5Cu003c/a%5Cu003e%2C%20under%20%5Cu003ca%20href%3D%5C%22http%3A//creativecommons.org/licenses/by/3.0%5C%22%5Cu003eCC%20BY%203.0%5Cu003c/a%5Cu003e.%20Data%20by%20%5Cu0026copy%3B%20%5Cu003ca%20href%3D%5C%22http%3A//openstreetmap.org%5C%22%5Cu003eOpenStreetMap%5Cu003c/a%5Cu003e%2C%20under%20%5Cu003ca%20href%3D%5C%22http%3A//creativecommons.org/licenses/by-sa/3.0%5C%22%5Cu003eCC%20BY%20SA%5Cu003c/a%5Cu003e.%22%2C%20%22detectRetina%22%3A%20false%2C%20%22maxNativeZoom%22%3A%2018%2C%20%22maxZoom%22%3A%2018%2C%20%22minZoom%22%3A%200%2C%20%22noWrap%22%3A%20false%2C%20%22opacity%22%3A%201%2C%20%22subdomains%22%3A%20%22abc%22%2C%20%22tms%22%3A%20false%7D%0A%20%20%20%20%20%20%20%20%20%20%20%20%29.addTo%28map_c17b23ac791d4faa8a55077e846e0ded%29%3B%0A%20%20%20%20%20%20%20%20%0A%20%20%20%20%0A%20%20%20%20%20%20%20%20%20%20%20%20var%20marker_a3d2c6c086df442a97397232bdb12f4e%20%3D%20L.marker%28%0A%20%20%20%20%20%20%20%20%20%20%20%20%20%20%20%20%5B47.61362861%2C%20-122.3530159%5D%2C%0A%20%20%20%20%20%20%20%20%20%20%20%20%20%20%20%20%7B%7D%0A%20%20%20%20%20%20%20%20%20%20%20%20%29.addTo%28map_c17b23ac791d4faa8a55077e846e0ded%29%3B%0A%20%20%20%20%20%20%20%20%0A%20%20%20%20%0A%20%20%20%20%20%20%20%20%20%20%20%20var%20icon_084eb75658d346fd8a679bdd4d38ab7e%20%3D%20L.AwesomeMarkers.icon%28%0A%20%20%20%20%20%20%20%20%20%20%20%20%20%20%20%20%7B%22extraClasses%22%3A%20%22fa-rotate-0%22%2C%20%22icon%22%3A%20%22train%22%2C%20%22iconColor%22%3A%20%22white%22%2C%20%22markerColor%22%3A%20%22orange%22%2C%20%22prefix%22%3A%20%22fa%22%7D%0A%20%20%20%20%20%20%20%20%20%20%20%20%29%3B%0A%20%20%20%20%20%20%20%20%20%20%20%20marker_a3d2c6c086df442a97397232bdb12f4e.setIcon%28icon_084eb75658d346fd8a679bdd4d38ab7e%29%3B%0A%20%20%20%20%20%20%20%20%0A%20%20%20%20%0A%20%20%20%20%20%20%20%20var%20popup_12e3d0d09e5643b3b205d946b8726df3%20%3D%20L.popup%28%7B%22maxWidth%22%3A%20%22100%25%22%7D%29%3B%0A%0A%20%20%20%20%20%20%20%20%0A%20%20%20%20%20%20%20%20%20%20%20%20var%20html_c1aef1c8529b42d0b29b0950d7f6d750%20%3D%20%24%28%60%3Cdiv%20id%3D%22html_c1aef1c8529b42d0b29b0950d7f6d750%22%20style%3D%22width%3A%20100.0%25%3B%20height%3A%20100.0%25%3B%22%3E%3Cb%3ESeattle%2C%20WA%3C/b%3E%3Cbr%3E%3Cbr%3EDecember%2012%2C%202021%3Cbr%3E%3Cbr%3E7%3A22%3C/div%3E%60%29%5B0%5D%3B%0A%20%20%20%20%20%20%20%20%20%20%20%20popup_12e3d0d09e5643b3b205d946b8726df3.setContent%28html_c1aef1c8529b42d0b29b0950d7f6d750%29%3B%0A%20%20%20%20%20%20%20%20%0A%0A%20%20%20%20%20%20%20%20marker_a3d2c6c086df442a97397232bdb12f4e.bindPopup%28popup_12e3d0d09e5643b3b205d946b8726df3%29%0A%20%20%20%20%20%20%20%20%3B%0A%0A%20%20%20%20%20%20%20%20%0A%20%20%20%20%0A%20%20%20%20%0A%20%20%20%20%20%20%20%20%20%20%20%20var%20marker_1dcf0e760cb94cb28bb2e5c42a24cdef%20%3D%20L.marker%28%0A%20%20%20%20%20%20%20%20%20%20%20%20%20%20%20%20%5B47.46108662%2C%20-122.24026880000001%5D%2C%0A%20%20%20%20%20%20%20%20%20%20%20%20%20%20%20%20%7B%7D%0A%20%20%20%20%20%20%20%20%20%20%20%20%29.addTo%28map_c17b23ac791d4faa8a55077e846e0ded%29%3B%0A%20%20%20%20%20%20%20%20%0A%20%20%20%20%0A%20%20%20%20%20%20%20%20%20%20%20%20var%20icon_72cb68d711764406ba3cddf21e9b19b0%20%3D%20L.AwesomeMarkers.icon%28%0A%20%20%20%20%20%20%20%20%20%20%20%20%20%20%20%20%7B%22extraClasses%22%3A%20%22fa-rotate-0%22%2C%20%22icon%22%3A%20%22train%22%2C%20%22iconColor%22%3A%20%22white%22%2C%20%22markerColor%22%3A%20%22orange%22%2C%20%22prefix%22%3A%20%22fa%22%7D%0A%20%20%20%20%20%20%20%20%20%20%20%20%29%3B%0A%20%20%20%20%20%20%20%20%20%20%20%20marker_1dcf0e760cb94cb28bb2e5c42a24cdef.setIcon%28icon_72cb68d711764406ba3cddf21e9b19b0%29%3B%0A%20%20%20%20%20%20%20%20%0A%20%20%20%20%0A%20%20%20%20%20%20%20%20var%20popup_5a7ac651689445abb8000dea2ec9b533%20%3D%20L.popup%28%7B%22maxWidth%22%3A%20%22100%25%22%7D%29%3B%0A%0A%20%20%20%20%20%20%20%20%0A%20%20%20%20%20%20%20%20%20%20%20%20var%20html_898ab352fe3a4f9ca5b0125d1f2eaaad%20%3D%20%24%28%60%3Cdiv%20id%3D%22html_898ab352fe3a4f9ca5b0125d1f2eaaad%22%20style%3D%22width%3A%20100.0%25%3B%20height%3A%20100.0%25%3B%22%3E%3Cb%3ETukwila%2C%20WA%3C/b%3E%3Cbr%3E%3Cbr%3EDecember%2012%2C%202021%3Cbr%3E%3Cbr%3E7%3A34%3C/div%3E%60%29%5B0%5D%3B%0A%20%20%20%20%20%20%20%20%20%20%20%20popup_5a7ac651689445abb8000dea2ec9b533.setContent%28html_898ab352fe3a4f9ca5b0125d1f2eaaad%29%3B%0A%20%20%20%20%20%20%20%20%0A%0A%20%20%20%20%20%20%20%20marker_1dcf0e760cb94cb28bb2e5c42a24cdef.bindPopup%28popup_5a7ac651689445abb8000dea2ec9b533%29%0A%20%20%20%20%20%20%20%20%3B%0A%0A%20%20%20%20%20%20%20%20%0A%20%20%20%20%0A%20%20%20%20%0A%20%20%20%20%20%20%20%20%20%20%20%20var%20marker_72e6641fba244b63a21d5a0a0371cfe7%20%3D%20L.marker%28%0A%20%20%20%20%20%20%20%20%20%20%20%20%20%20%20%20%5B47.24189459%2C%20-122.42051880000001%5D%2C%0A%20%20%20%20%20%20%20%20%20%20%20%20%20%20%20%20%7B%7D%0A%20%20%20%20%20%20%20%20%20%20%20%20%29.addTo%28map_c17b23ac791d4faa8a55077e846e0ded%29%3B%0A%20%20%20%20%20%20%20%20%0A%20%20%20%20%0A%20%20%20%20%20%20%20%20%20%20%20%20var%20icon_3f1d142024854787bf79ceddf561e395%20%3D%20L.AwesomeMarkers.icon%28%0A%20%20%20%20%20%20%20%20%20%20%20%20%20%20%20%20%7B%22extraClasses%22%3A%20%22fa-rotate-0%22%2C%20%22icon%22%3A%20%22train%22%2C%20%22iconColor%22%3A%20%22white%22%2C%20%22markerColor%22%3A%20%22orange%22%2C%20%22prefix%22%3A%20%22fa%22%7D%0A%20%20%20%20%20%20%20%20%20%20%20%20%29%3B%0A%20%20%20%20%20%20%20%20%20%20%20%20marker_72e6641fba244b63a21d5a0a0371cfe7.setIcon%28icon_3f1d142024854787bf79ceddf561e395%29%3B%0A%20%20%20%20%20%20%20%20%0A%20%20%20%20%0A%20%20%20%20%20%20%20%20var%20popup_ffe310e6a62f442fa73e0e56d7de9023%20%3D%20L.popup%28%7B%22maxWidth%22%3A%20%22100%25%22%7D%29%3B%0A%0A%20%20%20%20%20%20%20%20%0A%20%20%20%20%20%20%20%20%20%20%20%20var%20html_512cefcbaea245a1a11ef40e188fb320%20%3D%20%24%28%60%3Cdiv%20id%3D%22html_512cefcbaea245a1a11ef40e188fb320%22%20style%3D%22width%3A%20100.0%25%3B%20height%3A%20100.0%25%3B%22%3E%3Cb%3ETacoma%2C%20WA%3C/b%3E%3Cbr%3E%3Cbr%3EDecember%2012%2C%202021%3Cbr%3E%3Cbr%3E8%3A05%3C/div%3E%60%29%5B0%5D%3B%0A%20%20%20%20%20%20%20%20%20%20%20%20popup_ffe310e6a62f442fa73e0e56d7de9023.setContent%28html_512cefcbaea245a1a11ef40e188fb320%29%3B%0A%20%20%20%20%20%20%20%20%0A%0A%20%20%20%20%20%20%20%20marker_72e6641fba244b63a21d5a0a0371cfe7.bindPopup%28popup_ffe310e6a62f442fa73e0e56d7de9023%29%0A%20%20%20%20%20%20%20%20%3B%0A%0A%20%20%20%20%20%20%20%20%0A%20%20%20%20%0A%20%20%20%20%0A%20%20%20%20%20%20%20%20%20%20%20%20var%20marker_36934b8ba9a447b8bd813e2090493d1d%20%3D%20L.marker%28%0A%20%20%20%20%20%20%20%20%20%20%20%20%20%20%20%20%5B46.99127853%2C%20-122.79407379999999%5D%2C%0A%20%20%20%20%20%20%20%20%20%20%20%20%20%20%20%20%7B%7D%0A%20%20%20%20%20%20%20%20%20%20%20%20%29.addTo%28map_c17b23ac791d4faa8a55077e846e0ded%29%3B%0A%20%20%20%20%20%20%20%20%0A%20%20%20%20%0A%20%20%20%20%20%20%20%20%20%20%20%20var%20icon_81e87aa86ed5433882de4b3e8580a24d%20%3D%20L.AwesomeMarkers.icon%28%0A%20%20%20%20%20%20%20%20%20%20%20%20%20%20%20%20%7B%22extraClasses%22%3A%20%22fa-rotate-0%22%2C%20%22icon%22%3A%20%22train%22%2C%20%22iconColor%22%3A%20%22white%22%2C%20%22markerColor%22%3A%20%22orange%22%2C%20%22prefix%22%3A%20%22fa%22%7D%0A%20%20%20%20%20%20%20%20%20%20%20%20%29%3B%0A%20%20%20%20%20%20%20%20%20%20%20%20marker_36934b8ba9a447b8bd813e2090493d1d.setIcon%28icon_81e87aa86ed5433882de4b3e8580a24d%29%3B%0A%20%20%20%20%20%20%20%20%0A%20%20%20%20%0A%20%20%20%20%20%20%20%20var%20popup_bbc02a1121c549a091bfa128738fea92%20%3D%20L.popup%28%7B%22maxWidth%22%3A%20%22100%25%22%7D%29%3B%0A%0A%20%20%20%20%20%20%20%20%0A%20%20%20%20%20%20%20%20%20%20%20%20var%20html_4829ee818b9549f881a363dab431af20%20%3D%20%24%28%60%3Cdiv%20id%3D%22html_4829ee818b9549f881a363dab431af20%22%20style%3D%22width%3A%20100.0%25%3B%20height%3A%20100.0%25%3B%22%3E%3Cb%3EOlympia-Lacey%2C%20WA%3C/b%3E%3Cbr%3E%3Cbr%3EDecember%2012%2C%202021%3Cbr%3E%3Cbr%3E8%3A38%3C/div%3E%60%29%5B0%5D%3B%0A%20%20%20%20%20%20%20%20%20%20%20%20popup_bbc02a1121c549a091bfa128738fea92.setContent%28html_4829ee818b9549f881a363dab431af20%29%3B%0A%20%20%20%20%20%20%20%20%0A%0A%20%20%20%20%20%20%20%20marker_36934b8ba9a447b8bd813e2090493d1d.bindPopup%28popup_bbc02a1121c549a091bfa128738fea92%29%0A%20%20%20%20%20%20%20%20%3B%0A%0A%20%20%20%20%20%20%20%20%0A%20%20%20%20%0A%20%20%20%20%0A%20%20%20%20%20%20%20%20%20%20%20%20var%20marker_5eb4c17446084b5ea9cfaf44978c28aa%20%3D%20L.marker%28%0A%20%20%20%20%20%20%20%20%20%20%20%20%20%20%20%20%5B46.7174755%2C%20-122.95307679999999%5D%2C%0A%20%20%20%20%20%20%20%20%20%20%20%20%20%20%20%20%7B%7D%0A%20%20%20%20%20%20%20%20%20%20%20%20%29.addTo%28map_c17b23ac791d4faa8a55077e846e0ded%29%3B%0A%20%20%20%20%20%20%20%20%0A%20%20%20%20%0A%20%20%20%20%20%20%20%20%20%20%20%20var%20icon_835c9645102e4986b8ee23256f57531f%20%3D%20L.AwesomeMarkers.icon%28%0A%20%20%20%20%20%20%20%20%20%20%20%20%20%20%20%20%7B%22extraClasses%22%3A%20%22fa-rotate-0%22%2C%20%22icon%22%3A%20%22train%22%2C%20%22iconColor%22%3A%20%22white%22%2C%20%22markerColor%22%3A%20%22orange%22%2C%20%22prefix%22%3A%20%22fa%22%7D%0A%20%20%20%20%20%20%20%20%20%20%20%20%29%3B%0A%20%20%20%20%20%20%20%20%20%20%20%20marker_5eb4c17446084b5ea9cfaf44978c28aa.setIcon%28icon_835c9645102e4986b8ee23256f57531f%29%3B%0A%20%20%20%20%20%20%20%20%0A%20%20%20%20%0A%20%20%20%20%20%20%20%20var%20popup_03d156ca3ff9453d91a7522ab99dc415%20%3D%20L.popup%28%7B%22maxWidth%22%3A%20%22100%25%22%7D%29%3B%0A%0A%20%20%20%20%20%20%20%20%0A%20%20%20%20%20%20%20%20%20%20%20%20var%20html_497c281012344ee98fd0f3738ede9a75%20%3D%20%24%28%60%3Cdiv%20id%3D%22html_497c281012344ee98fd0f3738ede9a75%22%20style%3D%22width%3A%20100.0%25%3B%20height%3A%20100.0%25%3B%22%3E%3Cb%3ECentralia%2C%20WA%3C/b%3E%3Cbr%3E%3Cbr%3EDecember%2012%2C%202021%3Cbr%3E%3Cbr%3E8%3A58%3C/div%3E%60%29%5B0%5D%3B%0A%20%20%20%20%20%20%20%20%20%20%20%20popup_03d156ca3ff9453d91a7522ab99dc415.setContent%28html_497c281012344ee98fd0f3738ede9a75%29%3B%0A%20%20%20%20%20%20%20%20%0A%0A%20%20%20%20%20%20%20%20marker_5eb4c17446084b5ea9cfaf44978c28aa.bindPopup%28popup_03d156ca3ff9453d91a7522ab99dc415%29%0A%20%20%20%20%20%20%20%20%3B%0A%0A%20%20%20%20%20%20%20%20%0A%20%20%20%20%0A%20%20%20%20%0A%20%20%20%20%20%20%20%20%20%20%20%20var%20marker_606c0dadd5c94eef97a7c28f1b716251%20%3D%20L.marker%28%0A%20%20%20%20%20%20%20%20%20%20%20%20%20%20%20%20%5B46.14226948%2C%20-122.91303070000001%5D%2C%0A%20%20%20%20%20%20%20%20%20%20%20%20%20%20%20%20%7B%7D%0A%20%20%20%20%20%20%20%20%20%20%20%20%29.addTo%28map_c17b23ac791d4faa8a55077e846e0ded%29%3B%0A%20%20%20%20%20%20%20%20%0A%20%20%20%20%0A%20%20%20%20%20%20%20%20%20%20%20%20var%20icon_89a02ac92af44cec999273282d0c51c5%20%3D%20L.AwesomeMarkers.icon%28%0A%20%20%20%20%20%20%20%20%20%20%20%20%20%20%20%20%7B%22extraClasses%22%3A%20%22fa-rotate-0%22%2C%20%22icon%22%3A%20%22train%22%2C%20%22iconColor%22%3A%20%22white%22%2C%20%22markerColor%22%3A%20%22orange%22%2C%20%22prefix%22%3A%20%22fa%22%7D%0A%20%20%20%20%20%20%20%20%20%20%20%20%29%3B%0A%20%20%20%20%20%20%20%20%20%20%20%20marker_606c0dadd5c94eef97a7c28f1b716251.setIcon%28icon_89a02ac92af44cec999273282d0c51c5%29%3B%0A%20%20%20%20%20%20%20%20%0A%20%20%20%20%0A%20%20%20%20%20%20%20%20var%20popup_6e6d24b90d5741e9bd3e542692e8e1b4%20%3D%20L.popup%28%7B%22maxWidth%22%3A%20%22100%25%22%7D%29%3B%0A%0A%20%20%20%20%20%20%20%20%0A%20%20%20%20%20%20%20%20%20%20%20%20var%20html_08c9f582726c485e9b11147ecf595ad1%20%3D%20%24%28%60%3Cdiv%20id%3D%22html_08c9f582726c485e9b11147ecf595ad1%22%20style%3D%22width%3A%20100.0%25%3B%20height%3A%20100.0%25%3B%22%3E%3Cb%3EKelso-Longview%2C%20WA%3C/b%3E%3Cbr%3E%3Cbr%3EDecember%2012%2C%202021%3Cbr%3E%3Cbr%3E9%3A38%3C/div%3E%60%29%5B0%5D%3B%0A%20%20%20%20%20%20%20%20%20%20%20%20popup_6e6d24b90d5741e9bd3e542692e8e1b4.setContent%28html_08c9f582726c485e9b11147ecf595ad1%29%3B%0A%20%20%20%20%20%20%20%20%0A%0A%20%20%20%20%20%20%20%20marker_606c0dadd5c94eef97a7c28f1b716251.bindPopup%28popup_6e6d24b90d5741e9bd3e542692e8e1b4%29%0A%20%20%20%20%20%20%20%20%3B%0A%0A%20%20%20%20%20%20%20%20%0A%20%20%20%20%0A%20%20%20%20%0A%20%20%20%20%20%20%20%20%20%20%20%20var%20marker_f6a82680b82e4862bc68b92ffb61334f%20%3D%20L.marker%28%0A%20%20%20%20%20%20%20%20%20%20%20%20%20%20%20%20%5B45.62890647%2C%20-122.68655849999999%5D%2C%0A%20%20%20%20%20%20%20%20%20%20%20%20%20%20%20%20%7B%7D%0A%20%20%20%20%20%20%20%20%20%20%20%20%29.addTo%28map_c17b23ac791d4faa8a55077e846e0ded%29%3B%0A%20%20%20%20%20%20%20%20%0A%20%20%20%20%0A%20%20%20%20%20%20%20%20%20%20%20%20var%20icon_49388df2755c4156bcc2aed45b689ee3%20%3D%20L.AwesomeMarkers.icon%28%0A%20%20%20%20%20%20%20%20%20%20%20%20%20%20%20%20%7B%22extraClasses%22%3A%20%22fa-rotate-0%22%2C%20%22icon%22%3A%20%22train%22%2C%20%22iconColor%22%3A%20%22white%22%2C%20%22markerColor%22%3A%20%22orange%22%2C%20%22prefix%22%3A%20%22fa%22%7D%0A%20%20%20%20%20%20%20%20%20%20%20%20%29%3B%0A%20%20%20%20%20%20%20%20%20%20%20%20marker_f6a82680b82e4862bc68b92ffb61334f.setIcon%28icon_49388df2755c4156bcc2aed45b689ee3%29%3B%0A%20%20%20%20%20%20%20%20%0A%20%20%20%20%0A%20%20%20%20%20%20%20%20var%20popup_e0c91cd573b842969e89c06c79b01101%20%3D%20L.popup%28%7B%22maxWidth%22%3A%20%22100%25%22%7D%29%3B%0A%0A%20%20%20%20%20%20%20%20%0A%20%20%20%20%20%20%20%20%20%20%20%20var%20html_d4a27cca0668463986a1f4c7de114069%20%3D%20%24%28%60%3Cdiv%20id%3D%22html_d4a27cca0668463986a1f4c7de114069%22%20style%3D%22width%3A%20100.0%25%3B%20height%3A%20100.0%25%3B%22%3E%3Cb%3EVancouver%2C%20WA%3C/b%3E%3Cbr%3E%3Cbr%3EDecember%2012%2C%202021%3Cbr%3E%3Cbr%3E10%3A19%3C/div%3E%60%29%5B0%5D%3B%0A%20%20%20%20%20%20%20%20%20%20%20%20popup_e0c91cd573b842969e89c06c79b01101.setContent%28html_d4a27cca0668463986a1f4c7de114069%29%3B%0A%20%20%20%20%20%20%20%20%0A%0A%20%20%20%20%20%20%20%20marker_f6a82680b82e4862bc68b92ffb61334f.bindPopup%28popup_e0c91cd573b842969e89c06c79b01101%29%0A%20%20%20%20%20%20%20%20%3B%0A%0A%20%20%20%20%20%20%20%20%0A%20%20%20%20%0A%20%20%20%20%0A%20%20%20%20%20%20%20%20%20%20%20%20var%20marker_039aec6625574194b3289ac5bdf66b16%20%3D%20L.marker%28%0A%20%20%20%20%20%20%20%20%20%20%20%20%20%20%20%20%5B45.53051247%2C%20-122.6782215%5D%2C%0A%20%20%20%20%20%20%20%20%20%20%20%20%20%20%20%20%7B%7D%0A%20%20%20%20%20%20%20%20%20%20%20%20%29.addTo%28map_c17b23ac791d4faa8a55077e846e0ded%29%3B%0A%20%20%20%20%20%20%20%20%0A%20%20%20%20%0A%20%20%20%20%20%20%20%20%20%20%20%20var%20icon_46154798fd6a41e284b1b8917e969c2e%20%3D%20L.AwesomeMarkers.icon%28%0A%20%20%20%20%20%20%20%20%20%20%20%20%20%20%20%20%7B%22extraClasses%22%3A%20%22fa-rotate-0%22%2C%20%22icon%22%3A%20%22train%22%2C%20%22iconColor%22%3A%20%22white%22%2C%20%22markerColor%22%3A%20%22orange%22%2C%20%22prefix%22%3A%20%22fa%22%7D%0A%20%20%20%20%20%20%20%20%20%20%20%20%29%3B%0A%20%20%20%20%20%20%20%20%20%20%20%20marker_039aec6625574194b3289ac5bdf66b16.setIcon%28icon_46154798fd6a41e284b1b8917e969c2e%29%3B%0A%20%20%20%20%20%20%20%20%0A%20%20%20%20%0A%20%20%20%20%20%20%20%20var%20popup_6be0421346254557b10382166b012a52%20%3D%20L.popup%28%7B%22maxWidth%22%3A%20%22100%25%22%7D%29%3B%0A%0A%20%20%20%20%20%20%20%20%0A%20%20%20%20%20%20%20%20%20%20%20%20var%20html_d154b2b03738466e8f5c17ebd9f1f1b2%20%3D%20%24%28%60%3Cdiv%20id%3D%22html_d154b2b03738466e8f5c17ebd9f1f1b2%22%20style%3D%22width%3A%20100.0%25%3B%20height%3A%20100.0%25%3B%22%3E%3Cb%3EPortland%2C%20OR%3C/b%3E%3Cbr%3E%3Cbr%3EDecember%2012%2C%202021%3Cbr%3E%3Cbr%3E10%3A47%3C/div%3E%60%29%5B0%5D%3B%0A%20%20%20%20%20%20%20%20%20%20%20%20popup_6be0421346254557b10382166b012a52.setContent%28html_d154b2b03738466e8f5c17ebd9f1f1b2%29%3B%0A%20%20%20%20%20%20%20%20%0A%0A%20%20%20%20%20%20%20%20marker_039aec6625574194b3289ac5bdf66b16.bindPopup%28popup_6be0421346254557b10382166b012a52%29%0A%20%20%20%20%20%20%20%20%3B%0A%0A%20%20%20%20%20%20%20%20%0A%20%20%20%20%0A%20%20%20%20%0A%20%20%20%20%20%20%20%20%20%20%20%20map_c17b23ac791d4faa8a55077e846e0ded.fitBounds%28%0A%20%20%20%20%20%20%20%20%20%20%20%20%20%20%20%20%5B%5B45.53051247%2C%20-122.95307679999999%5D%2C%20%5B47.61362861%2C%20-122.24026880000001%5D%5D%2C%0A%20%20%20%20%20%20%20%20%20%20%20%20%20%20%20%20%7B%7D%0A%20%20%20%20%20%20%20%20%20%20%20%20%29%3B%0A%20%20%20%20%20%20%20%20%0A%3C/script%3E onload=\"this.contentDocument.open();this.contentDocument.write(    decodeURIComponent(this.getAttribute('data-html')));this.contentDocument.close();\" allowfullscreen webkitallowfullscreen mozallowfullscreen></iframe></div></div>"
      ],
      "text/plain": [
       "<folium.folium.Map at 0x5b7dc90>"
      ]
     },
     "execution_count": 6,
     "metadata": {},
     "output_type": "execute_result"
    }
   ],
   "source": [
    "m = folium.Map(tiles=\"Stamen Terrain\")\n",
    "\n",
    "for i in range(0, 8, 1):\n",
    "   folium.Marker(\n",
    "      location=[df['Longitude'][i], df['Latitude'][i]], \n",
    "      popup=\"<b>\" + df['Location'][i] + \"</b>\" + \"<br><br>\" + df['Date'][i] + \"<br><br>\" + df['Time'][i], icon=folium.Icon(color='orange', icon='train', prefix='fa')).add_to(m)\n",
    "\n",
    "# Show the map again\n",
    "m.fit_bounds(m.get_bounds())\n",
    "m"
   ]
  },
  {
   "cell_type": "markdown",
   "metadata": {},
   "source": [
    "#### Amtrak Stations\n",
    "\n",
    "| City | Picture | Description |\n",
    "| --- | --- | --- |\n",
    "| [Seattle, WA](https://en.wikipedia.org/wiki/King_Street_Station) | ![](https://upload.wikimedia.org/wikipedia/commons/8/80/King_Street_Station_%28Seattle%29_2005_05_23.jpg) | The train left bright and early on Sunday morning, from Seattle's very own King Street Station. <br> <br> I took the light rail to the Pioneer Street Station stop, and spent a few hours waiting for the train and reading up on the station's history. <br> <br> The tower that you see in the image to the left is 242ft (74m) tall, and -- at the time of construction -- was the tallest building in Seattle. It was modeled after a tower in Venice, Italy called [St. Mark's Campanile](https://en.wikipedia.org/wiki/St_Mark%27s_Campanile), which had recently collapsed. |\n",
    "| [Tukwila, WA](https://en.wikipedia.org/wiki/Tukwila_station) | ![](https://assets.simpleviewinc.com/simpleview/image/fetch/c_fill,g_auto,h_750,q_50,w_1920/https://assets.simpleviewinc.com/simpleview/image/upload/crm/seattlesouthside/Found_102218784_8814850-a84b8f7beabb3bd_a84b907c-e2c1-afa5-4809db5ff118d917.jpg) | Beautiful station, with a piece of public art called [_Imaginary Landscape_](https://www.sheilaklein.com/projects/imaginary-landscape/imaginary-landscape.html) by Sheila Klein immediately outside it. The piece consists of planted red-twig dogwood shrubs, painted steel panels, and a steel \"crown\" atop the building. <br> <br> The station also has bike lockers! I wonder if there are any interesting trails nearby, or if people bike down from Seattle? |\n",
    "| [Tacoma, WA](https://en.wikipedia.org/wiki/Tacoma_Dome_Station) | ![](https://upload.wikimedia.org/wikipedia/commons/thumb/4/46/Tacoma_Dome_Station_-_Sounder_and_Amtrak_-_December_2017.jpg/1920px-Tacoma_Dome_Station_-_Sounder_and_Amtrak_-_December_2017.jpg) | The Tacoma Dome is the largest wood-domed arena in the world, contructed with 1.6 million board feet (and it sure is distinctive when viewed from the train). <br> <br> Tacoma's Union Station was designed by Reed & Stern, the same architects who designed Grand Central Terminal in New York City. Tacoma also features an urban park that is a whopping 700 acres: the second largest in the US, after Central Park. |\n",
    "| [Olympia-Lacey, WA](https://en.wikipedia.org/wiki/Centennial_Station) | ![](https://upload.wikimedia.org/wikipedia/commons/thumb/9/98/Olympia_station.jpg/1920px-Olympia_station.jpg) | Capital city of Washington, and actually quite lovely. This was also the birthplace of Nirvana; and is the hometown of one of my favorite musicians, Kimya Dawson. For some reason, I was expecting this place to feel more populated? |\n",
    "| [Centralia, WA](https://en.wikipedia.org/wiki/Centralia_station_(Washington)) | ![](https://upload.wikimedia.org/wikipedia/commons/e/eb/Centralia_Union_Depot.jpg) | According to the internet, _\"one of the worst places for Millennials to live in Washington\"_. So, given that ringing endorsement... <br> <br> The station was built in the early 1900s, responding to a 400% popultion boom in the area. Now, Centralia feels very sleepy, and its major economic growth center (Northern Pacific Railway) has declined. |\n",
    "| [Kelso-Longview, WA](https://en.wikipedia.org/wiki/Kelso_Multimodal_Transportation_Center) | ![](https://upload.wikimedia.org/wikipedia/commons/b/b4/Kelso_WA_%28Amtrak_station%29_01.jpg) | _Into the Wild_ was filmed in Longview; and Longview also has one of the few (*few* ?!) [bridges dedicated to squirrels](https://www.greatamericanstations.com/stations/kelso-longview-wa-kel/). This bridge was constructed from a retired fire hose and suspension cables made from wire, and has secured Longview's place as one of my most favorite cities in Washington. <br> <br> Given Kelso's proximity to volcanic eruptions, several of the town's businesses and homes have been [built on volcanic ash dredged from the mudflow](https://www.greatamericanstations.com/stations/kelso-longview-wa-kel/) that went into Cowlitz River. I wonder if that explains some of the [roadcuts]() that looked a but like columnar pillars? The visitor's center in Kelso's Amtrak Station also has an exhibit dedicated to the eruption. |\n",
    "| [Vancouver, WA](https://en.wikipedia.org/wiki/Vancouver_station_(Washington)) | ![](https://upload.wikimedia.org/wikipedia/commons/3/34/Vancouver_Amtrak_station_170392234.jpg) | Another sleepy (but very industrial) city, just across the Columbia River from Portland. The conductor for the train gave us a 10-15min warning, and mentioned that there might be some jostling as we changed tracks. <br> <br> The highlight of the Vancouver Station was really the Columbia River suspension bridge: as you cross it, you transition from Washington State to Oregon, and see lovely views of both cities. |\n",
    "| [Portland, OR](https://en.wikipedia.org/wiki/Portland_Union_Station) | ![](https://upload.wikimedia.org/wikipedia/commons/thumb/a/a9/UnionStationPortland.jpg/1920px-UnionStationPortland.jpg) | And finally, we've arrived! The renovations on the interior of Portland's Union Station are lovely -- and we continue the volcano theme: Portland has an extinct volcano within its city limits, Mt. Tabor. |"
   ]
  },
  {
   "cell_type": "markdown",
   "metadata": {},
   "source": [
    "### Elevation Profiles: Individual Stations\n",
    "\n",
    "The views from the train as we traveled from Seattle to Portland were lovely: lush forests, several small waterfalls, raging rivers, pumpkin patches, and several small farms with goats and herds of cattle. Most of the [geology](https://www.dnr.wa.gov/programs-and-services/geology/geologic-maps) from Seattle to Centralia is relatively new (Quaternary) unconsolidated or semiconsolidated till, clay, sand, and gravel; but roundabout the time you hit Longview, things get more interesting: higher elevation, accompanied by Tertiary volcanic features which include volcanic breccia, volcanic sandstone, welded tuff, and basaltic andesite flows. \n",
    "\n",
    "I even learned that Portland, OR, is home to [Mount Tabor](https://en.wikipedia.org/wiki/Mount_Tabor_(Oregon)), an extinct volcanic vent, and part of the delightfully named [Boring Lava Field](https://en.wikipedia.org/wiki/Boring_Lava_Field)! The next time I visit, a trip to Mount Tabor Park is in order.\n",
    "\n",
    "| ![](https://raw.githubusercontent.com/dynamicwebpaige/IRL-ticket-to-ride/main/plots/Seattle_to_Tukwila.jpg) | ![](https://raw.githubusercontent.com/dynamicwebpaige/IRL-ticket-to-ride/main/plots/Tukwila_to_Tacoma.jpg) |\n",
    "| --- | --- |\n",
    "| ![](https://raw.githubusercontent.com/dynamicwebpaige/IRL-ticket-to-ride/main/plots/Tacoma_to_Olympia-Lacey.jpg) | ![](https://raw.githubusercontent.com/dynamicwebpaige/IRL-ticket-to-ride/main/plots/Olympia-Lacey_to_Centralia.jpg)\n",
    "| ![](https://raw.githubusercontent.com/dynamicwebpaige/IRL-ticket-to-ride/main/plots/Centralia_to_Kelso-Longview.jpg) | ![](https://raw.githubusercontent.com/dynamicwebpaige/IRL-ticket-to-ride/main/plots/Kelso-Longview_to_Vancouver.jpg) | ![](https://raw.githubusercontent.com/dynamicwebpaige/IRL-ticket-to-ride/main/plots/Vancouver_to_Portland.jpg) |\n",
    "\n",
    "\n",
    "#### Elevation Profiles: `Seattle` to `Portland`\n",
    "\n",
    "Bundling it all together: let's take a look at the elevation change, if you're doing a straight shot from Seattle to Portland. You can see a significant peak around 100km, which makes sense (Mt. Rainier and Mt. Saint Helens are proximal). I'll be very curious to see how this compares to other legs of the trip!\n",
    "\n",
    "![](https://raw.githubusercontent.com/dynamicwebpaige/IRL-ticket-to-ride/main/plots/Seattle_to_Portland.jpg)"
   ]
  },
  {
   "cell_type": "markdown",
   "metadata": {},
   "source": [
    "## Portland, Oregon\n",
    "#### _December 12 - December 13_\n",
    "\n",
    "Temperatures were definitely brisk in Portland upon arrival, and rainy throughout both days -- which meant that outdoor parks (other than the Lan Su Chinese Garden downtown) were challenging to tackle. The next time I pass through Portland, though, it will certainly feature a visit to [Cathedral Park](https://www.portland.gov/parks/cathedral-park), as well as [Pittock Mansion](https://pittockmansion.org/).\n",
    "\n",
    "#### Hotel\n",
    "[The Hoxton - Portland](https://thehoxton.com/portland/)\n",
    "\n",
    "#### Things to see:\n",
    "* [Microsoft Offices in Portland](https://goo.gl/maps/ghr4SQaqTXNLNzUG8)\n",
    "* [Transcendence Sculpture](https://www.atlasobscura.com/places/transcendence)\n",
    "* [Lan Su Chinese Garden](https://lansugarden.org/?)\n",
    "* Architecture Walk: Downtown Portland\n",
    "   * [Three Kings](https://en.wikipedia.org/wiki/Bank_of_California_Building_(Portland,_Oregon))\n",
    "   * [United States National Bank](https://en.wikipedia.org/wiki/United_States_National_Bank_Building)\n",
    "* [Starlight Patio & Lounge at the Star Theater](https://www.startheaterportland.com/)\n",
    "   * Lucky me: Sunday night went hard on EDM at Starlight Patio. Headlining was [XIBLING, with Hallows and Pleasure Victim](https://www.startheaterportland.com/event/?event_id=11165485) as openers. I opted *not* to attend the [HIVE DANCE PARTY](https://www.startheaterportland.com/event/?event_id=11611305) immediately following at 10pm - but it looked like a particularly fun time.\n",
    "   * [Pleasure Victim]() _Passion & Punishment_. Automatic brownie points for naming yourself after a Berlin album.\n",
    "   * [HALLOWS]() _All That is True Dies_\n",
    "   * [XIBLING]() _Maladjusted_. [Great set](https://www.youtube.com/watch?v=_ot9RceGgms), so much so that I purchased their most recent album.\n",
    "\n",
    "Check out the following sections, towards the end of this notebook, for a collection of pictures of all of the above!\n",
    "\n",
    "#### ☕️ Coffee Count\n",
    "* 4 (Sunday), 2 (Monday)\n",
    "* 🌟 Grand Prize: almond butter almond milk latte at [Lovely Rita](https://thehoxton.com/portland/lovely-rita-restaurant/) coffee bar."
   ]
  },
  {
   "cell_type": "code",
   "execution_count": 20,
   "metadata": {},
   "outputs": [
    {
     "data": {
      "text/html": [
       "<div>\n",
       "<style scoped>\n",
       "    .dataframe tbody tr th:only-of-type {\n",
       "        vertical-align: middle;\n",
       "    }\n",
       "\n",
       "    .dataframe tbody tr th {\n",
       "        vertical-align: top;\n",
       "    }\n",
       "\n",
       "    .dataframe thead th {\n",
       "        text-align: right;\n",
       "    }\n",
       "</style>\n",
       "<table border=\"1\" class=\"dataframe\">\n",
       "  <thead>\n",
       "    <tr style=\"text-align: right;\">\n",
       "      <th></th>\n",
       "      <th>City</th>\n",
       "      <th>Stop</th>\n",
       "      <th>Latitude</th>\n",
       "      <th>Longitude</th>\n",
       "      <th>Type</th>\n",
       "    </tr>\n",
       "  </thead>\n",
       "  <tbody>\n",
       "    <tr>\n",
       "      <th>0</th>\n",
       "      <td>Portland</td>\n",
       "      <td>The Hoxton Hotel</td>\n",
       "      <td>45.523400</td>\n",
       "      <td>-122.674700</td>\n",
       "      <td>Hotel</td>\n",
       "    </tr>\n",
       "    <tr>\n",
       "      <th>1</th>\n",
       "      <td>Portland</td>\n",
       "      <td>Powell's Books</td>\n",
       "      <td>45.523100</td>\n",
       "      <td>-122.681200</td>\n",
       "      <td>Books</td>\n",
       "    </tr>\n",
       "    <tr>\n",
       "      <th>2</th>\n",
       "      <td>Portland</td>\n",
       "      <td>Microsoft Office</td>\n",
       "      <td>45.531255</td>\n",
       "      <td>-122.685935</td>\n",
       "      <td>Work</td>\n",
       "    </tr>\n",
       "    <tr>\n",
       "      <th>3</th>\n",
       "      <td>Portland</td>\n",
       "      <td>Lan Su Chinese Garden</td>\n",
       "      <td>45.525300</td>\n",
       "      <td>-122.673300</td>\n",
       "      <td>Park</td>\n",
       "    </tr>\n",
       "    <tr>\n",
       "      <th>4</th>\n",
       "      <td>Portland</td>\n",
       "      <td>Portland Amtrak Station</td>\n",
       "      <td>45.530512</td>\n",
       "      <td>-122.678222</td>\n",
       "      <td>Train Station</td>\n",
       "    </tr>\n",
       "    <tr>\n",
       "      <th>5</th>\n",
       "      <td>Portland</td>\n",
       "      <td>Transcendence Sculpture</td>\n",
       "      <td>45.517850</td>\n",
       "      <td>-122.682290</td>\n",
       "      <td>Art</td>\n",
       "    </tr>\n",
       "    <tr>\n",
       "      <th>6</th>\n",
       "      <td>Portland</td>\n",
       "      <td>Starlight Patio &amp; Lounge at the Star Theater</td>\n",
       "      <td>45.523554</td>\n",
       "      <td>-122.676602</td>\n",
       "      <td>Music</td>\n",
       "    </tr>\n",
       "    <tr>\n",
       "      <th>7</th>\n",
       "      <td>Portland</td>\n",
       "      <td>Three Kings</td>\n",
       "      <td>45.522124</td>\n",
       "      <td>-122.677144</td>\n",
       "      <td>Art</td>\n",
       "    </tr>\n",
       "    <tr>\n",
       "      <th>8</th>\n",
       "      <td>Portland</td>\n",
       "      <td>United States National Bank</td>\n",
       "      <td>45.521545</td>\n",
       "      <td>-122.678314</td>\n",
       "      <td>Art</td>\n",
       "    </tr>\n",
       "  </tbody>\n",
       "</table>\n",
       "</div>"
      ],
      "text/plain": [
       "       City                                          Stop   Latitude  \\\n",
       "0  Portland                              The Hoxton Hotel  45.523400   \n",
       "1  Portland                                Powell's Books  45.523100   \n",
       "2  Portland                              Microsoft Office  45.531255   \n",
       "3  Portland                         Lan Su Chinese Garden  45.525300   \n",
       "4  Portland                       Portland Amtrak Station  45.530512   \n",
       "5  Portland                       Transcendence Sculpture  45.517850   \n",
       "6  Portland  Starlight Patio & Lounge at the Star Theater  45.523554   \n",
       "7  Portland                                   Three Kings  45.522124   \n",
       "8  Portland                   United States National Bank  45.521545   \n",
       "\n",
       "    Longitude           Type  \n",
       "0 -122.674700          Hotel  \n",
       "1 -122.681200          Books  \n",
       "2 -122.685935           Work  \n",
       "3 -122.673300           Park  \n",
       "4 -122.678222  Train Station  \n",
       "5 -122.682290            Art  \n",
       "6 -122.676602          Music  \n",
       "7 -122.677144            Art  \n",
       "8 -122.678314            Art  "
      ]
     },
     "execution_count": 20,
     "metadata": {},
     "output_type": "execute_result"
    }
   ],
   "source": [
    "stops[stops['City'] == 'Portland']"
   ]
  },
  {
   "cell_type": "code",
   "execution_count": 25,
   "metadata": {},
   "outputs": [
    {
     "data": {
      "text/html": [
       "<div style=\"width:100%;\"><div style=\"position:relative;width:100%;height:0;padding-bottom:60%;\"><span style=\"color:#565656\">Make this Notebook Trusted to load map: File -> Trust Notebook</span><iframe src=\"about:blank\" style=\"position:absolute;width:100%;height:100%;left:0;top:0;border:none !important;\" data-html=%3C%21DOCTYPE%20html%3E%0A%3Chead%3E%20%20%20%20%0A%20%20%20%20%3Cmeta%20http-equiv%3D%22content-type%22%20content%3D%22text/html%3B%20charset%3DUTF-8%22%20/%3E%0A%20%20%20%20%0A%20%20%20%20%20%20%20%20%3Cscript%3E%0A%20%20%20%20%20%20%20%20%20%20%20%20L_NO_TOUCH%20%3D%20false%3B%0A%20%20%20%20%20%20%20%20%20%20%20%20L_DISABLE_3D%20%3D%20false%3B%0A%20%20%20%20%20%20%20%20%3C/script%3E%0A%20%20%20%20%0A%20%20%20%20%3Cstyle%3Ehtml%2C%20body%20%7Bwidth%3A%20100%25%3Bheight%3A%20100%25%3Bmargin%3A%200%3Bpadding%3A%200%3B%7D%3C/style%3E%0A%20%20%20%20%3Cstyle%3E%23map%20%7Bposition%3Aabsolute%3Btop%3A0%3Bbottom%3A0%3Bright%3A0%3Bleft%3A0%3B%7D%3C/style%3E%0A%20%20%20%20%3Cscript%20src%3D%22https%3A//cdn.jsdelivr.net/npm/leaflet%401.6.0/dist/leaflet.js%22%3E%3C/script%3E%0A%20%20%20%20%3Cscript%20src%3D%22https%3A//code.jquery.com/jquery-1.12.4.min.js%22%3E%3C/script%3E%0A%20%20%20%20%3Cscript%20src%3D%22https%3A//maxcdn.bootstrapcdn.com/bootstrap/3.2.0/js/bootstrap.min.js%22%3E%3C/script%3E%0A%20%20%20%20%3Cscript%20src%3D%22https%3A//cdnjs.cloudflare.com/ajax/libs/Leaflet.awesome-markers/2.0.2/leaflet.awesome-markers.js%22%3E%3C/script%3E%0A%20%20%20%20%3Clink%20rel%3D%22stylesheet%22%20href%3D%22https%3A//cdn.jsdelivr.net/npm/leaflet%401.6.0/dist/leaflet.css%22/%3E%0A%20%20%20%20%3Clink%20rel%3D%22stylesheet%22%20href%3D%22https%3A//maxcdn.bootstrapcdn.com/bootstrap/3.2.0/css/bootstrap.min.css%22/%3E%0A%20%20%20%20%3Clink%20rel%3D%22stylesheet%22%20href%3D%22https%3A//maxcdn.bootstrapcdn.com/bootstrap/3.2.0/css/bootstrap-theme.min.css%22/%3E%0A%20%20%20%20%3Clink%20rel%3D%22stylesheet%22%20href%3D%22https%3A//maxcdn.bootstrapcdn.com/font-awesome/4.6.3/css/font-awesome.min.css%22/%3E%0A%20%20%20%20%3Clink%20rel%3D%22stylesheet%22%20href%3D%22https%3A//cdnjs.cloudflare.com/ajax/libs/Leaflet.awesome-markers/2.0.2/leaflet.awesome-markers.css%22/%3E%0A%20%20%20%20%3Clink%20rel%3D%22stylesheet%22%20href%3D%22https%3A//cdn.jsdelivr.net/gh/python-visualization/folium/folium/templates/leaflet.awesome.rotate.min.css%22/%3E%0A%20%20%20%20%0A%20%20%20%20%20%20%20%20%20%20%20%20%3Cmeta%20name%3D%22viewport%22%20content%3D%22width%3Ddevice-width%2C%0A%20%20%20%20%20%20%20%20%20%20%20%20%20%20%20%20initial-scale%3D1.0%2C%20maximum-scale%3D1.0%2C%20user-scalable%3Dno%22%20/%3E%0A%20%20%20%20%20%20%20%20%20%20%20%20%3Cstyle%3E%0A%20%20%20%20%20%20%20%20%20%20%20%20%20%20%20%20%23map_6ab391207adf4e08adfcc6a4997a7ace%20%7B%0A%20%20%20%20%20%20%20%20%20%20%20%20%20%20%20%20%20%20%20%20position%3A%20relative%3B%0A%20%20%20%20%20%20%20%20%20%20%20%20%20%20%20%20%20%20%20%20width%3A%20100.0%25%3B%0A%20%20%20%20%20%20%20%20%20%20%20%20%20%20%20%20%20%20%20%20height%3A%20100.0%25%3B%0A%20%20%20%20%20%20%20%20%20%20%20%20%20%20%20%20%20%20%20%20left%3A%200.0%25%3B%0A%20%20%20%20%20%20%20%20%20%20%20%20%20%20%20%20%20%20%20%20top%3A%200.0%25%3B%0A%20%20%20%20%20%20%20%20%20%20%20%20%20%20%20%20%7D%0A%20%20%20%20%20%20%20%20%20%20%20%20%3C/style%3E%0A%20%20%20%20%20%20%20%20%0A%3C/head%3E%0A%3Cbody%3E%20%20%20%20%0A%20%20%20%20%0A%20%20%20%20%20%20%20%20%20%20%20%20%3Cdiv%20class%3D%22folium-map%22%20id%3D%22map_6ab391207adf4e08adfcc6a4997a7ace%22%20%3E%3C/div%3E%0A%20%20%20%20%20%20%20%20%0A%3C/body%3E%0A%3Cscript%3E%20%20%20%20%0A%20%20%20%20%0A%20%20%20%20%20%20%20%20%20%20%20%20var%20map_6ab391207adf4e08adfcc6a4997a7ace%20%3D%20L.map%28%0A%20%20%20%20%20%20%20%20%20%20%20%20%20%20%20%20%22map_6ab391207adf4e08adfcc6a4997a7ace%22%2C%0A%20%20%20%20%20%20%20%20%20%20%20%20%20%20%20%20%7B%0A%20%20%20%20%20%20%20%20%20%20%20%20%20%20%20%20%20%20%20%20center%3A%20%5B0%2C%200%5D%2C%0A%20%20%20%20%20%20%20%20%20%20%20%20%20%20%20%20%20%20%20%20crs%3A%20L.CRS.EPSG3857%2C%0A%20%20%20%20%20%20%20%20%20%20%20%20%20%20%20%20%20%20%20%20zoom%3A%201%2C%0A%20%20%20%20%20%20%20%20%20%20%20%20%20%20%20%20%20%20%20%20zoomControl%3A%20true%2C%0A%20%20%20%20%20%20%20%20%20%20%20%20%20%20%20%20%20%20%20%20preferCanvas%3A%20false%2C%0A%20%20%20%20%20%20%20%20%20%20%20%20%20%20%20%20%7D%0A%20%20%20%20%20%20%20%20%20%20%20%20%29%3B%0A%0A%20%20%20%20%20%20%20%20%20%20%20%20%0A%0A%20%20%20%20%20%20%20%20%0A%20%20%20%20%0A%20%20%20%20%20%20%20%20%20%20%20%20var%20tile_layer_d4d369a4772a4c7c84b5f21ebcd34534%20%3D%20L.tileLayer%28%0A%20%20%20%20%20%20%20%20%20%20%20%20%20%20%20%20%22https%3A//stamen-tiles-%7Bs%7D.a.ssl.fastly.net/terrain/%7Bz%7D/%7Bx%7D/%7By%7D.jpg%22%2C%0A%20%20%20%20%20%20%20%20%20%20%20%20%20%20%20%20%7B%22attribution%22%3A%20%22Map%20tiles%20by%20%5Cu003ca%20href%3D%5C%22http%3A//stamen.com%5C%22%5Cu003eStamen%20Design%5Cu003c/a%5Cu003e%2C%20under%20%5Cu003ca%20href%3D%5C%22http%3A//creativecommons.org/licenses/by/3.0%5C%22%5Cu003eCC%20BY%203.0%5Cu003c/a%5Cu003e.%20Data%20by%20%5Cu0026copy%3B%20%5Cu003ca%20href%3D%5C%22http%3A//openstreetmap.org%5C%22%5Cu003eOpenStreetMap%5Cu003c/a%5Cu003e%2C%20under%20%5Cu003ca%20href%3D%5C%22http%3A//creativecommons.org/licenses/by-sa/3.0%5C%22%5Cu003eCC%20BY%20SA%5Cu003c/a%5Cu003e.%22%2C%20%22detectRetina%22%3A%20false%2C%20%22maxNativeZoom%22%3A%2018%2C%20%22maxZoom%22%3A%2018%2C%20%22minZoom%22%3A%200%2C%20%22noWrap%22%3A%20false%2C%20%22opacity%22%3A%201%2C%20%22subdomains%22%3A%20%22abc%22%2C%20%22tms%22%3A%20false%7D%0A%20%20%20%20%20%20%20%20%20%20%20%20%29.addTo%28map_6ab391207adf4e08adfcc6a4997a7ace%29%3B%0A%20%20%20%20%20%20%20%20%0A%20%20%20%20%0A%20%20%20%20%20%20%20%20%20%20%20%20var%20marker_726423c2fb3044ba9a3e4df108e925a0%20%3D%20L.marker%28%0A%20%20%20%20%20%20%20%20%20%20%20%20%20%20%20%20%5B45.5234%2C%20-122.6747%5D%2C%0A%20%20%20%20%20%20%20%20%20%20%20%20%20%20%20%20%7B%7D%0A%20%20%20%20%20%20%20%20%20%20%20%20%29.addTo%28map_6ab391207adf4e08adfcc6a4997a7ace%29%3B%0A%20%20%20%20%20%20%20%20%0A%20%20%20%20%0A%20%20%20%20%20%20%20%20%20%20%20%20var%20icon_306c33c463ee4da288a96c1b1206eae8%20%3D%20L.AwesomeMarkers.icon%28%0A%20%20%20%20%20%20%20%20%20%20%20%20%20%20%20%20%7B%22extraClasses%22%3A%20%22fa-rotate-0%22%2C%20%22icon%22%3A%20%22hotel%22%2C%20%22iconColor%22%3A%20%22white%22%2C%20%22markerColor%22%3A%20%22lightblue%22%2C%20%22prefix%22%3A%20%22fa%22%7D%0A%20%20%20%20%20%20%20%20%20%20%20%20%29%3B%0A%20%20%20%20%20%20%20%20%20%20%20%20marker_726423c2fb3044ba9a3e4df108e925a0.setIcon%28icon_306c33c463ee4da288a96c1b1206eae8%29%3B%0A%20%20%20%20%20%20%20%20%0A%20%20%20%20%0A%20%20%20%20%20%20%20%20var%20popup_2f5b0f24433d4cefb6ec63018fe12f58%20%3D%20L.popup%28%7B%22maxWidth%22%3A%20%22100%25%22%7D%29%3B%0A%0A%20%20%20%20%20%20%20%20%0A%20%20%20%20%20%20%20%20%20%20%20%20var%20html_78a546fbdf9b430ca314af2268ce18cd%20%3D%20%24%28%60%3Cdiv%20id%3D%22html_78a546fbdf9b430ca314af2268ce18cd%22%20style%3D%22width%3A%20100.0%25%3B%20height%3A%20100.0%25%3B%22%3E%3Cb%3EThe%20Hoxton%20Hotel%3C/b%3E%3C/div%3E%60%29%5B0%5D%3B%0A%20%20%20%20%20%20%20%20%20%20%20%20popup_2f5b0f24433d4cefb6ec63018fe12f58.setContent%28html_78a546fbdf9b430ca314af2268ce18cd%29%3B%0A%20%20%20%20%20%20%20%20%0A%0A%20%20%20%20%20%20%20%20marker_726423c2fb3044ba9a3e4df108e925a0.bindPopup%28popup_2f5b0f24433d4cefb6ec63018fe12f58%29%0A%20%20%20%20%20%20%20%20%3B%0A%0A%20%20%20%20%20%20%20%20%0A%20%20%20%20%0A%20%20%20%20%0A%20%20%20%20%20%20%20%20%20%20%20%20var%20marker_41c880704a8041d0a3f019abe2e93e09%20%3D%20L.marker%28%0A%20%20%20%20%20%20%20%20%20%20%20%20%20%20%20%20%5B45.5231%2C%20-122.6812%5D%2C%0A%20%20%20%20%20%20%20%20%20%20%20%20%20%20%20%20%7B%7D%0A%20%20%20%20%20%20%20%20%20%20%20%20%29.addTo%28map_6ab391207adf4e08adfcc6a4997a7ace%29%3B%0A%20%20%20%20%20%20%20%20%0A%20%20%20%20%0A%20%20%20%20%20%20%20%20%20%20%20%20var%20icon_d74d7d9ebac8464cb1e352b14e333a46%20%3D%20L.AwesomeMarkers.icon%28%0A%20%20%20%20%20%20%20%20%20%20%20%20%20%20%20%20%7B%22extraClasses%22%3A%20%22fa-rotate-0%22%2C%20%22icon%22%3A%20%22book%22%2C%20%22iconColor%22%3A%20%22white%22%2C%20%22markerColor%22%3A%20%22pink%22%2C%20%22prefix%22%3A%20%22fa%22%7D%0A%20%20%20%20%20%20%20%20%20%20%20%20%29%3B%0A%20%20%20%20%20%20%20%20%20%20%20%20marker_41c880704a8041d0a3f019abe2e93e09.setIcon%28icon_d74d7d9ebac8464cb1e352b14e333a46%29%3B%0A%20%20%20%20%20%20%20%20%0A%20%20%20%20%0A%20%20%20%20%20%20%20%20var%20popup_a202377c15ff42268fca16f0e8ee66a1%20%3D%20L.popup%28%7B%22maxWidth%22%3A%20%22100%25%22%7D%29%3B%0A%0A%20%20%20%20%20%20%20%20%0A%20%20%20%20%20%20%20%20%20%20%20%20var%20html_0420016f8b5942f69dbb809389d965d7%20%3D%20%24%28%60%3Cdiv%20id%3D%22html_0420016f8b5942f69dbb809389d965d7%22%20style%3D%22width%3A%20100.0%25%3B%20height%3A%20100.0%25%3B%22%3E%3Cb%3EPowell%27s%20Books%3C/b%3C/div%3E%60%29%5B0%5D%3B%0A%20%20%20%20%20%20%20%20%20%20%20%20popup_a202377c15ff42268fca16f0e8ee66a1.setContent%28html_0420016f8b5942f69dbb809389d965d7%29%3B%0A%20%20%20%20%20%20%20%20%0A%0A%20%20%20%20%20%20%20%20marker_41c880704a8041d0a3f019abe2e93e09.bindPopup%28popup_a202377c15ff42268fca16f0e8ee66a1%29%0A%20%20%20%20%20%20%20%20%3B%0A%0A%20%20%20%20%20%20%20%20%0A%20%20%20%20%0A%20%20%20%20%0A%20%20%20%20%20%20%20%20%20%20%20%20var%20marker_709f134102514c969c1bdff913608ebb%20%3D%20L.marker%28%0A%20%20%20%20%20%20%20%20%20%20%20%20%20%20%20%20%5B45.53125541%2C%20-122.68593500000001%5D%2C%0A%20%20%20%20%20%20%20%20%20%20%20%20%20%20%20%20%7B%7D%0A%20%20%20%20%20%20%20%20%20%20%20%20%29.addTo%28map_6ab391207adf4e08adfcc6a4997a7ace%29%3B%0A%20%20%20%20%20%20%20%20%0A%20%20%20%20%0A%20%20%20%20%20%20%20%20%20%20%20%20var%20icon_1f7bb80bef674f28a8eda74f43d9ab02%20%3D%20L.AwesomeMarkers.icon%28%0A%20%20%20%20%20%20%20%20%20%20%20%20%20%20%20%20%7B%22extraClasses%22%3A%20%22fa-rotate-0%22%2C%20%22icon%22%3A%20%22briefcase%22%2C%20%22iconColor%22%3A%20%22white%22%2C%20%22markerColor%22%3A%20%22cadetblue%22%2C%20%22prefix%22%3A%20%22fa%22%7D%0A%20%20%20%20%20%20%20%20%20%20%20%20%29%3B%0A%20%20%20%20%20%20%20%20%20%20%20%20marker_709f134102514c969c1bdff913608ebb.setIcon%28icon_1f7bb80bef674f28a8eda74f43d9ab02%29%3B%0A%20%20%20%20%20%20%20%20%0A%20%20%20%20%0A%20%20%20%20%20%20%20%20var%20popup_5f83e72677284c32af89a2a1d9c4527e%20%3D%20L.popup%28%7B%22maxWidth%22%3A%20%22100%25%22%7D%29%3B%0A%0A%20%20%20%20%20%20%20%20%0A%20%20%20%20%20%20%20%20%20%20%20%20var%20html_065f8d3b4a424328a8c0b2b1fa66c242%20%3D%20%24%28%60%3Cdiv%20id%3D%22html_065f8d3b4a424328a8c0b2b1fa66c242%22%20style%3D%22width%3A%20100.0%25%3B%20height%3A%20100.0%25%3B%22%3E%3Cb%3EMicrosoft%20Office%3C/b%3C/div%3E%60%29%5B0%5D%3B%0A%20%20%20%20%20%20%20%20%20%20%20%20popup_5f83e72677284c32af89a2a1d9c4527e.setContent%28html_065f8d3b4a424328a8c0b2b1fa66c242%29%3B%0A%20%20%20%20%20%20%20%20%0A%0A%20%20%20%20%20%20%20%20marker_709f134102514c969c1bdff913608ebb.bindPopup%28popup_5f83e72677284c32af89a2a1d9c4527e%29%0A%20%20%20%20%20%20%20%20%3B%0A%0A%20%20%20%20%20%20%20%20%0A%20%20%20%20%0A%20%20%20%20%0A%20%20%20%20%20%20%20%20%20%20%20%20var%20marker_5fe2ded041034eceb75a9476c37fa29a%20%3D%20L.marker%28%0A%20%20%20%20%20%20%20%20%20%20%20%20%20%20%20%20%5B45.5253%2C%20-122.6733%5D%2C%0A%20%20%20%20%20%20%20%20%20%20%20%20%20%20%20%20%7B%7D%0A%20%20%20%20%20%20%20%20%20%20%20%20%29.addTo%28map_6ab391207adf4e08adfcc6a4997a7ace%29%3B%0A%20%20%20%20%20%20%20%20%0A%20%20%20%20%0A%20%20%20%20%20%20%20%20%20%20%20%20var%20icon_e33586f0b01242a29b2898585c0d1ebd%20%3D%20L.AwesomeMarkers.icon%28%0A%20%20%20%20%20%20%20%20%20%20%20%20%20%20%20%20%7B%22extraClasses%22%3A%20%22fa-rotate-0%22%2C%20%22icon%22%3A%20%22tree%22%2C%20%22iconColor%22%3A%20%22white%22%2C%20%22markerColor%22%3A%20%22lightgreen%22%2C%20%22prefix%22%3A%20%22fa%22%7D%0A%20%20%20%20%20%20%20%20%20%20%20%20%29%3B%0A%20%20%20%20%20%20%20%20%20%20%20%20marker_5fe2ded041034eceb75a9476c37fa29a.setIcon%28icon_e33586f0b01242a29b2898585c0d1ebd%29%3B%0A%20%20%20%20%20%20%20%20%0A%20%20%20%20%0A%20%20%20%20%20%20%20%20var%20popup_38b76f5d6a3c4828af737e561076207b%20%3D%20L.popup%28%7B%22maxWidth%22%3A%20%22100%25%22%7D%29%3B%0A%0A%20%20%20%20%20%20%20%20%0A%20%20%20%20%20%20%20%20%20%20%20%20var%20html_3e376732264d40d2949f356a5f37eae3%20%3D%20%24%28%60%3Cdiv%20id%3D%22html_3e376732264d40d2949f356a5f37eae3%22%20style%3D%22width%3A%20100.0%25%3B%20height%3A%20100.0%25%3B%22%3E%3Cb%3ELan%20Su%20Chinese%20Garden%3C/b%3C/div%3E%60%29%5B0%5D%3B%0A%20%20%20%20%20%20%20%20%20%20%20%20popup_38b76f5d6a3c4828af737e561076207b.setContent%28html_3e376732264d40d2949f356a5f37eae3%29%3B%0A%20%20%20%20%20%20%20%20%0A%0A%20%20%20%20%20%20%20%20marker_5fe2ded041034eceb75a9476c37fa29a.bindPopup%28popup_38b76f5d6a3c4828af737e561076207b%29%0A%20%20%20%20%20%20%20%20%3B%0A%0A%20%20%20%20%20%20%20%20%0A%20%20%20%20%0A%20%20%20%20%0A%20%20%20%20%20%20%20%20%20%20%20%20var%20marker_490704bdbbfd4e7bafc654ba76d88f9b%20%3D%20L.marker%28%0A%20%20%20%20%20%20%20%20%20%20%20%20%20%20%20%20%5B45.53051247%2C%20-122.6782215%5D%2C%0A%20%20%20%20%20%20%20%20%20%20%20%20%20%20%20%20%7B%7D%0A%20%20%20%20%20%20%20%20%20%20%20%20%29.addTo%28map_6ab391207adf4e08adfcc6a4997a7ace%29%3B%0A%20%20%20%20%20%20%20%20%0A%20%20%20%20%0A%20%20%20%20%20%20%20%20%20%20%20%20var%20icon_52c0a4701b5144e48a8be9f1f152a374%20%3D%20L.AwesomeMarkers.icon%28%0A%20%20%20%20%20%20%20%20%20%20%20%20%20%20%20%20%7B%22extraClasses%22%3A%20%22fa-rotate-0%22%2C%20%22icon%22%3A%20%22train%22%2C%20%22iconColor%22%3A%20%22white%22%2C%20%22markerColor%22%3A%20%22red%22%2C%20%22prefix%22%3A%20%22fa%22%7D%0A%20%20%20%20%20%20%20%20%20%20%20%20%29%3B%0A%20%20%20%20%20%20%20%20%20%20%20%20marker_490704bdbbfd4e7bafc654ba76d88f9b.setIcon%28icon_52c0a4701b5144e48a8be9f1f152a374%29%3B%0A%20%20%20%20%20%20%20%20%0A%20%20%20%20%0A%20%20%20%20%20%20%20%20var%20popup_da72e4f6c2c44655b56cd849ffaeeea7%20%3D%20L.popup%28%7B%22maxWidth%22%3A%20%22100%25%22%7D%29%3B%0A%0A%20%20%20%20%20%20%20%20%0A%20%20%20%20%20%20%20%20%20%20%20%20var%20html_5dc4a861d2ae4230926ff3d45c100421%20%3D%20%24%28%60%3Cdiv%20id%3D%22html_5dc4a861d2ae4230926ff3d45c100421%22%20style%3D%22width%3A%20100.0%25%3B%20height%3A%20100.0%25%3B%22%3E%3Cb%3EPortland%20Amtrak%20Station%3C/b%3C/div%3E%60%29%5B0%5D%3B%0A%20%20%20%20%20%20%20%20%20%20%20%20popup_da72e4f6c2c44655b56cd849ffaeeea7.setContent%28html_5dc4a861d2ae4230926ff3d45c100421%29%3B%0A%20%20%20%20%20%20%20%20%0A%0A%20%20%20%20%20%20%20%20marker_490704bdbbfd4e7bafc654ba76d88f9b.bindPopup%28popup_da72e4f6c2c44655b56cd849ffaeeea7%29%0A%20%20%20%20%20%20%20%20%3B%0A%0A%20%20%20%20%20%20%20%20%0A%20%20%20%20%0A%20%20%20%20%0A%20%20%20%20%20%20%20%20%20%20%20%20var%20marker_6b049654749449fb9ee6603d29ab4fcf%20%3D%20L.marker%28%0A%20%20%20%20%20%20%20%20%20%20%20%20%20%20%20%20%5B45.51785%2C%20-122.68229%5D%2C%0A%20%20%20%20%20%20%20%20%20%20%20%20%20%20%20%20%7B%7D%0A%20%20%20%20%20%20%20%20%20%20%20%20%29.addTo%28map_6ab391207adf4e08adfcc6a4997a7ace%29%3B%0A%20%20%20%20%20%20%20%20%0A%20%20%20%20%0A%20%20%20%20%20%20%20%20%20%20%20%20var%20icon_f1c3a6871e0a49938c53dfd302c4472f%20%3D%20L.AwesomeMarkers.icon%28%0A%20%20%20%20%20%20%20%20%20%20%20%20%20%20%20%20%7B%22extraClasses%22%3A%20%22fa-rotate-0%22%2C%20%22icon%22%3A%20%22paint-brush%22%2C%20%22iconColor%22%3A%20%22white%22%2C%20%22markerColor%22%3A%20%22pink%22%2C%20%22prefix%22%3A%20%22fa%22%7D%0A%20%20%20%20%20%20%20%20%20%20%20%20%29%3B%0A%20%20%20%20%20%20%20%20%20%20%20%20marker_6b049654749449fb9ee6603d29ab4fcf.setIcon%28icon_f1c3a6871e0a49938c53dfd302c4472f%29%3B%0A%20%20%20%20%20%20%20%20%0A%20%20%20%20%0A%20%20%20%20%20%20%20%20var%20popup_6eb3d7405194420ca1695fc9f880f488%20%3D%20L.popup%28%7B%22maxWidth%22%3A%20%22100%25%22%7D%29%3B%0A%0A%20%20%20%20%20%20%20%20%0A%20%20%20%20%20%20%20%20%20%20%20%20var%20html_e97ddefcb0c24ca5b91e2d4d73f39695%20%3D%20%24%28%60%3Cdiv%20id%3D%22html_e97ddefcb0c24ca5b91e2d4d73f39695%22%20style%3D%22width%3A%20100.0%25%3B%20height%3A%20100.0%25%3B%22%3E%3Cb%3ETranscendence%20Sculpture%3C/b%3C/div%3E%60%29%5B0%5D%3B%0A%20%20%20%20%20%20%20%20%20%20%20%20popup_6eb3d7405194420ca1695fc9f880f488.setContent%28html_e97ddefcb0c24ca5b91e2d4d73f39695%29%3B%0A%20%20%20%20%20%20%20%20%0A%0A%20%20%20%20%20%20%20%20marker_6b049654749449fb9ee6603d29ab4fcf.bindPopup%28popup_6eb3d7405194420ca1695fc9f880f488%29%0A%20%20%20%20%20%20%20%20%3B%0A%0A%20%20%20%20%20%20%20%20%0A%20%20%20%20%0A%20%20%20%20%0A%20%20%20%20%20%20%20%20%20%20%20%20var%20marker_d34c3b364d5a4282a5063e618cb0c5e5%20%3D%20L.marker%28%0A%20%20%20%20%20%20%20%20%20%20%20%20%20%20%20%20%5B45.523554499999996%2C%20-122.6766017%5D%2C%0A%20%20%20%20%20%20%20%20%20%20%20%20%20%20%20%20%7B%7D%0A%20%20%20%20%20%20%20%20%20%20%20%20%29.addTo%28map_6ab391207adf4e08adfcc6a4997a7ace%29%3B%0A%20%20%20%20%20%20%20%20%0A%20%20%20%20%0A%20%20%20%20%20%20%20%20%20%20%20%20var%20icon_329b9d064a864b78bbee4cdd3144dd88%20%3D%20L.AwesomeMarkers.icon%28%0A%20%20%20%20%20%20%20%20%20%20%20%20%20%20%20%20%7B%22extraClasses%22%3A%20%22fa-rotate-0%22%2C%20%22icon%22%3A%20%22music%22%2C%20%22iconColor%22%3A%20%22white%22%2C%20%22markerColor%22%3A%20%22pink%22%2C%20%22prefix%22%3A%20%22fa%22%7D%0A%20%20%20%20%20%20%20%20%20%20%20%20%29%3B%0A%20%20%20%20%20%20%20%20%20%20%20%20marker_d34c3b364d5a4282a5063e618cb0c5e5.setIcon%28icon_329b9d064a864b78bbee4cdd3144dd88%29%3B%0A%20%20%20%20%20%20%20%20%0A%20%20%20%20%0A%20%20%20%20%20%20%20%20var%20popup_8a9fc9456d154f139776be956c9a7649%20%3D%20L.popup%28%7B%22maxWidth%22%3A%20%22100%25%22%7D%29%3B%0A%0A%20%20%20%20%20%20%20%20%0A%20%20%20%20%20%20%20%20%20%20%20%20var%20html_f78f927932b3431a96c5546b1d21cffa%20%3D%20%24%28%60%3Cdiv%20id%3D%22html_f78f927932b3431a96c5546b1d21cffa%22%20style%3D%22width%3A%20100.0%25%3B%20height%3A%20100.0%25%3B%22%3E%3Cb%3EStarlight%20Patio%20%26%20Lounge%20at%20the%20Star%20Theater%3C/b%3C/div%3E%60%29%5B0%5D%3B%0A%20%20%20%20%20%20%20%20%20%20%20%20popup_8a9fc9456d154f139776be956c9a7649.setContent%28html_f78f927932b3431a96c5546b1d21cffa%29%3B%0A%20%20%20%20%20%20%20%20%0A%0A%20%20%20%20%20%20%20%20marker_d34c3b364d5a4282a5063e618cb0c5e5.bindPopup%28popup_8a9fc9456d154f139776be956c9a7649%29%0A%20%20%20%20%20%20%20%20%3B%0A%0A%20%20%20%20%20%20%20%20%0A%20%20%20%20%0A%20%20%20%20%0A%20%20%20%20%20%20%20%20%20%20%20%20var%20marker_79f98cdedf1a4047b82e88421f95e9bc%20%3D%20L.marker%28%0A%20%20%20%20%20%20%20%20%20%20%20%20%20%20%20%20%5B45.52212384%2C%20-122.67714409999999%5D%2C%0A%20%20%20%20%20%20%20%20%20%20%20%20%20%20%20%20%7B%7D%0A%20%20%20%20%20%20%20%20%20%20%20%20%29.addTo%28map_6ab391207adf4e08adfcc6a4997a7ace%29%3B%0A%20%20%20%20%20%20%20%20%0A%20%20%20%20%0A%20%20%20%20%20%20%20%20%20%20%20%20var%20icon_4f22de22c08a44058e4a52557724c94e%20%3D%20L.AwesomeMarkers.icon%28%0A%20%20%20%20%20%20%20%20%20%20%20%20%20%20%20%20%7B%22extraClasses%22%3A%20%22fa-rotate-0%22%2C%20%22icon%22%3A%20%22paint-brush%22%2C%20%22iconColor%22%3A%20%22white%22%2C%20%22markerColor%22%3A%20%22pink%22%2C%20%22prefix%22%3A%20%22fa%22%7D%0A%20%20%20%20%20%20%20%20%20%20%20%20%29%3B%0A%20%20%20%20%20%20%20%20%20%20%20%20marker_79f98cdedf1a4047b82e88421f95e9bc.setIcon%28icon_4f22de22c08a44058e4a52557724c94e%29%3B%0A%20%20%20%20%20%20%20%20%0A%20%20%20%20%0A%20%20%20%20%20%20%20%20var%20popup_53dc887f39e0498eada56df9c74d72ed%20%3D%20L.popup%28%7B%22maxWidth%22%3A%20%22100%25%22%7D%29%3B%0A%0A%20%20%20%20%20%20%20%20%0A%20%20%20%20%20%20%20%20%20%20%20%20var%20html_c1a4352b29a7419fa177304975f26351%20%3D%20%24%28%60%3Cdiv%20id%3D%22html_c1a4352b29a7419fa177304975f26351%22%20style%3D%22width%3A%20100.0%25%3B%20height%3A%20100.0%25%3B%22%3E%3Cb%3EThree%20Kings%3C/b%3C/div%3E%60%29%5B0%5D%3B%0A%20%20%20%20%20%20%20%20%20%20%20%20popup_53dc887f39e0498eada56df9c74d72ed.setContent%28html_c1a4352b29a7419fa177304975f26351%29%3B%0A%20%20%20%20%20%20%20%20%0A%0A%20%20%20%20%20%20%20%20marker_79f98cdedf1a4047b82e88421f95e9bc.bindPopup%28popup_53dc887f39e0498eada56df9c74d72ed%29%0A%20%20%20%20%20%20%20%20%3B%0A%0A%20%20%20%20%20%20%20%20%0A%20%20%20%20%0A%20%20%20%20%0A%20%20%20%20%20%20%20%20%20%20%20%20var%20marker_043502b2d4244844936cd825866141f4%20%3D%20L.marker%28%0A%20%20%20%20%20%20%20%20%20%20%20%20%20%20%20%20%5B45.52154502%2C%20-122.67831355502909%5D%2C%0A%20%20%20%20%20%20%20%20%20%20%20%20%20%20%20%20%7B%7D%0A%20%20%20%20%20%20%20%20%20%20%20%20%29.addTo%28map_6ab391207adf4e08adfcc6a4997a7ace%29%3B%0A%20%20%20%20%20%20%20%20%0A%20%20%20%20%0A%20%20%20%20%20%20%20%20%20%20%20%20var%20icon_c93a210b0d3041769594d58b44bfdb12%20%3D%20L.AwesomeMarkers.icon%28%0A%20%20%20%20%20%20%20%20%20%20%20%20%20%20%20%20%7B%22extraClasses%22%3A%20%22fa-rotate-0%22%2C%20%22icon%22%3A%20%22paint-brush%22%2C%20%22iconColor%22%3A%20%22white%22%2C%20%22markerColor%22%3A%20%22pink%22%2C%20%22prefix%22%3A%20%22fa%22%7D%0A%20%20%20%20%20%20%20%20%20%20%20%20%29%3B%0A%20%20%20%20%20%20%20%20%20%20%20%20marker_043502b2d4244844936cd825866141f4.setIcon%28icon_c93a210b0d3041769594d58b44bfdb12%29%3B%0A%20%20%20%20%20%20%20%20%0A%20%20%20%20%0A%20%20%20%20%20%20%20%20var%20popup_0ee94c4728114f9a8b0a9d7848a8dc14%20%3D%20L.popup%28%7B%22maxWidth%22%3A%20%22100%25%22%7D%29%3B%0A%0A%20%20%20%20%20%20%20%20%0A%20%20%20%20%20%20%20%20%20%20%20%20var%20html_daecd605aea74ddb86ad6041744f98b0%20%3D%20%24%28%60%3Cdiv%20id%3D%22html_daecd605aea74ddb86ad6041744f98b0%22%20style%3D%22width%3A%20100.0%25%3B%20height%3A%20100.0%25%3B%22%3E%3Cb%3EUnited%20States%20National%20Bank%3C/b%3C/div%3E%60%29%5B0%5D%3B%0A%20%20%20%20%20%20%20%20%20%20%20%20popup_0ee94c4728114f9a8b0a9d7848a8dc14.setContent%28html_daecd605aea74ddb86ad6041744f98b0%29%3B%0A%20%20%20%20%20%20%20%20%0A%0A%20%20%20%20%20%20%20%20marker_043502b2d4244844936cd825866141f4.bindPopup%28popup_0ee94c4728114f9a8b0a9d7848a8dc14%29%0A%20%20%20%20%20%20%20%20%3B%0A%0A%20%20%20%20%20%20%20%20%0A%20%20%20%20%0A%20%20%20%20%0A%20%20%20%20%20%20%20%20%20%20%20%20map_6ab391207adf4e08adfcc6a4997a7ace.fitBounds%28%0A%20%20%20%20%20%20%20%20%20%20%20%20%20%20%20%20%5B%5B45.51785%2C%20-122.68593500000001%5D%2C%20%5B45.53125541%2C%20-122.6733%5D%5D%2C%0A%20%20%20%20%20%20%20%20%20%20%20%20%20%20%20%20%7B%7D%0A%20%20%20%20%20%20%20%20%20%20%20%20%29%3B%0A%20%20%20%20%20%20%20%20%0A%3C/script%3E onload=\"this.contentDocument.open();this.contentDocument.write(    decodeURIComponent(this.getAttribute('data-html')));this.contentDocument.close();\" allowfullscreen webkitallowfullscreen mozallowfullscreen></iframe></div></div>"
      ],
      "text/plain": [
       "<folium.folium.Map at 0x459dba8>"
      ]
     },
     "execution_count": 25,
     "metadata": {},
     "output_type": "execute_result"
    }
   ],
   "source": [
    "m = folium.Map(tiles=\"Stamen Terrain\")\n",
    "\n",
    "for index, row in stops.iterrows():\n",
    "    if row['Type'] == 'Hotel':\n",
    "        folium.Marker(location=[stops['Latitude'][index], stops['Longitude'][index]], popup=\"<b>\" + stops['Stop'][index] + \"</b>\", icon=folium.Icon(color='lightblue', icon='hotel', prefix='fa')).add_to(m)\n",
    "    elif row['Type'] == 'Work':\n",
    "        folium.Marker(location=[stops['Latitude'][index], stops['Longitude'][index]], popup=\"<b>\" + stops['Stop'][index] + \"</b\", icon=folium.Icon(color='cadetblue', icon='briefcase', prefix='fa')).add_to(m)\n",
    "    elif row['Type'] == 'Train Station':\n",
    "        folium.Marker(location=[stops['Latitude'][index], stops['Longitude'][index]], popup=\"<b>\" + stops['Stop'][index] + \"</b\", icon=folium.Icon(color='red', icon='train', prefix='fa')).add_to(m)\n",
    "    elif row['Type'] == 'Park':\n",
    "        folium.Marker(location=[stops['Latitude'][index], stops['Longitude'][index]], popup=\"<b>\" + stops['Stop'][index] + \"</b\", icon=folium.Icon(color='lightgreen', icon='tree', prefix='fa')).add_to(m)\n",
    "    elif row['Type'] == 'Books':\n",
    "        folium.Marker(location=[stops['Latitude'][index], stops['Longitude'][index]], popup=\"<b>\" + stops['Stop'][index] + \"</b\", icon=folium.Icon(color='pink', icon='book', prefix='fa')).add_to(m)\n",
    "    elif row['Type'] == 'Art':\n",
    "        folium.Marker(location=[stops['Latitude'][index], stops['Longitude'][index]], popup=\"<b>\" + stops['Stop'][index] + \"</b\", icon=folium.Icon(color='pink', icon='paint-brush', prefix='fa')).add_to(m)\n",
    "    elif row['Type'] == 'Music':\n",
    "        folium.Marker(location=[stops['Latitude'][index], stops['Longitude'][index]], popup=\"<b>\" + stops['Stop'][index] + \"</b\", icon=folium.Icon(color='pink', icon='music', prefix='fa')).add_to(m)\n",
    "\n",
    "# Show the map again\n",
    "m.fit_bounds(m.get_bounds())\n",
    "m"
   ]
  },
  {
   "cell_type": "markdown",
   "metadata": {},
   "source": [
    "## 🤳 Onslaught of poorly-shot photos\n",
    "\n",
    "### King Street Station (`Seattle, WA`)\n",
    "\n",
    "| ![](https://lh3.googleusercontent.com/pw/AM-JKLWB10XT78oV2C-UHGYlqXRXJLw84FUSGXJ0q7viSr9ynS8HURJ2WKjjyEzq3dpCHO_A586tTrKQTVI5mq5YoItAISybXHooi5-YpxFbNdbNBclZLmX5H2QambZvWDUh2AR_cvzqe7txLjnqzhKsLnzg=w1322-h992-no?authuser=2) | ![](https://lh3.googleusercontent.com/pw/AM-JKLV51A8JOXLG9STQno74lJ9mIYLtXQe9muWCCt1L7lR8pLDUyt3zPBFOQjqeyoWLXMYK3067w3Fqh0Zo5BSYg4eGrFRlOryZs52So7qn6moAO6FMz47W8iaCE33wUHaxM5ycm8Y1zLzF5fXM7izeAHBc=w1322-h992-no?authuser=2) |\n",
    "| --- | --- |\n",
    "| ![](https://lh3.googleusercontent.com/pw/AM-JKLXPr_QD-cR3UYXsE-fxpooo5Gs1f5UsHU-SBbGCqBYh7eivy_zOK2opb1uveH6b1Gl6R4JBqoXIec-ATdSkqe4CtHeWs4Dg2--MZWmF2OXGB06L2oG-BfQo0ZTJsMD0qVNkWvr7VhvUITb57JLvnxR9=w1322-h992-no?authuser=2) | ![](https://lh3.googleusercontent.com/pw/AM-JKLUCjUjEWX61L9p95s8qGX07vK1E2qInQGdXl6140GVqRyrrqOjexHudxDbyMQlVU-S_lzN3FbjyfN5Vyi5DTTRFMbrS7im7OFG3z56oX9e0sP6NBEQcM3f4lxivocI9QSTVdADoBxoZjX1lXafIp5d_=w1322-h992-no?authuser=2) |\n",
    "| ![](https://lh3.googleusercontent.com/pw/AM-JKLUo7zDedn5FlyBSPytGwEHFSfjC81gu-awMZwPkwcrpWY1DNe2wzRDrU95ekyii4KU-W4IEYu9kSIYAMqgyapEUguyYrOJCYLmEAKT_TlwIAkoXarPaqVdlNXAz67Cix5yXXG0AqFYGPJS3sAueUbAq=w1064-h1418-no?authuser=2) | ![](https://lh3.googleusercontent.com/pw/AM-JKLXheAcpXUCGY4lqcIZh-D7Q1jZMZ-SMSrFxlkYCvo0ZrYZk71IAXXq-LkMRfcdN3CfXz8rtu5WX5cCTg2r6VAVsfDqhllz7GEoZvrg3b11bUvaCmu7MwKGQwwAGw-NLn0NzIsY5khkjjtkRpqR0_qhO=w1064-h1418-no?authuser=2) |\n",
    "\n",
    "### `503`: the Amtrak Cascades\n",
    "\n",
    "So much leg room, and a plugin for every seat! Clean, warm, and a delightful experience for the price ($29 one way); the seats were about as much space as you would have in first class on a domestic airplane.\n",
    "\n",
    "| ![](https://lh3.googleusercontent.com/pw/AM-JKLUtdRq7As77lI6JudiR9B3Sl-xLnYjBt1U77YMLZoS9XIAMVcFXvZadIwdA3UQd_vtdjKuB08yp7SwoTYPFuhus8ABKoeyx8vjPm9ic-gcrkbVcl7tdiusgg0W4nOY3IRwceM9V2xNQCGlt9bipgGpI=w1322-h992-no?authuser=2) | ![](https://lh3.googleusercontent.com/pw/AM-JKLU8HaGnjTsqTNv4eJA37-zM4gvnFxb6NciFlB2NJnk01JHoadJN_ESv5OlWV1o6l8T2dQb2l1VjVh9hHwklHEU9zmaOiFkJYQZ52b_DM-CfymjxKj1eNB7WwMVOdio9tuRY5PkGBl3TkvEKF-8SEzvr=w1064-h1418-no?authuser=2) |\n",
    "| --- | --- |\n",
    "\n",
    "#### Architecture in Downtown Portland\n",
    "\n",
    "| Image | Description |\n",
    "| --- | --- |\n",
    "| ![](https://lh3.googleusercontent.com/pw/AM-JKLXIdb3i_A4s1R2g34udpJHbvgn8D_T6lmQBl6WeJOVWUtsnr15-q8udE57YULowU6Yqe3MCVONIuqNaKIomrhxo9mX6pL8l6dOSnR3gFx2-FM6vZTwB8eEoeAnFMStAIMKdEQAVyVVX62eDN1_9dNC_=w1322-h992-no?authuser=2) | The [Bank of California](https://en.wikipedia.org/wiki/Bank_of_California_Building_(Portland,_Oregon)) building, constructed in the Italianate style. The exterior is terracotta with model trim, and features a beautiful bronze portico flanked with two bronze lamps. |\n",
    "| ![](https://lh3.googleusercontent.com/pw/AM-JKLXAmoh4QFhmPEoQSfn0Uf-e5hhkYRadAWHavT2aJBUQuk1Z8NBgcDG_BaCAXb4UU2f1D3VG1FwoBD6FtlRPRh0Y7bgcx8uZOk7RvhICX-68-p4P8rclmVq7ieXcUVddP8VTQ4CyJv4j7R_9SrFl6mmB=w1064-h1418-no?authuser=2) | Just across the street from the Three Kings building above, is the [U.S. National Bank Building](https://en.wikipedia.org/wiki/United_States_National_Bank_Building). From the description on Wikipedia: _\"The building features a four-story Corinthian colonnade at its eastern end (originally the principal façade) and makes extensive use of glazed terracotta. The interior is also decorated extensively with highly textured materials.\"_ <br> <br> The bronze bas relief panels on this door were designed by [Avard Fairbanks](https://en.wikipedia.org/wiki/Avard_Fairbanks), who also designed the sculptures and busts of Abraham Lincoln that are on display in the Supreme Court building. In case we already weren't feeling like slackers, Fairbanks attended art school at age 13 (?!), then put himself through medical school and earned a doctorate in anatomical studies to \"better represent the human body in his art\". <br> <br> _\"[The panels] depict noble concepts of American life, such as 'Knowledge and Service', 'Domestic Welfare', 'Progress through Direction', and so on.\"_ | \n",
    "| ![](https://lh3.googleusercontent.com/pw/AM-JKLWt3XtcX5qeQKx0bUXs7Cft9BgYj_5ELYWZ6eSZv47llo9hOymz5nszwnfrM7iDdIamS8yZU7kt1xeMAUfL6usl1WTnKwu5fgUyrUjMzwY637Ur8PW37ac2JAZORCzQzwlzLiv2KBZydLdaILpOMjVx=w1322-h992-no?authuser=2) | _\"The southern façade, along Stark Street, is 200 ft (61 m) long and features a line of 14 Corinthian pilasters. The 12 window bays on this side have frames made of cast iron. Above the pilasters and fourth-floor windows are a cornice and balustrade with a design similar to that used at the eastern end.\"_ <br> <br> This building is reputed to be modeled after the [Knickerbocker Trust Company](https://en.wikipedia.org/wiki/Knickerbocker_Trust_Company) in New York City; I'll have to visit it while I'm there, to compare and contrast. |\n",
    "\n",
    "### Portland's \"Old Town Chinatown\"\n",
    "\n",
    "Very much enjoyed walking around the [Lan Su Chinese Garden](https://en.wikipedia.org/wiki/Lan_Su_Chinese_Garden), which covers an entire city block. The park was built by 65 artisans from Suzhou, China, of imported materials (though all plants were grown locally). <br> <br> I loved the proximity to music venues, and to Powell's Books; but next time, I think I'll choose a different neighborhood to visit. Old Town is still very much in the process of urban renewal; and walking around at night did not quite feel safe.\n",
    "\n",
    "| ![](https://lh3.googleusercontent.com/pw/AM-JKLXpLo4H_Egz5IlldGJ9w9LfdcAWu7nj3FjR72NStmWb5qaOIYoPdBmCMpp9K9ns5VL28O-8N3JeX3iUsR3jcBhqbIWKwryccc367y2EnqNC8Q61R8dMkUPj7_O7MI-VlTzw-fBbabxcXYnRd3C9u2GC=w1064-h1418-no?authuser=2) | ![](https://lh3.googleusercontent.com/pw/AM-JKLVaWkwODOQB3-hhyDsReY_5fKNZu7Guxm3VHo0DuUwS6Etbd1roCkdeaqhHmYmB4_dMMT1VznYWyrgqZsCzr5Cu-TY_jEJSCH7U_uttt4p4oBAtp_Y8HcQC3rw6sQoSUaaPyeoAsTmBS1U_N81D52kc=w1322-h1182-no?authuser=2) |\n",
    "| --- | --- |\n",
    "\n",
    "### Powell's Books\n",
    "\n",
    "No trip to Portland is complete without a stop at [Powell's Books](https://www.powells.com/), the world's largest independent book store (and home of a _Princess Bride_-themed coffee shop). They also stock everything from Casey Michel's excellent book on financial corruption, [_American Kleptocracy_](https://www.powells.com/book/american-kleptocracy-9781250274526) to hard sci-fi / speculative fiction and physics textbooks. \n",
    "\n",
    "| ![](https://lh3.googleusercontent.com/pw/AM-JKLU9-8ELMcfA6BiUrBAE2h6cFD_PMNogekNmULmAzoXc5AtD-e6hEZidJR_amsIIZTTEo8JV2n37Lua8unj3peIMnaSViQ3atM5L2sECZ4VwjmbFNThrwCvP91bg1p00zRqGZ7uFOdb1SgDfpQ65WJhq=w1064-h1418-no?authuser=2) | ![](https://lh3.googleusercontent.com/pw/AM-JKLX347A9i1TKiIhV3rWkl12YPbaG5JMQT_yu5GQAst-S5zm3rbRToRggERf6OYnckRahX0MjIt4ZTzLdSlio6kGC3dBMf8tHw4MY5bPzYckhTiUCbd-nf2xyV4VM61pXp_jV7ueBUerZtP6uuVXFx4dL=w1064-h1418-no?authuser=2) \n",
    "| --- | --- |\n",
    "| ![](https://lh3.googleusercontent.com/pw/AM-JKLWiHhQ3SoCxiKdtpVKK087W3H8KsJqL5eVpthNE1DlY59LcU-o_RqCK_IksSbdeJ_Bd8mpiVvCwR0LjKiHhfOzRLTBQAfs943WIL1bougY_-fjpYPZ68D9pUU8GfmuKIyOL75Rv8VFbI5EvPBwAA9dq=w1064-h1418-no?authuser=2) | ![](https://lh3.googleusercontent.com/pw/AM-JKLU6532odbELogBMiCM5mo9cZAiQj4iUF88MeFlSADX0Kr5SFT6HZ0NwLccW5jlKqbyDWVO9gn9xdGwkFwXgP8pOEiq45WdtsTgof2nVjPZYkAT5urdHMOdNGSDU2YvHm0Ef9QBkO4KNg3HqmdUIsE5p=w1064-h1418-no?authuser=2) | \n",
    "\n",
    "### The Hoxton Hotel\n",
    "\n",
    "I chose to stay at the [Hoxton Hotel](https://thehoxton.com/portland/), a 10 minute walk from Union Station and into Portland's historic Old Town. The Hoxton was clean, bustling, and very well-decorated, with a delightful coffeeshop and restaurant on-site. They also proudly purvey the best latte I've had all year: an almond butter almond milk concoction, made with _actual almond butter_. Which makes it healthy, right?\n",
    "\n",
    "| ![](https://lh3.googleusercontent.com/pw/AM-JKLVgNi1LB_4yBx92jJv-lgBkmAE0qEkzEgEgne20LywiTzAAQTN-1gWtLYNgcWpxUrnBkm0kdVGMDz7MGnZE5P1qlzvVuW8WqfeVVCBNinU_tv-VJSPJJpaxXcyXsnLK7aGr4j8VxKLvUCwblPD1Klph=w1064-h1418-no?authuser=2) | ![](https://lh3.googleusercontent.com/pw/AM-JKLU1F6G4f5Ht8I-N-XUfDUfeL7iC7Ll-xOL1taswjyyEeajW7m-bjl0uoixEU8qnPsxBRduEopLz3W-AUhWc_i-Jl9g6Bb10hV9U-gxN0e2bjNiazpy-NUpv57BdCXaAlgmRo84VjwYNllXArVWMd8ee=w1322-h992-no?authuser=2) |\n",
    "| --- | --- |"
   ]
  },
  {
   "cell_type": "markdown",
   "metadata": {},
   "source": [
    "### Microsoft Office: Downtown Portland\n",
    "\n",
    "Immediately before heading out, I decided to spend the day working in the Microsoft office in downtown Portland. The office is quite close to the Portland Amtrak station, as well as several coffee shops; and was very lightly populated on Monday morning. The receptionist mentioned that a Beaverton office ([perhaps this one?](https://www.bizjournals.com/portland/news/2020/07/20/microsoft-portland-area-search-cloud-division.html)) was in the process of being remodeled... Will make sure to visit the next time I'm in town.\n",
    "\n",
    "Isn't that view of the [Fremont Bridge](https://www.lightthebridges.org/) over the Willamette lovely? (And apologies for the rain splotches on the last photo!)\n",
    "\n",
    "| ![](https://lh3.googleusercontent.com/pw/AM-JKLX4GsRhRi13EKMcMIzyG-YzW0Xv6xt1vfTD7goGr4wetHIINieaC5VcKL5B5MdvX8AnT0ugYCG4CSmt1-zYyFTakg2qGpurUQorjUTwzXHPGTLWgLn1ZzNFkVLaGUDWAoZDqL00r85uJpxu2H5IUlbO=w1522-h1142-no?authuser=2) | ![](https://lh3.googleusercontent.com/pw/AM-JKLVMdBo26eWNkuElI6lW9p3fjpFK6Y_yUppRW007lWGmWL-L8yAQPl4EoSslvZKdbJbJu5vkQHkMl44KPfxTk3tB1ds6bxg_r1g4PvWmoMTGE1ckOTgLMG3c4DRwK-tTIRztpiUO_wZ92FrNb69jOKOV=w1522-h1142-no?authuser=2) |\n",
    "| --- | --- |\n",
    "| ![](https://lh3.googleusercontent.com/pw/AM-JKLVtLZgeklFk9ksrzfCkinpXiDoMX5L14kwE06f6_P0Zs5HQjb9fR1NAEsJDIe_UqvJqweHNwS_Ymcp75PdTbQOKpu-Wl7vkbvRKeM9pj3G1yM-8S27XSYuLQrYkAVsY4F0ANjJBytfAahydeFwiFq1q=w1522-h1142-no?authuser=2) | ![](https://lh3.googleusercontent.com/pw/AM-JKLUfaxihU9CFvs1ChSpSNgPAQ6IMM50IKT7zp_bUuvDPNQMst8LjIo6wttENU38ccg8-6VHBYcd7XcKTU4Ww-v601Awy8Jh-cUrTMKKc_dKcv4QQ3nr5DmN1P8AViUJDxvc1yPwi4IspIbz1dHi2lh34=w1522-h1142-no?authuser=2) |"
   ]
  },
  {
   "cell_type": "markdown",
   "metadata": {},
   "source": [
    "### That's a wrap!\n",
    "\n",
    "...and now, onward to San Francisco."
   ]
  }
 ],
 "metadata": {
  "language_info": {
   "name": "python"
  },
  "orig_nbformat": 4
 },
 "nbformat": 4,
 "nbformat_minor": 2
}
