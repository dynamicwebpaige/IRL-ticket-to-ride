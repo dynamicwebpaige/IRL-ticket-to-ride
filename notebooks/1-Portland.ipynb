{
 "cells": [
  {
   "cell_type": "markdown",
   "metadata": {},
   "source": [
    "# 🚂⛰️ **IRL Ticket to Ride**: `Portland`\n",
    "### _December 12th - 13th_"
   ]
  },
  {
   "cell_type": "markdown",
   "metadata": {},
   "source": [
    "### Import libraries\n",
    "\n",
    "To visualize the data and the route maps, we'll be using `micropip` with Pyodide, which brings the Python 3.9 runtime and the entire Python scientific data science stack to WebAssembly; as well as several other data analysis and geographic visualization libraries:\n",
    "\n",
    "* [Folium](http://python-visualization.github.io/folium/): visualizes Python data on a `leaflet.js` map.\n",
    "* [Plotly](https://github.com/plotly/plotly.py): interactive graphing library for Python.\n",
    "* [Pandas](https://pandas.pydata.org/): open-source data analysis and manipulation tool, included out of the box with Pyodide.\n",
    "\n",
    "To launch this notebook using `github.dev`, simply press `.` on your computer keyboard, or swap `github.com` in your browser's URL to `github.dev`. Dependent on the speed of your internet connection, running the cell below should take somewhere between 20-45 seconds."
   ]
  },
  {
   "cell_type": "code",
   "execution_count": null,
   "metadata": {},
   "outputs": [
    {
     "name": "stderr",
     "output_type": "stream",
     "text": [
      "/lib/python3.9/site-packages/pandas/compat/__init__.py:117: UserWarning: Could not import the lzma module. Your installed Python is incomplete. Attempting to use lzma compression will result in a RuntimeError.\n",
      "  warnings.warn(msg)\n"
     ]
    }
   ],
   "source": [
    "import pyodide\n",
    "import micropip\n",
    "\n",
    "await micropip.install('plotly')\n",
    "await micropip.install('folium')\n",
    "\n",
    "import plotly.graph_objects as go\n",
    "import pandas as pd\n",
    "import folium"
   ]
  },
  {
   "cell_type": "markdown",
   "metadata": {},
   "source": [
    "### Import the data\n",
    "\n",
    "First we'll ingest the data describing train stops. The features included in this data set are straightforward: `Latitude` and `Longitude` for each of the stations, as well as `Location` and `Time` and `Date` of when I'll be passing through."
   ]
  },
  {
   "cell_type": "code",
   "execution_count": null,
   "metadata": {},
   "outputs": [],
   "source": [
    "df = pd.read_csv(pyodide.open_url('https://raw.githubusercontent.com/dynamicwebpaige/IRL-ticket-to-ride/main/data/train-stations.csv'))\n",
    "stops = pd.read_csv(pyodide.open_url('https://raw.githubusercontent.com/dynamicwebpaige/ticket-to-ride/main/data/activities-and-stops.csv?token=AA4KKW5J24TWRBIZILDP4IDBXQTZW'))"
   ]
  },
  {
   "cell_type": "code",
   "execution_count": 3,
   "metadata": {},
   "outputs": [
    {
     "data": {
      "text/html": [
       "<div>\n",
       "<style scoped>\n",
       "    .dataframe tbody tr th:only-of-type {\n",
       "        vertical-align: middle;\n",
       "    }\n",
       "\n",
       "    .dataframe tbody tr th {\n",
       "        vertical-align: top;\n",
       "    }\n",
       "\n",
       "    .dataframe thead th {\n",
       "        text-align: right;\n",
       "    }\n",
       "</style>\n",
       "<table border=\"1\" class=\"dataframe\">\n",
       "  <thead>\n",
       "    <tr style=\"text-align: right;\">\n",
       "      <th></th>\n",
       "      <th>Time</th>\n",
       "      <th>Date</th>\n",
       "      <th>Location</th>\n",
       "    </tr>\n",
       "  </thead>\n",
       "  <tbody>\n",
       "    <tr>\n",
       "      <th>0</th>\n",
       "      <td>7:22</td>\n",
       "      <td>December 12, 2021</td>\n",
       "      <td>Seattle, WA</td>\n",
       "    </tr>\n",
       "    <tr>\n",
       "      <th>1</th>\n",
       "      <td>7:34</td>\n",
       "      <td>December 12, 2021</td>\n",
       "      <td>Tukwila, WA</td>\n",
       "    </tr>\n",
       "    <tr>\n",
       "      <th>2</th>\n",
       "      <td>8:05</td>\n",
       "      <td>December 12, 2021</td>\n",
       "      <td>Tacoma, WA</td>\n",
       "    </tr>\n",
       "    <tr>\n",
       "      <th>3</th>\n",
       "      <td>8:38</td>\n",
       "      <td>December 12, 2021</td>\n",
       "      <td>Olympia-Lacey, WA</td>\n",
       "    </tr>\n",
       "    <tr>\n",
       "      <th>4</th>\n",
       "      <td>8:58</td>\n",
       "      <td>December 12, 2021</td>\n",
       "      <td>Centralia, WA</td>\n",
       "    </tr>\n",
       "    <tr>\n",
       "      <th>5</th>\n",
       "      <td>9:38</td>\n",
       "      <td>December 12, 2021</td>\n",
       "      <td>Kelso-Longview, WA</td>\n",
       "    </tr>\n",
       "    <tr>\n",
       "      <th>6</th>\n",
       "      <td>10:19</td>\n",
       "      <td>December 12, 2021</td>\n",
       "      <td>Vancouver, WA</td>\n",
       "    </tr>\n",
       "    <tr>\n",
       "      <th>7</th>\n",
       "      <td>10:47</td>\n",
       "      <td>December 12, 2021</td>\n",
       "      <td>Portland, OR</td>\n",
       "    </tr>\n",
       "  </tbody>\n",
       "</table>\n",
       "</div>"
      ],
      "text/plain": [
       "    Time               Date            Location\n",
       "0   7:22  December 12, 2021         Seattle, WA\n",
       "1   7:34  December 12, 2021         Tukwila, WA\n",
       "2   8:05  December 12, 2021          Tacoma, WA\n",
       "3   8:38  December 12, 2021   Olympia-Lacey, WA\n",
       "4   8:58  December 12, 2021       Centralia, WA\n",
       "5   9:38  December 12, 2021  Kelso-Longview, WA\n",
       "6  10:19  December 12, 2021       Vancouver, WA\n",
       "7  10:47  December 12, 2021        Portland, OR"
      ]
     },
     "execution_count": 3,
     "metadata": {},
     "output_type": "execute_result"
    }
   ],
   "source": [
    "# Segment out the Portland stops.\n",
    "Portland = df.iloc[0:8]\n",
    "Portland[['Time','Date','Location']]"
   ]
  },
  {
   "cell_type": "markdown",
   "metadata": {},
   "source": [
    "### Seattle to Portland: the trip down\n",
    "\n",
    "![](https://upload.wikimedia.org/wikipedia/commons/2/22/AmtrakCascadesEdmonds.jpg)\n",
    "\n",
    "_Beautiful!_ \n",
    "\n",
    "The train that I'll be riding through these cities is called the [Amtrak Cascades](https://en.wikipedia.org/wiki/Amtrak_Cascades). Add some more details about the train, and about its history. If it has had any appearances in films or literature, list them here."
   ]
  },
  {
   "cell_type": "code",
   "execution_count": 20,
   "metadata": {},
   "outputs": [
    {
     "data": {
      "text/html": [
       "<div style=\"width:100%;\"><div style=\"position:relative;width:100%;height:0;padding-bottom:60%;\"><span style=\"color:#565656\">Make this Notebook Trusted to load map: File -> Trust Notebook</span><iframe src=\"about:blank\" style=\"position:absolute;width:100%;height:100%;left:0;top:0;border:none !important;\" data-html=%3C%21DOCTYPE%20html%3E%0A%3Chead%3E%20%20%20%20%0A%20%20%20%20%3Cmeta%20http-equiv%3D%22content-type%22%20content%3D%22text/html%3B%20charset%3DUTF-8%22%20/%3E%0A%20%20%20%20%0A%20%20%20%20%20%20%20%20%3Cscript%3E%0A%20%20%20%20%20%20%20%20%20%20%20%20L_NO_TOUCH%20%3D%20false%3B%0A%20%20%20%20%20%20%20%20%20%20%20%20L_DISABLE_3D%20%3D%20false%3B%0A%20%20%20%20%20%20%20%20%3C/script%3E%0A%20%20%20%20%0A%20%20%20%20%3Cstyle%3Ehtml%2C%20body%20%7Bwidth%3A%20100%25%3Bheight%3A%20100%25%3Bmargin%3A%200%3Bpadding%3A%200%3B%7D%3C/style%3E%0A%20%20%20%20%3Cstyle%3E%23map%20%7Bposition%3Aabsolute%3Btop%3A0%3Bbottom%3A0%3Bright%3A0%3Bleft%3A0%3B%7D%3C/style%3E%0A%20%20%20%20%3Cscript%20src%3D%22https%3A//cdn.jsdelivr.net/npm/leaflet%401.6.0/dist/leaflet.js%22%3E%3C/script%3E%0A%20%20%20%20%3Cscript%20src%3D%22https%3A//code.jquery.com/jquery-1.12.4.min.js%22%3E%3C/script%3E%0A%20%20%20%20%3Cscript%20src%3D%22https%3A//maxcdn.bootstrapcdn.com/bootstrap/3.2.0/js/bootstrap.min.js%22%3E%3C/script%3E%0A%20%20%20%20%3Cscript%20src%3D%22https%3A//cdnjs.cloudflare.com/ajax/libs/Leaflet.awesome-markers/2.0.2/leaflet.awesome-markers.js%22%3E%3C/script%3E%0A%20%20%20%20%3Clink%20rel%3D%22stylesheet%22%20href%3D%22https%3A//cdn.jsdelivr.net/npm/leaflet%401.6.0/dist/leaflet.css%22/%3E%0A%20%20%20%20%3Clink%20rel%3D%22stylesheet%22%20href%3D%22https%3A//maxcdn.bootstrapcdn.com/bootstrap/3.2.0/css/bootstrap.min.css%22/%3E%0A%20%20%20%20%3Clink%20rel%3D%22stylesheet%22%20href%3D%22https%3A//maxcdn.bootstrapcdn.com/bootstrap/3.2.0/css/bootstrap-theme.min.css%22/%3E%0A%20%20%20%20%3Clink%20rel%3D%22stylesheet%22%20href%3D%22https%3A//maxcdn.bootstrapcdn.com/font-awesome/4.6.3/css/font-awesome.min.css%22/%3E%0A%20%20%20%20%3Clink%20rel%3D%22stylesheet%22%20href%3D%22https%3A//cdnjs.cloudflare.com/ajax/libs/Leaflet.awesome-markers/2.0.2/leaflet.awesome-markers.css%22/%3E%0A%20%20%20%20%3Clink%20rel%3D%22stylesheet%22%20href%3D%22https%3A//cdn.jsdelivr.net/gh/python-visualization/folium/folium/templates/leaflet.awesome.rotate.min.css%22/%3E%0A%20%20%20%20%0A%20%20%20%20%20%20%20%20%20%20%20%20%3Cmeta%20name%3D%22viewport%22%20content%3D%22width%3Ddevice-width%2C%0A%20%20%20%20%20%20%20%20%20%20%20%20%20%20%20%20initial-scale%3D1.0%2C%20maximum-scale%3D1.0%2C%20user-scalable%3Dno%22%20/%3E%0A%20%20%20%20%20%20%20%20%20%20%20%20%3Cstyle%3E%0A%20%20%20%20%20%20%20%20%20%20%20%20%20%20%20%20%23map_75132323a12b444e9e9cf842e2eb346b%20%7B%0A%20%20%20%20%20%20%20%20%20%20%20%20%20%20%20%20%20%20%20%20position%3A%20relative%3B%0A%20%20%20%20%20%20%20%20%20%20%20%20%20%20%20%20%20%20%20%20width%3A%20100.0%25%3B%0A%20%20%20%20%20%20%20%20%20%20%20%20%20%20%20%20%20%20%20%20height%3A%20100.0%25%3B%0A%20%20%20%20%20%20%20%20%20%20%20%20%20%20%20%20%20%20%20%20left%3A%200.0%25%3B%0A%20%20%20%20%20%20%20%20%20%20%20%20%20%20%20%20%20%20%20%20top%3A%200.0%25%3B%0A%20%20%20%20%20%20%20%20%20%20%20%20%20%20%20%20%7D%0A%20%20%20%20%20%20%20%20%20%20%20%20%3C/style%3E%0A%20%20%20%20%20%20%20%20%0A%3C/head%3E%0A%3Cbody%3E%20%20%20%20%0A%20%20%20%20%0A%20%20%20%20%20%20%20%20%20%20%20%20%3Cdiv%20class%3D%22folium-map%22%20id%3D%22map_75132323a12b444e9e9cf842e2eb346b%22%20%3E%3C/div%3E%0A%20%20%20%20%20%20%20%20%0A%3C/body%3E%0A%3Cscript%3E%20%20%20%20%0A%20%20%20%20%0A%20%20%20%20%20%20%20%20%20%20%20%20var%20map_75132323a12b444e9e9cf842e2eb346b%20%3D%20L.map%28%0A%20%20%20%20%20%20%20%20%20%20%20%20%20%20%20%20%22map_75132323a12b444e9e9cf842e2eb346b%22%2C%0A%20%20%20%20%20%20%20%20%20%20%20%20%20%20%20%20%7B%0A%20%20%20%20%20%20%20%20%20%20%20%20%20%20%20%20%20%20%20%20center%3A%20%5B0%2C%200%5D%2C%0A%20%20%20%20%20%20%20%20%20%20%20%20%20%20%20%20%20%20%20%20crs%3A%20L.CRS.EPSG3857%2C%0A%20%20%20%20%20%20%20%20%20%20%20%20%20%20%20%20%20%20%20%20zoom%3A%201%2C%0A%20%20%20%20%20%20%20%20%20%20%20%20%20%20%20%20%20%20%20%20zoomControl%3A%20true%2C%0A%20%20%20%20%20%20%20%20%20%20%20%20%20%20%20%20%20%20%20%20preferCanvas%3A%20false%2C%0A%20%20%20%20%20%20%20%20%20%20%20%20%20%20%20%20%7D%0A%20%20%20%20%20%20%20%20%20%20%20%20%29%3B%0A%0A%20%20%20%20%20%20%20%20%20%20%20%20%0A%0A%20%20%20%20%20%20%20%20%0A%20%20%20%20%0A%20%20%20%20%20%20%20%20%20%20%20%20var%20tile_layer_ea0dd49d15cd4b84b90166dc4a94a95c%20%3D%20L.tileLayer%28%0A%20%20%20%20%20%20%20%20%20%20%20%20%20%20%20%20%22https%3A//stamen-tiles-%7Bs%7D.a.ssl.fastly.net/terrain/%7Bz%7D/%7Bx%7D/%7By%7D.jpg%22%2C%0A%20%20%20%20%20%20%20%20%20%20%20%20%20%20%20%20%7B%22attribution%22%3A%20%22Map%20tiles%20by%20%5Cu003ca%20href%3D%5C%22http%3A//stamen.com%5C%22%5Cu003eStamen%20Design%5Cu003c/a%5Cu003e%2C%20under%20%5Cu003ca%20href%3D%5C%22http%3A//creativecommons.org/licenses/by/3.0%5C%22%5Cu003eCC%20BY%203.0%5Cu003c/a%5Cu003e.%20Data%20by%20%5Cu0026copy%3B%20%5Cu003ca%20href%3D%5C%22http%3A//openstreetmap.org%5C%22%5Cu003eOpenStreetMap%5Cu003c/a%5Cu003e%2C%20under%20%5Cu003ca%20href%3D%5C%22http%3A//creativecommons.org/licenses/by-sa/3.0%5C%22%5Cu003eCC%20BY%20SA%5Cu003c/a%5Cu003e.%22%2C%20%22detectRetina%22%3A%20false%2C%20%22maxNativeZoom%22%3A%2018%2C%20%22maxZoom%22%3A%2018%2C%20%22minZoom%22%3A%200%2C%20%22noWrap%22%3A%20false%2C%20%22opacity%22%3A%201%2C%20%22subdomains%22%3A%20%22abc%22%2C%20%22tms%22%3A%20false%7D%0A%20%20%20%20%20%20%20%20%20%20%20%20%29.addTo%28map_75132323a12b444e9e9cf842e2eb346b%29%3B%0A%20%20%20%20%20%20%20%20%0A%20%20%20%20%0A%20%20%20%20%20%20%20%20%20%20%20%20var%20marker_b4c1a1bfb2ec462aa5fbd565d3ce1e88%20%3D%20L.marker%28%0A%20%20%20%20%20%20%20%20%20%20%20%20%20%20%20%20%5B47.61362861%2C%20-122.3530159%5D%2C%0A%20%20%20%20%20%20%20%20%20%20%20%20%20%20%20%20%7B%7D%0A%20%20%20%20%20%20%20%20%20%20%20%20%29.addTo%28map_75132323a12b444e9e9cf842e2eb346b%29%3B%0A%20%20%20%20%20%20%20%20%0A%20%20%20%20%0A%20%20%20%20%20%20%20%20%20%20%20%20var%20icon_bbf5f3f9b7264c9a82889a52171a315d%20%3D%20L.AwesomeMarkers.icon%28%0A%20%20%20%20%20%20%20%20%20%20%20%20%20%20%20%20%7B%22extraClasses%22%3A%20%22fa-rotate-0%22%2C%20%22icon%22%3A%20%22train%22%2C%20%22iconColor%22%3A%20%22white%22%2C%20%22markerColor%22%3A%20%22orange%22%2C%20%22prefix%22%3A%20%22fa%22%7D%0A%20%20%20%20%20%20%20%20%20%20%20%20%29%3B%0A%20%20%20%20%20%20%20%20%20%20%20%20marker_b4c1a1bfb2ec462aa5fbd565d3ce1e88.setIcon%28icon_bbf5f3f9b7264c9a82889a52171a315d%29%3B%0A%20%20%20%20%20%20%20%20%0A%20%20%20%20%0A%20%20%20%20%20%20%20%20var%20popup_562dd6438f144593859e87f04d6b77f1%20%3D%20L.popup%28%7B%22maxWidth%22%3A%20%22100%25%22%7D%29%3B%0A%0A%20%20%20%20%20%20%20%20%0A%20%20%20%20%20%20%20%20%20%20%20%20var%20html_577d7693b8e04134bee9fc2f870e8981%20%3D%20%24%28%60%3Cdiv%20id%3D%22html_577d7693b8e04134bee9fc2f870e8981%22%20style%3D%22width%3A%20100.0%25%3B%20height%3A%20100.0%25%3B%22%3E%3Cb%3ESeattle%2C%20WA%3C/b%3E%3Cbr%3E%3Cbr%3EDecember%2012%2C%202021%3Cbr%3E%3Cbr%3E7%3A22%3C/div%3E%60%29%5B0%5D%3B%0A%20%20%20%20%20%20%20%20%20%20%20%20popup_562dd6438f144593859e87f04d6b77f1.setContent%28html_577d7693b8e04134bee9fc2f870e8981%29%3B%0A%20%20%20%20%20%20%20%20%0A%0A%20%20%20%20%20%20%20%20marker_b4c1a1bfb2ec462aa5fbd565d3ce1e88.bindPopup%28popup_562dd6438f144593859e87f04d6b77f1%29%0A%20%20%20%20%20%20%20%20%3B%0A%0A%20%20%20%20%20%20%20%20%0A%20%20%20%20%0A%20%20%20%20%0A%20%20%20%20%20%20%20%20%20%20%20%20var%20marker_6478e48e71a1439b9cd8d4260a3eadd6%20%3D%20L.marker%28%0A%20%20%20%20%20%20%20%20%20%20%20%20%20%20%20%20%5B47.46108662%2C%20-122.24026880000001%5D%2C%0A%20%20%20%20%20%20%20%20%20%20%20%20%20%20%20%20%7B%7D%0A%20%20%20%20%20%20%20%20%20%20%20%20%29.addTo%28map_75132323a12b444e9e9cf842e2eb346b%29%3B%0A%20%20%20%20%20%20%20%20%0A%20%20%20%20%0A%20%20%20%20%20%20%20%20%20%20%20%20var%20icon_783734b4af0e499a8f3e77edcc536f57%20%3D%20L.AwesomeMarkers.icon%28%0A%20%20%20%20%20%20%20%20%20%20%20%20%20%20%20%20%7B%22extraClasses%22%3A%20%22fa-rotate-0%22%2C%20%22icon%22%3A%20%22train%22%2C%20%22iconColor%22%3A%20%22white%22%2C%20%22markerColor%22%3A%20%22orange%22%2C%20%22prefix%22%3A%20%22fa%22%7D%0A%20%20%20%20%20%20%20%20%20%20%20%20%29%3B%0A%20%20%20%20%20%20%20%20%20%20%20%20marker_6478e48e71a1439b9cd8d4260a3eadd6.setIcon%28icon_783734b4af0e499a8f3e77edcc536f57%29%3B%0A%20%20%20%20%20%20%20%20%0A%20%20%20%20%0A%20%20%20%20%20%20%20%20var%20popup_0f18dc8018054c7e8266e1656a339a9a%20%3D%20L.popup%28%7B%22maxWidth%22%3A%20%22100%25%22%7D%29%3B%0A%0A%20%20%20%20%20%20%20%20%0A%20%20%20%20%20%20%20%20%20%20%20%20var%20html_bf89246a8fec4fc3ab3b39d90b7885df%20%3D%20%24%28%60%3Cdiv%20id%3D%22html_bf89246a8fec4fc3ab3b39d90b7885df%22%20style%3D%22width%3A%20100.0%25%3B%20height%3A%20100.0%25%3B%22%3E%3Cb%3ETukwila%2C%20WA%3C/b%3E%3Cbr%3E%3Cbr%3EDecember%2012%2C%202021%3Cbr%3E%3Cbr%3E7%3A34%3C/div%3E%60%29%5B0%5D%3B%0A%20%20%20%20%20%20%20%20%20%20%20%20popup_0f18dc8018054c7e8266e1656a339a9a.setContent%28html_bf89246a8fec4fc3ab3b39d90b7885df%29%3B%0A%20%20%20%20%20%20%20%20%0A%0A%20%20%20%20%20%20%20%20marker_6478e48e71a1439b9cd8d4260a3eadd6.bindPopup%28popup_0f18dc8018054c7e8266e1656a339a9a%29%0A%20%20%20%20%20%20%20%20%3B%0A%0A%20%20%20%20%20%20%20%20%0A%20%20%20%20%0A%20%20%20%20%0A%20%20%20%20%20%20%20%20%20%20%20%20var%20marker_658d29adcd1c407d83b384f41ebffa81%20%3D%20L.marker%28%0A%20%20%20%20%20%20%20%20%20%20%20%20%20%20%20%20%5B47.24189459%2C%20-122.42051880000001%5D%2C%0A%20%20%20%20%20%20%20%20%20%20%20%20%20%20%20%20%7B%7D%0A%20%20%20%20%20%20%20%20%20%20%20%20%29.addTo%28map_75132323a12b444e9e9cf842e2eb346b%29%3B%0A%20%20%20%20%20%20%20%20%0A%20%20%20%20%0A%20%20%20%20%20%20%20%20%20%20%20%20var%20icon_db2ddee670cf4f229c7a3c0a6bf655b9%20%3D%20L.AwesomeMarkers.icon%28%0A%20%20%20%20%20%20%20%20%20%20%20%20%20%20%20%20%7B%22extraClasses%22%3A%20%22fa-rotate-0%22%2C%20%22icon%22%3A%20%22train%22%2C%20%22iconColor%22%3A%20%22white%22%2C%20%22markerColor%22%3A%20%22orange%22%2C%20%22prefix%22%3A%20%22fa%22%7D%0A%20%20%20%20%20%20%20%20%20%20%20%20%29%3B%0A%20%20%20%20%20%20%20%20%20%20%20%20marker_658d29adcd1c407d83b384f41ebffa81.setIcon%28icon_db2ddee670cf4f229c7a3c0a6bf655b9%29%3B%0A%20%20%20%20%20%20%20%20%0A%20%20%20%20%0A%20%20%20%20%20%20%20%20var%20popup_5552c13041b64f65a8cde3cf51344d78%20%3D%20L.popup%28%7B%22maxWidth%22%3A%20%22100%25%22%7D%29%3B%0A%0A%20%20%20%20%20%20%20%20%0A%20%20%20%20%20%20%20%20%20%20%20%20var%20html_116a1535be0b4e0a9b610208c17c1ee7%20%3D%20%24%28%60%3Cdiv%20id%3D%22html_116a1535be0b4e0a9b610208c17c1ee7%22%20style%3D%22width%3A%20100.0%25%3B%20height%3A%20100.0%25%3B%22%3E%3Cb%3ETacoma%2C%20WA%3C/b%3E%3Cbr%3E%3Cbr%3EDecember%2012%2C%202021%3Cbr%3E%3Cbr%3E8%3A05%3C/div%3E%60%29%5B0%5D%3B%0A%20%20%20%20%20%20%20%20%20%20%20%20popup_5552c13041b64f65a8cde3cf51344d78.setContent%28html_116a1535be0b4e0a9b610208c17c1ee7%29%3B%0A%20%20%20%20%20%20%20%20%0A%0A%20%20%20%20%20%20%20%20marker_658d29adcd1c407d83b384f41ebffa81.bindPopup%28popup_5552c13041b64f65a8cde3cf51344d78%29%0A%20%20%20%20%20%20%20%20%3B%0A%0A%20%20%20%20%20%20%20%20%0A%20%20%20%20%0A%20%20%20%20%0A%20%20%20%20%20%20%20%20%20%20%20%20var%20marker_816daa04ead0404c8e0bc4aaec48b7a9%20%3D%20L.marker%28%0A%20%20%20%20%20%20%20%20%20%20%20%20%20%20%20%20%5B46.99127853%2C%20-122.79407379999999%5D%2C%0A%20%20%20%20%20%20%20%20%20%20%20%20%20%20%20%20%7B%7D%0A%20%20%20%20%20%20%20%20%20%20%20%20%29.addTo%28map_75132323a12b444e9e9cf842e2eb346b%29%3B%0A%20%20%20%20%20%20%20%20%0A%20%20%20%20%0A%20%20%20%20%20%20%20%20%20%20%20%20var%20icon_9f68d6315b40455b8881b119fa2ff607%20%3D%20L.AwesomeMarkers.icon%28%0A%20%20%20%20%20%20%20%20%20%20%20%20%20%20%20%20%7B%22extraClasses%22%3A%20%22fa-rotate-0%22%2C%20%22icon%22%3A%20%22train%22%2C%20%22iconColor%22%3A%20%22white%22%2C%20%22markerColor%22%3A%20%22orange%22%2C%20%22prefix%22%3A%20%22fa%22%7D%0A%20%20%20%20%20%20%20%20%20%20%20%20%29%3B%0A%20%20%20%20%20%20%20%20%20%20%20%20marker_816daa04ead0404c8e0bc4aaec48b7a9.setIcon%28icon_9f68d6315b40455b8881b119fa2ff607%29%3B%0A%20%20%20%20%20%20%20%20%0A%20%20%20%20%0A%20%20%20%20%20%20%20%20var%20popup_bd1b88ea0c804e1bb27741662ddd2997%20%3D%20L.popup%28%7B%22maxWidth%22%3A%20%22100%25%22%7D%29%3B%0A%0A%20%20%20%20%20%20%20%20%0A%20%20%20%20%20%20%20%20%20%20%20%20var%20html_9c15934b049249bbb6a90e4307b5dd4b%20%3D%20%24%28%60%3Cdiv%20id%3D%22html_9c15934b049249bbb6a90e4307b5dd4b%22%20style%3D%22width%3A%20100.0%25%3B%20height%3A%20100.0%25%3B%22%3E%3Cb%3EOlympia-Lacey%2C%20WA%3C/b%3E%3Cbr%3E%3Cbr%3EDecember%2012%2C%202021%3Cbr%3E%3Cbr%3E8%3A38%3C/div%3E%60%29%5B0%5D%3B%0A%20%20%20%20%20%20%20%20%20%20%20%20popup_bd1b88ea0c804e1bb27741662ddd2997.setContent%28html_9c15934b049249bbb6a90e4307b5dd4b%29%3B%0A%20%20%20%20%20%20%20%20%0A%0A%20%20%20%20%20%20%20%20marker_816daa04ead0404c8e0bc4aaec48b7a9.bindPopup%28popup_bd1b88ea0c804e1bb27741662ddd2997%29%0A%20%20%20%20%20%20%20%20%3B%0A%0A%20%20%20%20%20%20%20%20%0A%20%20%20%20%0A%20%20%20%20%0A%20%20%20%20%20%20%20%20%20%20%20%20var%20marker_7eac13dad4a943d0811c5084b6697f78%20%3D%20L.marker%28%0A%20%20%20%20%20%20%20%20%20%20%20%20%20%20%20%20%5B46.7174755%2C%20-122.95307679999999%5D%2C%0A%20%20%20%20%20%20%20%20%20%20%20%20%20%20%20%20%7B%7D%0A%20%20%20%20%20%20%20%20%20%20%20%20%29.addTo%28map_75132323a12b444e9e9cf842e2eb346b%29%3B%0A%20%20%20%20%20%20%20%20%0A%20%20%20%20%0A%20%20%20%20%20%20%20%20%20%20%20%20var%20icon_41b3b220966a46a89ec003d5700a3be1%20%3D%20L.AwesomeMarkers.icon%28%0A%20%20%20%20%20%20%20%20%20%20%20%20%20%20%20%20%7B%22extraClasses%22%3A%20%22fa-rotate-0%22%2C%20%22icon%22%3A%20%22train%22%2C%20%22iconColor%22%3A%20%22white%22%2C%20%22markerColor%22%3A%20%22orange%22%2C%20%22prefix%22%3A%20%22fa%22%7D%0A%20%20%20%20%20%20%20%20%20%20%20%20%29%3B%0A%20%20%20%20%20%20%20%20%20%20%20%20marker_7eac13dad4a943d0811c5084b6697f78.setIcon%28icon_41b3b220966a46a89ec003d5700a3be1%29%3B%0A%20%20%20%20%20%20%20%20%0A%20%20%20%20%0A%20%20%20%20%20%20%20%20var%20popup_876aa6fb3ade433b93463dd390fe93a4%20%3D%20L.popup%28%7B%22maxWidth%22%3A%20%22100%25%22%7D%29%3B%0A%0A%20%20%20%20%20%20%20%20%0A%20%20%20%20%20%20%20%20%20%20%20%20var%20html_1df9ab3bd51d493f9bf538671086f184%20%3D%20%24%28%60%3Cdiv%20id%3D%22html_1df9ab3bd51d493f9bf538671086f184%22%20style%3D%22width%3A%20100.0%25%3B%20height%3A%20100.0%25%3B%22%3E%3Cb%3ECentralia%2C%20WA%3C/b%3E%3Cbr%3E%3Cbr%3EDecember%2012%2C%202021%3Cbr%3E%3Cbr%3E8%3A58%3C/div%3E%60%29%5B0%5D%3B%0A%20%20%20%20%20%20%20%20%20%20%20%20popup_876aa6fb3ade433b93463dd390fe93a4.setContent%28html_1df9ab3bd51d493f9bf538671086f184%29%3B%0A%20%20%20%20%20%20%20%20%0A%0A%20%20%20%20%20%20%20%20marker_7eac13dad4a943d0811c5084b6697f78.bindPopup%28popup_876aa6fb3ade433b93463dd390fe93a4%29%0A%20%20%20%20%20%20%20%20%3B%0A%0A%20%20%20%20%20%20%20%20%0A%20%20%20%20%0A%20%20%20%20%0A%20%20%20%20%20%20%20%20%20%20%20%20var%20marker_2dcdc64d3bd045daa05e40bfc8e6b169%20%3D%20L.marker%28%0A%20%20%20%20%20%20%20%20%20%20%20%20%20%20%20%20%5B46.14226948%2C%20-122.91303070000001%5D%2C%0A%20%20%20%20%20%20%20%20%20%20%20%20%20%20%20%20%7B%7D%0A%20%20%20%20%20%20%20%20%20%20%20%20%29.addTo%28map_75132323a12b444e9e9cf842e2eb346b%29%3B%0A%20%20%20%20%20%20%20%20%0A%20%20%20%20%0A%20%20%20%20%20%20%20%20%20%20%20%20var%20icon_b36c0c8e579f412284ee5f6b103b09a2%20%3D%20L.AwesomeMarkers.icon%28%0A%20%20%20%20%20%20%20%20%20%20%20%20%20%20%20%20%7B%22extraClasses%22%3A%20%22fa-rotate-0%22%2C%20%22icon%22%3A%20%22train%22%2C%20%22iconColor%22%3A%20%22white%22%2C%20%22markerColor%22%3A%20%22orange%22%2C%20%22prefix%22%3A%20%22fa%22%7D%0A%20%20%20%20%20%20%20%20%20%20%20%20%29%3B%0A%20%20%20%20%20%20%20%20%20%20%20%20marker_2dcdc64d3bd045daa05e40bfc8e6b169.setIcon%28icon_b36c0c8e579f412284ee5f6b103b09a2%29%3B%0A%20%20%20%20%20%20%20%20%0A%20%20%20%20%0A%20%20%20%20%20%20%20%20var%20popup_031f80ad3de94e149ed93ecdd299b31e%20%3D%20L.popup%28%7B%22maxWidth%22%3A%20%22100%25%22%7D%29%3B%0A%0A%20%20%20%20%20%20%20%20%0A%20%20%20%20%20%20%20%20%20%20%20%20var%20html_cb80b06426164e2db97ac70fec6af269%20%3D%20%24%28%60%3Cdiv%20id%3D%22html_cb80b06426164e2db97ac70fec6af269%22%20style%3D%22width%3A%20100.0%25%3B%20height%3A%20100.0%25%3B%22%3E%3Cb%3EKelso-Longview%2C%20WA%3C/b%3E%3Cbr%3E%3Cbr%3EDecember%2012%2C%202021%3Cbr%3E%3Cbr%3E9%3A38%3C/div%3E%60%29%5B0%5D%3B%0A%20%20%20%20%20%20%20%20%20%20%20%20popup_031f80ad3de94e149ed93ecdd299b31e.setContent%28html_cb80b06426164e2db97ac70fec6af269%29%3B%0A%20%20%20%20%20%20%20%20%0A%0A%20%20%20%20%20%20%20%20marker_2dcdc64d3bd045daa05e40bfc8e6b169.bindPopup%28popup_031f80ad3de94e149ed93ecdd299b31e%29%0A%20%20%20%20%20%20%20%20%3B%0A%0A%20%20%20%20%20%20%20%20%0A%20%20%20%20%0A%20%20%20%20%0A%20%20%20%20%20%20%20%20%20%20%20%20var%20marker_7ed81bcda990449b8171f2e86519bd0d%20%3D%20L.marker%28%0A%20%20%20%20%20%20%20%20%20%20%20%20%20%20%20%20%5B45.62890647%2C%20-122.68655849999999%5D%2C%0A%20%20%20%20%20%20%20%20%20%20%20%20%20%20%20%20%7B%7D%0A%20%20%20%20%20%20%20%20%20%20%20%20%29.addTo%28map_75132323a12b444e9e9cf842e2eb346b%29%3B%0A%20%20%20%20%20%20%20%20%0A%20%20%20%20%0A%20%20%20%20%20%20%20%20%20%20%20%20var%20icon_8067689e603c4d83aa520bcff2eb806e%20%3D%20L.AwesomeMarkers.icon%28%0A%20%20%20%20%20%20%20%20%20%20%20%20%20%20%20%20%7B%22extraClasses%22%3A%20%22fa-rotate-0%22%2C%20%22icon%22%3A%20%22train%22%2C%20%22iconColor%22%3A%20%22white%22%2C%20%22markerColor%22%3A%20%22orange%22%2C%20%22prefix%22%3A%20%22fa%22%7D%0A%20%20%20%20%20%20%20%20%20%20%20%20%29%3B%0A%20%20%20%20%20%20%20%20%20%20%20%20marker_7ed81bcda990449b8171f2e86519bd0d.setIcon%28icon_8067689e603c4d83aa520bcff2eb806e%29%3B%0A%20%20%20%20%20%20%20%20%0A%20%20%20%20%0A%20%20%20%20%20%20%20%20var%20popup_a2ee7a0ddd6c4c93ab81acb3f6a3f45c%20%3D%20L.popup%28%7B%22maxWidth%22%3A%20%22100%25%22%7D%29%3B%0A%0A%20%20%20%20%20%20%20%20%0A%20%20%20%20%20%20%20%20%20%20%20%20var%20html_94490e4490984c3eadae9178d0de1567%20%3D%20%24%28%60%3Cdiv%20id%3D%22html_94490e4490984c3eadae9178d0de1567%22%20style%3D%22width%3A%20100.0%25%3B%20height%3A%20100.0%25%3B%22%3E%3Cb%3EVancouver%2C%20WA%3C/b%3E%3Cbr%3E%3Cbr%3EDecember%2012%2C%202021%3Cbr%3E%3Cbr%3E10%3A19%3C/div%3E%60%29%5B0%5D%3B%0A%20%20%20%20%20%20%20%20%20%20%20%20popup_a2ee7a0ddd6c4c93ab81acb3f6a3f45c.setContent%28html_94490e4490984c3eadae9178d0de1567%29%3B%0A%20%20%20%20%20%20%20%20%0A%0A%20%20%20%20%20%20%20%20marker_7ed81bcda990449b8171f2e86519bd0d.bindPopup%28popup_a2ee7a0ddd6c4c93ab81acb3f6a3f45c%29%0A%20%20%20%20%20%20%20%20%3B%0A%0A%20%20%20%20%20%20%20%20%0A%20%20%20%20%0A%20%20%20%20%0A%20%20%20%20%20%20%20%20%20%20%20%20var%20marker_e784b0f3760d46229ea2e925b6de59ce%20%3D%20L.marker%28%0A%20%20%20%20%20%20%20%20%20%20%20%20%20%20%20%20%5B45.53051247%2C%20-122.6782215%5D%2C%0A%20%20%20%20%20%20%20%20%20%20%20%20%20%20%20%20%7B%7D%0A%20%20%20%20%20%20%20%20%20%20%20%20%29.addTo%28map_75132323a12b444e9e9cf842e2eb346b%29%3B%0A%20%20%20%20%20%20%20%20%0A%20%20%20%20%0A%20%20%20%20%20%20%20%20%20%20%20%20var%20icon_3e407b7d38ad4c7e950fe2562797485c%20%3D%20L.AwesomeMarkers.icon%28%0A%20%20%20%20%20%20%20%20%20%20%20%20%20%20%20%20%7B%22extraClasses%22%3A%20%22fa-rotate-0%22%2C%20%22icon%22%3A%20%22train%22%2C%20%22iconColor%22%3A%20%22white%22%2C%20%22markerColor%22%3A%20%22orange%22%2C%20%22prefix%22%3A%20%22fa%22%7D%0A%20%20%20%20%20%20%20%20%20%20%20%20%29%3B%0A%20%20%20%20%20%20%20%20%20%20%20%20marker_e784b0f3760d46229ea2e925b6de59ce.setIcon%28icon_3e407b7d38ad4c7e950fe2562797485c%29%3B%0A%20%20%20%20%20%20%20%20%0A%20%20%20%20%0A%20%20%20%20%20%20%20%20var%20popup_d99c935a9dbf4190a3d6699c25d05b6e%20%3D%20L.popup%28%7B%22maxWidth%22%3A%20%22100%25%22%7D%29%3B%0A%0A%20%20%20%20%20%20%20%20%0A%20%20%20%20%20%20%20%20%20%20%20%20var%20html_d1172cb6ccef4b329003b87dad3c5d1e%20%3D%20%24%28%60%3Cdiv%20id%3D%22html_d1172cb6ccef4b329003b87dad3c5d1e%22%20style%3D%22width%3A%20100.0%25%3B%20height%3A%20100.0%25%3B%22%3E%3Cb%3EPortland%2C%20OR%3C/b%3E%3Cbr%3E%3Cbr%3EDecember%2012%2C%202021%3Cbr%3E%3Cbr%3E10%3A47%3C/div%3E%60%29%5B0%5D%3B%0A%20%20%20%20%20%20%20%20%20%20%20%20popup_d99c935a9dbf4190a3d6699c25d05b6e.setContent%28html_d1172cb6ccef4b329003b87dad3c5d1e%29%3B%0A%20%20%20%20%20%20%20%20%0A%0A%20%20%20%20%20%20%20%20marker_e784b0f3760d46229ea2e925b6de59ce.bindPopup%28popup_d99c935a9dbf4190a3d6699c25d05b6e%29%0A%20%20%20%20%20%20%20%20%3B%0A%0A%20%20%20%20%20%20%20%20%0A%20%20%20%20%0A%20%20%20%20%0A%20%20%20%20%20%20%20%20%20%20%20%20map_75132323a12b444e9e9cf842e2eb346b.fitBounds%28%0A%20%20%20%20%20%20%20%20%20%20%20%20%20%20%20%20%5B%5B45.53051247%2C%20-122.95307679999999%5D%2C%20%5B47.61362861%2C%20-122.24026880000001%5D%5D%2C%0A%20%20%20%20%20%20%20%20%20%20%20%20%20%20%20%20%7B%7D%0A%20%20%20%20%20%20%20%20%20%20%20%20%29%3B%0A%20%20%20%20%20%20%20%20%0A%3C/script%3E onload=\"this.contentDocument.open();this.contentDocument.write(    decodeURIComponent(this.getAttribute('data-html')));this.contentDocument.close();\" allowfullscreen webkitallowfullscreen mozallowfullscreen></iframe></div></div>"
      ],
      "text/plain": [
       "<folium.folium.Map at 0x49ac030>"
      ]
     },
     "execution_count": 20,
     "metadata": {},
     "output_type": "execute_result"
    }
   ],
   "source": [
    "m = folium.Map(tiles=\"Stamen Terrain\")\n",
    "\n",
    "for i in range(0, 8, 1):\n",
    "   folium.Marker(\n",
    "      location=[df['Longitude'][i], df['Latitude'][i]], \n",
    "      popup=\"<b>\" + df['Location'][i] + \"</b>\" + \"<br><br>\" + df['Date'][i] + \"<br><br>\" + df['Time'][i], icon=folium.Icon(color='orange', icon='train', prefix='fa')).add_to(m)\n",
    "\n",
    "# Show the map again\n",
    "m.fit_bounds(m.get_bounds())\n",
    "m"
   ]
  },
  {
   "cell_type": "markdown",
   "metadata": {},
   "source": [
    "#### Amtrak Stations\n",
    "\n",
    "| City | Picture | Description |\n",
    "| --- | --- | --- |\n",
    "| [Seattle, WA](https://en.wikipedia.org/wiki/King_Street_Station) | ![](https://upload.wikimedia.org/wikipedia/commons/8/80/King_Street_Station_%28Seattle%29_2005_05_23.jpg) | The train left bright and early on Sunday morning, from Seattle's very own King Street Station. <br> <br> I took the light rail to the Pioneer Street Station stop, and spent a few hours waiting for the train and reading up on the station's history. <br> <br> The tower that you see in the image to the left is 242ft (74m) tall, and -- at the time of construction -- was the tallest building in Seattle. It was modeled after a tower in Venice, Italy called [St. Mark's Campanile](https://en.wikipedia.org/wiki/St_Mark%27s_Campanile), which had recently collapsed. |\n",
    "| [Tukwila, WA](https://en.wikipedia.org/wiki/Tukwila_station) | ![](https://assets.simpleviewinc.com/simpleview/image/fetch/c_fill,g_auto,h_750,q_50,w_1920/https://assets.simpleviewinc.com/simpleview/image/upload/crm/seattlesouthside/Found_102218784_8814850-a84b8f7beabb3bd_a84b907c-e2c1-afa5-4809db5ff118d917.jpg) | Beautiful station, with a piece of public art called [_Imaginary Landscape_](https://www.sheilaklein.com/projects/imaginary-landscape/imaginary-landscape.html) by Sheila Klein immediately outside it. The piece consists of planted red-twig dogwood shrubs, painted steel panels, and a steel \"crown\" atop the building. <br> <br> The station also has bike lockers! I wonder if there are any interesting trails nearby, or if people bike down from Seattle? |\n",
    "| [Tacoma, WA](https://en.wikipedia.org/wiki/Tacoma_Dome_Station) | ![](https://upload.wikimedia.org/wikipedia/commons/thumb/4/46/Tacoma_Dome_Station_-_Sounder_and_Amtrak_-_December_2017.jpg/1920px-Tacoma_Dome_Station_-_Sounder_and_Amtrak_-_December_2017.jpg) | The Tacoma Dome is the largest wood-domed arena in the world, contructed with 1.6 million board feet (and it sure is distinctive when viewed from the train). <br> <br> Tacoma's Union Station was designed by Reed & Stern, the same architects who designed Grand Central Terminal in New York City. Tacoma also features an urban park that is a whopping 700 acres: the second largest in the US, after Central Park. |\n",
    "| [Olympia-Lacey, WA](https://en.wikipedia.org/wiki/Centennial_Station) | ![](https://upload.wikimedia.org/wikipedia/commons/thumb/9/98/Olympia_station.jpg/1920px-Olympia_station.jpg) | Capital city of Washington, and actually quite lovely. This was also the birthplace of Nirvana; and is the hometown of one of my favorite musicians, Kimya Dawson. For some reason, I was expecting this place to feel more populated? |\n",
    "| [Centralia, WA](https://en.wikipedia.org/wiki/Centralia_station_(Washington)) | ![](https://upload.wikimedia.org/wikipedia/commons/e/eb/Centralia_Union_Depot.jpg) | According to the internet, _\"one of the worst places for Millennials to live in Washington\"_. So, given that ringing endorsement... <br> <br> The station was built in the early 1900s, responding to a 400% popultion boom in the area. Now, Centralia feels very sleepy, and its major economic growth center (Northern Pacific Railway) has declined. |\n",
    "| [Kelso-Longview, WA](https://en.wikipedia.org/wiki/Kelso_Multimodal_Transportation_Center) | ![](https://upload.wikimedia.org/wikipedia/commons/b/b4/Kelso_WA_%28Amtrak_station%29_01.jpg) | _Into the Wild_ was filmed in Longview; and Longview also has one of the few (*few* ?!) [bridges dedicated to squirrels](https://www.greatamericanstations.com/stations/kelso-longview-wa-kel/). This bridge was constructed from a retired fire hose and suspension cables made from wire, and has secured Longview's place as one of my most favorite cities in Washington. <br> <br> Given Kelso's proximity to volcanic eruptions, several of the town's businesses and homes have been [built on volcanic ash dredged from the mudflow](https://www.greatamericanstations.com/stations/kelso-longview-wa-kel/) that went into Cowlitz River. I wonder if that explains some of the [roadcuts]() that looked a but like columnar pillars? The visitor's center in Kelso's Amtrak Station also has an exhibit dedicated to the eruption. |\n",
    "| [Vancouver, WA](https://en.wikipedia.org/wiki/Vancouver_station_(Washington)) | ![](https://upload.wikimedia.org/wikipedia/commons/3/34/Vancouver_Amtrak_station_170392234.jpg) | Another sleepy (but very industrial) city, just across the Columbia River from Portland. The conductor for the train gave us a 10-15min warning, and mentioned that there might be some jostling as we changed tracks. <br> <br> The highlight of the Vancouver Station was really the Columbia River suspension bridge: as you cross it, you transition from Washington State to Oregon, and see lovely views of both cities. |\n",
    "| [Portland, OR](https://en.wikipedia.org/wiki/Portland_Union_Station) | ![](https://upload.wikimedia.org/wikipedia/commons/thumb/a/a9/UnionStationPortland.jpg/1920px-UnionStationPortland.jpg) | And finally, we've arrived! The renovations on the interior of Portland's Union Station are lovely -- and we continue the volcano theme: Portland has an extinct volcano within its city limits, Mt. Tabor. |"
   ]
  },
  {
   "cell_type": "markdown",
   "metadata": {},
   "source": [
    "### I can't _not_ talk about geology, right?\n",
    "\n",
    "| Elevation Profile | Features | \n",
    "| --- | --- |\n",
    "| ![](https://raw.githubusercontent.com/dynamicwebpaige/IRL-ticket-to-ride/main/plots/Seattle_to_Tukwila.jpg) | \n",
    "| ![](https://raw.githubusercontent.com/dynamicwebpaige/IRL-ticket-to-ride/main/plots/Tukwila_to_Tacoma.jpg) |\n",
    "| ![](https://raw.githubusercontent.com/dynamicwebpaige/IRL-ticket-to-ride/main/plots/Tacoma_to_Olympia-Lacey.jpg)\n",
    "| ![](https://raw.githubusercontent.com/dynamicwebpaige/IRL-ticket-to-ride/main/plots/Olympia-Lacey_to_Centralia.jpg)\n",
    "| ![](https://raw.githubusercontent.com/dynamicwebpaige/IRL-ticket-to-ride/main/plots/Centralia_to_Kelso-Longview.jpg)\n",
    "| ![](https://raw.githubusercontent.com/dynamicwebpaige/IRL-ticket-to-ride/main/plots/Kelso-Longview_to_Vancouver.jpg)\n",
    "| ![](https://raw.githubusercontent.com/dynamicwebpaige/IRL-ticket-to-ride/main/plots/Vancouver_to_Portland.jpg)\n",
    "| ![](https://raw.githubusercontent.com/dynamicwebpaige/IRL-ticket-to-ride/main/plots/Seattle_to_Portland.jpg) | Bundling it all together: let's take a look at the elevation change, if you're doing a straight shot from Seattle to Portland. You can see a significnt peak around 100km, which makes sense (Mt. Rainier and Mt. Saint Helens are proximal). The elevation generally gets much more flat around Portland, and around Kelso-Longview. |"
   ]
  },
  {
   "cell_type": "markdown",
   "metadata": {},
   "source": [
    "## Portland, Oregon\n",
    "#### _December 12 - December 13_\n",
    "\n",
    "Temperatures were definitely brisk in Portland upon arrival, and rainy throughout the day. My hotel was proximal to many \n",
    "\n",
    "#### Hotel\n",
    "[The Hoxton - Portland](https://thehoxton.com/portland/)\n",
    "\n",
    "#### Things to see:\n",
    "* [Microsoft Offices in Portland](https://goo.gl/maps/ghr4SQaqTXNLNzUG8)\n",
    "* [Transcendence Sculpture](https://www.atlasobscura.com/places/transcendence)\n",
    "* [Lan Su Chinese Garden](https://lansugarden.org/?)\n",
    "* [Ground Kontrol Classic Arcade and Bar](https://groundkontrol.com/)\n",
    "* [Architecture Walk: Downtown Portland]()\n",
    "* [Starlight Patio & Lounge at the Star Theater](https://www.startheaterportland.com/)\n",
    "   * Lucky me: Sunday night went hard on EDM at Starlight Patio. Headlining was [XIBLING, with Hallows and Pleasure Victim](https://www.startheaterportland.com/event/?event_id=11165485) as a openers. I opted *not* to attend the [HIVE DANCE PARTY](https://www.startheaterportland.com/event/?event_id=11611305) at 10pm, given that Monday is a work night - but it looked like a particularly fun time.\n",
    "   * [Pleasure Victim]() _Passion & Punishment_. Automatic brownie points for naming yourself after a Berlin album.\n",
    "   * [HALLOWS]() _All That is True Dies_\n",
    "   * [XIBLING]() _Maladjusted_\n",
    "\n",
    "#### ☕️ Coffee Count\n",
    "* 4 (Sunday), XX (Monday)\n",
    "* Grand Prize: almond butter almond milk latte at [Lovely Rita]() coffee bar."
   ]
  },
  {
   "cell_type": "code",
   "execution_count": 34,
   "metadata": {},
   "outputs": [
    {
     "data": {
      "text/html": [
       "<div>\n",
       "<style scoped>\n",
       "    .dataframe tbody tr th:only-of-type {\n",
       "        vertical-align: middle;\n",
       "    }\n",
       "\n",
       "    .dataframe tbody tr th {\n",
       "        vertical-align: top;\n",
       "    }\n",
       "\n",
       "    .dataframe thead th {\n",
       "        text-align: right;\n",
       "    }\n",
       "</style>\n",
       "<table border=\"1\" class=\"dataframe\">\n",
       "  <thead>\n",
       "    <tr style=\"text-align: right;\">\n",
       "      <th></th>\n",
       "      <th>City</th>\n",
       "      <th>Stop</th>\n",
       "      <th>Latitude</th>\n",
       "      <th>Longitude</th>\n",
       "    </tr>\n",
       "  </thead>\n",
       "  <tbody>\n",
       "    <tr>\n",
       "      <th>0</th>\n",
       "      <td>Portland</td>\n",
       "      <td>The Hoxton Hotel</td>\n",
       "      <td>45.523400</td>\n",
       "      <td>-122.674700</td>\n",
       "    </tr>\n",
       "    <tr>\n",
       "      <th>1</th>\n",
       "      <td>Portland</td>\n",
       "      <td>Powell's Books</td>\n",
       "      <td>45.523100</td>\n",
       "      <td>-122.681200</td>\n",
       "    </tr>\n",
       "    <tr>\n",
       "      <th>2</th>\n",
       "      <td>Portland</td>\n",
       "      <td>Microsoft Office</td>\n",
       "      <td>45.531255</td>\n",
       "      <td>-122.685935</td>\n",
       "    </tr>\n",
       "    <tr>\n",
       "      <th>3</th>\n",
       "      <td>Portland</td>\n",
       "      <td>Pittock Mansion</td>\n",
       "      <td>45.525200</td>\n",
       "      <td>-122.716300</td>\n",
       "    </tr>\n",
       "    <tr>\n",
       "      <th>4</th>\n",
       "      <td>Portland</td>\n",
       "      <td>Portland Japanese Garden</td>\n",
       "      <td>45.519400</td>\n",
       "      <td>-122.706900</td>\n",
       "    </tr>\n",
       "    <tr>\n",
       "      <th>5</th>\n",
       "      <td>Portland</td>\n",
       "      <td>Cathedral Park</td>\n",
       "      <td>45.587500</td>\n",
       "      <td>-122.762500</td>\n",
       "    </tr>\n",
       "    <tr>\n",
       "      <th>6</th>\n",
       "      <td>Portland</td>\n",
       "      <td>Portland Wishing Tree</td>\n",
       "      <td>45.544500</td>\n",
       "      <td>-122.658500</td>\n",
       "    </tr>\n",
       "    <tr>\n",
       "      <th>7</th>\n",
       "      <td>Portland</td>\n",
       "      <td>Lan Su Chinese Garden</td>\n",
       "      <td>45.525300</td>\n",
       "      <td>-122.673300</td>\n",
       "    </tr>\n",
       "    <tr>\n",
       "      <th>8</th>\n",
       "      <td>Portland</td>\n",
       "      <td>Portland Amtrak Station</td>\n",
       "      <td>-122.678222</td>\n",
       "      <td>45.530512</td>\n",
       "    </tr>\n",
       "  </tbody>\n",
       "</table>\n",
       "</div>"
      ],
      "text/plain": [
       "       City                      Stop    Latitude   Longitude\n",
       "0  Portland          The Hoxton Hotel   45.523400 -122.674700\n",
       "1  Portland            Powell's Books   45.523100 -122.681200\n",
       "2  Portland          Microsoft Office   45.531255 -122.685935\n",
       "3  Portland           Pittock Mansion   45.525200 -122.716300\n",
       "4  Portland  Portland Japanese Garden   45.519400 -122.706900\n",
       "5  Portland            Cathedral Park   45.587500 -122.762500\n",
       "6  Portland     Portland Wishing Tree   45.544500 -122.658500\n",
       "7  Portland     Lan Su Chinese Garden   45.525300 -122.673300\n",
       "8  Portland   Portland Amtrak Station -122.678222   45.530512"
      ]
     },
     "execution_count": 34,
     "metadata": {},
     "output_type": "execute_result"
    }
   ],
   "source": [
    "stops[stops['City'] == 'Portland']"
   ]
  },
  {
   "cell_type": "code",
   "execution_count": 45,
   "metadata": {},
   "outputs": [
    {
     "data": {
      "text/html": [
       "<div style=\"width:100%;\"><div style=\"position:relative;width:100%;height:0;padding-bottom:60%;\"><span style=\"color:#565656\">Make this Notebook Trusted to load map: File -> Trust Notebook</span><iframe src=\"about:blank\" style=\"position:absolute;width:100%;height:100%;left:0;top:0;border:none !important;\" data-html=%3C%21DOCTYPE%20html%3E%0A%3Chead%3E%20%20%20%20%0A%20%20%20%20%3Cmeta%20http-equiv%3D%22content-type%22%20content%3D%22text/html%3B%20charset%3DUTF-8%22%20/%3E%0A%20%20%20%20%0A%20%20%20%20%20%20%20%20%3Cscript%3E%0A%20%20%20%20%20%20%20%20%20%20%20%20L_NO_TOUCH%20%3D%20false%3B%0A%20%20%20%20%20%20%20%20%20%20%20%20L_DISABLE_3D%20%3D%20false%3B%0A%20%20%20%20%20%20%20%20%3C/script%3E%0A%20%20%20%20%0A%20%20%20%20%3Cstyle%3Ehtml%2C%20body%20%7Bwidth%3A%20100%25%3Bheight%3A%20100%25%3Bmargin%3A%200%3Bpadding%3A%200%3B%7D%3C/style%3E%0A%20%20%20%20%3Cstyle%3E%23map%20%7Bposition%3Aabsolute%3Btop%3A0%3Bbottom%3A0%3Bright%3A0%3Bleft%3A0%3B%7D%3C/style%3E%0A%20%20%20%20%3Cscript%20src%3D%22https%3A//cdn.jsdelivr.net/npm/leaflet%401.6.0/dist/leaflet.js%22%3E%3C/script%3E%0A%20%20%20%20%3Cscript%20src%3D%22https%3A//code.jquery.com/jquery-1.12.4.min.js%22%3E%3C/script%3E%0A%20%20%20%20%3Cscript%20src%3D%22https%3A//maxcdn.bootstrapcdn.com/bootstrap/3.2.0/js/bootstrap.min.js%22%3E%3C/script%3E%0A%20%20%20%20%3Cscript%20src%3D%22https%3A//cdnjs.cloudflare.com/ajax/libs/Leaflet.awesome-markers/2.0.2/leaflet.awesome-markers.js%22%3E%3C/script%3E%0A%20%20%20%20%3Clink%20rel%3D%22stylesheet%22%20href%3D%22https%3A//cdn.jsdelivr.net/npm/leaflet%401.6.0/dist/leaflet.css%22/%3E%0A%20%20%20%20%3Clink%20rel%3D%22stylesheet%22%20href%3D%22https%3A//maxcdn.bootstrapcdn.com/bootstrap/3.2.0/css/bootstrap.min.css%22/%3E%0A%20%20%20%20%3Clink%20rel%3D%22stylesheet%22%20href%3D%22https%3A//maxcdn.bootstrapcdn.com/bootstrap/3.2.0/css/bootstrap-theme.min.css%22/%3E%0A%20%20%20%20%3Clink%20rel%3D%22stylesheet%22%20href%3D%22https%3A//maxcdn.bootstrapcdn.com/font-awesome/4.6.3/css/font-awesome.min.css%22/%3E%0A%20%20%20%20%3Clink%20rel%3D%22stylesheet%22%20href%3D%22https%3A//cdnjs.cloudflare.com/ajax/libs/Leaflet.awesome-markers/2.0.2/leaflet.awesome-markers.css%22/%3E%0A%20%20%20%20%3Clink%20rel%3D%22stylesheet%22%20href%3D%22https%3A//cdn.jsdelivr.net/gh/python-visualization/folium/folium/templates/leaflet.awesome.rotate.min.css%22/%3E%0A%20%20%20%20%0A%20%20%20%20%20%20%20%20%20%20%20%20%3Cmeta%20name%3D%22viewport%22%20content%3D%22width%3Ddevice-width%2C%0A%20%20%20%20%20%20%20%20%20%20%20%20%20%20%20%20initial-scale%3D1.0%2C%20maximum-scale%3D1.0%2C%20user-scalable%3Dno%22%20/%3E%0A%20%20%20%20%20%20%20%20%20%20%20%20%3Cstyle%3E%0A%20%20%20%20%20%20%20%20%20%20%20%20%20%20%20%20%23map_4a3527e3c6fa4958a2a259c6e969883f%20%7B%0A%20%20%20%20%20%20%20%20%20%20%20%20%20%20%20%20%20%20%20%20position%3A%20relative%3B%0A%20%20%20%20%20%20%20%20%20%20%20%20%20%20%20%20%20%20%20%20width%3A%20100.0%25%3B%0A%20%20%20%20%20%20%20%20%20%20%20%20%20%20%20%20%20%20%20%20height%3A%20100.0%25%3B%0A%20%20%20%20%20%20%20%20%20%20%20%20%20%20%20%20%20%20%20%20left%3A%200.0%25%3B%0A%20%20%20%20%20%20%20%20%20%20%20%20%20%20%20%20%20%20%20%20top%3A%200.0%25%3B%0A%20%20%20%20%20%20%20%20%20%20%20%20%20%20%20%20%7D%0A%20%20%20%20%20%20%20%20%20%20%20%20%3C/style%3E%0A%20%20%20%20%20%20%20%20%0A%3C/head%3E%0A%3Cbody%3E%20%20%20%20%0A%20%20%20%20%0A%20%20%20%20%20%20%20%20%20%20%20%20%3Cdiv%20class%3D%22folium-map%22%20id%3D%22map_4a3527e3c6fa4958a2a259c6e969883f%22%20%3E%3C/div%3E%0A%20%20%20%20%20%20%20%20%0A%3C/body%3E%0A%3Cscript%3E%20%20%20%20%0A%20%20%20%20%0A%20%20%20%20%20%20%20%20%20%20%20%20var%20map_4a3527e3c6fa4958a2a259c6e969883f%20%3D%20L.map%28%0A%20%20%20%20%20%20%20%20%20%20%20%20%20%20%20%20%22map_4a3527e3c6fa4958a2a259c6e969883f%22%2C%0A%20%20%20%20%20%20%20%20%20%20%20%20%20%20%20%20%7B%0A%20%20%20%20%20%20%20%20%20%20%20%20%20%20%20%20%20%20%20%20center%3A%20%5B0%2C%200%5D%2C%0A%20%20%20%20%20%20%20%20%20%20%20%20%20%20%20%20%20%20%20%20crs%3A%20L.CRS.EPSG3857%2C%0A%20%20%20%20%20%20%20%20%20%20%20%20%20%20%20%20%20%20%20%20zoom%3A%201%2C%0A%20%20%20%20%20%20%20%20%20%20%20%20%20%20%20%20%20%20%20%20zoomControl%3A%20true%2C%0A%20%20%20%20%20%20%20%20%20%20%20%20%20%20%20%20%20%20%20%20preferCanvas%3A%20false%2C%0A%20%20%20%20%20%20%20%20%20%20%20%20%20%20%20%20%7D%0A%20%20%20%20%20%20%20%20%20%20%20%20%29%3B%0A%0A%20%20%20%20%20%20%20%20%20%20%20%20%0A%0A%20%20%20%20%20%20%20%20%0A%20%20%20%20%0A%20%20%20%20%20%20%20%20%20%20%20%20var%20tile_layer_747213e7717e42389545884fc27fa423%20%3D%20L.tileLayer%28%0A%20%20%20%20%20%20%20%20%20%20%20%20%20%20%20%20%22https%3A//stamen-tiles-%7Bs%7D.a.ssl.fastly.net/terrain/%7Bz%7D/%7Bx%7D/%7By%7D.jpg%22%2C%0A%20%20%20%20%20%20%20%20%20%20%20%20%20%20%20%20%7B%22attribution%22%3A%20%22Map%20tiles%20by%20%5Cu003ca%20href%3D%5C%22http%3A//stamen.com%5C%22%5Cu003eStamen%20Design%5Cu003c/a%5Cu003e%2C%20under%20%5Cu003ca%20href%3D%5C%22http%3A//creativecommons.org/licenses/by/3.0%5C%22%5Cu003eCC%20BY%203.0%5Cu003c/a%5Cu003e.%20Data%20by%20%5Cu0026copy%3B%20%5Cu003ca%20href%3D%5C%22http%3A//openstreetmap.org%5C%22%5Cu003eOpenStreetMap%5Cu003c/a%5Cu003e%2C%20under%20%5Cu003ca%20href%3D%5C%22http%3A//creativecommons.org/licenses/by-sa/3.0%5C%22%5Cu003eCC%20BY%20SA%5Cu003c/a%5Cu003e.%22%2C%20%22detectRetina%22%3A%20false%2C%20%22maxNativeZoom%22%3A%2018%2C%20%22maxZoom%22%3A%2018%2C%20%22minZoom%22%3A%200%2C%20%22noWrap%22%3A%20false%2C%20%22opacity%22%3A%201%2C%20%22subdomains%22%3A%20%22abc%22%2C%20%22tms%22%3A%20false%7D%0A%20%20%20%20%20%20%20%20%20%20%20%20%29.addTo%28map_4a3527e3c6fa4958a2a259c6e969883f%29%3B%0A%20%20%20%20%20%20%20%20%0A%20%20%20%20%0A%20%20%20%20%20%20%20%20%20%20%20%20var%20marker_0298e85ac41349edaf8242712bf61baf%20%3D%20L.marker%28%0A%20%20%20%20%20%20%20%20%20%20%20%20%20%20%20%20%5B45.5234%2C%20-122.6747%5D%2C%0A%20%20%20%20%20%20%20%20%20%20%20%20%20%20%20%20%7B%7D%0A%20%20%20%20%20%20%20%20%20%20%20%20%29.addTo%28map_4a3527e3c6fa4958a2a259c6e969883f%29%3B%0A%20%20%20%20%20%20%20%20%0A%20%20%20%20%0A%20%20%20%20%20%20%20%20%20%20%20%20var%20icon_4dd78fc01c3d41a0b292e64aa79d9cca%20%3D%20L.AwesomeMarkers.icon%28%0A%20%20%20%20%20%20%20%20%20%20%20%20%20%20%20%20%7B%22extraClasses%22%3A%20%22fa-rotate-0%22%2C%20%22icon%22%3A%20%22hotel%22%2C%20%22iconColor%22%3A%20%22white%22%2C%20%22markerColor%22%3A%20%22orange%22%2C%20%22prefix%22%3A%20%22fa%22%7D%0A%20%20%20%20%20%20%20%20%20%20%20%20%29%3B%0A%20%20%20%20%20%20%20%20%20%20%20%20marker_0298e85ac41349edaf8242712bf61baf.setIcon%28icon_4dd78fc01c3d41a0b292e64aa79d9cca%29%3B%0A%20%20%20%20%20%20%20%20%0A%20%20%20%20%0A%20%20%20%20%20%20%20%20var%20popup_8a9f6f5cae544b508ce6c5d20196c76a%20%3D%20L.popup%28%7B%22maxWidth%22%3A%20%22100%25%22%7D%29%3B%0A%0A%20%20%20%20%20%20%20%20%0A%20%20%20%20%20%20%20%20%20%20%20%20var%20html_9f7417b6065b463f81737b8548ed569b%20%3D%20%24%28%60%3Cdiv%20id%3D%22html_9f7417b6065b463f81737b8548ed569b%22%20style%3D%22width%3A%20100.0%25%3B%20height%3A%20100.0%25%3B%22%3E%3Cb%3EThe%20Hoxton%20Hotel%3C/b%3E%3C/div%3E%60%29%5B0%5D%3B%0A%20%20%20%20%20%20%20%20%20%20%20%20popup_8a9f6f5cae544b508ce6c5d20196c76a.setContent%28html_9f7417b6065b463f81737b8548ed569b%29%3B%0A%20%20%20%20%20%20%20%20%0A%0A%20%20%20%20%20%20%20%20marker_0298e85ac41349edaf8242712bf61baf.bindPopup%28popup_8a9f6f5cae544b508ce6c5d20196c76a%29%0A%20%20%20%20%20%20%20%20%3B%0A%0A%20%20%20%20%20%20%20%20%0A%20%20%20%20%0A%20%20%20%20%0A%20%20%20%20%20%20%20%20%20%20%20%20var%20marker_73198fe6cc7d4a3c9fc43afd36991789%20%3D%20L.marker%28%0A%20%20%20%20%20%20%20%20%20%20%20%20%20%20%20%20%5B45.53051247%2C%20-122.6782215%5D%2C%0A%20%20%20%20%20%20%20%20%20%20%20%20%20%20%20%20%7B%7D%0A%20%20%20%20%20%20%20%20%20%20%20%20%29.addTo%28map_4a3527e3c6fa4958a2a259c6e969883f%29%3B%0A%20%20%20%20%20%20%20%20%0A%20%20%20%20%0A%20%20%20%20%20%20%20%20%20%20%20%20var%20icon_24ad7cffb5b4401d8050d05e3f8525c3%20%3D%20L.AwesomeMarkers.icon%28%0A%20%20%20%20%20%20%20%20%20%20%20%20%20%20%20%20%7B%22extraClasses%22%3A%20%22fa-rotate-0%22%2C%20%22icon%22%3A%20%22train%22%2C%20%22iconColor%22%3A%20%22white%22%2C%20%22markerColor%22%3A%20%22red%22%2C%20%22prefix%22%3A%20%22fa%22%7D%0A%20%20%20%20%20%20%20%20%20%20%20%20%29%3B%0A%20%20%20%20%20%20%20%20%20%20%20%20marker_73198fe6cc7d4a3c9fc43afd36991789.setIcon%28icon_24ad7cffb5b4401d8050d05e3f8525c3%29%3B%0A%20%20%20%20%20%20%20%20%0A%20%20%20%20%0A%20%20%20%20%20%20%20%20var%20popup_3c9672e75fd645ed83ebf5f7fa48799c%20%3D%20L.popup%28%7B%22maxWidth%22%3A%20%22100%25%22%7D%29%3B%0A%0A%20%20%20%20%20%20%20%20%0A%20%20%20%20%20%20%20%20%20%20%20%20var%20html_05ef5105239048a688b627f100681142%20%3D%20%24%28%60%3Cdiv%20id%3D%22html_05ef5105239048a688b627f100681142%22%20style%3D%22width%3A%20100.0%25%3B%20height%3A%20100.0%25%3B%22%3E%3Cb%3EPortland%20Amtrak%20Station%3C/b%3C/div%3E%60%29%5B0%5D%3B%0A%20%20%20%20%20%20%20%20%20%20%20%20popup_3c9672e75fd645ed83ebf5f7fa48799c.setContent%28html_05ef5105239048a688b627f100681142%29%3B%0A%20%20%20%20%20%20%20%20%0A%0A%20%20%20%20%20%20%20%20marker_73198fe6cc7d4a3c9fc43afd36991789.bindPopup%28popup_3c9672e75fd645ed83ebf5f7fa48799c%29%0A%20%20%20%20%20%20%20%20%3B%0A%0A%20%20%20%20%20%20%20%20%0A%20%20%20%20%0A%20%20%20%20%0A%20%20%20%20%20%20%20%20%20%20%20%20var%20marker_55b6b2342b304da5bb19c53bdda20766%20%3D%20L.marker%28%0A%20%20%20%20%20%20%20%20%20%20%20%20%20%20%20%20%5B45.5231%2C%20-122.6812%5D%2C%0A%20%20%20%20%20%20%20%20%20%20%20%20%20%20%20%20%7B%7D%0A%20%20%20%20%20%20%20%20%20%20%20%20%29.addTo%28map_4a3527e3c6fa4958a2a259c6e969883f%29%3B%0A%20%20%20%20%20%20%20%20%0A%20%20%20%20%0A%20%20%20%20%20%20%20%20%20%20%20%20var%20icon_f8160b24ec0544deb5f9c6aab323a8f5%20%3D%20L.AwesomeMarkers.icon%28%0A%20%20%20%20%20%20%20%20%20%20%20%20%20%20%20%20%7B%22extraClasses%22%3A%20%22fa-rotate-0%22%2C%20%22icon%22%3A%20%22book%22%2C%20%22iconColor%22%3A%20%22white%22%2C%20%22markerColor%22%3A%20%22lightblue%22%2C%20%22prefix%22%3A%20%22fa%22%7D%0A%20%20%20%20%20%20%20%20%20%20%20%20%29%3B%0A%20%20%20%20%20%20%20%20%20%20%20%20marker_55b6b2342b304da5bb19c53bdda20766.setIcon%28icon_f8160b24ec0544deb5f9c6aab323a8f5%29%3B%0A%20%20%20%20%20%20%20%20%0A%20%20%20%20%0A%20%20%20%20%20%20%20%20var%20popup_a8969b8a0ba146d48d8232e580f1f0cc%20%3D%20L.popup%28%7B%22maxWidth%22%3A%20%22100%25%22%7D%29%3B%0A%0A%20%20%20%20%20%20%20%20%0A%20%20%20%20%20%20%20%20%20%20%20%20var%20html_85749f13d6384f3491cd13f17688f153%20%3D%20%24%28%60%3Cdiv%20id%3D%22html_85749f13d6384f3491cd13f17688f153%22%20style%3D%22width%3A%20100.0%25%3B%20height%3A%20100.0%25%3B%22%3E%3Cb%3EPowell%27s%20Books%3C/b%3C/div%3E%60%29%5B0%5D%3B%0A%20%20%20%20%20%20%20%20%20%20%20%20popup_a8969b8a0ba146d48d8232e580f1f0cc.setContent%28html_85749f13d6384f3491cd13f17688f153%29%3B%0A%20%20%20%20%20%20%20%20%0A%0A%20%20%20%20%20%20%20%20marker_55b6b2342b304da5bb19c53bdda20766.bindPopup%28popup_a8969b8a0ba146d48d8232e580f1f0cc%29%0A%20%20%20%20%20%20%20%20%3B%0A%0A%20%20%20%20%20%20%20%20%0A%20%20%20%20%0A%20%20%20%20%0A%20%20%20%20%20%20%20%20%20%20%20%20var%20marker_c4810beb72ea48a397c26e1f29ab1858%20%3D%20L.marker%28%0A%20%20%20%20%20%20%20%20%20%20%20%20%20%20%20%20%5B45.53125541%2C%20-122.68593500000001%5D%2C%0A%20%20%20%20%20%20%20%20%20%20%20%20%20%20%20%20%7B%7D%0A%20%20%20%20%20%20%20%20%20%20%20%20%29.addTo%28map_4a3527e3c6fa4958a2a259c6e969883f%29%3B%0A%20%20%20%20%20%20%20%20%0A%20%20%20%20%0A%20%20%20%20%20%20%20%20%20%20%20%20var%20icon_94a6da00f2874928bfb19e01ae7113b2%20%3D%20L.AwesomeMarkers.icon%28%0A%20%20%20%20%20%20%20%20%20%20%20%20%20%20%20%20%7B%22extraClasses%22%3A%20%22fa-rotate-0%22%2C%20%22icon%22%3A%20%22briefcase%22%2C%20%22iconColor%22%3A%20%22white%22%2C%20%22markerColor%22%3A%20%22cadetblue%22%2C%20%22prefix%22%3A%20%22fa%22%7D%0A%20%20%20%20%20%20%20%20%20%20%20%20%29%3B%0A%20%20%20%20%20%20%20%20%20%20%20%20marker_c4810beb72ea48a397c26e1f29ab1858.setIcon%28icon_94a6da00f2874928bfb19e01ae7113b2%29%3B%0A%20%20%20%20%20%20%20%20%0A%20%20%20%20%0A%20%20%20%20%20%20%20%20var%20popup_e17c9604ede6463784895bb4ee7f4f97%20%3D%20L.popup%28%7B%22maxWidth%22%3A%20%22100%25%22%7D%29%3B%0A%0A%20%20%20%20%20%20%20%20%0A%20%20%20%20%20%20%20%20%20%20%20%20var%20html_79ec3b3a92ba4138b8385f79608581c8%20%3D%20%24%28%60%3Cdiv%20id%3D%22html_79ec3b3a92ba4138b8385f79608581c8%22%20style%3D%22width%3A%20100.0%25%3B%20height%3A%20100.0%25%3B%22%3E%3Cb%3EMicrosoft%20Office%3C/b%3C/div%3E%60%29%5B0%5D%3B%0A%20%20%20%20%20%20%20%20%20%20%20%20popup_e17c9604ede6463784895bb4ee7f4f97.setContent%28html_79ec3b3a92ba4138b8385f79608581c8%29%3B%0A%20%20%20%20%20%20%20%20%0A%0A%20%20%20%20%20%20%20%20marker_c4810beb72ea48a397c26e1f29ab1858.bindPopup%28popup_e17c9604ede6463784895bb4ee7f4f97%29%0A%20%20%20%20%20%20%20%20%3B%0A%0A%20%20%20%20%20%20%20%20%0A%20%20%20%20%0A%20%20%20%20%0A%20%20%20%20%20%20%20%20%20%20%20%20var%20marker_9513976f13b04345af88ee6c4e577650%20%3D%20L.marker%28%0A%20%20%20%20%20%20%20%20%20%20%20%20%20%20%20%20%5B45.5252%2C%20-122.7163%5D%2C%0A%20%20%20%20%20%20%20%20%20%20%20%20%20%20%20%20%7B%7D%0A%20%20%20%20%20%20%20%20%20%20%20%20%29.addTo%28map_4a3527e3c6fa4958a2a259c6e969883f%29%3B%0A%20%20%20%20%20%20%20%20%0A%20%20%20%20%0A%20%20%20%20%20%20%20%20%20%20%20%20var%20icon_a03bbf5f2b984d1d935b3b14bd05cb5b%20%3D%20L.AwesomeMarkers.icon%28%0A%20%20%20%20%20%20%20%20%20%20%20%20%20%20%20%20%7B%22extraClasses%22%3A%20%22fa-rotate-0%22%2C%20%22icon%22%3A%20%22home%22%2C%20%22iconColor%22%3A%20%22white%22%2C%20%22markerColor%22%3A%20%22lightgreen%22%2C%20%22prefix%22%3A%20%22fa%22%7D%0A%20%20%20%20%20%20%20%20%20%20%20%20%29%3B%0A%20%20%20%20%20%20%20%20%20%20%20%20marker_9513976f13b04345af88ee6c4e577650.setIcon%28icon_a03bbf5f2b984d1d935b3b14bd05cb5b%29%3B%0A%20%20%20%20%20%20%20%20%0A%20%20%20%20%0A%20%20%20%20%20%20%20%20var%20popup_b5433becd57a4f37a641976d6d6c6c90%20%3D%20L.popup%28%7B%22maxWidth%22%3A%20%22100%25%22%7D%29%3B%0A%0A%20%20%20%20%20%20%20%20%0A%20%20%20%20%20%20%20%20%20%20%20%20var%20html_67c14205b915450bb4b6e7f44aff34ab%20%3D%20%24%28%60%3Cdiv%20id%3D%22html_67c14205b915450bb4b6e7f44aff34ab%22%20style%3D%22width%3A%20100.0%25%3B%20height%3A%20100.0%25%3B%22%3E%3Cb%3EPittock%20Mansion%3C/b%3C/div%3E%60%29%5B0%5D%3B%0A%20%20%20%20%20%20%20%20%20%20%20%20popup_b5433becd57a4f37a641976d6d6c6c90.setContent%28html_67c14205b915450bb4b6e7f44aff34ab%29%3B%0A%20%20%20%20%20%20%20%20%0A%0A%20%20%20%20%20%20%20%20marker_9513976f13b04345af88ee6c4e577650.bindPopup%28popup_b5433becd57a4f37a641976d6d6c6c90%29%0A%20%20%20%20%20%20%20%20%3B%0A%0A%20%20%20%20%20%20%20%20%0A%20%20%20%20%0A%20%20%20%20%0A%20%20%20%20%20%20%20%20%20%20%20%20var%20marker_c6e943aaa65e48109e93f6c8f21226f0%20%3D%20L.marker%28%0A%20%20%20%20%20%20%20%20%20%20%20%20%20%20%20%20%5B45.5194%2C%20-122.7069%5D%2C%0A%20%20%20%20%20%20%20%20%20%20%20%20%20%20%20%20%7B%7D%0A%20%20%20%20%20%20%20%20%20%20%20%20%29.addTo%28map_4a3527e3c6fa4958a2a259c6e969883f%29%3B%0A%20%20%20%20%20%20%20%20%0A%20%20%20%20%0A%20%20%20%20%20%20%20%20%20%20%20%20var%20icon_c1b47692952b4ef5961952e1e55033c7%20%3D%20L.AwesomeMarkers.icon%28%0A%20%20%20%20%20%20%20%20%20%20%20%20%20%20%20%20%7B%22extraClasses%22%3A%20%22fa-rotate-0%22%2C%20%22icon%22%3A%20%22tree%22%2C%20%22iconColor%22%3A%20%22white%22%2C%20%22markerColor%22%3A%20%22lightgreen%22%2C%20%22prefix%22%3A%20%22fa%22%7D%0A%20%20%20%20%20%20%20%20%20%20%20%20%29%3B%0A%20%20%20%20%20%20%20%20%20%20%20%20marker_c6e943aaa65e48109e93f6c8f21226f0.setIcon%28icon_c1b47692952b4ef5961952e1e55033c7%29%3B%0A%20%20%20%20%20%20%20%20%0A%20%20%20%20%0A%20%20%20%20%20%20%20%20var%20popup_5c1f4779aa0643cb8fe7b2f831aff1d7%20%3D%20L.popup%28%7B%22maxWidth%22%3A%20%22100%25%22%7D%29%3B%0A%0A%20%20%20%20%20%20%20%20%0A%20%20%20%20%20%20%20%20%20%20%20%20var%20html_27ec1d175e0941ce87e1b8becdad5fd3%20%3D%20%24%28%60%3Cdiv%20id%3D%22html_27ec1d175e0941ce87e1b8becdad5fd3%22%20style%3D%22width%3A%20100.0%25%3B%20height%3A%20100.0%25%3B%22%3E%3Cb%3EPortland%20Japanese%20Garden%3C/b%3C/div%3E%60%29%5B0%5D%3B%0A%20%20%20%20%20%20%20%20%20%20%20%20popup_5c1f4779aa0643cb8fe7b2f831aff1d7.setContent%28html_27ec1d175e0941ce87e1b8becdad5fd3%29%3B%0A%20%20%20%20%20%20%20%20%0A%0A%20%20%20%20%20%20%20%20marker_c6e943aaa65e48109e93f6c8f21226f0.bindPopup%28popup_5c1f4779aa0643cb8fe7b2f831aff1d7%29%0A%20%20%20%20%20%20%20%20%3B%0A%0A%20%20%20%20%20%20%20%20%0A%20%20%20%20%0A%20%20%20%20%0A%20%20%20%20%20%20%20%20%20%20%20%20var%20marker_83562327f4aa40e483fb97967280f925%20%3D%20L.marker%28%0A%20%20%20%20%20%20%20%20%20%20%20%20%20%20%20%20%5B45.5875%2C%20-122.7625%5D%2C%0A%20%20%20%20%20%20%20%20%20%20%20%20%20%20%20%20%7B%7D%0A%20%20%20%20%20%20%20%20%20%20%20%20%29.addTo%28map_4a3527e3c6fa4958a2a259c6e969883f%29%3B%0A%20%20%20%20%20%20%20%20%0A%20%20%20%20%0A%20%20%20%20%20%20%20%20%20%20%20%20var%20icon_feae86cc22c64fbdaf1c8b1bec1919e6%20%3D%20L.AwesomeMarkers.icon%28%0A%20%20%20%20%20%20%20%20%20%20%20%20%20%20%20%20%7B%22extraClasses%22%3A%20%22fa-rotate-0%22%2C%20%22icon%22%3A%20%22tree%22%2C%20%22iconColor%22%3A%20%22white%22%2C%20%22markerColor%22%3A%20%22lightgreen%22%2C%20%22prefix%22%3A%20%22fa%22%7D%0A%20%20%20%20%20%20%20%20%20%20%20%20%29%3B%0A%20%20%20%20%20%20%20%20%20%20%20%20marker_83562327f4aa40e483fb97967280f925.setIcon%28icon_feae86cc22c64fbdaf1c8b1bec1919e6%29%3B%0A%20%20%20%20%20%20%20%20%0A%20%20%20%20%0A%20%20%20%20%20%20%20%20var%20popup_f1fc61d0d7e643c8ae4fc57c05037d7d%20%3D%20L.popup%28%7B%22maxWidth%22%3A%20%22100%25%22%7D%29%3B%0A%0A%20%20%20%20%20%20%20%20%0A%20%20%20%20%20%20%20%20%20%20%20%20var%20html_b69c31ec0d4840b78957ff972795a014%20%3D%20%24%28%60%3Cdiv%20id%3D%22html_b69c31ec0d4840b78957ff972795a014%22%20style%3D%22width%3A%20100.0%25%3B%20height%3A%20100.0%25%3B%22%3E%3Cb%3ECathedral%20Park%3C/b%3C/div%3E%60%29%5B0%5D%3B%0A%20%20%20%20%20%20%20%20%20%20%20%20popup_f1fc61d0d7e643c8ae4fc57c05037d7d.setContent%28html_b69c31ec0d4840b78957ff972795a014%29%3B%0A%20%20%20%20%20%20%20%20%0A%0A%20%20%20%20%20%20%20%20marker_83562327f4aa40e483fb97967280f925.bindPopup%28popup_f1fc61d0d7e643c8ae4fc57c05037d7d%29%0A%20%20%20%20%20%20%20%20%3B%0A%0A%20%20%20%20%20%20%20%20%0A%20%20%20%20%0A%20%20%20%20%0A%20%20%20%20%20%20%20%20%20%20%20%20var%20marker_2f35fbb8dc5f4e9f95d1d800270b06f1%20%3D%20L.marker%28%0A%20%20%20%20%20%20%20%20%20%20%20%20%20%20%20%20%5B45.5445%2C%20-122.6585%5D%2C%0A%20%20%20%20%20%20%20%20%20%20%20%20%20%20%20%20%7B%7D%0A%20%20%20%20%20%20%20%20%20%20%20%20%29.addTo%28map_4a3527e3c6fa4958a2a259c6e969883f%29%3B%0A%20%20%20%20%20%20%20%20%0A%20%20%20%20%0A%20%20%20%20%20%20%20%20%20%20%20%20var%20icon_b11e2d06944e48cc9383e6761eb050a9%20%3D%20L.AwesomeMarkers.icon%28%0A%20%20%20%20%20%20%20%20%20%20%20%20%20%20%20%20%7B%22extraClasses%22%3A%20%22fa-rotate-0%22%2C%20%22icon%22%3A%20%22tree%22%2C%20%22iconColor%22%3A%20%22white%22%2C%20%22markerColor%22%3A%20%22lightgreen%22%2C%20%22prefix%22%3A%20%22fa%22%7D%0A%20%20%20%20%20%20%20%20%20%20%20%20%29%3B%0A%20%20%20%20%20%20%20%20%20%20%20%20marker_2f35fbb8dc5f4e9f95d1d800270b06f1.setIcon%28icon_b11e2d06944e48cc9383e6761eb050a9%29%3B%0A%20%20%20%20%20%20%20%20%0A%20%20%20%20%0A%20%20%20%20%20%20%20%20var%20popup_27b548ebc3624abbb30dcecbb27d73ae%20%3D%20L.popup%28%7B%22maxWidth%22%3A%20%22100%25%22%7D%29%3B%0A%0A%20%20%20%20%20%20%20%20%0A%20%20%20%20%20%20%20%20%20%20%20%20var%20html_9b7c0bae052b42b5ad30f229f842ea8f%20%3D%20%24%28%60%3Cdiv%20id%3D%22html_9b7c0bae052b42b5ad30f229f842ea8f%22%20style%3D%22width%3A%20100.0%25%3B%20height%3A%20100.0%25%3B%22%3E%3Cb%3EPortland%20Wishing%20Tree%3C/b%3C/div%3E%60%29%5B0%5D%3B%0A%20%20%20%20%20%20%20%20%20%20%20%20popup_27b548ebc3624abbb30dcecbb27d73ae.setContent%28html_9b7c0bae052b42b5ad30f229f842ea8f%29%3B%0A%20%20%20%20%20%20%20%20%0A%0A%20%20%20%20%20%20%20%20marker_2f35fbb8dc5f4e9f95d1d800270b06f1.bindPopup%28popup_27b548ebc3624abbb30dcecbb27d73ae%29%0A%20%20%20%20%20%20%20%20%3B%0A%0A%20%20%20%20%20%20%20%20%0A%20%20%20%20%0A%20%20%20%20%0A%20%20%20%20%20%20%20%20%20%20%20%20var%20marker_326e69a27d74466f8b83d1947f678304%20%3D%20L.marker%28%0A%20%20%20%20%20%20%20%20%20%20%20%20%20%20%20%20%5B45.5253%2C%20-122.6733%5D%2C%0A%20%20%20%20%20%20%20%20%20%20%20%20%20%20%20%20%7B%7D%0A%20%20%20%20%20%20%20%20%20%20%20%20%29.addTo%28map_4a3527e3c6fa4958a2a259c6e969883f%29%3B%0A%20%20%20%20%20%20%20%20%0A%20%20%20%20%0A%20%20%20%20%20%20%20%20%20%20%20%20var%20icon_8096b04743e24d689519b80bdcbb96e8%20%3D%20L.AwesomeMarkers.icon%28%0A%20%20%20%20%20%20%20%20%20%20%20%20%20%20%20%20%7B%22extraClasses%22%3A%20%22fa-rotate-0%22%2C%20%22icon%22%3A%20%22tree%22%2C%20%22iconColor%22%3A%20%22white%22%2C%20%22markerColor%22%3A%20%22lightgreen%22%2C%20%22prefix%22%3A%20%22fa%22%7D%0A%20%20%20%20%20%20%20%20%20%20%20%20%29%3B%0A%20%20%20%20%20%20%20%20%20%20%20%20marker_326e69a27d74466f8b83d1947f678304.setIcon%28icon_8096b04743e24d689519b80bdcbb96e8%29%3B%0A%20%20%20%20%20%20%20%20%0A%20%20%20%20%0A%20%20%20%20%20%20%20%20var%20popup_9e56f6e361474259ae4b85dd97cc173c%20%3D%20L.popup%28%7B%22maxWidth%22%3A%20%22100%25%22%7D%29%3B%0A%0A%20%20%20%20%20%20%20%20%0A%20%20%20%20%20%20%20%20%20%20%20%20var%20html_6100d5625628452ea49f583bf2fda774%20%3D%20%24%28%60%3Cdiv%20id%3D%22html_6100d5625628452ea49f583bf2fda774%22%20style%3D%22width%3A%20100.0%25%3B%20height%3A%20100.0%25%3B%22%3E%3Cb%3ELan%20Su%20Chinese%20Garden%3C/b%3C/div%3E%60%29%5B0%5D%3B%0A%20%20%20%20%20%20%20%20%20%20%20%20popup_9e56f6e361474259ae4b85dd97cc173c.setContent%28html_6100d5625628452ea49f583bf2fda774%29%3B%0A%20%20%20%20%20%20%20%20%0A%0A%20%20%20%20%20%20%20%20marker_326e69a27d74466f8b83d1947f678304.bindPopup%28popup_9e56f6e361474259ae4b85dd97cc173c%29%0A%20%20%20%20%20%20%20%20%3B%0A%0A%20%20%20%20%20%20%20%20%0A%20%20%20%20%0A%20%20%20%20%0A%20%20%20%20%20%20%20%20%20%20%20%20map_4a3527e3c6fa4958a2a259c6e969883f.fitBounds%28%0A%20%20%20%20%20%20%20%20%20%20%20%20%20%20%20%20%5B%5B45.5194%2C%20-122.7625%5D%2C%20%5B45.5875%2C%20-122.6585%5D%5D%2C%0A%20%20%20%20%20%20%20%20%20%20%20%20%20%20%20%20%7B%7D%0A%20%20%20%20%20%20%20%20%20%20%20%20%29%3B%0A%20%20%20%20%20%20%20%20%0A%3C/script%3E onload=\"this.contentDocument.open();this.contentDocument.write(    decodeURIComponent(this.getAttribute('data-html')));this.contentDocument.close();\" allowfullscreen webkitallowfullscreen mozallowfullscreen></iframe></div></div>"
      ],
      "text/plain": [
       "<folium.folium.Map at 0x5d89ef8>"
      ]
     },
     "execution_count": 45,
     "metadata": {},
     "output_type": "execute_result"
    }
   ],
   "source": [
    "m = folium.Map(tiles=\"Stamen Terrain\")\n",
    "\n",
    "folium.Marker(location=[stops['Latitude'][0], stops['Longitude'][0]], \n",
    "      popup=\"<b>\" + stops['Stop'][0] + \"</b>\", \n",
    "      icon=folium.Icon(color='orange', icon='hotel', prefix='fa')).add_to(m)\n",
    "\n",
    "folium.Marker(location=[stops['Longitude'][8], stops['Latitude'][8]], \n",
    "      popup=\"<b>\" + stops['Stop'][8] + \"</b\",\n",
    "      icon=folium.Icon(color='red', icon='train', prefix='fa')).add_to(m)\n",
    "\n",
    "folium.Marker(location=[stops['Latitude'][1], stops['Longitude'][1]], \n",
    "      popup=\"<b>\" + stops['Stop'][1] + \"</b\",\n",
    "      icon=folium.Icon(color='lightblue', icon='book', prefix='fa')).add_to(m)\n",
    "\n",
    "folium.Marker(location=[stops['Latitude'][2], stops['Longitude'][2]], \n",
    "      popup=\"<b>\" + stops['Stop'][2] + \"</b\",\n",
    "      icon=folium.Icon(color='cadetblue', icon='briefcase', prefix='fa')).add_to(m)\n",
    "\n",
    "folium.Marker(location=[stops['Latitude'][3], stops['Longitude'][3]], \n",
    "      popup=\"<b>\" + stops['Stop'][3] + \"</b\",\n",
    "      icon=folium.Icon(color='lightgreen', icon='home', prefix='fa')).add_to(m)\n",
    "\n",
    "folium.Marker(location=[stops['Latitude'][4], stops['Longitude'][4]], \n",
    "      popup=\"<b>\" + stops['Stop'][4] + \"</b\",\n",
    "      icon=folium.Icon(color='lightgreen', icon='tree', prefix='fa')).add_to(m)\n",
    "\n",
    "folium.Marker(location=[stops['Latitude'][5], stops['Longitude'][5]], \n",
    "      popup=\"<b>\" + stops['Stop'][5] + \"</b\",\n",
    "      icon=folium.Icon(color='lightgreen', icon='tree', prefix='fa')).add_to(m)\n",
    "\n",
    "folium.Marker(location=[stops['Latitude'][6], stops['Longitude'][6]], \n",
    "      popup=\"<b>\" + stops['Stop'][6] + \"</b\",\n",
    "      icon=folium.Icon(color='lightgreen', icon='tree', prefix='fa')).add_to(m)\n",
    "\n",
    "folium.Marker(location=[stops['Latitude'][7], stops['Longitude'][7]], \n",
    "      popup=\"<b>\" + stops['Stop'][7] + \"</b\",\n",
    "      icon=folium.Icon(color='lightgreen', icon='tree', prefix='fa')).add_to(m)\n",
    "\n",
    "\n",
    "# Show the map again\n",
    "m.fit_bounds(m.get_bounds())\n",
    "m"
   ]
  },
  {
   "cell_type": "markdown",
   "metadata": {},
   "source": [
    "### Next stop: `San Francisco` and the broader Bay Area!\n",
    "\n",
    "Stay tuned. :)"
   ]
  },
  {
   "cell_type": "markdown",
   "metadata": {},
   "source": []
  }
 ],
 "metadata": {
  "language_info": {
   "name": "python"
  },
  "orig_nbformat": 4
 },
 "nbformat": 4,
 "nbformat_minor": 2
}
