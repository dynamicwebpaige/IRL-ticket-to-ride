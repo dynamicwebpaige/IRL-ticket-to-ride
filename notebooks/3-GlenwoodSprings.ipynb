{
 "cells": [
  {
   "cell_type": "markdown",
   "metadata": {},
   "source": [
    "# 🚂⛰️ **IRL Ticket to Ride**: `Glenwood Springs` and `Aspen`\n",
    "### _December 17th - 19th_"
   ]
  },
  {
   "cell_type": "markdown",
   "metadata": {},
   "source": [
    "### Import libraries\n",
    "\n",
    "To visualize the data and the route maps, we'll be using `micropip` with Pyodide, which brings the Python 3.9 runtime and the entire Python scientific data science stack to WebAssembly; as well as several other data analysis and geographic visualization libraries:\n",
    "\n",
    "* [Folium](http://python-visualization.github.io/folium/): visualizes Python data on a `leaflet.js` map.\n",
    "* [Plotly](https://github.com/plotly/plotly.py): interactive graphing library for Python.\n",
    "* [Pandas](https://pandas.pydata.org/): open-source data analysis and manipulation tool, included out of the box with Pyodide.\n",
    "\n",
    "To launch this notebook using `github.dev`, simply press `.` on your computer keyboard, or swap `github.com` in your browser's URL to `github.dev`. Dependent on the speed of your internet connection, running the cell below should take somewhere between 20-45 seconds."
   ]
  },
  {
   "cell_type": "code",
   "execution_count": null,
   "metadata": {},
   "outputs": [
    {
     "name": "stderr",
     "output_type": "stream",
     "text": [
      "/lib/python3.9/site-packages/pandas/compat/__init__.py:117: UserWarning: Could not import the lzma module. Your installed Python is incomplete. Attempting to use lzma compression will result in a RuntimeError.\n",
      "  warnings.warn(msg)\n"
     ]
    }
   ],
   "source": [
    "import pyodide\n",
    "import micropip\n",
    "\n",
    "await micropip.install('plotly')\n",
    "await micropip.install('folium')\n",
    "\n",
    "import plotly.graph_objects as go\n",
    "import pandas as pd\n",
    "import folium"
   ]
  },
  {
   "cell_type": "markdown",
   "metadata": {},
   "source": [
    "### Import the data\n",
    "\n",
    "First we'll ingest the data describing train stops. The features included in this data set are straightforward: `Latitude` and `Longitude` for each of the stations, as well as `Location` and `Time` and `Date` of when I'll be passing through."
   ]
  },
  {
   "cell_type": "code",
   "execution_count": null,
   "metadata": {},
   "outputs": [],
   "source": [
    "df = pd.read_csv(pyodide.open_url('https://raw.githubusercontent.com/dynamicwebpaige/IRL-ticket-to-ride/main/data/train-stations.csv'))\n",
    "stops = pd.read_csv(pyodide.open_url('https://raw.githubusercontent.com/dynamicwebpaige/IRL-ticket-to-ride/main/data/trip-stops.csv'))"
   ]
  },
  {
   "cell_type": "code",
   "execution_count": 5,
   "metadata": {},
   "outputs": [
    {
     "data": {
      "text/html": [
       "<div>\n",
       "<style scoped>\n",
       "    .dataframe tbody tr th:only-of-type {\n",
       "        vertical-align: middle;\n",
       "    }\n",
       "\n",
       "    .dataframe tbody tr th {\n",
       "        vertical-align: top;\n",
       "    }\n",
       "\n",
       "    .dataframe thead th {\n",
       "        text-align: right;\n",
       "    }\n",
       "</style>\n",
       "<table border=\"1\" class=\"dataframe\">\n",
       "  <thead>\n",
       "    <tr style=\"text-align: right;\">\n",
       "      <th></th>\n",
       "      <th>Time</th>\n",
       "      <th>Date</th>\n",
       "      <th>Location</th>\n",
       "    </tr>\n",
       "  </thead>\n",
       "  <tbody>\n",
       "    <tr>\n",
       "      <th>32</th>\n",
       "      <td>11:09</td>\n",
       "      <td>December 16, 2021</td>\n",
       "      <td>Sacramento, CA</td>\n",
       "    </tr>\n",
       "    <tr>\n",
       "      <th>33</th>\n",
       "      <td>11:35</td>\n",
       "      <td>December 16, 2021</td>\n",
       "      <td>Roseville, CA</td>\n",
       "    </tr>\n",
       "    <tr>\n",
       "      <th>34</th>\n",
       "      <td>12:21</td>\n",
       "      <td>December 16, 2021</td>\n",
       "      <td>Colfax, CA</td>\n",
       "    </tr>\n",
       "    <tr>\n",
       "      <th>35</th>\n",
       "      <td>14:38</td>\n",
       "      <td>December 16, 2021</td>\n",
       "      <td>Truckee, CA</td>\n",
       "    </tr>\n",
       "    <tr>\n",
       "      <th>36</th>\n",
       "      <td>15:56</td>\n",
       "      <td>December 16, 2021</td>\n",
       "      <td>Reno, NV</td>\n",
       "    </tr>\n",
       "    <tr>\n",
       "      <th>37</th>\n",
       "      <td>19:08</td>\n",
       "      <td>December 16, 2021</td>\n",
       "      <td>Winnemucca, NV</td>\n",
       "    </tr>\n",
       "    <tr>\n",
       "      <th>38</th>\n",
       "      <td>21:31</td>\n",
       "      <td>December 16, 2021</td>\n",
       "      <td>Elko, NV</td>\n",
       "    </tr>\n",
       "    <tr>\n",
       "      <th>39</th>\n",
       "      <td>3:05</td>\n",
       "      <td>December 17, 2021</td>\n",
       "      <td>Salt Lake City, UT</td>\n",
       "    </tr>\n",
       "    <tr>\n",
       "      <th>40</th>\n",
       "      <td>4:35</td>\n",
       "      <td>December 17, 2021</td>\n",
       "      <td>Provo, UT</td>\n",
       "    </tr>\n",
       "    <tr>\n",
       "      <th>41</th>\n",
       "      <td>6:37</td>\n",
       "      <td>December 17, 2021</td>\n",
       "      <td>Helper, UT</td>\n",
       "    </tr>\n",
       "    <tr>\n",
       "      <th>42</th>\n",
       "      <td>7:59</td>\n",
       "      <td>December 17, 2021</td>\n",
       "      <td>Green River, UT</td>\n",
       "    </tr>\n",
       "    <tr>\n",
       "      <th>43</th>\n",
       "      <td>10:11</td>\n",
       "      <td>December 17, 2021</td>\n",
       "      <td>Grand Junction, CO</td>\n",
       "    </tr>\n",
       "    <tr>\n",
       "      <th>44</th>\n",
       "      <td>12:04</td>\n",
       "      <td>December 17, 2021</td>\n",
       "      <td>Glenwood Springs, CO</td>\n",
       "    </tr>\n",
       "  </tbody>\n",
       "</table>\n",
       "</div>"
      ],
      "text/plain": [
       "     Time               Date              Location\n",
       "32  11:09  December 16, 2021        Sacramento, CA\n",
       "33  11:35  December 16, 2021         Roseville, CA\n",
       "34  12:21  December 16, 2021            Colfax, CA\n",
       "35  14:38  December 16, 2021           Truckee, CA\n",
       "36  15:56  December 16, 2021              Reno, NV\n",
       "37  19:08  December 16, 2021        Winnemucca, NV\n",
       "38  21:31  December 16, 2021              Elko, NV\n",
       "39   3:05  December 17, 2021    Salt Lake City, UT\n",
       "40   4:35  December 17, 2021             Provo, UT\n",
       "41   6:37  December 17, 2021            Helper, UT\n",
       "42   7:59  December 17, 2021       Green River, UT\n",
       "43  10:11  December 17, 2021    Grand Junction, CO\n",
       "44  12:04  December 17, 2021  Glenwood Springs, CO"
      ]
     },
     "execution_count": 5,
     "metadata": {},
     "output_type": "execute_result"
    }
   ],
   "source": [
    "# Segment out the San Francisco stops.\n",
    "GlenwoodSprings = df.iloc[32:45]\n",
    "GlenwoodSprings[['Time','Date','Location']]"
   ]
  },
  {
   "cell_type": "markdown",
   "metadata": {},
   "source": [
    "### Sacramento to Glenwood Springs: the trip east\n",
    "\n",
    "![](https://upload.wikimedia.org/wikipedia/commons/thumb/5/51/Coast_Starlight_passing_Alviso_Marina%2C_December_2013.jpg/1920px-Coast_Starlight_passing_Alviso_Marina%2C_December_2013.jpg)\n",
    "\n",
    "Beautiful! The train that I'll be riding through these cities is called the [Coast Starlight](https://en.wikipedia.org/wiki/Coast_Starlight). Add some more details about the train, and about its history. If it has had any appearances in films or literature, list them here."
   ]
  },
  {
   "cell_type": "code",
   "execution_count": 6,
   "metadata": {},
   "outputs": [
    {
     "data": {
      "text/html": [
       "<div style=\"width:100%;\"><div style=\"position:relative;width:100%;height:0;padding-bottom:60%;\"><span style=\"color:#565656\">Make this Notebook Trusted to load map: File -> Trust Notebook</span><iframe src=\"about:blank\" style=\"position:absolute;width:100%;height:100%;left:0;top:0;border:none !important;\" data-html=%3C%21DOCTYPE%20html%3E%0A%3Chead%3E%20%20%20%20%0A%20%20%20%20%3Cmeta%20http-equiv%3D%22content-type%22%20content%3D%22text/html%3B%20charset%3DUTF-8%22%20/%3E%0A%20%20%20%20%0A%20%20%20%20%20%20%20%20%3Cscript%3E%0A%20%20%20%20%20%20%20%20%20%20%20%20L_NO_TOUCH%20%3D%20false%3B%0A%20%20%20%20%20%20%20%20%20%20%20%20L_DISABLE_3D%20%3D%20false%3B%0A%20%20%20%20%20%20%20%20%3C/script%3E%0A%20%20%20%20%0A%20%20%20%20%3Cstyle%3Ehtml%2C%20body%20%7Bwidth%3A%20100%25%3Bheight%3A%20100%25%3Bmargin%3A%200%3Bpadding%3A%200%3B%7D%3C/style%3E%0A%20%20%20%20%3Cstyle%3E%23map%20%7Bposition%3Aabsolute%3Btop%3A0%3Bbottom%3A0%3Bright%3A0%3Bleft%3A0%3B%7D%3C/style%3E%0A%20%20%20%20%3Cscript%20src%3D%22https%3A//cdn.jsdelivr.net/npm/leaflet%401.6.0/dist/leaflet.js%22%3E%3C/script%3E%0A%20%20%20%20%3Cscript%20src%3D%22https%3A//code.jquery.com/jquery-1.12.4.min.js%22%3E%3C/script%3E%0A%20%20%20%20%3Cscript%20src%3D%22https%3A//maxcdn.bootstrapcdn.com/bootstrap/3.2.0/js/bootstrap.min.js%22%3E%3C/script%3E%0A%20%20%20%20%3Cscript%20src%3D%22https%3A//cdnjs.cloudflare.com/ajax/libs/Leaflet.awesome-markers/2.0.2/leaflet.awesome-markers.js%22%3E%3C/script%3E%0A%20%20%20%20%3Clink%20rel%3D%22stylesheet%22%20href%3D%22https%3A//cdn.jsdelivr.net/npm/leaflet%401.6.0/dist/leaflet.css%22/%3E%0A%20%20%20%20%3Clink%20rel%3D%22stylesheet%22%20href%3D%22https%3A//maxcdn.bootstrapcdn.com/bootstrap/3.2.0/css/bootstrap.min.css%22/%3E%0A%20%20%20%20%3Clink%20rel%3D%22stylesheet%22%20href%3D%22https%3A//maxcdn.bootstrapcdn.com/bootstrap/3.2.0/css/bootstrap-theme.min.css%22/%3E%0A%20%20%20%20%3Clink%20rel%3D%22stylesheet%22%20href%3D%22https%3A//maxcdn.bootstrapcdn.com/font-awesome/4.6.3/css/font-awesome.min.css%22/%3E%0A%20%20%20%20%3Clink%20rel%3D%22stylesheet%22%20href%3D%22https%3A//cdnjs.cloudflare.com/ajax/libs/Leaflet.awesome-markers/2.0.2/leaflet.awesome-markers.css%22/%3E%0A%20%20%20%20%3Clink%20rel%3D%22stylesheet%22%20href%3D%22https%3A//cdn.jsdelivr.net/gh/python-visualization/folium/folium/templates/leaflet.awesome.rotate.min.css%22/%3E%0A%20%20%20%20%0A%20%20%20%20%20%20%20%20%20%20%20%20%3Cmeta%20name%3D%22viewport%22%20content%3D%22width%3Ddevice-width%2C%0A%20%20%20%20%20%20%20%20%20%20%20%20%20%20%20%20initial-scale%3D1.0%2C%20maximum-scale%3D1.0%2C%20user-scalable%3Dno%22%20/%3E%0A%20%20%20%20%20%20%20%20%20%20%20%20%3Cstyle%3E%0A%20%20%20%20%20%20%20%20%20%20%20%20%20%20%20%20%23map_5e40f09b22cf4e029f87ac28330da470%20%7B%0A%20%20%20%20%20%20%20%20%20%20%20%20%20%20%20%20%20%20%20%20position%3A%20relative%3B%0A%20%20%20%20%20%20%20%20%20%20%20%20%20%20%20%20%20%20%20%20width%3A%20100.0%25%3B%0A%20%20%20%20%20%20%20%20%20%20%20%20%20%20%20%20%20%20%20%20height%3A%20100.0%25%3B%0A%20%20%20%20%20%20%20%20%20%20%20%20%20%20%20%20%20%20%20%20left%3A%200.0%25%3B%0A%20%20%20%20%20%20%20%20%20%20%20%20%20%20%20%20%20%20%20%20top%3A%200.0%25%3B%0A%20%20%20%20%20%20%20%20%20%20%20%20%20%20%20%20%7D%0A%20%20%20%20%20%20%20%20%20%20%20%20%3C/style%3E%0A%20%20%20%20%20%20%20%20%0A%3C/head%3E%0A%3Cbody%3E%20%20%20%20%0A%20%20%20%20%0A%20%20%20%20%20%20%20%20%20%20%20%20%3Cdiv%20class%3D%22folium-map%22%20id%3D%22map_5e40f09b22cf4e029f87ac28330da470%22%20%3E%3C/div%3E%0A%20%20%20%20%20%20%20%20%0A%3C/body%3E%0A%3Cscript%3E%20%20%20%20%0A%20%20%20%20%0A%20%20%20%20%20%20%20%20%20%20%20%20var%20map_5e40f09b22cf4e029f87ac28330da470%20%3D%20L.map%28%0A%20%20%20%20%20%20%20%20%20%20%20%20%20%20%20%20%22map_5e40f09b22cf4e029f87ac28330da470%22%2C%0A%20%20%20%20%20%20%20%20%20%20%20%20%20%20%20%20%7B%0A%20%20%20%20%20%20%20%20%20%20%20%20%20%20%20%20%20%20%20%20center%3A%20%5B0%2C%200%5D%2C%0A%20%20%20%20%20%20%20%20%20%20%20%20%20%20%20%20%20%20%20%20crs%3A%20L.CRS.EPSG3857%2C%0A%20%20%20%20%20%20%20%20%20%20%20%20%20%20%20%20%20%20%20%20zoom%3A%201%2C%0A%20%20%20%20%20%20%20%20%20%20%20%20%20%20%20%20%20%20%20%20zoomControl%3A%20true%2C%0A%20%20%20%20%20%20%20%20%20%20%20%20%20%20%20%20%20%20%20%20preferCanvas%3A%20false%2C%0A%20%20%20%20%20%20%20%20%20%20%20%20%20%20%20%20%7D%0A%20%20%20%20%20%20%20%20%20%20%20%20%29%3B%0A%0A%20%20%20%20%20%20%20%20%20%20%20%20%0A%0A%20%20%20%20%20%20%20%20%0A%20%20%20%20%0A%20%20%20%20%20%20%20%20%20%20%20%20var%20tile_layer_980aaac897f6489e99f81c331eb3eae9%20%3D%20L.tileLayer%28%0A%20%20%20%20%20%20%20%20%20%20%20%20%20%20%20%20%22https%3A//stamen-tiles-%7Bs%7D.a.ssl.fastly.net/terrain/%7Bz%7D/%7Bx%7D/%7By%7D.jpg%22%2C%0A%20%20%20%20%20%20%20%20%20%20%20%20%20%20%20%20%7B%22attribution%22%3A%20%22Map%20tiles%20by%20%5Cu003ca%20href%3D%5C%22http%3A//stamen.com%5C%22%5Cu003eStamen%20Design%5Cu003c/a%5Cu003e%2C%20under%20%5Cu003ca%20href%3D%5C%22http%3A//creativecommons.org/licenses/by/3.0%5C%22%5Cu003eCC%20BY%203.0%5Cu003c/a%5Cu003e.%20Data%20by%20%5Cu0026copy%3B%20%5Cu003ca%20href%3D%5C%22http%3A//openstreetmap.org%5C%22%5Cu003eOpenStreetMap%5Cu003c/a%5Cu003e%2C%20under%20%5Cu003ca%20href%3D%5C%22http%3A//creativecommons.org/licenses/by-sa/3.0%5C%22%5Cu003eCC%20BY%20SA%5Cu003c/a%5Cu003e.%22%2C%20%22detectRetina%22%3A%20false%2C%20%22maxNativeZoom%22%3A%2018%2C%20%22maxZoom%22%3A%2018%2C%20%22minZoom%22%3A%200%2C%20%22noWrap%22%3A%20false%2C%20%22opacity%22%3A%201%2C%20%22subdomains%22%3A%20%22abc%22%2C%20%22tms%22%3A%20false%7D%0A%20%20%20%20%20%20%20%20%20%20%20%20%29.addTo%28map_5e40f09b22cf4e029f87ac28330da470%29%3B%0A%20%20%20%20%20%20%20%20%0A%20%20%20%20%0A%20%20%20%20%20%20%20%20%20%20%20%20var%20marker_438e7091a97a4262b0188d941249d70c%20%3D%20L.marker%28%0A%20%20%20%20%20%20%20%20%20%20%20%20%20%20%20%20%5B38.58400908%2C%20-121.5007172%5D%2C%0A%20%20%20%20%20%20%20%20%20%20%20%20%20%20%20%20%7B%7D%0A%20%20%20%20%20%20%20%20%20%20%20%20%29.addTo%28map_5e40f09b22cf4e029f87ac28330da470%29%3B%0A%20%20%20%20%20%20%20%20%0A%20%20%20%20%0A%20%20%20%20%20%20%20%20%20%20%20%20var%20icon_c127b14927594b79b5e59b0a11475f4e%20%3D%20L.AwesomeMarkers.icon%28%0A%20%20%20%20%20%20%20%20%20%20%20%20%20%20%20%20%7B%22extraClasses%22%3A%20%22fa-rotate-0%22%2C%20%22icon%22%3A%20%22train%22%2C%20%22iconColor%22%3A%20%22white%22%2C%20%22markerColor%22%3A%20%22orange%22%2C%20%22prefix%22%3A%20%22fa%22%7D%0A%20%20%20%20%20%20%20%20%20%20%20%20%29%3B%0A%20%20%20%20%20%20%20%20%20%20%20%20marker_438e7091a97a4262b0188d941249d70c.setIcon%28icon_c127b14927594b79b5e59b0a11475f4e%29%3B%0A%20%20%20%20%20%20%20%20%0A%20%20%20%20%0A%20%20%20%20%20%20%20%20var%20popup_acc24eda0dd2412c8e494f712ff5ba67%20%3D%20L.popup%28%7B%22maxWidth%22%3A%20%22100%25%22%7D%29%3B%0A%0A%20%20%20%20%20%20%20%20%0A%20%20%20%20%20%20%20%20%20%20%20%20var%20html_6361bc8c89df419e84017d1708a00321%20%3D%20%24%28%60%3Cdiv%20id%3D%22html_6361bc8c89df419e84017d1708a00321%22%20style%3D%22width%3A%20100.0%25%3B%20height%3A%20100.0%25%3B%22%3E%3Cb%3ESacramento%2C%20CA%3C/b%3E%3Cbr%3E%3Cbr%3EDecember%2016%2C%202021%3Cbr%3E%3Cbr%3E11%3A09%3C/div%3E%60%29%5B0%5D%3B%0A%20%20%20%20%20%20%20%20%20%20%20%20popup_acc24eda0dd2412c8e494f712ff5ba67.setContent%28html_6361bc8c89df419e84017d1708a00321%29%3B%0A%20%20%20%20%20%20%20%20%0A%0A%20%20%20%20%20%20%20%20marker_438e7091a97a4262b0188d941249d70c.bindPopup%28popup_acc24eda0dd2412c8e494f712ff5ba67%29%0A%20%20%20%20%20%20%20%20%3B%0A%0A%20%20%20%20%20%20%20%20%0A%20%20%20%20%0A%20%20%20%20%0A%20%20%20%20%20%20%20%20%20%20%20%20var%20marker_e3dbd1d3fd35441bb60f2785f3aaa065%20%3D%20L.marker%28%0A%20%20%20%20%20%20%20%20%20%20%20%20%20%20%20%20%5B38.75002111%2C%20-121.2862992%5D%2C%0A%20%20%20%20%20%20%20%20%20%20%20%20%20%20%20%20%7B%7D%0A%20%20%20%20%20%20%20%20%20%20%20%20%29.addTo%28map_5e40f09b22cf4e029f87ac28330da470%29%3B%0A%20%20%20%20%20%20%20%20%0A%20%20%20%20%0A%20%20%20%20%20%20%20%20%20%20%20%20var%20icon_aecd6dc44516499b87216ae4aa448ceb%20%3D%20L.AwesomeMarkers.icon%28%0A%20%20%20%20%20%20%20%20%20%20%20%20%20%20%20%20%7B%22extraClasses%22%3A%20%22fa-rotate-0%22%2C%20%22icon%22%3A%20%22train%22%2C%20%22iconColor%22%3A%20%22white%22%2C%20%22markerColor%22%3A%20%22orange%22%2C%20%22prefix%22%3A%20%22fa%22%7D%0A%20%20%20%20%20%20%20%20%20%20%20%20%29%3B%0A%20%20%20%20%20%20%20%20%20%20%20%20marker_e3dbd1d3fd35441bb60f2785f3aaa065.setIcon%28icon_aecd6dc44516499b87216ae4aa448ceb%29%3B%0A%20%20%20%20%20%20%20%20%0A%20%20%20%20%0A%20%20%20%20%20%20%20%20var%20popup_b680e823384f417da1593a5ef0638ee2%20%3D%20L.popup%28%7B%22maxWidth%22%3A%20%22100%25%22%7D%29%3B%0A%0A%20%20%20%20%20%20%20%20%0A%20%20%20%20%20%20%20%20%20%20%20%20var%20html_2c315988b20746ed9641586af15d6520%20%3D%20%24%28%60%3Cdiv%20id%3D%22html_2c315988b20746ed9641586af15d6520%22%20style%3D%22width%3A%20100.0%25%3B%20height%3A%20100.0%25%3B%22%3E%3Cb%3ERoseville%2C%20CA%3C/b%3E%3Cbr%3E%3Cbr%3EDecember%2016%2C%202021%3Cbr%3E%3Cbr%3E11%3A35%3C/div%3E%60%29%5B0%5D%3B%0A%20%20%20%20%20%20%20%20%20%20%20%20popup_b680e823384f417da1593a5ef0638ee2.setContent%28html_2c315988b20746ed9641586af15d6520%29%3B%0A%20%20%20%20%20%20%20%20%0A%0A%20%20%20%20%20%20%20%20marker_e3dbd1d3fd35441bb60f2785f3aaa065.bindPopup%28popup_b680e823384f417da1593a5ef0638ee2%29%0A%20%20%20%20%20%20%20%20%3B%0A%0A%20%20%20%20%20%20%20%20%0A%20%20%20%20%0A%20%20%20%20%0A%20%20%20%20%20%20%20%20%20%20%20%20var%20marker_36a2d5ee70f44d0e9a4a21400d8c9748%20%3D%20L.marker%28%0A%20%20%20%20%20%20%20%20%20%20%20%20%20%20%20%20%5B39.09917716%2C%20-120.9530882%5D%2C%0A%20%20%20%20%20%20%20%20%20%20%20%20%20%20%20%20%7B%7D%0A%20%20%20%20%20%20%20%20%20%20%20%20%29.addTo%28map_5e40f09b22cf4e029f87ac28330da470%29%3B%0A%20%20%20%20%20%20%20%20%0A%20%20%20%20%0A%20%20%20%20%20%20%20%20%20%20%20%20var%20icon_b67dae6ae07a40ca9c54bf6f3be652f4%20%3D%20L.AwesomeMarkers.icon%28%0A%20%20%20%20%20%20%20%20%20%20%20%20%20%20%20%20%7B%22extraClasses%22%3A%20%22fa-rotate-0%22%2C%20%22icon%22%3A%20%22train%22%2C%20%22iconColor%22%3A%20%22white%22%2C%20%22markerColor%22%3A%20%22orange%22%2C%20%22prefix%22%3A%20%22fa%22%7D%0A%20%20%20%20%20%20%20%20%20%20%20%20%29%3B%0A%20%20%20%20%20%20%20%20%20%20%20%20marker_36a2d5ee70f44d0e9a4a21400d8c9748.setIcon%28icon_b67dae6ae07a40ca9c54bf6f3be652f4%29%3B%0A%20%20%20%20%20%20%20%20%0A%20%20%20%20%0A%20%20%20%20%20%20%20%20var%20popup_ea6016a69e18455a95d5b15b955c43c6%20%3D%20L.popup%28%7B%22maxWidth%22%3A%20%22100%25%22%7D%29%3B%0A%0A%20%20%20%20%20%20%20%20%0A%20%20%20%20%20%20%20%20%20%20%20%20var%20html_420e8d9b5f7740ec9c65d07d64588185%20%3D%20%24%28%60%3Cdiv%20id%3D%22html_420e8d9b5f7740ec9c65d07d64588185%22%20style%3D%22width%3A%20100.0%25%3B%20height%3A%20100.0%25%3B%22%3E%3Cb%3EColfax%2C%20CA%3C/b%3E%3Cbr%3E%3Cbr%3EDecember%2016%2C%202021%3Cbr%3E%3Cbr%3E12%3A21%3C/div%3E%60%29%5B0%5D%3B%0A%20%20%20%20%20%20%20%20%20%20%20%20popup_ea6016a69e18455a95d5b15b955c43c6.setContent%28html_420e8d9b5f7740ec9c65d07d64588185%29%3B%0A%20%20%20%20%20%20%20%20%0A%0A%20%20%20%20%20%20%20%20marker_36a2d5ee70f44d0e9a4a21400d8c9748.bindPopup%28popup_ea6016a69e18455a95d5b15b955c43c6%29%0A%20%20%20%20%20%20%20%20%3B%0A%0A%20%20%20%20%20%20%20%20%0A%20%20%20%20%0A%20%20%20%20%0A%20%20%20%20%20%20%20%20%20%20%20%20var%20marker_e24c489ab3e34f0380d4685a8514ec92%20%3D%20L.marker%28%0A%20%20%20%20%20%20%20%20%20%20%20%20%20%20%20%20%5B39.32762124%2C%20-120.1854001%5D%2C%0A%20%20%20%20%20%20%20%20%20%20%20%20%20%20%20%20%7B%7D%0A%20%20%20%20%20%20%20%20%20%20%20%20%29.addTo%28map_5e40f09b22cf4e029f87ac28330da470%29%3B%0A%20%20%20%20%20%20%20%20%0A%20%20%20%20%0A%20%20%20%20%20%20%20%20%20%20%20%20var%20icon_3fe03a9f61274ff286424e3e4152abfc%20%3D%20L.AwesomeMarkers.icon%28%0A%20%20%20%20%20%20%20%20%20%20%20%20%20%20%20%20%7B%22extraClasses%22%3A%20%22fa-rotate-0%22%2C%20%22icon%22%3A%20%22train%22%2C%20%22iconColor%22%3A%20%22white%22%2C%20%22markerColor%22%3A%20%22orange%22%2C%20%22prefix%22%3A%20%22fa%22%7D%0A%20%20%20%20%20%20%20%20%20%20%20%20%29%3B%0A%20%20%20%20%20%20%20%20%20%20%20%20marker_e24c489ab3e34f0380d4685a8514ec92.setIcon%28icon_3fe03a9f61274ff286424e3e4152abfc%29%3B%0A%20%20%20%20%20%20%20%20%0A%20%20%20%20%0A%20%20%20%20%20%20%20%20var%20popup_d69066861a32445e9034bc28b88b274b%20%3D%20L.popup%28%7B%22maxWidth%22%3A%20%22100%25%22%7D%29%3B%0A%0A%20%20%20%20%20%20%20%20%0A%20%20%20%20%20%20%20%20%20%20%20%20var%20html_4bc7e03c93944eacb7ee326876aafca5%20%3D%20%24%28%60%3Cdiv%20id%3D%22html_4bc7e03c93944eacb7ee326876aafca5%22%20style%3D%22width%3A%20100.0%25%3B%20height%3A%20100.0%25%3B%22%3E%3Cb%3ETruckee%2C%20CA%3C/b%3E%3Cbr%3E%3Cbr%3EDecember%2016%2C%202021%3Cbr%3E%3Cbr%3E14%3A38%3C/div%3E%60%29%5B0%5D%3B%0A%20%20%20%20%20%20%20%20%20%20%20%20popup_d69066861a32445e9034bc28b88b274b.setContent%28html_4bc7e03c93944eacb7ee326876aafca5%29%3B%0A%20%20%20%20%20%20%20%20%0A%0A%20%20%20%20%20%20%20%20marker_e24c489ab3e34f0380d4685a8514ec92.bindPopup%28popup_d69066861a32445e9034bc28b88b274b%29%0A%20%20%20%20%20%20%20%20%3B%0A%0A%20%20%20%20%20%20%20%20%0A%20%20%20%20%0A%20%20%20%20%0A%20%20%20%20%20%20%20%20%20%20%20%20var%20marker_1debca03617d4115bf1a7779306e5153%20%3D%20L.marker%28%0A%20%20%20%20%20%20%20%20%20%20%20%20%20%20%20%20%5B39.52852629%2C%20-119.81213600000001%5D%2C%0A%20%20%20%20%20%20%20%20%20%20%20%20%20%20%20%20%7B%7D%0A%20%20%20%20%20%20%20%20%20%20%20%20%29.addTo%28map_5e40f09b22cf4e029f87ac28330da470%29%3B%0A%20%20%20%20%20%20%20%20%0A%20%20%20%20%0A%20%20%20%20%20%20%20%20%20%20%20%20var%20icon_b19395f67edc4467942e1665f0526aa3%20%3D%20L.AwesomeMarkers.icon%28%0A%20%20%20%20%20%20%20%20%20%20%20%20%20%20%20%20%7B%22extraClasses%22%3A%20%22fa-rotate-0%22%2C%20%22icon%22%3A%20%22train%22%2C%20%22iconColor%22%3A%20%22white%22%2C%20%22markerColor%22%3A%20%22orange%22%2C%20%22prefix%22%3A%20%22fa%22%7D%0A%20%20%20%20%20%20%20%20%20%20%20%20%29%3B%0A%20%20%20%20%20%20%20%20%20%20%20%20marker_1debca03617d4115bf1a7779306e5153.setIcon%28icon_b19395f67edc4467942e1665f0526aa3%29%3B%0A%20%20%20%20%20%20%20%20%0A%20%20%20%20%0A%20%20%20%20%20%20%20%20var%20popup_1fc08654b1004c1d8074c77d2637de39%20%3D%20L.popup%28%7B%22maxWidth%22%3A%20%22100%25%22%7D%29%3B%0A%0A%20%20%20%20%20%20%20%20%0A%20%20%20%20%20%20%20%20%20%20%20%20var%20html_98eaf76124f04cb0b2b688e19358ac1a%20%3D%20%24%28%60%3Cdiv%20id%3D%22html_98eaf76124f04cb0b2b688e19358ac1a%22%20style%3D%22width%3A%20100.0%25%3B%20height%3A%20100.0%25%3B%22%3E%3Cb%3EReno%2C%20NV%3C/b%3E%3Cbr%3E%3Cbr%3EDecember%2016%2C%202021%3Cbr%3E%3Cbr%3E15%3A56%3C/div%3E%60%29%5B0%5D%3B%0A%20%20%20%20%20%20%20%20%20%20%20%20popup_1fc08654b1004c1d8074c77d2637de39.setContent%28html_98eaf76124f04cb0b2b688e19358ac1a%29%3B%0A%20%20%20%20%20%20%20%20%0A%0A%20%20%20%20%20%20%20%20marker_1debca03617d4115bf1a7779306e5153.bindPopup%28popup_1fc08654b1004c1d8074c77d2637de39%29%0A%20%20%20%20%20%20%20%20%3B%0A%0A%20%20%20%20%20%20%20%20%0A%20%20%20%20%0A%20%20%20%20%0A%20%20%20%20%20%20%20%20%20%20%20%20var%20marker_7da4663718cf4a5b986122dea4a922b4%20%3D%20L.marker%28%0A%20%20%20%20%20%20%20%20%20%20%20%20%20%20%20%20%5B40.96904959%2C%20-117.73222290000001%5D%2C%0A%20%20%20%20%20%20%20%20%20%20%20%20%20%20%20%20%7B%7D%0A%20%20%20%20%20%20%20%20%20%20%20%20%29.addTo%28map_5e40f09b22cf4e029f87ac28330da470%29%3B%0A%20%20%20%20%20%20%20%20%0A%20%20%20%20%0A%20%20%20%20%20%20%20%20%20%20%20%20var%20icon_23ed995fa66941899697e7daa4a7861d%20%3D%20L.AwesomeMarkers.icon%28%0A%20%20%20%20%20%20%20%20%20%20%20%20%20%20%20%20%7B%22extraClasses%22%3A%20%22fa-rotate-0%22%2C%20%22icon%22%3A%20%22train%22%2C%20%22iconColor%22%3A%20%22white%22%2C%20%22markerColor%22%3A%20%22orange%22%2C%20%22prefix%22%3A%20%22fa%22%7D%0A%20%20%20%20%20%20%20%20%20%20%20%20%29%3B%0A%20%20%20%20%20%20%20%20%20%20%20%20marker_7da4663718cf4a5b986122dea4a922b4.setIcon%28icon_23ed995fa66941899697e7daa4a7861d%29%3B%0A%20%20%20%20%20%20%20%20%0A%20%20%20%20%0A%20%20%20%20%20%20%20%20var%20popup_63b5722ddd4840e58fc6169e6535ff72%20%3D%20L.popup%28%7B%22maxWidth%22%3A%20%22100%25%22%7D%29%3B%0A%0A%20%20%20%20%20%20%20%20%0A%20%20%20%20%20%20%20%20%20%20%20%20var%20html_89cf361e1e7c4ea3869ddfaef43b6698%20%3D%20%24%28%60%3Cdiv%20id%3D%22html_89cf361e1e7c4ea3869ddfaef43b6698%22%20style%3D%22width%3A%20100.0%25%3B%20height%3A%20100.0%25%3B%22%3E%3Cb%3EWinnemucca%2C%20NV%3C/b%3E%3Cbr%3E%3Cbr%3EDecember%2016%2C%202021%3Cbr%3E%3Cbr%3E19%3A08%3C/div%3E%60%29%5B0%5D%3B%0A%20%20%20%20%20%20%20%20%20%20%20%20popup_63b5722ddd4840e58fc6169e6535ff72.setContent%28html_89cf361e1e7c4ea3869ddfaef43b6698%29%3B%0A%20%20%20%20%20%20%20%20%0A%0A%20%20%20%20%20%20%20%20marker_7da4663718cf4a5b986122dea4a922b4.bindPopup%28popup_63b5722ddd4840e58fc6169e6535ff72%29%0A%20%20%20%20%20%20%20%20%3B%0A%0A%20%20%20%20%20%20%20%20%0A%20%20%20%20%0A%20%20%20%20%0A%20%20%20%20%20%20%20%20%20%20%20%20var%20marker_97ea81eb0e0140b69335e12d35fcfe8d%20%3D%20L.marker%28%0A%20%20%20%20%20%20%20%20%20%20%20%20%20%20%20%20%5B40.83648874%2C%20-115.75054250000001%5D%2C%0A%20%20%20%20%20%20%20%20%20%20%20%20%20%20%20%20%7B%7D%0A%20%20%20%20%20%20%20%20%20%20%20%20%29.addTo%28map_5e40f09b22cf4e029f87ac28330da470%29%3B%0A%20%20%20%20%20%20%20%20%0A%20%20%20%20%0A%20%20%20%20%20%20%20%20%20%20%20%20var%20icon_76d2678bb02a474997c064998d0bb574%20%3D%20L.AwesomeMarkers.icon%28%0A%20%20%20%20%20%20%20%20%20%20%20%20%20%20%20%20%7B%22extraClasses%22%3A%20%22fa-rotate-0%22%2C%20%22icon%22%3A%20%22train%22%2C%20%22iconColor%22%3A%20%22white%22%2C%20%22markerColor%22%3A%20%22orange%22%2C%20%22prefix%22%3A%20%22fa%22%7D%0A%20%20%20%20%20%20%20%20%20%20%20%20%29%3B%0A%20%20%20%20%20%20%20%20%20%20%20%20marker_97ea81eb0e0140b69335e12d35fcfe8d.setIcon%28icon_76d2678bb02a474997c064998d0bb574%29%3B%0A%20%20%20%20%20%20%20%20%0A%20%20%20%20%0A%20%20%20%20%20%20%20%20var%20popup_1c85bceb5a4e481fbdff35d4f104d351%20%3D%20L.popup%28%7B%22maxWidth%22%3A%20%22100%25%22%7D%29%3B%0A%0A%20%20%20%20%20%20%20%20%0A%20%20%20%20%20%20%20%20%20%20%20%20var%20html_f734de6f2e084efc8c082cbe41f49c53%20%3D%20%24%28%60%3Cdiv%20id%3D%22html_f734de6f2e084efc8c082cbe41f49c53%22%20style%3D%22width%3A%20100.0%25%3B%20height%3A%20100.0%25%3B%22%3E%3Cb%3EElko%2C%20NV%3C/b%3E%3Cbr%3E%3Cbr%3EDecember%2016%2C%202021%3Cbr%3E%3Cbr%3E21%3A31%3C/div%3E%60%29%5B0%5D%3B%0A%20%20%20%20%20%20%20%20%20%20%20%20popup_1c85bceb5a4e481fbdff35d4f104d351.setContent%28html_f734de6f2e084efc8c082cbe41f49c53%29%3B%0A%20%20%20%20%20%20%20%20%0A%0A%20%20%20%20%20%20%20%20marker_97ea81eb0e0140b69335e12d35fcfe8d.bindPopup%28popup_1c85bceb5a4e481fbdff35d4f104d351%29%0A%20%20%20%20%20%20%20%20%3B%0A%0A%20%20%20%20%20%20%20%20%0A%20%20%20%20%0A%20%20%20%20%0A%20%20%20%20%20%20%20%20%20%20%20%20var%20marker_896eb0f187e14cc9a40e41766b3dddb4%20%3D%20L.marker%28%0A%20%20%20%20%20%20%20%20%20%20%20%20%20%20%20%20%5B40.76304604%2C%20-111.9085217%5D%2C%0A%20%20%20%20%20%20%20%20%20%20%20%20%20%20%20%20%7B%7D%0A%20%20%20%20%20%20%20%20%20%20%20%20%29.addTo%28map_5e40f09b22cf4e029f87ac28330da470%29%3B%0A%20%20%20%20%20%20%20%20%0A%20%20%20%20%0A%20%20%20%20%20%20%20%20%20%20%20%20var%20icon_c0fdb4b09604408d951b838cc7569ffb%20%3D%20L.AwesomeMarkers.icon%28%0A%20%20%20%20%20%20%20%20%20%20%20%20%20%20%20%20%7B%22extraClasses%22%3A%20%22fa-rotate-0%22%2C%20%22icon%22%3A%20%22train%22%2C%20%22iconColor%22%3A%20%22white%22%2C%20%22markerColor%22%3A%20%22orange%22%2C%20%22prefix%22%3A%20%22fa%22%7D%0A%20%20%20%20%20%20%20%20%20%20%20%20%29%3B%0A%20%20%20%20%20%20%20%20%20%20%20%20marker_896eb0f187e14cc9a40e41766b3dddb4.setIcon%28icon_c0fdb4b09604408d951b838cc7569ffb%29%3B%0A%20%20%20%20%20%20%20%20%0A%20%20%20%20%0A%20%20%20%20%20%20%20%20var%20popup_22e69544058d4c03b8c442cab88e85d7%20%3D%20L.popup%28%7B%22maxWidth%22%3A%20%22100%25%22%7D%29%3B%0A%0A%20%20%20%20%20%20%20%20%0A%20%20%20%20%20%20%20%20%20%20%20%20var%20html_60be9a94991747a3a324f8126d283f21%20%3D%20%24%28%60%3Cdiv%20id%3D%22html_60be9a94991747a3a324f8126d283f21%22%20style%3D%22width%3A%20100.0%25%3B%20height%3A%20100.0%25%3B%22%3E%3Cb%3ESalt%20Lake%20City%2C%20UT%3C/b%3E%3Cbr%3E%3Cbr%3EDecember%2017%2C%202021%3Cbr%3E%3Cbr%3E3%3A05%3C/div%3E%60%29%5B0%5D%3B%0A%20%20%20%20%20%20%20%20%20%20%20%20popup_22e69544058d4c03b8c442cab88e85d7.setContent%28html_60be9a94991747a3a324f8126d283f21%29%3B%0A%20%20%20%20%20%20%20%20%0A%0A%20%20%20%20%20%20%20%20marker_896eb0f187e14cc9a40e41766b3dddb4.bindPopup%28popup_22e69544058d4c03b8c442cab88e85d7%29%0A%20%20%20%20%20%20%20%20%3B%0A%0A%20%20%20%20%20%20%20%20%0A%20%20%20%20%0A%20%20%20%20%0A%20%20%20%20%20%20%20%20%20%20%20%20var%20marker_90d89f4f11b044a2a119e6b9c752291a%20%3D%20L.marker%28%0A%20%20%20%20%20%20%20%20%20%20%20%20%20%20%20%20%5B40.225963%2C%20-111.66401259999999%5D%2C%0A%20%20%20%20%20%20%20%20%20%20%20%20%20%20%20%20%7B%7D%0A%20%20%20%20%20%20%20%20%20%20%20%20%29.addTo%28map_5e40f09b22cf4e029f87ac28330da470%29%3B%0A%20%20%20%20%20%20%20%20%0A%20%20%20%20%0A%20%20%20%20%20%20%20%20%20%20%20%20var%20icon_47dec3fe9f104cf2a99e12a84bb24d44%20%3D%20L.AwesomeMarkers.icon%28%0A%20%20%20%20%20%20%20%20%20%20%20%20%20%20%20%20%7B%22extraClasses%22%3A%20%22fa-rotate-0%22%2C%20%22icon%22%3A%20%22train%22%2C%20%22iconColor%22%3A%20%22white%22%2C%20%22markerColor%22%3A%20%22orange%22%2C%20%22prefix%22%3A%20%22fa%22%7D%0A%20%20%20%20%20%20%20%20%20%20%20%20%29%3B%0A%20%20%20%20%20%20%20%20%20%20%20%20marker_90d89f4f11b044a2a119e6b9c752291a.setIcon%28icon_47dec3fe9f104cf2a99e12a84bb24d44%29%3B%0A%20%20%20%20%20%20%20%20%0A%20%20%20%20%0A%20%20%20%20%20%20%20%20var%20popup_ad956f038be84add9b025d767e216a45%20%3D%20L.popup%28%7B%22maxWidth%22%3A%20%22100%25%22%7D%29%3B%0A%0A%20%20%20%20%20%20%20%20%0A%20%20%20%20%20%20%20%20%20%20%20%20var%20html_b6410c3cadc8486f95f5bc6b7ccf94a5%20%3D%20%24%28%60%3Cdiv%20id%3D%22html_b6410c3cadc8486f95f5bc6b7ccf94a5%22%20style%3D%22width%3A%20100.0%25%3B%20height%3A%20100.0%25%3B%22%3E%3Cb%3EProvo%2C%20UT%3C/b%3E%3Cbr%3E%3Cbr%3EDecember%2017%2C%202021%3Cbr%3E%3Cbr%3E4%3A35%3C/div%3E%60%29%5B0%5D%3B%0A%20%20%20%20%20%20%20%20%20%20%20%20popup_ad956f038be84add9b025d767e216a45.setContent%28html_b6410c3cadc8486f95f5bc6b7ccf94a5%29%3B%0A%20%20%20%20%20%20%20%20%0A%0A%20%20%20%20%20%20%20%20marker_90d89f4f11b044a2a119e6b9c752291a.bindPopup%28popup_ad956f038be84add9b025d767e216a45%29%0A%20%20%20%20%20%20%20%20%3B%0A%0A%20%20%20%20%20%20%20%20%0A%20%20%20%20%0A%20%20%20%20%0A%20%20%20%20%20%20%20%20%20%20%20%20var%20marker_2e4bdddd246441b4b0c68f8c55ab4402%20%3D%20L.marker%28%0A%20%20%20%20%20%20%20%20%20%20%20%20%20%20%20%20%5B39.68404199%2C%20-110.8539054%5D%2C%0A%20%20%20%20%20%20%20%20%20%20%20%20%20%20%20%20%7B%7D%0A%20%20%20%20%20%20%20%20%20%20%20%20%29.addTo%28map_5e40f09b22cf4e029f87ac28330da470%29%3B%0A%20%20%20%20%20%20%20%20%0A%20%20%20%20%0A%20%20%20%20%20%20%20%20%20%20%20%20var%20icon_93f9790538394a70b08f54eba5660c69%20%3D%20L.AwesomeMarkers.icon%28%0A%20%20%20%20%20%20%20%20%20%20%20%20%20%20%20%20%7B%22extraClasses%22%3A%20%22fa-rotate-0%22%2C%20%22icon%22%3A%20%22train%22%2C%20%22iconColor%22%3A%20%22white%22%2C%20%22markerColor%22%3A%20%22orange%22%2C%20%22prefix%22%3A%20%22fa%22%7D%0A%20%20%20%20%20%20%20%20%20%20%20%20%29%3B%0A%20%20%20%20%20%20%20%20%20%20%20%20marker_2e4bdddd246441b4b0c68f8c55ab4402.setIcon%28icon_93f9790538394a70b08f54eba5660c69%29%3B%0A%20%20%20%20%20%20%20%20%0A%20%20%20%20%0A%20%20%20%20%20%20%20%20var%20popup_bfecb7b95b1744e7954d6d0a2a31e630%20%3D%20L.popup%28%7B%22maxWidth%22%3A%20%22100%25%22%7D%29%3B%0A%0A%20%20%20%20%20%20%20%20%0A%20%20%20%20%20%20%20%20%20%20%20%20var%20html_99f88c1ddf9a4548801cddbd81855994%20%3D%20%24%28%60%3Cdiv%20id%3D%22html_99f88c1ddf9a4548801cddbd81855994%22%20style%3D%22width%3A%20100.0%25%3B%20height%3A%20100.0%25%3B%22%3E%3Cb%3EHelper%2C%20UT%3C/b%3E%3Cbr%3E%3Cbr%3EDecember%2017%2C%202021%3Cbr%3E%3Cbr%3E6%3A37%3C/div%3E%60%29%5B0%5D%3B%0A%20%20%20%20%20%20%20%20%20%20%20%20popup_bfecb7b95b1744e7954d6d0a2a31e630.setContent%28html_99f88c1ddf9a4548801cddbd81855994%29%3B%0A%20%20%20%20%20%20%20%20%0A%0A%20%20%20%20%20%20%20%20marker_2e4bdddd246441b4b0c68f8c55ab4402.bindPopup%28popup_bfecb7b95b1744e7954d6d0a2a31e630%29%0A%20%20%20%20%20%20%20%20%3B%0A%0A%20%20%20%20%20%20%20%20%0A%20%20%20%20%0A%20%20%20%20%0A%20%20%20%20%20%20%20%20%20%20%20%20var%20marker_81b3bb4fb6a7424dad013e125911348e%20%3D%20L.marker%28%0A%20%20%20%20%20%20%20%20%20%20%20%20%20%20%20%20%5B38.99204496%2C%20-110.1652392%5D%2C%0A%20%20%20%20%20%20%20%20%20%20%20%20%20%20%20%20%7B%7D%0A%20%20%20%20%20%20%20%20%20%20%20%20%29.addTo%28map_5e40f09b22cf4e029f87ac28330da470%29%3B%0A%20%20%20%20%20%20%20%20%0A%20%20%20%20%0A%20%20%20%20%20%20%20%20%20%20%20%20var%20icon_67b5f1cbd2f5492083c934687a196ae6%20%3D%20L.AwesomeMarkers.icon%28%0A%20%20%20%20%20%20%20%20%20%20%20%20%20%20%20%20%7B%22extraClasses%22%3A%20%22fa-rotate-0%22%2C%20%22icon%22%3A%20%22train%22%2C%20%22iconColor%22%3A%20%22white%22%2C%20%22markerColor%22%3A%20%22orange%22%2C%20%22prefix%22%3A%20%22fa%22%7D%0A%20%20%20%20%20%20%20%20%20%20%20%20%29%3B%0A%20%20%20%20%20%20%20%20%20%20%20%20marker_81b3bb4fb6a7424dad013e125911348e.setIcon%28icon_67b5f1cbd2f5492083c934687a196ae6%29%3B%0A%20%20%20%20%20%20%20%20%0A%20%20%20%20%0A%20%20%20%20%20%20%20%20var%20popup_854a84615f0f462797954309cf8d1029%20%3D%20L.popup%28%7B%22maxWidth%22%3A%20%22100%25%22%7D%29%3B%0A%0A%20%20%20%20%20%20%20%20%0A%20%20%20%20%20%20%20%20%20%20%20%20var%20html_5390fafec8924179ba6e10cfa8371bad%20%3D%20%24%28%60%3Cdiv%20id%3D%22html_5390fafec8924179ba6e10cfa8371bad%22%20style%3D%22width%3A%20100.0%25%3B%20height%3A%20100.0%25%3B%22%3E%3Cb%3EGreen%20River%2C%20UT%3C/b%3E%3Cbr%3E%3Cbr%3EDecember%2017%2C%202021%3Cbr%3E%3Cbr%3E7%3A59%3C/div%3E%60%29%5B0%5D%3B%0A%20%20%20%20%20%20%20%20%20%20%20%20popup_854a84615f0f462797954309cf8d1029.setContent%28html_5390fafec8924179ba6e10cfa8371bad%29%3B%0A%20%20%20%20%20%20%20%20%0A%0A%20%20%20%20%20%20%20%20marker_81b3bb4fb6a7424dad013e125911348e.bindPopup%28popup_854a84615f0f462797954309cf8d1029%29%0A%20%20%20%20%20%20%20%20%3B%0A%0A%20%20%20%20%20%20%20%20%0A%20%20%20%20%0A%20%20%20%20%0A%20%20%20%20%20%20%20%20%20%20%20%20var%20marker_20a86458a47a4052ab35213e6c3c9d52%20%3D%20L.marker%28%0A%20%20%20%20%20%20%20%20%20%20%20%20%20%20%20%20%5B39.06438108%2C%20-108.5699398%5D%2C%0A%20%20%20%20%20%20%20%20%20%20%20%20%20%20%20%20%7B%7D%0A%20%20%20%20%20%20%20%20%20%20%20%20%29.addTo%28map_5e40f09b22cf4e029f87ac28330da470%29%3B%0A%20%20%20%20%20%20%20%20%0A%20%20%20%20%0A%20%20%20%20%20%20%20%20%20%20%20%20var%20icon_4e39a18b03ca4f3b9a95c5c08f38df11%20%3D%20L.AwesomeMarkers.icon%28%0A%20%20%20%20%20%20%20%20%20%20%20%20%20%20%20%20%7B%22extraClasses%22%3A%20%22fa-rotate-0%22%2C%20%22icon%22%3A%20%22train%22%2C%20%22iconColor%22%3A%20%22white%22%2C%20%22markerColor%22%3A%20%22orange%22%2C%20%22prefix%22%3A%20%22fa%22%7D%0A%20%20%20%20%20%20%20%20%20%20%20%20%29%3B%0A%20%20%20%20%20%20%20%20%20%20%20%20marker_20a86458a47a4052ab35213e6c3c9d52.setIcon%28icon_4e39a18b03ca4f3b9a95c5c08f38df11%29%3B%0A%20%20%20%20%20%20%20%20%0A%20%20%20%20%0A%20%20%20%20%20%20%20%20var%20popup_2573ee50311a4997ba4ba5b1ad6fc034%20%3D%20L.popup%28%7B%22maxWidth%22%3A%20%22100%25%22%7D%29%3B%0A%0A%20%20%20%20%20%20%20%20%0A%20%20%20%20%20%20%20%20%20%20%20%20var%20html_afa45b6accc3490c9f861c108ecd604a%20%3D%20%24%28%60%3Cdiv%20id%3D%22html_afa45b6accc3490c9f861c108ecd604a%22%20style%3D%22width%3A%20100.0%25%3B%20height%3A%20100.0%25%3B%22%3E%3Cb%3EGrand%20Junction%2C%20CO%3C/b%3E%3Cbr%3E%3Cbr%3EDecember%2017%2C%202021%3Cbr%3E%3Cbr%3E10%3A11%3C/div%3E%60%29%5B0%5D%3B%0A%20%20%20%20%20%20%20%20%20%20%20%20popup_2573ee50311a4997ba4ba5b1ad6fc034.setContent%28html_afa45b6accc3490c9f861c108ecd604a%29%3B%0A%20%20%20%20%20%20%20%20%0A%0A%20%20%20%20%20%20%20%20marker_20a86458a47a4052ab35213e6c3c9d52.bindPopup%28popup_2573ee50311a4997ba4ba5b1ad6fc034%29%0A%20%20%20%20%20%20%20%20%3B%0A%0A%20%20%20%20%20%20%20%20%0A%20%20%20%20%0A%20%20%20%20%0A%20%20%20%20%20%20%20%20%20%20%20%20var%20marker_16880a11b94342bebcdf09ff3d180842%20%3D%20L.marker%28%0A%20%20%20%20%20%20%20%20%20%20%20%20%20%20%20%20%5B39.54790923%2C%20-107.32322859999998%5D%2C%0A%20%20%20%20%20%20%20%20%20%20%20%20%20%20%20%20%7B%7D%0A%20%20%20%20%20%20%20%20%20%20%20%20%29.addTo%28map_5e40f09b22cf4e029f87ac28330da470%29%3B%0A%20%20%20%20%20%20%20%20%0A%20%20%20%20%0A%20%20%20%20%20%20%20%20%20%20%20%20var%20icon_d8e7e4c4a4c2464390ff5c50eaab38c9%20%3D%20L.AwesomeMarkers.icon%28%0A%20%20%20%20%20%20%20%20%20%20%20%20%20%20%20%20%7B%22extraClasses%22%3A%20%22fa-rotate-0%22%2C%20%22icon%22%3A%20%22train%22%2C%20%22iconColor%22%3A%20%22white%22%2C%20%22markerColor%22%3A%20%22orange%22%2C%20%22prefix%22%3A%20%22fa%22%7D%0A%20%20%20%20%20%20%20%20%20%20%20%20%29%3B%0A%20%20%20%20%20%20%20%20%20%20%20%20marker_16880a11b94342bebcdf09ff3d180842.setIcon%28icon_d8e7e4c4a4c2464390ff5c50eaab38c9%29%3B%0A%20%20%20%20%20%20%20%20%0A%20%20%20%20%0A%20%20%20%20%20%20%20%20var%20popup_4c63c2a649164626825fdb657146567c%20%3D%20L.popup%28%7B%22maxWidth%22%3A%20%22100%25%22%7D%29%3B%0A%0A%20%20%20%20%20%20%20%20%0A%20%20%20%20%20%20%20%20%20%20%20%20var%20html_79ac46722ea24ba2b3472f71b2c51cff%20%3D%20%24%28%60%3Cdiv%20id%3D%22html_79ac46722ea24ba2b3472f71b2c51cff%22%20style%3D%22width%3A%20100.0%25%3B%20height%3A%20100.0%25%3B%22%3E%3Cb%3EGlenwood%20Springs%2C%20CO%3C/b%3E%3Cbr%3E%3Cbr%3EDecember%2017%2C%202021%3Cbr%3E%3Cbr%3E12%3A04%3C/div%3E%60%29%5B0%5D%3B%0A%20%20%20%20%20%20%20%20%20%20%20%20popup_4c63c2a649164626825fdb657146567c.setContent%28html_79ac46722ea24ba2b3472f71b2c51cff%29%3B%0A%20%20%20%20%20%20%20%20%0A%0A%20%20%20%20%20%20%20%20marker_16880a11b94342bebcdf09ff3d180842.bindPopup%28popup_4c63c2a649164626825fdb657146567c%29%0A%20%20%20%20%20%20%20%20%3B%0A%0A%20%20%20%20%20%20%20%20%0A%20%20%20%20%0A%20%20%20%20%0A%20%20%20%20%20%20%20%20%20%20%20%20map_5e40f09b22cf4e029f87ac28330da470.fitBounds%28%0A%20%20%20%20%20%20%20%20%20%20%20%20%20%20%20%20%5B%5B38.58400908%2C%20-121.5007172%5D%2C%20%5B40.96904959%2C%20-107.32322859999998%5D%5D%2C%0A%20%20%20%20%20%20%20%20%20%20%20%20%20%20%20%20%7B%7D%0A%20%20%20%20%20%20%20%20%20%20%20%20%29%3B%0A%20%20%20%20%20%20%20%20%0A%3C/script%3E onload=\"this.contentDocument.open();this.contentDocument.write(    decodeURIComponent(this.getAttribute('data-html')));this.contentDocument.close();\" allowfullscreen webkitallowfullscreen mozallowfullscreen></iframe></div></div>"
      ],
      "text/plain": [
       "<folium.folium.Map at 0x44a7e90>"
      ]
     },
     "execution_count": 6,
     "metadata": {},
     "output_type": "execute_result"
    }
   ],
   "source": [
    "m = folium.Map(tiles=\"Stamen Terrain\")\n",
    "\n",
    "for i in range(32, 45, 1):\n",
    "   folium.Marker(\n",
    "      location=[df['Longitude'][i], df['Latitude'][i]], \n",
    "      popup=\"<b>\" + df['Location'][i] + \"</b>\" + \"<br><br>\" + df['Date'][i] + \"<br><br>\" + df['Time'][i], icon=folium.Icon(color='orange', icon='train', prefix='fa')).add_to(m)\n",
    "\n",
    "# Show the map again\n",
    "m.fit_bounds(m.get_bounds())\n",
    "m"
   ]
  },
  {
   "cell_type": "markdown",
   "metadata": {},
   "source": [
    "#### Amtrak Stations\n",
    "\n",
    "| City | Picture | Description |\n",
    "| --- | --- | --- |\n",
    "| [Salem, OR](https://en.wikipedia.org/wiki/Salem_station_(Oregon)) | ![](https://upload.wikimedia.org/wikipedia/commons/0/07/SalemStn.JPG) | Placeholder text for seeing how text would impact the size of the pictures. |\n",
    "| [Albany, OR](https://en.wikipedia.org/wiki/Albany_station_(Oregon)) | ![](https://upload.wikimedia.org/wikipedia/commons/thumb/f/f2/Albany_Oregon_Amtrak_station.jpg/1920px-Albany_Oregon_Amtrak_station.jpg) | Placeholder text for seeing how text would impact the size of the pictures. |\n",
    "| [Eugene, OR](https://en.wikipedia.org/wiki/Eugene%E2%80%93Springfield_station) | ![](https://upload.wikimedia.org/wikipedia/commons/thumb/8/8f/Eugene-Springfield_station_with_the_Coast_Starlight%2C_February_2018.JPG/1920px-Eugene-Springfield_station_with_the_Coast_Starlight%2C_February_2018.JPG) | Placeholder text for seeing how text would impact the size of the pictures. |\n",
    "| [Chemult, OR](https://en.wikipedia.org/wiki/Chemult_station) | ![](https://upload.wikimedia.org/wikipedia/commons/thumb/e/ef/Chemult_Amtrak_Station_2012.jpg/1920px-Chemult_Amtrak_Station_2012.jpg) | Placeholder text for seeing how text would impact the size of the pictures. |\n",
    "| [Klamath Falls, OR](https://en.wikipedia.org/wiki/Klamath_Falls_station) | ![](https://upload.wikimedia.org/wikipedia/commons/thumb/f/f8/Klamath_Falls_Station.jpg/1920px-Klamath_Falls_Station.jpg) | Placeholder text for seeing how text would impact the size of the pictures. |\n",
    "| [Dunsmuir, CA](https://en.wikipedia.org/wiki/Dunsmuir_station) | ![](https://upload.wikimedia.org/wikipedia/commons/6/63/Dunsmuir_Station.jpg) | Placeholder text for seeing how text would impact the size of the pictures. |\n",
    "| [Redding, CA](https://en.wikipedia.org/wiki/Redding_station_(California)) | ![](https://upload.wikimedia.org/wikipedia/commons/6/61/Redding_AmtrakStationTrackside.jpg) | Placeholder text for seeing how text would impact the size of the pictures. |\n",
    "| [Chico, CA](https://en.wikipedia.org/wiki/Chico_station) | ![](https://upload.wikimedia.org/wikipedia/commons/thumb/b/b9/Chico_station-00769.jpg/1920px-Chico_station-00769.jpg) | Placeholder text for seeing how text would impact the size of the pictures. |\n",
    "| [Sacramento, CA](https://en.wikipedia.org/wiki/Sacramento_Valley_Station) | ![](https://upload.wikimedia.org/wikipedia/commons/0/0d/Sacramento_Valley_Station.JPG) | Placeholder text for seeing how text would impact the size of the pictures. |\n",
    "| [Davis, CA](https://en.wikipedia.org/wiki/Davis_station_(California)) | ![](https://upload.wikimedia.org/wikipedia/commons/thumb/3/3b/Passenger_crowd_at_Davis_station%2C_November_2017.jpg/1920px-Passenger_crowd_at_Davis_station%2C_November_2017.jpg) | Placeholder text for seeing how text would impact the size of the pictures. |\n",
    "| [Martinez, CA](https://en.wikipedia.org/wiki/Martinez_station) | ![](https://upload.wikimedia.org/wikipedia/commons/thumb/6/68/Capitol_Corridor_train_at_Martinez_station%2C_November_2019.JPG/1920px-Capitol_Corridor_train_at_Martinez_station%2C_November_2019.JPG) | Placeholder text for seeing how text would impact the size of the pictures. |\n",
    "| [Emeryville, CA](https://en.wikipedia.org/wiki/Emeryville_station) | ![](https://upload.wikimedia.org/wikipedia/commons/thumb/8/81/Two_trains_at_Emeryville_station%2C_June_2018.JPG/1920px-Two_trains_at_Emeryville_station%2C_June_2018.JPG) | Placeholder text for seeing how text would impact the size of the pictures. |\n",
    "| [Oakland, CA](https://en.wikipedia.org/wiki/Oakland_%E2%80%93_Jack_London_Square_station) | ![](https://upload.wikimedia.org/wikipedia/commons/thumb/b/b6/Jack_London_Square_station_with_Capitol_Corridor_train%2C_July_2020.jpg/1920px-Jack_London_Square_station_with_Capitol_Corridor_train%2C_July_2020.jpg) | Placeholder text for seeing how text would impact the size of the pictures. |\n",
    "| [San Jose, CA](https://en.wikipedia.org/wiki/San_Jose_Diridon_station) | ![](https://upload.wikimedia.org/wikipedia/commons/thumb/5/5d/San_Jose_Diridon_station%2C_November_2019.JPG/1920px-San_Jose_Diridon_station%2C_November_2019.JPG) | Placeholder text for seeing how text would impact the size of the pictures. |"
   ]
  },
  {
   "cell_type": "markdown",
   "metadata": {},
   "source": [
    "### Elevation Profiles: Individual Stations\n",
    "\n",
    "The views from the train as we traveled from Seattle to Portland were lovely: lush forests, several small waterfalls, raging rivers, pumpkin patches, and several small farms with goats and herds of cattle. Most of the [geology](https://www.dnr.wa.gov/programs-and-services/geology/geologic-maps) from Seattle to Centralia is relatively new (Quaternary) unconsolidated or semiconsolidated till, clay, sand, and gravel; but roundabout the time you hit Longview, things get more interesting: higher elevation, accompanied by Tertiary volcanic features which include volcanic breccia, volcanic sandstone, welded tuff, and basaltic andesite flows. \n",
    "\n",
    "I even learned that Portland, OR, is home to [Mount Tabor](https://en.wikipedia.org/wiki/Mount_Tabor_(Oregon)), an extinct volcanic vent, and part of the delightfully named [Boring Lava Field](https://en.wikipedia.org/wiki/Boring_Lava_Field)! The next time I visit, a trip to Mount Tabor Park is in order.\n",
    "\n",
    "| ![](https://raw.githubusercontent.com/dynamicwebpaige/IRL-ticket-to-ride/main/plots/Salem_to_Albany.jpg) | ![](https://raw.githubusercontent.com/dynamicwebpaige/IRL-ticket-to-ride/main/plots/Albany_to_Eugene.jpg) |\n",
    "| --- | --- |\n",
    "| ![](https://raw.githubusercontent.com/dynamicwebpaige/IRL-ticket-to-ride/main/plots/Eugene_to_Chemult.jpg) | ![](https://raw.githubusercontent.com/dynamicwebpaige/IRL-ticket-to-ride/main/plots/Chemult_to_Klamath%20Falls.jpg) |\n",
    "| ![](https://raw.githubusercontent.com/dynamicwebpaige/IRL-ticket-to-ride/main/plots/Klamath%20Falls_to_Dunsmuir.jpg) | ![](https://raw.githubusercontent.com/dynamicwebpaige/IRL-ticket-to-ride/main/plots/Dunsmuir_to_Redding.jpg) | | ![](https://raw.githubusercontent.com/dynamicwebpaige/IRL-ticket-to-ride/main/plots/Redding_to_Chico.jpg) | ![](https://raw.githubusercontent.com/dynamicwebpaige/IRL-ticket-to-ride/main/plots/Chico_to_Sacramento.jpg) |\n",
    "| ![](https://raw.githubusercontent.com/dynamicwebpaige/IRL-ticket-to-ride/main/plots/Sacramento_to_Davis.jpg) | ![](https://raw.githubusercontent.com/dynamicwebpaige/IRL-ticket-to-ride/main/plots/Davis_to_Martinez.jpg) |\n",
    "| ![](https://raw.githubusercontent.com/dynamicwebpaige/IRL-ticket-to-ride/main/plots/Martinez_to_Emeryville.jpg) | ![](https://raw.githubusercontent.com/dynamicwebpaige/IRL-ticket-to-ride/main/plots/Emeryville_to_Oakland.jpg) |\n",
    "| ![](https://raw.githubusercontent.com/dynamicwebpaige/IRL-ticket-to-ride/main/plots/Oakland_to_San%20Jose.jpg) | \n",
    "\n",
    "\n",
    "#### Elevation Profiles: `Sacramento` to `Glenwood Springs`\n",
    "\n",
    "Bundling it all together: let's take a look at the elevation change, if you're doing a straight shot from Portland to San Jose. Comment on the elevation change around 500 - 600km.\n",
    "\n",
    "![](https://raw.githubusercontent.com/dynamicwebpaige/IRL-ticket-to-ride/main/plots/Portland_to_San%20Jose.jpg)"
   ]
  },
  {
   "cell_type": "markdown",
   "metadata": {},
   "source": [
    "## Glenwood Springs, Colorado\n",
    "#### _December 17 - December 19_\n",
    "\n",
    "Write about the adventures that you're having and the weird strange things that you see.\n",
    "\n",
    "#### Hotel\n",
    "[Hyatt Regency San Francisco Airport](https://www.hyatt.com/en-US/hotel/california/hyatt-regency-san-francisco-airport/sfobu)\n",
    "\n",
    "#### CalTrain and BART\n",
    "* Explain the difference\n",
    "* Hotel -> airport travel hack\n",
    "* Clipper card\n",
    "* Vibes on the morning commuter train vs. the evening commuter train\n",
    "\n",
    "#### Highlights\n",
    "* DUDE THE TRAIN WAS AWESOME\n",
    "   * Not as clean or spacious as the train from Seattle to Portland, and much more crowded\n",
    "   * Got to talk to two very sweet seatmates\n",
    "   * Wildfires!\n",
    "   * Bajillions of national forests!\n",
    "   * Surprise winter storms, which meant train delays! (and efficiently rerouting bus + train passengers)\n",
    "   * Boulder on the rails!!\n",
    "* The GitHub office\n",
    "   * Skateboards! Coffee! Lunch! People!\n",
    "* Parks in Burlingame near SFO\n",
    "   * San Francisco is kind of a Disney movie, I guess\n",
    "* Sacramento: poking around the state capitol, and looking at street art\n",
    "   * Mention Simon's Niche Museum site\n",
    "\n",
    "Check out the following sections, towards the end of this notebook, for a collection of pictures of all of the above!\n",
    "\n",
    "#### ☕️ Coffee Count\n",
    "* 2 (Tuesday), 6 (Wednesday)\n",
    "* 🌟 Grand Prize: GitHub has a barista onsite and she made me an oatmilk and honey latte + makes bespoke hot chocolate that is effectively ice cream"
   ]
  },
  {
   "cell_type": "code",
   "execution_count": 34,
   "metadata": {},
   "outputs": [
    {
     "data": {
      "text/html": [
       "<div>\n",
       "<style scoped>\n",
       "    .dataframe tbody tr th:only-of-type {\n",
       "        vertical-align: middle;\n",
       "    }\n",
       "\n",
       "    .dataframe tbody tr th {\n",
       "        vertical-align: top;\n",
       "    }\n",
       "\n",
       "    .dataframe thead th {\n",
       "        text-align: right;\n",
       "    }\n",
       "</style>\n",
       "<table border=\"1\" class=\"dataframe\">\n",
       "  <thead>\n",
       "    <tr style=\"text-align: right;\">\n",
       "      <th></th>\n",
       "      <th>City</th>\n",
       "      <th>Stop</th>\n",
       "      <th>Latitude</th>\n",
       "      <th>Longitude</th>\n",
       "    </tr>\n",
       "  </thead>\n",
       "  <tbody>\n",
       "    <tr>\n",
       "      <th>0</th>\n",
       "      <td>Portland</td>\n",
       "      <td>The Hoxton Hotel</td>\n",
       "      <td>45.523400</td>\n",
       "      <td>-122.674700</td>\n",
       "    </tr>\n",
       "    <tr>\n",
       "      <th>1</th>\n",
       "      <td>Portland</td>\n",
       "      <td>Powell's Books</td>\n",
       "      <td>45.523100</td>\n",
       "      <td>-122.681200</td>\n",
       "    </tr>\n",
       "    <tr>\n",
       "      <th>2</th>\n",
       "      <td>Portland</td>\n",
       "      <td>Microsoft Office</td>\n",
       "      <td>45.531255</td>\n",
       "      <td>-122.685935</td>\n",
       "    </tr>\n",
       "    <tr>\n",
       "      <th>3</th>\n",
       "      <td>Portland</td>\n",
       "      <td>Pittock Mansion</td>\n",
       "      <td>45.525200</td>\n",
       "      <td>-122.716300</td>\n",
       "    </tr>\n",
       "    <tr>\n",
       "      <th>4</th>\n",
       "      <td>Portland</td>\n",
       "      <td>Portland Japanese Garden</td>\n",
       "      <td>45.519400</td>\n",
       "      <td>-122.706900</td>\n",
       "    </tr>\n",
       "    <tr>\n",
       "      <th>5</th>\n",
       "      <td>Portland</td>\n",
       "      <td>Cathedral Park</td>\n",
       "      <td>45.587500</td>\n",
       "      <td>-122.762500</td>\n",
       "    </tr>\n",
       "    <tr>\n",
       "      <th>6</th>\n",
       "      <td>Portland</td>\n",
       "      <td>Portland Wishing Tree</td>\n",
       "      <td>45.544500</td>\n",
       "      <td>-122.658500</td>\n",
       "    </tr>\n",
       "    <tr>\n",
       "      <th>7</th>\n",
       "      <td>Portland</td>\n",
       "      <td>Lan Su Chinese Garden</td>\n",
       "      <td>45.525300</td>\n",
       "      <td>-122.673300</td>\n",
       "    </tr>\n",
       "    <tr>\n",
       "      <th>8</th>\n",
       "      <td>Portland</td>\n",
       "      <td>Portland Amtrak Station</td>\n",
       "      <td>-122.678222</td>\n",
       "      <td>45.530512</td>\n",
       "    </tr>\n",
       "  </tbody>\n",
       "</table>\n",
       "</div>"
      ],
      "text/plain": [
       "       City                      Stop    Latitude   Longitude\n",
       "0  Portland          The Hoxton Hotel   45.523400 -122.674700\n",
       "1  Portland            Powell's Books   45.523100 -122.681200\n",
       "2  Portland          Microsoft Office   45.531255 -122.685935\n",
       "3  Portland           Pittock Mansion   45.525200 -122.716300\n",
       "4  Portland  Portland Japanese Garden   45.519400 -122.706900\n",
       "5  Portland            Cathedral Park   45.587500 -122.762500\n",
       "6  Portland     Portland Wishing Tree   45.544500 -122.658500\n",
       "7  Portland     Lan Su Chinese Garden   45.525300 -122.673300\n",
       "8  Portland   Portland Amtrak Station -122.678222   45.530512"
      ]
     },
     "execution_count": 34,
     "metadata": {},
     "output_type": "execute_result"
    }
   ],
   "source": [
    "stops[stops['City'] == 'San Francisco']"
   ]
  },
  {
   "cell_type": "code",
   "execution_count": 45,
   "metadata": {},
   "outputs": [
    {
     "data": {
      "text/html": [
       "<div style=\"width:100%;\"><div style=\"position:relative;width:100%;height:0;padding-bottom:60%;\"><span style=\"color:#565656\">Make this Notebook Trusted to load map: File -> Trust Notebook</span><iframe src=\"about:blank\" style=\"position:absolute;width:100%;height:100%;left:0;top:0;border:none !important;\" data-html=%3C%21DOCTYPE%20html%3E%0A%3Chead%3E%20%20%20%20%0A%20%20%20%20%3Cmeta%20http-equiv%3D%22content-type%22%20content%3D%22text/html%3B%20charset%3DUTF-8%22%20/%3E%0A%20%20%20%20%0A%20%20%20%20%20%20%20%20%3Cscript%3E%0A%20%20%20%20%20%20%20%20%20%20%20%20L_NO_TOUCH%20%3D%20false%3B%0A%20%20%20%20%20%20%20%20%20%20%20%20L_DISABLE_3D%20%3D%20false%3B%0A%20%20%20%20%20%20%20%20%3C/script%3E%0A%20%20%20%20%0A%20%20%20%20%3Cstyle%3Ehtml%2C%20body%20%7Bwidth%3A%20100%25%3Bheight%3A%20100%25%3Bmargin%3A%200%3Bpadding%3A%200%3B%7D%3C/style%3E%0A%20%20%20%20%3Cstyle%3E%23map%20%7Bposition%3Aabsolute%3Btop%3A0%3Bbottom%3A0%3Bright%3A0%3Bleft%3A0%3B%7D%3C/style%3E%0A%20%20%20%20%3Cscript%20src%3D%22https%3A//cdn.jsdelivr.net/npm/leaflet%401.6.0/dist/leaflet.js%22%3E%3C/script%3E%0A%20%20%20%20%3Cscript%20src%3D%22https%3A//code.jquery.com/jquery-1.12.4.min.js%22%3E%3C/script%3E%0A%20%20%20%20%3Cscript%20src%3D%22https%3A//maxcdn.bootstrapcdn.com/bootstrap/3.2.0/js/bootstrap.min.js%22%3E%3C/script%3E%0A%20%20%20%20%3Cscript%20src%3D%22https%3A//cdnjs.cloudflare.com/ajax/libs/Leaflet.awesome-markers/2.0.2/leaflet.awesome-markers.js%22%3E%3C/script%3E%0A%20%20%20%20%3Clink%20rel%3D%22stylesheet%22%20href%3D%22https%3A//cdn.jsdelivr.net/npm/leaflet%401.6.0/dist/leaflet.css%22/%3E%0A%20%20%20%20%3Clink%20rel%3D%22stylesheet%22%20href%3D%22https%3A//maxcdn.bootstrapcdn.com/bootstrap/3.2.0/css/bootstrap.min.css%22/%3E%0A%20%20%20%20%3Clink%20rel%3D%22stylesheet%22%20href%3D%22https%3A//maxcdn.bootstrapcdn.com/bootstrap/3.2.0/css/bootstrap-theme.min.css%22/%3E%0A%20%20%20%20%3Clink%20rel%3D%22stylesheet%22%20href%3D%22https%3A//maxcdn.bootstrapcdn.com/font-awesome/4.6.3/css/font-awesome.min.css%22/%3E%0A%20%20%20%20%3Clink%20rel%3D%22stylesheet%22%20href%3D%22https%3A//cdnjs.cloudflare.com/ajax/libs/Leaflet.awesome-markers/2.0.2/leaflet.awesome-markers.css%22/%3E%0A%20%20%20%20%3Clink%20rel%3D%22stylesheet%22%20href%3D%22https%3A//cdn.jsdelivr.net/gh/python-visualization/folium/folium/templates/leaflet.awesome.rotate.min.css%22/%3E%0A%20%20%20%20%0A%20%20%20%20%20%20%20%20%20%20%20%20%3Cmeta%20name%3D%22viewport%22%20content%3D%22width%3Ddevice-width%2C%0A%20%20%20%20%20%20%20%20%20%20%20%20%20%20%20%20initial-scale%3D1.0%2C%20maximum-scale%3D1.0%2C%20user-scalable%3Dno%22%20/%3E%0A%20%20%20%20%20%20%20%20%20%20%20%20%3Cstyle%3E%0A%20%20%20%20%20%20%20%20%20%20%20%20%20%20%20%20%23map_4a3527e3c6fa4958a2a259c6e969883f%20%7B%0A%20%20%20%20%20%20%20%20%20%20%20%20%20%20%20%20%20%20%20%20position%3A%20relative%3B%0A%20%20%20%20%20%20%20%20%20%20%20%20%20%20%20%20%20%20%20%20width%3A%20100.0%25%3B%0A%20%20%20%20%20%20%20%20%20%20%20%20%20%20%20%20%20%20%20%20height%3A%20100.0%25%3B%0A%20%20%20%20%20%20%20%20%20%20%20%20%20%20%20%20%20%20%20%20left%3A%200.0%25%3B%0A%20%20%20%20%20%20%20%20%20%20%20%20%20%20%20%20%20%20%20%20top%3A%200.0%25%3B%0A%20%20%20%20%20%20%20%20%20%20%20%20%20%20%20%20%7D%0A%20%20%20%20%20%20%20%20%20%20%20%20%3C/style%3E%0A%20%20%20%20%20%20%20%20%0A%3C/head%3E%0A%3Cbody%3E%20%20%20%20%0A%20%20%20%20%0A%20%20%20%20%20%20%20%20%20%20%20%20%3Cdiv%20class%3D%22folium-map%22%20id%3D%22map_4a3527e3c6fa4958a2a259c6e969883f%22%20%3E%3C/div%3E%0A%20%20%20%20%20%20%20%20%0A%3C/body%3E%0A%3Cscript%3E%20%20%20%20%0A%20%20%20%20%0A%20%20%20%20%20%20%20%20%20%20%20%20var%20map_4a3527e3c6fa4958a2a259c6e969883f%20%3D%20L.map%28%0A%20%20%20%20%20%20%20%20%20%20%20%20%20%20%20%20%22map_4a3527e3c6fa4958a2a259c6e969883f%22%2C%0A%20%20%20%20%20%20%20%20%20%20%20%20%20%20%20%20%7B%0A%20%20%20%20%20%20%20%20%20%20%20%20%20%20%20%20%20%20%20%20center%3A%20%5B0%2C%200%5D%2C%0A%20%20%20%20%20%20%20%20%20%20%20%20%20%20%20%20%20%20%20%20crs%3A%20L.CRS.EPSG3857%2C%0A%20%20%20%20%20%20%20%20%20%20%20%20%20%20%20%20%20%20%20%20zoom%3A%201%2C%0A%20%20%20%20%20%20%20%20%20%20%20%20%20%20%20%20%20%20%20%20zoomControl%3A%20true%2C%0A%20%20%20%20%20%20%20%20%20%20%20%20%20%20%20%20%20%20%20%20preferCanvas%3A%20false%2C%0A%20%20%20%20%20%20%20%20%20%20%20%20%20%20%20%20%7D%0A%20%20%20%20%20%20%20%20%20%20%20%20%29%3B%0A%0A%20%20%20%20%20%20%20%20%20%20%20%20%0A%0A%20%20%20%20%20%20%20%20%0A%20%20%20%20%0A%20%20%20%20%20%20%20%20%20%20%20%20var%20tile_layer_747213e7717e42389545884fc27fa423%20%3D%20L.tileLayer%28%0A%20%20%20%20%20%20%20%20%20%20%20%20%20%20%20%20%22https%3A//stamen-tiles-%7Bs%7D.a.ssl.fastly.net/terrain/%7Bz%7D/%7Bx%7D/%7By%7D.jpg%22%2C%0A%20%20%20%20%20%20%20%20%20%20%20%20%20%20%20%20%7B%22attribution%22%3A%20%22Map%20tiles%20by%20%5Cu003ca%20href%3D%5C%22http%3A//stamen.com%5C%22%5Cu003eStamen%20Design%5Cu003c/a%5Cu003e%2C%20under%20%5Cu003ca%20href%3D%5C%22http%3A//creativecommons.org/licenses/by/3.0%5C%22%5Cu003eCC%20BY%203.0%5Cu003c/a%5Cu003e.%20Data%20by%20%5Cu0026copy%3B%20%5Cu003ca%20href%3D%5C%22http%3A//openstreetmap.org%5C%22%5Cu003eOpenStreetMap%5Cu003c/a%5Cu003e%2C%20under%20%5Cu003ca%20href%3D%5C%22http%3A//creativecommons.org/licenses/by-sa/3.0%5C%22%5Cu003eCC%20BY%20SA%5Cu003c/a%5Cu003e.%22%2C%20%22detectRetina%22%3A%20false%2C%20%22maxNativeZoom%22%3A%2018%2C%20%22maxZoom%22%3A%2018%2C%20%22minZoom%22%3A%200%2C%20%22noWrap%22%3A%20false%2C%20%22opacity%22%3A%201%2C%20%22subdomains%22%3A%20%22abc%22%2C%20%22tms%22%3A%20false%7D%0A%20%20%20%20%20%20%20%20%20%20%20%20%29.addTo%28map_4a3527e3c6fa4958a2a259c6e969883f%29%3B%0A%20%20%20%20%20%20%20%20%0A%20%20%20%20%0A%20%20%20%20%20%20%20%20%20%20%20%20var%20marker_0298e85ac41349edaf8242712bf61baf%20%3D%20L.marker%28%0A%20%20%20%20%20%20%20%20%20%20%20%20%20%20%20%20%5B45.5234%2C%20-122.6747%5D%2C%0A%20%20%20%20%20%20%20%20%20%20%20%20%20%20%20%20%7B%7D%0A%20%20%20%20%20%20%20%20%20%20%20%20%29.addTo%28map_4a3527e3c6fa4958a2a259c6e969883f%29%3B%0A%20%20%20%20%20%20%20%20%0A%20%20%20%20%0A%20%20%20%20%20%20%20%20%20%20%20%20var%20icon_4dd78fc01c3d41a0b292e64aa79d9cca%20%3D%20L.AwesomeMarkers.icon%28%0A%20%20%20%20%20%20%20%20%20%20%20%20%20%20%20%20%7B%22extraClasses%22%3A%20%22fa-rotate-0%22%2C%20%22icon%22%3A%20%22hotel%22%2C%20%22iconColor%22%3A%20%22white%22%2C%20%22markerColor%22%3A%20%22orange%22%2C%20%22prefix%22%3A%20%22fa%22%7D%0A%20%20%20%20%20%20%20%20%20%20%20%20%29%3B%0A%20%20%20%20%20%20%20%20%20%20%20%20marker_0298e85ac41349edaf8242712bf61baf.setIcon%28icon_4dd78fc01c3d41a0b292e64aa79d9cca%29%3B%0A%20%20%20%20%20%20%20%20%0A%20%20%20%20%0A%20%20%20%20%20%20%20%20var%20popup_8a9f6f5cae544b508ce6c5d20196c76a%20%3D%20L.popup%28%7B%22maxWidth%22%3A%20%22100%25%22%7D%29%3B%0A%0A%20%20%20%20%20%20%20%20%0A%20%20%20%20%20%20%20%20%20%20%20%20var%20html_9f7417b6065b463f81737b8548ed569b%20%3D%20%24%28%60%3Cdiv%20id%3D%22html_9f7417b6065b463f81737b8548ed569b%22%20style%3D%22width%3A%20100.0%25%3B%20height%3A%20100.0%25%3B%22%3E%3Cb%3EThe%20Hoxton%20Hotel%3C/b%3E%3C/div%3E%60%29%5B0%5D%3B%0A%20%20%20%20%20%20%20%20%20%20%20%20popup_8a9f6f5cae544b508ce6c5d20196c76a.setContent%28html_9f7417b6065b463f81737b8548ed569b%29%3B%0A%20%20%20%20%20%20%20%20%0A%0A%20%20%20%20%20%20%20%20marker_0298e85ac41349edaf8242712bf61baf.bindPopup%28popup_8a9f6f5cae544b508ce6c5d20196c76a%29%0A%20%20%20%20%20%20%20%20%3B%0A%0A%20%20%20%20%20%20%20%20%0A%20%20%20%20%0A%20%20%20%20%0A%20%20%20%20%20%20%20%20%20%20%20%20var%20marker_73198fe6cc7d4a3c9fc43afd36991789%20%3D%20L.marker%28%0A%20%20%20%20%20%20%20%20%20%20%20%20%20%20%20%20%5B45.53051247%2C%20-122.6782215%5D%2C%0A%20%20%20%20%20%20%20%20%20%20%20%20%20%20%20%20%7B%7D%0A%20%20%20%20%20%20%20%20%20%20%20%20%29.addTo%28map_4a3527e3c6fa4958a2a259c6e969883f%29%3B%0A%20%20%20%20%20%20%20%20%0A%20%20%20%20%0A%20%20%20%20%20%20%20%20%20%20%20%20var%20icon_24ad7cffb5b4401d8050d05e3f8525c3%20%3D%20L.AwesomeMarkers.icon%28%0A%20%20%20%20%20%20%20%20%20%20%20%20%20%20%20%20%7B%22extraClasses%22%3A%20%22fa-rotate-0%22%2C%20%22icon%22%3A%20%22train%22%2C%20%22iconColor%22%3A%20%22white%22%2C%20%22markerColor%22%3A%20%22red%22%2C%20%22prefix%22%3A%20%22fa%22%7D%0A%20%20%20%20%20%20%20%20%20%20%20%20%29%3B%0A%20%20%20%20%20%20%20%20%20%20%20%20marker_73198fe6cc7d4a3c9fc43afd36991789.setIcon%28icon_24ad7cffb5b4401d8050d05e3f8525c3%29%3B%0A%20%20%20%20%20%20%20%20%0A%20%20%20%20%0A%20%20%20%20%20%20%20%20var%20popup_3c9672e75fd645ed83ebf5f7fa48799c%20%3D%20L.popup%28%7B%22maxWidth%22%3A%20%22100%25%22%7D%29%3B%0A%0A%20%20%20%20%20%20%20%20%0A%20%20%20%20%20%20%20%20%20%20%20%20var%20html_05ef5105239048a688b627f100681142%20%3D%20%24%28%60%3Cdiv%20id%3D%22html_05ef5105239048a688b627f100681142%22%20style%3D%22width%3A%20100.0%25%3B%20height%3A%20100.0%25%3B%22%3E%3Cb%3EPortland%20Amtrak%20Station%3C/b%3C/div%3E%60%29%5B0%5D%3B%0A%20%20%20%20%20%20%20%20%20%20%20%20popup_3c9672e75fd645ed83ebf5f7fa48799c.setContent%28html_05ef5105239048a688b627f100681142%29%3B%0A%20%20%20%20%20%20%20%20%0A%0A%20%20%20%20%20%20%20%20marker_73198fe6cc7d4a3c9fc43afd36991789.bindPopup%28popup_3c9672e75fd645ed83ebf5f7fa48799c%29%0A%20%20%20%20%20%20%20%20%3B%0A%0A%20%20%20%20%20%20%20%20%0A%20%20%20%20%0A%20%20%20%20%0A%20%20%20%20%20%20%20%20%20%20%20%20var%20marker_55b6b2342b304da5bb19c53bdda20766%20%3D%20L.marker%28%0A%20%20%20%20%20%20%20%20%20%20%20%20%20%20%20%20%5B45.5231%2C%20-122.6812%5D%2C%0A%20%20%20%20%20%20%20%20%20%20%20%20%20%20%20%20%7B%7D%0A%20%20%20%20%20%20%20%20%20%20%20%20%29.addTo%28map_4a3527e3c6fa4958a2a259c6e969883f%29%3B%0A%20%20%20%20%20%20%20%20%0A%20%20%20%20%0A%20%20%20%20%20%20%20%20%20%20%20%20var%20icon_f8160b24ec0544deb5f9c6aab323a8f5%20%3D%20L.AwesomeMarkers.icon%28%0A%20%20%20%20%20%20%20%20%20%20%20%20%20%20%20%20%7B%22extraClasses%22%3A%20%22fa-rotate-0%22%2C%20%22icon%22%3A%20%22book%22%2C%20%22iconColor%22%3A%20%22white%22%2C%20%22markerColor%22%3A%20%22lightblue%22%2C%20%22prefix%22%3A%20%22fa%22%7D%0A%20%20%20%20%20%20%20%20%20%20%20%20%29%3B%0A%20%20%20%20%20%20%20%20%20%20%20%20marker_55b6b2342b304da5bb19c53bdda20766.setIcon%28icon_f8160b24ec0544deb5f9c6aab323a8f5%29%3B%0A%20%20%20%20%20%20%20%20%0A%20%20%20%20%0A%20%20%20%20%20%20%20%20var%20popup_a8969b8a0ba146d48d8232e580f1f0cc%20%3D%20L.popup%28%7B%22maxWidth%22%3A%20%22100%25%22%7D%29%3B%0A%0A%20%20%20%20%20%20%20%20%0A%20%20%20%20%20%20%20%20%20%20%20%20var%20html_85749f13d6384f3491cd13f17688f153%20%3D%20%24%28%60%3Cdiv%20id%3D%22html_85749f13d6384f3491cd13f17688f153%22%20style%3D%22width%3A%20100.0%25%3B%20height%3A%20100.0%25%3B%22%3E%3Cb%3EPowell%27s%20Books%3C/b%3C/div%3E%60%29%5B0%5D%3B%0A%20%20%20%20%20%20%20%20%20%20%20%20popup_a8969b8a0ba146d48d8232e580f1f0cc.setContent%28html_85749f13d6384f3491cd13f17688f153%29%3B%0A%20%20%20%20%20%20%20%20%0A%0A%20%20%20%20%20%20%20%20marker_55b6b2342b304da5bb19c53bdda20766.bindPopup%28popup_a8969b8a0ba146d48d8232e580f1f0cc%29%0A%20%20%20%20%20%20%20%20%3B%0A%0A%20%20%20%20%20%20%20%20%0A%20%20%20%20%0A%20%20%20%20%0A%20%20%20%20%20%20%20%20%20%20%20%20var%20marker_c4810beb72ea48a397c26e1f29ab1858%20%3D%20L.marker%28%0A%20%20%20%20%20%20%20%20%20%20%20%20%20%20%20%20%5B45.53125541%2C%20-122.68593500000001%5D%2C%0A%20%20%20%20%20%20%20%20%20%20%20%20%20%20%20%20%7B%7D%0A%20%20%20%20%20%20%20%20%20%20%20%20%29.addTo%28map_4a3527e3c6fa4958a2a259c6e969883f%29%3B%0A%20%20%20%20%20%20%20%20%0A%20%20%20%20%0A%20%20%20%20%20%20%20%20%20%20%20%20var%20icon_94a6da00f2874928bfb19e01ae7113b2%20%3D%20L.AwesomeMarkers.icon%28%0A%20%20%20%20%20%20%20%20%20%20%20%20%20%20%20%20%7B%22extraClasses%22%3A%20%22fa-rotate-0%22%2C%20%22icon%22%3A%20%22briefcase%22%2C%20%22iconColor%22%3A%20%22white%22%2C%20%22markerColor%22%3A%20%22cadetblue%22%2C%20%22prefix%22%3A%20%22fa%22%7D%0A%20%20%20%20%20%20%20%20%20%20%20%20%29%3B%0A%20%20%20%20%20%20%20%20%20%20%20%20marker_c4810beb72ea48a397c26e1f29ab1858.setIcon%28icon_94a6da00f2874928bfb19e01ae7113b2%29%3B%0A%20%20%20%20%20%20%20%20%0A%20%20%20%20%0A%20%20%20%20%20%20%20%20var%20popup_e17c9604ede6463784895bb4ee7f4f97%20%3D%20L.popup%28%7B%22maxWidth%22%3A%20%22100%25%22%7D%29%3B%0A%0A%20%20%20%20%20%20%20%20%0A%20%20%20%20%20%20%20%20%20%20%20%20var%20html_79ec3b3a92ba4138b8385f79608581c8%20%3D%20%24%28%60%3Cdiv%20id%3D%22html_79ec3b3a92ba4138b8385f79608581c8%22%20style%3D%22width%3A%20100.0%25%3B%20height%3A%20100.0%25%3B%22%3E%3Cb%3EMicrosoft%20Office%3C/b%3C/div%3E%60%29%5B0%5D%3B%0A%20%20%20%20%20%20%20%20%20%20%20%20popup_e17c9604ede6463784895bb4ee7f4f97.setContent%28html_79ec3b3a92ba4138b8385f79608581c8%29%3B%0A%20%20%20%20%20%20%20%20%0A%0A%20%20%20%20%20%20%20%20marker_c4810beb72ea48a397c26e1f29ab1858.bindPopup%28popup_e17c9604ede6463784895bb4ee7f4f97%29%0A%20%20%20%20%20%20%20%20%3B%0A%0A%20%20%20%20%20%20%20%20%0A%20%20%20%20%0A%20%20%20%20%0A%20%20%20%20%20%20%20%20%20%20%20%20var%20marker_9513976f13b04345af88ee6c4e577650%20%3D%20L.marker%28%0A%20%20%20%20%20%20%20%20%20%20%20%20%20%20%20%20%5B45.5252%2C%20-122.7163%5D%2C%0A%20%20%20%20%20%20%20%20%20%20%20%20%20%20%20%20%7B%7D%0A%20%20%20%20%20%20%20%20%20%20%20%20%29.addTo%28map_4a3527e3c6fa4958a2a259c6e969883f%29%3B%0A%20%20%20%20%20%20%20%20%0A%20%20%20%20%0A%20%20%20%20%20%20%20%20%20%20%20%20var%20icon_a03bbf5f2b984d1d935b3b14bd05cb5b%20%3D%20L.AwesomeMarkers.icon%28%0A%20%20%20%20%20%20%20%20%20%20%20%20%20%20%20%20%7B%22extraClasses%22%3A%20%22fa-rotate-0%22%2C%20%22icon%22%3A%20%22home%22%2C%20%22iconColor%22%3A%20%22white%22%2C%20%22markerColor%22%3A%20%22lightgreen%22%2C%20%22prefix%22%3A%20%22fa%22%7D%0A%20%20%20%20%20%20%20%20%20%20%20%20%29%3B%0A%20%20%20%20%20%20%20%20%20%20%20%20marker_9513976f13b04345af88ee6c4e577650.setIcon%28icon_a03bbf5f2b984d1d935b3b14bd05cb5b%29%3B%0A%20%20%20%20%20%20%20%20%0A%20%20%20%20%0A%20%20%20%20%20%20%20%20var%20popup_b5433becd57a4f37a641976d6d6c6c90%20%3D%20L.popup%28%7B%22maxWidth%22%3A%20%22100%25%22%7D%29%3B%0A%0A%20%20%20%20%20%20%20%20%0A%20%20%20%20%20%20%20%20%20%20%20%20var%20html_67c14205b915450bb4b6e7f44aff34ab%20%3D%20%24%28%60%3Cdiv%20id%3D%22html_67c14205b915450bb4b6e7f44aff34ab%22%20style%3D%22width%3A%20100.0%25%3B%20height%3A%20100.0%25%3B%22%3E%3Cb%3EPittock%20Mansion%3C/b%3C/div%3E%60%29%5B0%5D%3B%0A%20%20%20%20%20%20%20%20%20%20%20%20popup_b5433becd57a4f37a641976d6d6c6c90.setContent%28html_67c14205b915450bb4b6e7f44aff34ab%29%3B%0A%20%20%20%20%20%20%20%20%0A%0A%20%20%20%20%20%20%20%20marker_9513976f13b04345af88ee6c4e577650.bindPopup%28popup_b5433becd57a4f37a641976d6d6c6c90%29%0A%20%20%20%20%20%20%20%20%3B%0A%0A%20%20%20%20%20%20%20%20%0A%20%20%20%20%0A%20%20%20%20%0A%20%20%20%20%20%20%20%20%20%20%20%20var%20marker_c6e943aaa65e48109e93f6c8f21226f0%20%3D%20L.marker%28%0A%20%20%20%20%20%20%20%20%20%20%20%20%20%20%20%20%5B45.5194%2C%20-122.7069%5D%2C%0A%20%20%20%20%20%20%20%20%20%20%20%20%20%20%20%20%7B%7D%0A%20%20%20%20%20%20%20%20%20%20%20%20%29.addTo%28map_4a3527e3c6fa4958a2a259c6e969883f%29%3B%0A%20%20%20%20%20%20%20%20%0A%20%20%20%20%0A%20%20%20%20%20%20%20%20%20%20%20%20var%20icon_c1b47692952b4ef5961952e1e55033c7%20%3D%20L.AwesomeMarkers.icon%28%0A%20%20%20%20%20%20%20%20%20%20%20%20%20%20%20%20%7B%22extraClasses%22%3A%20%22fa-rotate-0%22%2C%20%22icon%22%3A%20%22tree%22%2C%20%22iconColor%22%3A%20%22white%22%2C%20%22markerColor%22%3A%20%22lightgreen%22%2C%20%22prefix%22%3A%20%22fa%22%7D%0A%20%20%20%20%20%20%20%20%20%20%20%20%29%3B%0A%20%20%20%20%20%20%20%20%20%20%20%20marker_c6e943aaa65e48109e93f6c8f21226f0.setIcon%28icon_c1b47692952b4ef5961952e1e55033c7%29%3B%0A%20%20%20%20%20%20%20%20%0A%20%20%20%20%0A%20%20%20%20%20%20%20%20var%20popup_5c1f4779aa0643cb8fe7b2f831aff1d7%20%3D%20L.popup%28%7B%22maxWidth%22%3A%20%22100%25%22%7D%29%3B%0A%0A%20%20%20%20%20%20%20%20%0A%20%20%20%20%20%20%20%20%20%20%20%20var%20html_27ec1d175e0941ce87e1b8becdad5fd3%20%3D%20%24%28%60%3Cdiv%20id%3D%22html_27ec1d175e0941ce87e1b8becdad5fd3%22%20style%3D%22width%3A%20100.0%25%3B%20height%3A%20100.0%25%3B%22%3E%3Cb%3EPortland%20Japanese%20Garden%3C/b%3C/div%3E%60%29%5B0%5D%3B%0A%20%20%20%20%20%20%20%20%20%20%20%20popup_5c1f4779aa0643cb8fe7b2f831aff1d7.setContent%28html_27ec1d175e0941ce87e1b8becdad5fd3%29%3B%0A%20%20%20%20%20%20%20%20%0A%0A%20%20%20%20%20%20%20%20marker_c6e943aaa65e48109e93f6c8f21226f0.bindPopup%28popup_5c1f4779aa0643cb8fe7b2f831aff1d7%29%0A%20%20%20%20%20%20%20%20%3B%0A%0A%20%20%20%20%20%20%20%20%0A%20%20%20%20%0A%20%20%20%20%0A%20%20%20%20%20%20%20%20%20%20%20%20var%20marker_83562327f4aa40e483fb97967280f925%20%3D%20L.marker%28%0A%20%20%20%20%20%20%20%20%20%20%20%20%20%20%20%20%5B45.5875%2C%20-122.7625%5D%2C%0A%20%20%20%20%20%20%20%20%20%20%20%20%20%20%20%20%7B%7D%0A%20%20%20%20%20%20%20%20%20%20%20%20%29.addTo%28map_4a3527e3c6fa4958a2a259c6e969883f%29%3B%0A%20%20%20%20%20%20%20%20%0A%20%20%20%20%0A%20%20%20%20%20%20%20%20%20%20%20%20var%20icon_feae86cc22c64fbdaf1c8b1bec1919e6%20%3D%20L.AwesomeMarkers.icon%28%0A%20%20%20%20%20%20%20%20%20%20%20%20%20%20%20%20%7B%22extraClasses%22%3A%20%22fa-rotate-0%22%2C%20%22icon%22%3A%20%22tree%22%2C%20%22iconColor%22%3A%20%22white%22%2C%20%22markerColor%22%3A%20%22lightgreen%22%2C%20%22prefix%22%3A%20%22fa%22%7D%0A%20%20%20%20%20%20%20%20%20%20%20%20%29%3B%0A%20%20%20%20%20%20%20%20%20%20%20%20marker_83562327f4aa40e483fb97967280f925.setIcon%28icon_feae86cc22c64fbdaf1c8b1bec1919e6%29%3B%0A%20%20%20%20%20%20%20%20%0A%20%20%20%20%0A%20%20%20%20%20%20%20%20var%20popup_f1fc61d0d7e643c8ae4fc57c05037d7d%20%3D%20L.popup%28%7B%22maxWidth%22%3A%20%22100%25%22%7D%29%3B%0A%0A%20%20%20%20%20%20%20%20%0A%20%20%20%20%20%20%20%20%20%20%20%20var%20html_b69c31ec0d4840b78957ff972795a014%20%3D%20%24%28%60%3Cdiv%20id%3D%22html_b69c31ec0d4840b78957ff972795a014%22%20style%3D%22width%3A%20100.0%25%3B%20height%3A%20100.0%25%3B%22%3E%3Cb%3ECathedral%20Park%3C/b%3C/div%3E%60%29%5B0%5D%3B%0A%20%20%20%20%20%20%20%20%20%20%20%20popup_f1fc61d0d7e643c8ae4fc57c05037d7d.setContent%28html_b69c31ec0d4840b78957ff972795a014%29%3B%0A%20%20%20%20%20%20%20%20%0A%0A%20%20%20%20%20%20%20%20marker_83562327f4aa40e483fb97967280f925.bindPopup%28popup_f1fc61d0d7e643c8ae4fc57c05037d7d%29%0A%20%20%20%20%20%20%20%20%3B%0A%0A%20%20%20%20%20%20%20%20%0A%20%20%20%20%0A%20%20%20%20%0A%20%20%20%20%20%20%20%20%20%20%20%20var%20marker_2f35fbb8dc5f4e9f95d1d800270b06f1%20%3D%20L.marker%28%0A%20%20%20%20%20%20%20%20%20%20%20%20%20%20%20%20%5B45.5445%2C%20-122.6585%5D%2C%0A%20%20%20%20%20%20%20%20%20%20%20%20%20%20%20%20%7B%7D%0A%20%20%20%20%20%20%20%20%20%20%20%20%29.addTo%28map_4a3527e3c6fa4958a2a259c6e969883f%29%3B%0A%20%20%20%20%20%20%20%20%0A%20%20%20%20%0A%20%20%20%20%20%20%20%20%20%20%20%20var%20icon_b11e2d06944e48cc9383e6761eb050a9%20%3D%20L.AwesomeMarkers.icon%28%0A%20%20%20%20%20%20%20%20%20%20%20%20%20%20%20%20%7B%22extraClasses%22%3A%20%22fa-rotate-0%22%2C%20%22icon%22%3A%20%22tree%22%2C%20%22iconColor%22%3A%20%22white%22%2C%20%22markerColor%22%3A%20%22lightgreen%22%2C%20%22prefix%22%3A%20%22fa%22%7D%0A%20%20%20%20%20%20%20%20%20%20%20%20%29%3B%0A%20%20%20%20%20%20%20%20%20%20%20%20marker_2f35fbb8dc5f4e9f95d1d800270b06f1.setIcon%28icon_b11e2d06944e48cc9383e6761eb050a9%29%3B%0A%20%20%20%20%20%20%20%20%0A%20%20%20%20%0A%20%20%20%20%20%20%20%20var%20popup_27b548ebc3624abbb30dcecbb27d73ae%20%3D%20L.popup%28%7B%22maxWidth%22%3A%20%22100%25%22%7D%29%3B%0A%0A%20%20%20%20%20%20%20%20%0A%20%20%20%20%20%20%20%20%20%20%20%20var%20html_9b7c0bae052b42b5ad30f229f842ea8f%20%3D%20%24%28%60%3Cdiv%20id%3D%22html_9b7c0bae052b42b5ad30f229f842ea8f%22%20style%3D%22width%3A%20100.0%25%3B%20height%3A%20100.0%25%3B%22%3E%3Cb%3EPortland%20Wishing%20Tree%3C/b%3C/div%3E%60%29%5B0%5D%3B%0A%20%20%20%20%20%20%20%20%20%20%20%20popup_27b548ebc3624abbb30dcecbb27d73ae.setContent%28html_9b7c0bae052b42b5ad30f229f842ea8f%29%3B%0A%20%20%20%20%20%20%20%20%0A%0A%20%20%20%20%20%20%20%20marker_2f35fbb8dc5f4e9f95d1d800270b06f1.bindPopup%28popup_27b548ebc3624abbb30dcecbb27d73ae%29%0A%20%20%20%20%20%20%20%20%3B%0A%0A%20%20%20%20%20%20%20%20%0A%20%20%20%20%0A%20%20%20%20%0A%20%20%20%20%20%20%20%20%20%20%20%20var%20marker_326e69a27d74466f8b83d1947f678304%20%3D%20L.marker%28%0A%20%20%20%20%20%20%20%20%20%20%20%20%20%20%20%20%5B45.5253%2C%20-122.6733%5D%2C%0A%20%20%20%20%20%20%20%20%20%20%20%20%20%20%20%20%7B%7D%0A%20%20%20%20%20%20%20%20%20%20%20%20%29.addTo%28map_4a3527e3c6fa4958a2a259c6e969883f%29%3B%0A%20%20%20%20%20%20%20%20%0A%20%20%20%20%0A%20%20%20%20%20%20%20%20%20%20%20%20var%20icon_8096b04743e24d689519b80bdcbb96e8%20%3D%20L.AwesomeMarkers.icon%28%0A%20%20%20%20%20%20%20%20%20%20%20%20%20%20%20%20%7B%22extraClasses%22%3A%20%22fa-rotate-0%22%2C%20%22icon%22%3A%20%22tree%22%2C%20%22iconColor%22%3A%20%22white%22%2C%20%22markerColor%22%3A%20%22lightgreen%22%2C%20%22prefix%22%3A%20%22fa%22%7D%0A%20%20%20%20%20%20%20%20%20%20%20%20%29%3B%0A%20%20%20%20%20%20%20%20%20%20%20%20marker_326e69a27d74466f8b83d1947f678304.setIcon%28icon_8096b04743e24d689519b80bdcbb96e8%29%3B%0A%20%20%20%20%20%20%20%20%0A%20%20%20%20%0A%20%20%20%20%20%20%20%20var%20popup_9e56f6e361474259ae4b85dd97cc173c%20%3D%20L.popup%28%7B%22maxWidth%22%3A%20%22100%25%22%7D%29%3B%0A%0A%20%20%20%20%20%20%20%20%0A%20%20%20%20%20%20%20%20%20%20%20%20var%20html_6100d5625628452ea49f583bf2fda774%20%3D%20%24%28%60%3Cdiv%20id%3D%22html_6100d5625628452ea49f583bf2fda774%22%20style%3D%22width%3A%20100.0%25%3B%20height%3A%20100.0%25%3B%22%3E%3Cb%3ELan%20Su%20Chinese%20Garden%3C/b%3C/div%3E%60%29%5B0%5D%3B%0A%20%20%20%20%20%20%20%20%20%20%20%20popup_9e56f6e361474259ae4b85dd97cc173c.setContent%28html_6100d5625628452ea49f583bf2fda774%29%3B%0A%20%20%20%20%20%20%20%20%0A%0A%20%20%20%20%20%20%20%20marker_326e69a27d74466f8b83d1947f678304.bindPopup%28popup_9e56f6e361474259ae4b85dd97cc173c%29%0A%20%20%20%20%20%20%20%20%3B%0A%0A%20%20%20%20%20%20%20%20%0A%20%20%20%20%0A%20%20%20%20%0A%20%20%20%20%20%20%20%20%20%20%20%20map_4a3527e3c6fa4958a2a259c6e969883f.fitBounds%28%0A%20%20%20%20%20%20%20%20%20%20%20%20%20%20%20%20%5B%5B45.5194%2C%20-122.7625%5D%2C%20%5B45.5875%2C%20-122.6585%5D%5D%2C%0A%20%20%20%20%20%20%20%20%20%20%20%20%20%20%20%20%7B%7D%0A%20%20%20%20%20%20%20%20%20%20%20%20%29%3B%0A%20%20%20%20%20%20%20%20%0A%3C/script%3E onload=\"this.contentDocument.open();this.contentDocument.write(    decodeURIComponent(this.getAttribute('data-html')));this.contentDocument.close();\" allowfullscreen webkitallowfullscreen mozallowfullscreen></iframe></div></div>"
      ],
      "text/plain": [
       "<folium.folium.Map at 0x5d89ef8>"
      ]
     },
     "execution_count": 45,
     "metadata": {},
     "output_type": "execute_result"
    }
   ],
   "source": [
    "m = folium.Map(tiles=\"Stamen Terrain\")\n",
    "\n",
    "for index, row in stops.iterrows():\n",
    "    if row['Type'] == 'Hotel':\n",
    "        folium.Marker(location=[stops['Latitude'][index], stops['Longitude'][index]], popup=\"<b>\" + stops['Stop'][index] + \"</b>\", icon=folium.Icon(color='lightblue', icon='hotel', prefix='fa')).add_to(m)\n",
    "    elif row['Type'] == 'Work':\n",
    "        folium.Marker(location=[stops['Latitude'][index], stops['Longitude'][index]], popup=\"<b>\" + stops['Stop'][index] + \"</b\", icon=folium.Icon(color='cadetblue', icon='briefcase', prefix='fa')).add_to(m)\n",
    "    elif row['Type'] == 'Train Station':\n",
    "        folium.Marker(location=[stops['Latitude'][index], stops['Longitude'][index]], popup=\"<b>\" + stops['Stop'][index] + \"</b\", icon=folium.Icon(color='red', icon='train', prefix='fa')).add_to(m)\n",
    "    elif row['Type'] == 'Park':\n",
    "        folium.Marker(location=[stops['Latitude'][index], stops['Longitude'][index]], popup=\"<b>\" + stops['Stop'][index] + \"</b\", icon=folium.Icon(color='lightgreen', icon='tree', prefix='fa')).add_to(m)\n",
    "    elif row['Type'] == 'Books':\n",
    "        folium.Marker(location=[stops['Latitude'][index], stops['Longitude'][index]], popup=\"<b>\" + stops['Stop'][index] + \"</b\", icon=folium.Icon(color='pink', icon='book', prefix='fa')).add_to(m)\n",
    "    elif row['Type'] == 'Art':\n",
    "        folium.Marker(location=[stops['Latitude'][index], stops['Longitude'][index]], popup=\"<b>\" + stops['Stop'][index] + \"</b\", icon=folium.Icon(color='pink', icon='paint-brush', prefix='fa')).add_to(m)\n",
    "    elif row['Type'] == 'Music':\n",
    "        folium.Marker(location=[stops['Latitude'][index], stops['Longitude'][index]], popup=\"<b>\" + stops['Stop'][index] + \"</b\", icon=folium.Icon(color='pink', icon='music', prefix='fa')).add_to(m)\n",
    "\n",
    "# Show the map again\n",
    "m.fit_bounds(m.get_bounds())\n",
    "m"
   ]
  },
  {
   "cell_type": "markdown",
   "metadata": {},
   "source": [
    "## 🤳 Onslaught of poorly-shot photos\n",
    "\n",
    "### Union Station (`Portland, OR`)\n",
    "\n",
    "| ![](https://lh3.googleusercontent.com/pw/AM-JKLVK91vE9KfzxUgh-1Mh_V11mRLMh-A3X5bTmDJt_Gjcs-8CQrmepeE4EKcZkQ6BYxQ_40MG2js_aCUhPyIqzt0h3qCYq18nzYi8FzHRF19F_XaGDA1H7qJX5cLIY2aQ8cT8uI70sV-nal3CP5iwA6O4=w1376-h1032-no?authuser=2) | ![](https://lh3.googleusercontent.com/pw/AM-JKLVao61PXSm5J-vcGF8uNxeKfvUuX9pjBgu4TcGPC9fTYrkBAOV6C1DRiLuEjMr2uYoaBCaPLYPNBinGUcVLU6VjpHDVdfIh9Tq1dEgRanthAUHwheC-oj5gH1j2Lwbv7gtpHrsJ2kdtlV_59Aid7rOc=w1376-h1032-no?authuser=2) |\n",
    "| --- | --- |\n",
    "\n",
    "### `11`: the Coast Starlight\n",
    "\n",
    "Not quite as clean as the Amtrak Cascades from Seattle to Portland; but still so much leg room, and a plugin for every seat! The train was also quite a bit more populated than the trip from Washington to Oregon.\n",
    "\n",
    "> <br> 📝 **NOTE** -- If you need to sleep on a bus or in an airplane, but chronically either forget or don't have room for blankets in your carry-on: wear a warm, bulky coat with a wide hood. <br> <br>\n",
    "\n",
    "* Mention the two people you sat next to.\n",
    "* Mention best practices for sleeping.\n",
    "\n",
    "| ![](https://lh3.googleusercontent.com/pw/AM-JKLWM3qmFXfYiFitsUdS85KKhpE7aSbAbDfplap1gtFmZx6F1SRB8th8TfjOJ73GcWMZkzueKvzw_nXDQPJv7HscRMB8SmmQKZcKwOlI91cvBawqVsSc0m39zZqYz6jawVgigMcNdKx26lI5HDqm5G6VM=w1064-h1418-no?authuser=2) | ![](https://lh3.googleusercontent.com/pw/AM-JKLU4kNrVLGvQwQL2VFRTIjyt7xw82chjZG1hFAiLMTaGEgwFv68j6x4cKAQSEXj2tUybolaw2F-Jjoms2QbBrIybsqKN2BMO_qkrHNnYVRVKiPV5etOHWa8-OZhGaIDNp02PZKczSR9hoVizURY5_Ipd=w1064-h1418-no?authuser=2) |\n",
    "| --- | --- |\n",
    "\n",
    "### `BART`: Bay Area Rapid Transit\n",
    "\n",
    "* Cleaner than the Houston MetroRail, and just about as clean as the light rail in Seattle.\n",
    "* Vibes are highly dependent on time of day and commute route.\n",
    "* Add a picture of the Clipper card.\n",
    "\n",
    "| ![](https://lh3.googleusercontent.com/pw/AM-JKLW6iku3rCbszrcKW8sz1fH4W7kPNdbgbCCZNCV94siPR2UCZIN8wqFbBU4knF8aeDCQDtSStyAmHrhlARGQdHS8yidyfZM0m5e4BXVL2NYBDOfQA1fKu80Bst-iNzAeWavbDsOpSh2LulTpiio2tm8T=w1376-h1032-no?authuser=2) | ![]() |\n",
    "| --- | --- |\n",
    "\n",
    "#### GitHub Office (`San Francisco`)\n",
    "\n",
    "* Definitely coming back.\n",
    "\n",
    "| ![](https://lh3.googleusercontent.com/pw/AM-JKLUzAv4SXUuVBkwXRqJSG07cajrcy4lLabC3WlA2rQEfxlKwsUO0a8xXnntGt0twHjqc1Xc2OrfqnuqPs9Jq4lYYzcMG1pZhdDMMHizNHTKsz48V4mNVc9hmV_Ckb16BdvxFGLtxZdHyvrRJjEL_vcHM=w1064-h1418-no?authuser=2) | ![](https://lh3.googleusercontent.com/pw/AM-JKLVyGk-LZ5BA9WeOt_lr20yQ1AswdEMNQSw9Bqm4Vmh6Bf5369I9-H4o2WPw2m0kZBd4RB0b0eNQWRi6JZOIsFhPdckU46cD9MpUjwfQn2iuKQoCW6zHh4x1-nucUsKgc-msBYZFxBb5W6YkVqOeegMb=w1892-h1418-no?authuser=2) |\n",
    "| --- | --- |\n",
    "| ![](https://lh3.googleusercontent.com/pw/AM-JKLWK7sv5NhA5WazPh2yx0ew5sMpAgfscLGicaTG8CMXGiupJyS3IfK7LSqsVED0KUrDLEeK_qG8bSGP4sLXlX10uO6SfMzHY3bG5OcqugRtNb_Nro_NyCTk1sGUhXH0-cvPRcg3wEdlqrkJnIZ-50WnN=w1064-h1418-no?authuser=2) | ![](https://lh3.googleusercontent.com/pw/AM-JKLVGR3K2LwEfGUGyiXTNCdoAQB6Wa3Z7iBe0W_s1Et-Rg9NkI3xpua1fmld6pSmY2h9yWySSjXqZkhYf2gYfII7-SpmjUhlsw8rRLaRUmXEO-T1Ed2qe-S5YQXZn8iSV1CI3lox92krIG9X8wGD2XMD3=w1892-h1418-no?authuser=2) |\n",
    "| ![](https://lh3.googleusercontent.com/pw/AM-JKLViAEa8-GEZIaz3Dfm9B4qqvsYcX5rfzzLbZRySdbJ_7S5Npkkk12U3iMq4ECx5udJVE9nGf641ORfecHy8KXBDCcF3wcxadTLvVy7rTaVvCYHfKm0dQiRB53IuO-s3XOoXe-HQzc4jpbAtfROdqnJ6=w1892-h1418-no?authuser=2) | ![](https://lh3.googleusercontent.com/pw/AM-JKLUA7qWEOreOiA2HNGGMAeHwCBr-tRfCPwSczHCUwFOFTMNBQtU7m03tQXBOM1ttqhxWHWPt-SLnbcWuSKE2x1WTp-o9RvRHE-v39b2M4L4YPjqP1njEDD9tk5M-huJq9Di7P3CTf39SGLfNhYSRZilQ=w1064-h1418-no?authuser=2) |\n",
    "\n",
    "### City of Burlingame Shorebird Sanctuary & Bayfront Park\n",
    "\n",
    "* Birds! I felt like a heroine in a Hitchcock film.\n",
    "\n",
    "| ![](https://lh3.googleusercontent.com/pw/AM-JKLXu8Yug9OowPQus0J8LmK7BaT8vnWIRD8RaIehyHjzHSaqJCsRwbql_aB6l09yGofI-F85H05Y7PnwSYp750wJzDDVeJR6YtRC44o_mWADhohjDy_XnTLfp4YkSn2QNRW8qdOXaBLvreMHlI2WAo0n3=w1408-h1056-no?authuser=2) | ![](https://lh3.googleusercontent.com/pw/AM-JKLV6J-E27_CMgF2d_q5qof9TqRezTw9MP-h6e0L30kYYHa3nSWFQLpz5MI_O6oz7KY5O83HzCWylQCQhPBzW1pXZato4qoz4KRhsGCzE8mHUV4FeIq99RocIgsSEJLkhXRN7DAKaSzgRWQJRiHFVgiN2=w1408-h1056-no?authuser=2) |\n",
    "| --- | --- |\n",
    "| ![](https://lh3.googleusercontent.com/pw/AM-JKLXwL36OEuyUGwoVPcIdut-N6Ev0nx0UJStcaun2VXfccug7r9bAKn_IojqCC99Eye_xLExB6VoF7s-hZqTS-ZM9aaLOnMiz0-8qfr7TQAyuHS1fdWormZB8jg4LAFszr75YR8RtFob-Sc0h9kV6JW5d=w1408-h1056-no?authuser=2) | ![](https://lh3.googleusercontent.com/pw/AM-JKLW0lyUwQD6WunsaEav9prtIAlV8u1hXfxJIMaNsmvtvhdkykjZkaoXwFfBf2WwPeixF67WqB7hCBH-MNa373OlCsxdlFaE5YCHmtE4bxUTdZhUb3wGJiOx9xiGXReV2cph4DIWf8DUonvwDNJOJchS4=w1408-h1056-no?authuser=2) |\n",
    "\n",
    "![](https://lh3.googleusercontent.com/pw/AM-JKLVYaUQ2h38KK6xU-qAY8aA-OXXPdqpwP26GtNLsTZix_QbNziDhaQ_x3Wu-pns8xnNshIIEOtl_HXkLyNr6xxpGY8Y7uLNn-hFjhCDnJ7UUaRZoR-oFrH_s--b7HcOKv798GYBx0McRsozLegibLJs7=w1408-h792-k-no?authuser=2)\n",
    "\n",
    "### Bayside Park\n",
    "\n",
    "* Close to hotel.\n",
    "* Nice walk. \n",
    "\n",
    "| ![](https://lh3.googleusercontent.com/pw/AM-JKLXFXDgPdjP6e73w_1VEcjYSy2ZPgxk2B37Ge9iMeeZh4K-fF0vuG0UaClXyhs17UCfYrifIobVTRAaJtV1JOPCMTv70GoGWVj2__ifbm7cFNZHLR-3EBMDZkiAtqUTpwoYYglVrZK9En_GZg1MdfFqV=w1408-h1056-no?authuser=2) | ![](https://lh3.googleusercontent.com/pw/AM-JKLVkGEJyRpCF9pWmXxPXZKBVOSMqpE-VHFA_YtLg22EmUNYadGhRcpqx5FojRpeknk5s1SBb8nFIHWSGY0dlfy-yofxWi7Ydu8sdu3eZVqpDZzLrZL4KvIxc0FsYAuS9htVSxK7aT6jwDNXHBHlPvnSK=w1408-h1056-no?authuser=2) |\n",
    "| --- | --- |\n",
    "\n",
    "### Hyatt Regency: San Francisco Airport\n",
    "\n",
    "* Coffee and bar onsite.\n",
    "* Airport travel hack; close to BART, and close to the Amtrak lines.\n",
    "* Friendly, clean, gorgeous, quiet.\n",
    "* Lots of people looked like they might be there on quarantine.\n",
    "\n",
    "| ![](https://lh3.googleusercontent.com/pw/AM-JKLXrvMJ9zdoUcsgGMGo1Irb_wC9rtge0QSwckQGB6sufMkMqHz4Shegz-xdwYchZIM9TYjSg46JeTemTuk1GNPWxT21HELcQ5OBhw1XNjkrh5taDUreX6IBFrdkbRPlmul1dgIooawMOgnK5UsVb1wmC=w1404-h1054-no?authuser=2) | ![](https://lh3.googleusercontent.com/pw/AM-JKLV7VLIrE4C7n_s4WDFg_eduthg02cXMP_EGW6jg6WjWjmHEqxWMybv5_zRstcJWA86V3YsDjWrJ61z0O5L0h9h121tVjSj2lr8CU8jKgm3aLKrHzzz0SChCC3IIoVXUbVAubBzTdYvnKJOm6yscpUw2=w1404-h1054-no?authuser=2) |\n",
    "| --- | --- |"
   ]
  },
  {
   "cell_type": "markdown",
   "metadata": {},
   "source": [
    "### `Oakland` to `Sacramento`: the trip up"
   ]
  },
  {
   "cell_type": "markdown",
   "metadata": {},
   "source": [
    "#### `520`: Capitol Corridor\n",
    "\n",
    "![](https://upload.wikimedia.org/wikipedia/commons/thumb/6/6c/Capitol_Corridor_Pinole.jpg/700px-Capitol_Corridor_Pinole.jpg)\n",
    "\n",
    "### On the way up\n",
    "\n",
    "Last minute switch, caught the 5:12am train from Oakland to Sacramento. Literally no one was on it but me, and the blinking warning not to vape. Are people regularly vaping at 5:12 in the morning?\n",
    "\n",
    "| ![](https://lh3.googleusercontent.com/pw/AM-JKLVDlTBwiDCUtXuJl7AIMlD1fHcL0nrKyBLq3JcmxEDTG_reszgN4_0KHj5cOb9Rb1wKikptWB2bi6UntOvnrMZ3LjrdDvRoyITbKeebZLtJlvZOkCR0bjNZo0e6jXvZr1Y5rHfR2MzQzhzbE_HYpDrh=w1892-h1418-no?authuser=2) | ![](https://lh3.googleusercontent.com/pw/AM-JKLW-9B9j0WjKR_7fyI96Wa1Kd4RKehsky-331LwX7FtBytLqEsXmwhI8Wc77G2j5GtadBQZeROgmhnL8ecsCZKxBr3pfsx-hzk1YiN4oX3mT8BNW3CT5k2kghN4YEJFikzUezMxCh9RUEf1Hjoq7aj2H=w1892-h1418-no?authuser=2) |\n",
    "| --- | --- |\n"
   ]
  },
  {
   "cell_type": "code",
   "execution_count": 6,
   "metadata": {},
   "outputs": [
    {
     "data": {
      "text/html": [
       "<div>\n",
       "<style scoped>\n",
       "    .dataframe tbody tr th:only-of-type {\n",
       "        vertical-align: middle;\n",
       "    }\n",
       "\n",
       "    .dataframe tbody tr th {\n",
       "        vertical-align: top;\n",
       "    }\n",
       "\n",
       "    .dataframe thead th {\n",
       "        text-align: right;\n",
       "    }\n",
       "</style>\n",
       "<table border=\"1\" class=\"dataframe\">\n",
       "  <thead>\n",
       "    <tr style=\"text-align: right;\">\n",
       "      <th></th>\n",
       "      <th>Time</th>\n",
       "      <th>Date</th>\n",
       "      <th>Location</th>\n",
       "    </tr>\n",
       "  </thead>\n",
       "  <tbody>\n",
       "    <tr>\n",
       "      <th>24</th>\n",
       "      <td>5:20</td>\n",
       "      <td>December 16, 2021</td>\n",
       "      <td>Emeryville, CA</td>\n",
       "    </tr>\n",
       "    <tr>\n",
       "      <th>25</th>\n",
       "      <td>5:25</td>\n",
       "      <td>December 16, 2021</td>\n",
       "      <td>Berkeley, CA</td>\n",
       "    </tr>\n",
       "    <tr>\n",
       "      <th>26</th>\n",
       "      <td>5:32</td>\n",
       "      <td>December 16, 2021</td>\n",
       "      <td>Richmond, CA</td>\n",
       "    </tr>\n",
       "    <tr>\n",
       "      <th>27</th>\n",
       "      <td>5:58</td>\n",
       "      <td>December 16, 2021</td>\n",
       "      <td>Martinez, CA</td>\n",
       "    </tr>\n",
       "    <tr>\n",
       "      <th>28</th>\n",
       "      <td>6:17</td>\n",
       "      <td>December 16, 2021</td>\n",
       "      <td>Suisun-Fairfield, CA</td>\n",
       "    </tr>\n",
       "    <tr>\n",
       "      <th>29</th>\n",
       "      <td>6:23</td>\n",
       "      <td>December 16, 2021</td>\n",
       "      <td>Fairfield-Vacaville, CA</td>\n",
       "    </tr>\n",
       "    <tr>\n",
       "      <th>30</th>\n",
       "      <td>6:46</td>\n",
       "      <td>December 16, 2021</td>\n",
       "      <td>Davis, CA</td>\n",
       "    </tr>\n",
       "    <tr>\n",
       "      <th>31</th>\n",
       "      <td>7:10</td>\n",
       "      <td>December 16, 2021</td>\n",
       "      <td>Sacramento, CA</td>\n",
       "    </tr>\n",
       "  </tbody>\n",
       "</table>\n",
       "</div>"
      ],
      "text/plain": [
       "    Time               Date                 Location\n",
       "24  5:20  December 16, 2021           Emeryville, CA\n",
       "25  5:25  December 16, 2021             Berkeley, CA\n",
       "26  5:32  December 16, 2021             Richmond, CA\n",
       "27  5:58  December 16, 2021             Martinez, CA\n",
       "28  6:17  December 16, 2021     Suisun-Fairfield, CA\n",
       "29  6:23  December 16, 2021  Fairfield-Vacaville, CA\n",
       "30  6:46  December 16, 2021                Davis, CA\n",
       "31  7:10  December 16, 2021           Sacramento, CA"
      ]
     },
     "execution_count": 6,
     "metadata": {},
     "output_type": "execute_result"
    }
   ],
   "source": [
    "\n",
    "# Segment out the Sacramento stops.\n",
    "Sacramento = df.iloc[24:32]\n",
    "Sacramento[['Time','Date','Location']]\n"
   ]
  },
  {
   "cell_type": "markdown",
   "metadata": {},
   "source": [
    "\n",
    "| City | Picture | Description |\n",
    "| --- | --- | --- |\n",
    "| [Oakland, CA](https://en.wikipedia.org/wiki/Oakland_%E2%80%93_Jack_London_Square_station) | ![](https://upload.wikimedia.org/wikipedia/commons/thumb/b/b6/Jack_London_Square_station_with_Capitol_Corridor_train%2C_July_2020.jpg/600px-Jack_London_Square_station_with_Capitol_Corridor_train%2C_July_2020.jpg) | Placeholder text for seeing how text would impact the size of the pictures. |\n",
    "| [Emeryville, CA](https://en.wikipedia.org/wiki/Emeryville_station) | ![](https://upload.wikimedia.org/wikipedia/commons/thumb/8/81/Two_trains_at_Emeryville_station%2C_June_2018.JPG/600px-Two_trains_at_Emeryville_station%2C_June_2018.JPG) | Placeholder text for seeing how text would impact the size of the pictures. |\n",
    "| [Berkeley, CA](https://en.wikipedia.org/wiki/Berkeley_station_(California)) | ![](https://upload.wikimedia.org/wikipedia/commons/thumb/d/da/San_Joaquin_passing_Berkeley_station%2C_June_2018.JPG/600px-San_Joaquin_passing_Berkeley_station%2C_June_2018.JPG) | Placeholder text for seeing how text would impact the size of the pictures. |\n",
    "| [Richmond, CA](https://en.wikipedia.org/wiki/Richmond_station_(California)) | ![](https://upload.wikimedia.org/wikipedia/commons/6/63/Richmond_station_canopy_from_parking_garage_%283%29%2C_April_2018.jpg) | Placeholder text for seeing how text would impact the size of the pictures. |\n",
    "| [Martinez, CA](https://en.wikipedia.org/wiki/Martinez_station) | ![](https://upload.wikimedia.org/wikipedia/commons/thumb/6/68/Capitol_Corridor_train_at_Martinez_station%2C_November_2019.JPG/600px-Capitol_Corridor_train_at_Martinez_station%2C_November_2019.JPG) | Placeholder text for seeing how text would impact the size of the pictures. |\n",
    "| [Suisun-Fairfield, CA](https://en.wikipedia.org/wiki/Suisun%E2%80%93Fairfield_station) | ![](https://upload.wikimedia.org/wikipedia/commons/thumb/4/40/Capitol_Corridor_train_leaving_Suisun%E2%80%93Fairfield_station%2C_May_2019.JPG/600px-Capitol_Corridor_train_leaving_Suisun%E2%80%93Fairfield_station%2C_May_2019.JPG) | Placeholder text for seeing how text would impact the size of the pictures. |\n",
    "| [Fairfield-Vacaville, CA](https://en.wikipedia.org/wiki/Fairfield%E2%80%93Vacaville_station) | ![](https://upload.wikimedia.org/wikipedia/commons/thumb/f/f9/Fairfield%E2%80%93Vacaville_station_viewed_from_bridge%2C_May_2019.JPG/600px-Fairfield%E2%80%93Vacaville_station_viewed_from_bridge%2C_May_2019.JPG) | Placeholder text for seeing how text would impact the size of the pictures. |\n",
    "| [Davis, CA](https://en.wikipedia.org/wiki/Davis_station_(California)) | ![](https://upload.wikimedia.org/wikipedia/commons/thumb/3/3b/Passenger_crowd_at_Davis_station%2C_November_2017.jpg/600px-Passenger_crowd_at_Davis_station%2C_November_2017.jpg) | Placeholder text for seeing how text would impact the size of the pictures. |\n",
    "| [Sacramento, CA](https://en.wikipedia.org/wiki/Sacramento_Valley_Station) | ![](https://upload.wikimedia.org/wikipedia/commons/thumb/0/0d/Sacramento_Valley_Station.JPG/1280px-Sacramento_Valley_Station.JPG) | Placeholder text for seeing how text would impact the size of the pictures. |"
   ]
  },
  {
   "cell_type": "markdown",
   "metadata": {},
   "source": [
    "### Street Art\n",
    "\n",
    "| ![](https://lh3.googleusercontent.com/pw/AM-JKLUgoY03LqNVLZuOqQoKq5wpcFXW-LGo73X02dwyHSkVaJF4QWey3NGv-hwABj_6qhWl5H36qp802ZZcjSyWuLFSDSIKafg2z8FmhbwYF9VsgM_9sELs3kBbwSuhD2KfC2vkpZGrwn6nM-yMe6J0zOja=w1064-h1418-no?authuser=2) | ![](https://lh3.googleusercontent.com/pw/AM-JKLXdG3vPxlbP1P3hlZZMHw3o-ljEgeGQuXNBQ8rl6ip60jty59Dl-QuoQmHVY124w3r1kjcfk2U6MXOUqrp2xM9GIeZbrY0fRiTFe8hXQkFuR4Gyqg8u3CcK98GvQOiSjPA8XoE2IOB_VQEHVejaNb7-=w1404-h1054-no?authuser=2) |\n",
    "| --- | --- |\n",
    "| ![](https://lh3.googleusercontent.com/pw/AM-JKLVyGklULLAcJS5X5PRp5SY5DRRkJYEdbyWOskpRJ7T9wAwY5f54rV18Tqz95jdNnOuXg_UvTWYj1fpqeouYMVEHQfy70TMdwyeGPl8QOShmoC-mq4GE171FRzjRha9BFq7GcqyEDB3Oe_vU-7K13ZVP=w1404-h1054-no?authuser=2) | ![](https://lh3.googleusercontent.com/pw/AM-JKLXNxyyadZPsfu323_nD6HwEHNesUppkKs9Y6pupw18YPXXlsCRkF-MAyeG5HBGusBTV1sk_GU3qQGHhDPnCI1wLKAlLduYLZJk2pTGbxPxw1wL4_0nRXQ5IaKcvL5PxAaj9jjTCjULScIHWBtjEkOnB=w1404-h1054-no?authuser=2) |\n",
    "| ![](https://lh3.googleusercontent.com/pw/AM-JKLX63-Bdl2UkmDEFKFGeOyDetw7E90ZERGq4XAtqls4PR2i6FyLdUNvk6ndJDNuCE5zo0ODuuJsKYdbYPnHKLMq-1eo-LfxtcPNHha5El85uWmWPodjbN2nnZEHEem3YFX6Y6GKswhaWQOKSlkx9iwNU=w1064-h1418-no?authuser=2) | ![](https://lh3.googleusercontent.com/pw/AM-JKLUpw5ysmH5r-myIXOsw41nd7J8nhvOtvKM1YzEEtWwtXrzBS7pmCom0fglyVeSrwM2UVyar0Ij6uG0W9jXtf9SA_Iiy8XIrvUKvzG6CDdWJ40HO3DOAfujJ3WQG5wh2a4nKbCHbPw9i5zrp3VNyVuX6=w1404-h1054-no?authuser=2) |\n",
    "| ![](https://lh3.googleusercontent.com/pw/AM-JKLX5Sram_hfA3Y9bEWs2ji8hX0wuKnxYUHzjYs4BbO29aJEmqRy0pfhXTCSKGidIWKbER8KFsgw8ulCTnwKSWBJf35_ioin7kh4tZgrafTgBcW4nALWFhzHQOMXV6ieRY-CdymOwt9afjbt_MnzBZhpI=w1404-h1054-no?authuser=2) | ![](https://lh3.googleusercontent.com/pw/AM-JKLX07sjehEWcPmMsl-pxeyU2byZQfcha1X-NMcpD6kzZmnvMK05pUMTt4crWiDmPnd49r_F-LyfXLr3i2DGSq1pT7tus-anRV7XFjYfVeeSPJHneAvh5eCg2gGZ9wgj_ipIdYtKcheGaaLzYHu4ihCya=w1404-h1054-no?authuser=2) |\n",
    "\n",
    "### California State Capitol\n",
    "\n",
    "### Other government buildings\n",
    "\n",
    "| ![](https://lh3.googleusercontent.com/pw/AM-JKLWy0QuxlOXdGFPiZfUuIxm3Tt779_NdWhsbVRwAjaDUaj6f44iq6pns2ZsrpKj1waYaUp4rZg1MZfWjRfpm424xwZgpOqaf4dgVdwHtqLDD0OS-dptPUseVfsSxtDqsfh3u71sp1qc4O1tJXyT1Y1su=w1404-h1054-no?authuser=2) | ![](https://lh3.googleusercontent.com/pw/AM-JKLUTwAL9lwAoJ1AipjRi5R4GgX_hlUPQHf3nPa3rt4vHK_bU1TWns5RYEHAk84ta8XongUO_fQxi5NNkNiCPN1lD42b6CHYQS1Y1cxx2DHxDFfmchk10hpABaFd0meyz_QhPQhSFLf9PHwZfF8WNjLMN=w1404-h1054-no?authuser=2) |\n",
    "| --- | --- |"
   ]
  },
  {
   "cell_type": "markdown",
   "metadata": {},
   "source": [
    "### How far we've come, so far:"
   ]
  },
  {
   "cell_type": "code",
   "execution_count": 7,
   "metadata": {},
   "outputs": [
    {
     "data": {
      "text/html": [
       "<div style=\"width:100%;\"><div style=\"position:relative;width:100%;height:0;padding-bottom:60%;\"><span style=\"color:#565656\">Make this Notebook Trusted to load map: File -> Trust Notebook</span><iframe src=\"about:blank\" style=\"position:absolute;width:100%;height:100%;left:0;top:0;border:none !important;\" data-html=%3C%21DOCTYPE%20html%3E%0A%3Chead%3E%20%20%20%20%0A%20%20%20%20%3Cmeta%20http-equiv%3D%22content-type%22%20content%3D%22text/html%3B%20charset%3DUTF-8%22%20/%3E%0A%20%20%20%20%0A%20%20%20%20%20%20%20%20%3Cscript%3E%0A%20%20%20%20%20%20%20%20%20%20%20%20L_NO_TOUCH%20%3D%20false%3B%0A%20%20%20%20%20%20%20%20%20%20%20%20L_DISABLE_3D%20%3D%20false%3B%0A%20%20%20%20%20%20%20%20%3C/script%3E%0A%20%20%20%20%0A%20%20%20%20%3Cstyle%3Ehtml%2C%20body%20%7Bwidth%3A%20100%25%3Bheight%3A%20100%25%3Bmargin%3A%200%3Bpadding%3A%200%3B%7D%3C/style%3E%0A%20%20%20%20%3Cstyle%3E%23map%20%7Bposition%3Aabsolute%3Btop%3A0%3Bbottom%3A0%3Bright%3A0%3Bleft%3A0%3B%7D%3C/style%3E%0A%20%20%20%20%3Cscript%20src%3D%22https%3A//cdn.jsdelivr.net/npm/leaflet%401.6.0/dist/leaflet.js%22%3E%3C/script%3E%0A%20%20%20%20%3Cscript%20src%3D%22https%3A//code.jquery.com/jquery-1.12.4.min.js%22%3E%3C/script%3E%0A%20%20%20%20%3Cscript%20src%3D%22https%3A//maxcdn.bootstrapcdn.com/bootstrap/3.2.0/js/bootstrap.min.js%22%3E%3C/script%3E%0A%20%20%20%20%3Cscript%20src%3D%22https%3A//cdnjs.cloudflare.com/ajax/libs/Leaflet.awesome-markers/2.0.2/leaflet.awesome-markers.js%22%3E%3C/script%3E%0A%20%20%20%20%3Clink%20rel%3D%22stylesheet%22%20href%3D%22https%3A//cdn.jsdelivr.net/npm/leaflet%401.6.0/dist/leaflet.css%22/%3E%0A%20%20%20%20%3Clink%20rel%3D%22stylesheet%22%20href%3D%22https%3A//maxcdn.bootstrapcdn.com/bootstrap/3.2.0/css/bootstrap.min.css%22/%3E%0A%20%20%20%20%3Clink%20rel%3D%22stylesheet%22%20href%3D%22https%3A//maxcdn.bootstrapcdn.com/bootstrap/3.2.0/css/bootstrap-theme.min.css%22/%3E%0A%20%20%20%20%3Clink%20rel%3D%22stylesheet%22%20href%3D%22https%3A//maxcdn.bootstrapcdn.com/font-awesome/4.6.3/css/font-awesome.min.css%22/%3E%0A%20%20%20%20%3Clink%20rel%3D%22stylesheet%22%20href%3D%22https%3A//cdnjs.cloudflare.com/ajax/libs/Leaflet.awesome-markers/2.0.2/leaflet.awesome-markers.css%22/%3E%0A%20%20%20%20%3Clink%20rel%3D%22stylesheet%22%20href%3D%22https%3A//cdn.jsdelivr.net/gh/python-visualization/folium/folium/templates/leaflet.awesome.rotate.min.css%22/%3E%0A%20%20%20%20%0A%20%20%20%20%20%20%20%20%20%20%20%20%3Cmeta%20name%3D%22viewport%22%20content%3D%22width%3Ddevice-width%2C%0A%20%20%20%20%20%20%20%20%20%20%20%20%20%20%20%20initial-scale%3D1.0%2C%20maximum-scale%3D1.0%2C%20user-scalable%3Dno%22%20/%3E%0A%20%20%20%20%20%20%20%20%20%20%20%20%3Cstyle%3E%0A%20%20%20%20%20%20%20%20%20%20%20%20%20%20%20%20%23map_58551aa13d3b4de2ba758d701b5ccdcf%20%7B%0A%20%20%20%20%20%20%20%20%20%20%20%20%20%20%20%20%20%20%20%20position%3A%20relative%3B%0A%20%20%20%20%20%20%20%20%20%20%20%20%20%20%20%20%20%20%20%20width%3A%20100.0%25%3B%0A%20%20%20%20%20%20%20%20%20%20%20%20%20%20%20%20%20%20%20%20height%3A%20100.0%25%3B%0A%20%20%20%20%20%20%20%20%20%20%20%20%20%20%20%20%20%20%20%20left%3A%200.0%25%3B%0A%20%20%20%20%20%20%20%20%20%20%20%20%20%20%20%20%20%20%20%20top%3A%200.0%25%3B%0A%20%20%20%20%20%20%20%20%20%20%20%20%20%20%20%20%7D%0A%20%20%20%20%20%20%20%20%20%20%20%20%3C/style%3E%0A%20%20%20%20%20%20%20%20%0A%20%20%20%20%3Cscript%20src%3D%22https%3A//cdnjs.cloudflare.com/ajax/libs/leaflet-dvf/0.3.0/leaflet-dvf.markers.min.js%22%3E%3C/script%3E%0A%3C/head%3E%0A%3Cbody%3E%20%20%20%20%0A%20%20%20%20%0A%20%20%20%20%20%20%20%20%20%20%20%20%3Cdiv%20class%3D%22folium-map%22%20id%3D%22map_58551aa13d3b4de2ba758d701b5ccdcf%22%20%3E%3C/div%3E%0A%20%20%20%20%20%20%20%20%0A%3C/body%3E%0A%3Cscript%3E%20%20%20%20%0A%20%20%20%20%0A%20%20%20%20%20%20%20%20%20%20%20%20var%20map_58551aa13d3b4de2ba758d701b5ccdcf%20%3D%20L.map%28%0A%20%20%20%20%20%20%20%20%20%20%20%20%20%20%20%20%22map_58551aa13d3b4de2ba758d701b5ccdcf%22%2C%0A%20%20%20%20%20%20%20%20%20%20%20%20%20%20%20%20%7B%0A%20%20%20%20%20%20%20%20%20%20%20%20%20%20%20%20%20%20%20%20center%3A%20%5B0%2C%200%5D%2C%0A%20%20%20%20%20%20%20%20%20%20%20%20%20%20%20%20%20%20%20%20crs%3A%20L.CRS.EPSG3857%2C%0A%20%20%20%20%20%20%20%20%20%20%20%20%20%20%20%20%20%20%20%20zoom%3A%201%2C%0A%20%20%20%20%20%20%20%20%20%20%20%20%20%20%20%20%20%20%20%20zoomControl%3A%20true%2C%0A%20%20%20%20%20%20%20%20%20%20%20%20%20%20%20%20%20%20%20%20preferCanvas%3A%20false%2C%0A%20%20%20%20%20%20%20%20%20%20%20%20%20%20%20%20%7D%0A%20%20%20%20%20%20%20%20%20%20%20%20%29%3B%0A%0A%20%20%20%20%20%20%20%20%20%20%20%20%0A%0A%20%20%20%20%20%20%20%20%0A%20%20%20%20%0A%20%20%20%20%20%20%20%20%20%20%20%20var%20tile_layer_6ea21c18173a468b834edb5dab5076f0%20%3D%20L.tileLayer%28%0A%20%20%20%20%20%20%20%20%20%20%20%20%20%20%20%20%22https%3A//cartodb-basemaps-%7Bs%7D.global.ssl.fastly.net/dark_all/%7Bz%7D/%7Bx%7D/%7By%7D.png%22%2C%0A%20%20%20%20%20%20%20%20%20%20%20%20%20%20%20%20%7B%22attribution%22%3A%20%22%5Cu0026copy%3B%20%5Cu003ca%20href%3D%5C%22http%3A//www.openstreetmap.org/copyright%5C%22%5Cu003eOpenStreetMap%5Cu003c/a%5Cu003e%20contributors%20%5Cu0026copy%3B%20%5Cu003ca%20href%3D%5C%22http%3A//cartodb.com/attributions%5C%22%5Cu003eCartoDB%5Cu003c/a%5Cu003e%2C%20CartoDB%20%5Cu003ca%20href%20%3D%5C%22http%3A//cartodb.com/attributions%5C%22%5Cu003eattributions%5Cu003c/a%5Cu003e%22%2C%20%22detectRetina%22%3A%20false%2C%20%22maxNativeZoom%22%3A%2018%2C%20%22maxZoom%22%3A%2018%2C%20%22minZoom%22%3A%200%2C%20%22noWrap%22%3A%20false%2C%20%22opacity%22%3A%201%2C%20%22subdomains%22%3A%20%22abc%22%2C%20%22tms%22%3A%20false%7D%0A%20%20%20%20%20%20%20%20%20%20%20%20%29.addTo%28map_58551aa13d3b4de2ba758d701b5ccdcf%29%3B%0A%20%20%20%20%20%20%20%20%0A%20%20%20%20%0A%20%20%20%20%20%20%20%20%20%20%20%20var%20regular_polygon_marker_20f012e681bc43258427d323ad019a46%20%3D%20new%20L.RegularPolygonMarker%28%0A%20%20%20%20%20%20%20%20%20%20%20%20%20%20%20%20%5B47.61362861%2C%20-122.3530159%5D%2C%0A%20%20%20%20%20%20%20%20%20%20%20%20%20%20%20%20%7B%22bubblingMouseEvents%22%3A%20true%2C%20%22color%22%3A%20%22%233388ff%22%2C%20%22dashArray%22%3A%20null%2C%20%22dashOffset%22%3A%20null%2C%20%22fill%22%3A%20false%2C%20%22fillColor%22%3A%20%22%233388ff%22%2C%20%22fillOpacity%22%3A%200.2%2C%20%22fillRule%22%3A%20%22evenodd%22%2C%20%22lineCap%22%3A%20%22round%22%2C%20%22lineJoin%22%3A%20%22round%22%2C%20%22numberOfSides%22%3A%204%2C%20%22opacity%22%3A%201.0%2C%20%22radius%22%3A%204%2C%20%22rotation%22%3A%200%2C%20%22stroke%22%3A%20true%2C%20%22weight%22%3A%203%7D%0A%20%20%20%20%20%20%20%20%20%20%20%20%29.addTo%28map_58551aa13d3b4de2ba758d701b5ccdcf%29%3B%0A%20%20%20%20%20%20%20%20%0A%20%20%20%20%0A%20%20%20%20%20%20%20%20var%20popup_322337081af9479f9690150885357aef%20%3D%20L.popup%28%7B%22maxWidth%22%3A%20%22100%25%22%7D%29%3B%0A%0A%20%20%20%20%20%20%20%20%0A%20%20%20%20%20%20%20%20%20%20%20%20var%20html_bb5a513c905d4deebb64f66a400153dc%20%3D%20%24%28%60%3Cdiv%20id%3D%22html_bb5a513c905d4deebb64f66a400153dc%22%20style%3D%22width%3A%20100.0%25%3B%20height%3A%20100.0%25%3B%22%3ESeattle%2C%20WA%3C/div%3E%60%29%5B0%5D%3B%0A%20%20%20%20%20%20%20%20%20%20%20%20popup_322337081af9479f9690150885357aef.setContent%28html_bb5a513c905d4deebb64f66a400153dc%29%3B%0A%20%20%20%20%20%20%20%20%0A%0A%20%20%20%20%20%20%20%20regular_polygon_marker_20f012e681bc43258427d323ad019a46.bindPopup%28popup_322337081af9479f9690150885357aef%29%0A%20%20%20%20%20%20%20%20%3B%0A%0A%20%20%20%20%20%20%20%20%0A%20%20%20%20%0A%20%20%20%20%0A%20%20%20%20%20%20%20%20%20%20%20%20var%20regular_polygon_marker_df9550b1c629432f95bfa41a64e221ab%20%3D%20new%20L.RegularPolygonMarker%28%0A%20%20%20%20%20%20%20%20%20%20%20%20%20%20%20%20%5B47.46108662%2C%20-122.24026880000001%5D%2C%0A%20%20%20%20%20%20%20%20%20%20%20%20%20%20%20%20%7B%22bubblingMouseEvents%22%3A%20true%2C%20%22color%22%3A%20%22%233388ff%22%2C%20%22dashArray%22%3A%20null%2C%20%22dashOffset%22%3A%20null%2C%20%22fill%22%3A%20false%2C%20%22fillColor%22%3A%20%22%233388ff%22%2C%20%22fillOpacity%22%3A%200.2%2C%20%22fillRule%22%3A%20%22evenodd%22%2C%20%22lineCap%22%3A%20%22round%22%2C%20%22lineJoin%22%3A%20%22round%22%2C%20%22numberOfSides%22%3A%204%2C%20%22opacity%22%3A%201.0%2C%20%22radius%22%3A%204%2C%20%22rotation%22%3A%200%2C%20%22stroke%22%3A%20true%2C%20%22weight%22%3A%203%7D%0A%20%20%20%20%20%20%20%20%20%20%20%20%29.addTo%28map_58551aa13d3b4de2ba758d701b5ccdcf%29%3B%0A%20%20%20%20%20%20%20%20%0A%20%20%20%20%0A%20%20%20%20%20%20%20%20var%20popup_380c4c196d2c4f7f93fbb18a66be4066%20%3D%20L.popup%28%7B%22maxWidth%22%3A%20%22100%25%22%7D%29%3B%0A%0A%20%20%20%20%20%20%20%20%0A%20%20%20%20%20%20%20%20%20%20%20%20var%20html_d3dfe2936cfa4ab5937e54b7c2cf2087%20%3D%20%24%28%60%3Cdiv%20id%3D%22html_d3dfe2936cfa4ab5937e54b7c2cf2087%22%20style%3D%22width%3A%20100.0%25%3B%20height%3A%20100.0%25%3B%22%3ETukwila%2C%20WA%3C/div%3E%60%29%5B0%5D%3B%0A%20%20%20%20%20%20%20%20%20%20%20%20popup_380c4c196d2c4f7f93fbb18a66be4066.setContent%28html_d3dfe2936cfa4ab5937e54b7c2cf2087%29%3B%0A%20%20%20%20%20%20%20%20%0A%0A%20%20%20%20%20%20%20%20regular_polygon_marker_df9550b1c629432f95bfa41a64e221ab.bindPopup%28popup_380c4c196d2c4f7f93fbb18a66be4066%29%0A%20%20%20%20%20%20%20%20%3B%0A%0A%20%20%20%20%20%20%20%20%0A%20%20%20%20%0A%20%20%20%20%0A%20%20%20%20%20%20%20%20%20%20%20%20var%20regular_polygon_marker_624bb8c034af4eed88a372c4791fb40a%20%3D%20new%20L.RegularPolygonMarker%28%0A%20%20%20%20%20%20%20%20%20%20%20%20%20%20%20%20%5B47.24189459%2C%20-122.42051880000001%5D%2C%0A%20%20%20%20%20%20%20%20%20%20%20%20%20%20%20%20%7B%22bubblingMouseEvents%22%3A%20true%2C%20%22color%22%3A%20%22%233388ff%22%2C%20%22dashArray%22%3A%20null%2C%20%22dashOffset%22%3A%20null%2C%20%22fill%22%3A%20false%2C%20%22fillColor%22%3A%20%22%233388ff%22%2C%20%22fillOpacity%22%3A%200.2%2C%20%22fillRule%22%3A%20%22evenodd%22%2C%20%22lineCap%22%3A%20%22round%22%2C%20%22lineJoin%22%3A%20%22round%22%2C%20%22numberOfSides%22%3A%204%2C%20%22opacity%22%3A%201.0%2C%20%22radius%22%3A%204%2C%20%22rotation%22%3A%200%2C%20%22stroke%22%3A%20true%2C%20%22weight%22%3A%203%7D%0A%20%20%20%20%20%20%20%20%20%20%20%20%29.addTo%28map_58551aa13d3b4de2ba758d701b5ccdcf%29%3B%0A%20%20%20%20%20%20%20%20%0A%20%20%20%20%0A%20%20%20%20%20%20%20%20var%20popup_f99ab33b32f14c3ebe731f83846cbbdd%20%3D%20L.popup%28%7B%22maxWidth%22%3A%20%22100%25%22%7D%29%3B%0A%0A%20%20%20%20%20%20%20%20%0A%20%20%20%20%20%20%20%20%20%20%20%20var%20html_dea0e5ce66fe4366887115aa48ca6268%20%3D%20%24%28%60%3Cdiv%20id%3D%22html_dea0e5ce66fe4366887115aa48ca6268%22%20style%3D%22width%3A%20100.0%25%3B%20height%3A%20100.0%25%3B%22%3ETacoma%2C%20WA%3C/div%3E%60%29%5B0%5D%3B%0A%20%20%20%20%20%20%20%20%20%20%20%20popup_f99ab33b32f14c3ebe731f83846cbbdd.setContent%28html_dea0e5ce66fe4366887115aa48ca6268%29%3B%0A%20%20%20%20%20%20%20%20%0A%0A%20%20%20%20%20%20%20%20regular_polygon_marker_624bb8c034af4eed88a372c4791fb40a.bindPopup%28popup_f99ab33b32f14c3ebe731f83846cbbdd%29%0A%20%20%20%20%20%20%20%20%3B%0A%0A%20%20%20%20%20%20%20%20%0A%20%20%20%20%0A%20%20%20%20%0A%20%20%20%20%20%20%20%20%20%20%20%20var%20regular_polygon_marker_15589dc765ae45c8a7daf0b5818a42bb%20%3D%20new%20L.RegularPolygonMarker%28%0A%20%20%20%20%20%20%20%20%20%20%20%20%20%20%20%20%5B46.99127853%2C%20-122.79407379999999%5D%2C%0A%20%20%20%20%20%20%20%20%20%20%20%20%20%20%20%20%7B%22bubblingMouseEvents%22%3A%20true%2C%20%22color%22%3A%20%22%233388ff%22%2C%20%22dashArray%22%3A%20null%2C%20%22dashOffset%22%3A%20null%2C%20%22fill%22%3A%20false%2C%20%22fillColor%22%3A%20%22%233388ff%22%2C%20%22fillOpacity%22%3A%200.2%2C%20%22fillRule%22%3A%20%22evenodd%22%2C%20%22lineCap%22%3A%20%22round%22%2C%20%22lineJoin%22%3A%20%22round%22%2C%20%22numberOfSides%22%3A%204%2C%20%22opacity%22%3A%201.0%2C%20%22radius%22%3A%204%2C%20%22rotation%22%3A%200%2C%20%22stroke%22%3A%20true%2C%20%22weight%22%3A%203%7D%0A%20%20%20%20%20%20%20%20%20%20%20%20%29.addTo%28map_58551aa13d3b4de2ba758d701b5ccdcf%29%3B%0A%20%20%20%20%20%20%20%20%0A%20%20%20%20%0A%20%20%20%20%20%20%20%20var%20popup_dbde6230cbe6413fb19135051d8bbe33%20%3D%20L.popup%28%7B%22maxWidth%22%3A%20%22100%25%22%7D%29%3B%0A%0A%20%20%20%20%20%20%20%20%0A%20%20%20%20%20%20%20%20%20%20%20%20var%20html_77bd57888ee6422eab36d813a755a7a3%20%3D%20%24%28%60%3Cdiv%20id%3D%22html_77bd57888ee6422eab36d813a755a7a3%22%20style%3D%22width%3A%20100.0%25%3B%20height%3A%20100.0%25%3B%22%3EOlympia-Lacey%2C%20WA%3C/div%3E%60%29%5B0%5D%3B%0A%20%20%20%20%20%20%20%20%20%20%20%20popup_dbde6230cbe6413fb19135051d8bbe33.setContent%28html_77bd57888ee6422eab36d813a755a7a3%29%3B%0A%20%20%20%20%20%20%20%20%0A%0A%20%20%20%20%20%20%20%20regular_polygon_marker_15589dc765ae45c8a7daf0b5818a42bb.bindPopup%28popup_dbde6230cbe6413fb19135051d8bbe33%29%0A%20%20%20%20%20%20%20%20%3B%0A%0A%20%20%20%20%20%20%20%20%0A%20%20%20%20%0A%20%20%20%20%0A%20%20%20%20%20%20%20%20%20%20%20%20var%20regular_polygon_marker_81a889873d02436b96ba7d6e1babea1a%20%3D%20new%20L.RegularPolygonMarker%28%0A%20%20%20%20%20%20%20%20%20%20%20%20%20%20%20%20%5B46.7174755%2C%20-122.95307679999999%5D%2C%0A%20%20%20%20%20%20%20%20%20%20%20%20%20%20%20%20%7B%22bubblingMouseEvents%22%3A%20true%2C%20%22color%22%3A%20%22%233388ff%22%2C%20%22dashArray%22%3A%20null%2C%20%22dashOffset%22%3A%20null%2C%20%22fill%22%3A%20false%2C%20%22fillColor%22%3A%20%22%233388ff%22%2C%20%22fillOpacity%22%3A%200.2%2C%20%22fillRule%22%3A%20%22evenodd%22%2C%20%22lineCap%22%3A%20%22round%22%2C%20%22lineJoin%22%3A%20%22round%22%2C%20%22numberOfSides%22%3A%204%2C%20%22opacity%22%3A%201.0%2C%20%22radius%22%3A%204%2C%20%22rotation%22%3A%200%2C%20%22stroke%22%3A%20true%2C%20%22weight%22%3A%203%7D%0A%20%20%20%20%20%20%20%20%20%20%20%20%29.addTo%28map_58551aa13d3b4de2ba758d701b5ccdcf%29%3B%0A%20%20%20%20%20%20%20%20%0A%20%20%20%20%0A%20%20%20%20%20%20%20%20var%20popup_fafda1e666ef4e2a965808927d43a033%20%3D%20L.popup%28%7B%22maxWidth%22%3A%20%22100%25%22%7D%29%3B%0A%0A%20%20%20%20%20%20%20%20%0A%20%20%20%20%20%20%20%20%20%20%20%20var%20html_105e4154b7c6406eb2f25dd7e68582c9%20%3D%20%24%28%60%3Cdiv%20id%3D%22html_105e4154b7c6406eb2f25dd7e68582c9%22%20style%3D%22width%3A%20100.0%25%3B%20height%3A%20100.0%25%3B%22%3ECentralia%2C%20WA%3C/div%3E%60%29%5B0%5D%3B%0A%20%20%20%20%20%20%20%20%20%20%20%20popup_fafda1e666ef4e2a965808927d43a033.setContent%28html_105e4154b7c6406eb2f25dd7e68582c9%29%3B%0A%20%20%20%20%20%20%20%20%0A%0A%20%20%20%20%20%20%20%20regular_polygon_marker_81a889873d02436b96ba7d6e1babea1a.bindPopup%28popup_fafda1e666ef4e2a965808927d43a033%29%0A%20%20%20%20%20%20%20%20%3B%0A%0A%20%20%20%20%20%20%20%20%0A%20%20%20%20%0A%20%20%20%20%0A%20%20%20%20%20%20%20%20%20%20%20%20var%20regular_polygon_marker_dbab42c3dec84e678935f3070fce469a%20%3D%20new%20L.RegularPolygonMarker%28%0A%20%20%20%20%20%20%20%20%20%20%20%20%20%20%20%20%5B46.14226948%2C%20-122.91303070000001%5D%2C%0A%20%20%20%20%20%20%20%20%20%20%20%20%20%20%20%20%7B%22bubblingMouseEvents%22%3A%20true%2C%20%22color%22%3A%20%22%233388ff%22%2C%20%22dashArray%22%3A%20null%2C%20%22dashOffset%22%3A%20null%2C%20%22fill%22%3A%20false%2C%20%22fillColor%22%3A%20%22%233388ff%22%2C%20%22fillOpacity%22%3A%200.2%2C%20%22fillRule%22%3A%20%22evenodd%22%2C%20%22lineCap%22%3A%20%22round%22%2C%20%22lineJoin%22%3A%20%22round%22%2C%20%22numberOfSides%22%3A%204%2C%20%22opacity%22%3A%201.0%2C%20%22radius%22%3A%204%2C%20%22rotation%22%3A%200%2C%20%22stroke%22%3A%20true%2C%20%22weight%22%3A%203%7D%0A%20%20%20%20%20%20%20%20%20%20%20%20%29.addTo%28map_58551aa13d3b4de2ba758d701b5ccdcf%29%3B%0A%20%20%20%20%20%20%20%20%0A%20%20%20%20%0A%20%20%20%20%20%20%20%20var%20popup_27cbc85efeae4f75b0479c5fc0b6b8bb%20%3D%20L.popup%28%7B%22maxWidth%22%3A%20%22100%25%22%7D%29%3B%0A%0A%20%20%20%20%20%20%20%20%0A%20%20%20%20%20%20%20%20%20%20%20%20var%20html_f2c601c87411424981dc593774f7aa19%20%3D%20%24%28%60%3Cdiv%20id%3D%22html_f2c601c87411424981dc593774f7aa19%22%20style%3D%22width%3A%20100.0%25%3B%20height%3A%20100.0%25%3B%22%3EKelso-Longview%2C%20WA%3C/div%3E%60%29%5B0%5D%3B%0A%20%20%20%20%20%20%20%20%20%20%20%20popup_27cbc85efeae4f75b0479c5fc0b6b8bb.setContent%28html_f2c601c87411424981dc593774f7aa19%29%3B%0A%20%20%20%20%20%20%20%20%0A%0A%20%20%20%20%20%20%20%20regular_polygon_marker_dbab42c3dec84e678935f3070fce469a.bindPopup%28popup_27cbc85efeae4f75b0479c5fc0b6b8bb%29%0A%20%20%20%20%20%20%20%20%3B%0A%0A%20%20%20%20%20%20%20%20%0A%20%20%20%20%0A%20%20%20%20%0A%20%20%20%20%20%20%20%20%20%20%20%20var%20regular_polygon_marker_ff97dcca8dd844e1a6dd417923d99518%20%3D%20new%20L.RegularPolygonMarker%28%0A%20%20%20%20%20%20%20%20%20%20%20%20%20%20%20%20%5B45.62890647%2C%20-122.68655849999999%5D%2C%0A%20%20%20%20%20%20%20%20%20%20%20%20%20%20%20%20%7B%22bubblingMouseEvents%22%3A%20true%2C%20%22color%22%3A%20%22%233388ff%22%2C%20%22dashArray%22%3A%20null%2C%20%22dashOffset%22%3A%20null%2C%20%22fill%22%3A%20false%2C%20%22fillColor%22%3A%20%22%233388ff%22%2C%20%22fillOpacity%22%3A%200.2%2C%20%22fillRule%22%3A%20%22evenodd%22%2C%20%22lineCap%22%3A%20%22round%22%2C%20%22lineJoin%22%3A%20%22round%22%2C%20%22numberOfSides%22%3A%204%2C%20%22opacity%22%3A%201.0%2C%20%22radius%22%3A%204%2C%20%22rotation%22%3A%200%2C%20%22stroke%22%3A%20true%2C%20%22weight%22%3A%203%7D%0A%20%20%20%20%20%20%20%20%20%20%20%20%29.addTo%28map_58551aa13d3b4de2ba758d701b5ccdcf%29%3B%0A%20%20%20%20%20%20%20%20%0A%20%20%20%20%0A%20%20%20%20%20%20%20%20var%20popup_ead59a30d9af48f0b61107b23d074477%20%3D%20L.popup%28%7B%22maxWidth%22%3A%20%22100%25%22%7D%29%3B%0A%0A%20%20%20%20%20%20%20%20%0A%20%20%20%20%20%20%20%20%20%20%20%20var%20html_8f6f8c4206e74d1683b77b0c82ed216f%20%3D%20%24%28%60%3Cdiv%20id%3D%22html_8f6f8c4206e74d1683b77b0c82ed216f%22%20style%3D%22width%3A%20100.0%25%3B%20height%3A%20100.0%25%3B%22%3EVancouver%2C%20WA%3C/div%3E%60%29%5B0%5D%3B%0A%20%20%20%20%20%20%20%20%20%20%20%20popup_ead59a30d9af48f0b61107b23d074477.setContent%28html_8f6f8c4206e74d1683b77b0c82ed216f%29%3B%0A%20%20%20%20%20%20%20%20%0A%0A%20%20%20%20%20%20%20%20regular_polygon_marker_ff97dcca8dd844e1a6dd417923d99518.bindPopup%28popup_ead59a30d9af48f0b61107b23d074477%29%0A%20%20%20%20%20%20%20%20%3B%0A%0A%20%20%20%20%20%20%20%20%0A%20%20%20%20%0A%20%20%20%20%0A%20%20%20%20%20%20%20%20%20%20%20%20var%20regular_polygon_marker_2775a40f98ac4cbcae610cac98c202e2%20%3D%20new%20L.RegularPolygonMarker%28%0A%20%20%20%20%20%20%20%20%20%20%20%20%20%20%20%20%5B45.53051247%2C%20-122.6782215%5D%2C%0A%20%20%20%20%20%20%20%20%20%20%20%20%20%20%20%20%7B%22bubblingMouseEvents%22%3A%20true%2C%20%22color%22%3A%20%22%233388ff%22%2C%20%22dashArray%22%3A%20null%2C%20%22dashOffset%22%3A%20null%2C%20%22fill%22%3A%20false%2C%20%22fillColor%22%3A%20%22%233388ff%22%2C%20%22fillOpacity%22%3A%200.2%2C%20%22fillRule%22%3A%20%22evenodd%22%2C%20%22lineCap%22%3A%20%22round%22%2C%20%22lineJoin%22%3A%20%22round%22%2C%20%22numberOfSides%22%3A%204%2C%20%22opacity%22%3A%201.0%2C%20%22radius%22%3A%204%2C%20%22rotation%22%3A%200%2C%20%22stroke%22%3A%20true%2C%20%22weight%22%3A%203%7D%0A%20%20%20%20%20%20%20%20%20%20%20%20%29.addTo%28map_58551aa13d3b4de2ba758d701b5ccdcf%29%3B%0A%20%20%20%20%20%20%20%20%0A%20%20%20%20%0A%20%20%20%20%20%20%20%20var%20popup_363ea375c82141dba2a3829ba7ed05d4%20%3D%20L.popup%28%7B%22maxWidth%22%3A%20%22100%25%22%7D%29%3B%0A%0A%20%20%20%20%20%20%20%20%0A%20%20%20%20%20%20%20%20%20%20%20%20var%20html_23c8b6357fa9454b8786e70b9526a8ed%20%3D%20%24%28%60%3Cdiv%20id%3D%22html_23c8b6357fa9454b8786e70b9526a8ed%22%20style%3D%22width%3A%20100.0%25%3B%20height%3A%20100.0%25%3B%22%3EPortland%2C%20OR%3C/div%3E%60%29%5B0%5D%3B%0A%20%20%20%20%20%20%20%20%20%20%20%20popup_363ea375c82141dba2a3829ba7ed05d4.setContent%28html_23c8b6357fa9454b8786e70b9526a8ed%29%3B%0A%20%20%20%20%20%20%20%20%0A%0A%20%20%20%20%20%20%20%20regular_polygon_marker_2775a40f98ac4cbcae610cac98c202e2.bindPopup%28popup_363ea375c82141dba2a3829ba7ed05d4%29%0A%20%20%20%20%20%20%20%20%3B%0A%0A%20%20%20%20%20%20%20%20%0A%20%20%20%20%0A%20%20%20%20%0A%20%20%20%20%20%20%20%20%20%20%20%20var%20regular_polygon_marker_6be91eb6a3e348c4b89200279bbded02%20%3D%20new%20L.RegularPolygonMarker%28%0A%20%20%20%20%20%20%20%20%20%20%20%20%20%20%20%20%5B45.53051247%2C%20-122.6782215%5D%2C%0A%20%20%20%20%20%20%20%20%20%20%20%20%20%20%20%20%7B%22bubblingMouseEvents%22%3A%20true%2C%20%22color%22%3A%20%22%233388ff%22%2C%20%22dashArray%22%3A%20null%2C%20%22dashOffset%22%3A%20null%2C%20%22fill%22%3A%20false%2C%20%22fillColor%22%3A%20%22%233388ff%22%2C%20%22fillOpacity%22%3A%200.2%2C%20%22fillRule%22%3A%20%22evenodd%22%2C%20%22lineCap%22%3A%20%22round%22%2C%20%22lineJoin%22%3A%20%22round%22%2C%20%22numberOfSides%22%3A%204%2C%20%22opacity%22%3A%201.0%2C%20%22radius%22%3A%204%2C%20%22rotation%22%3A%200%2C%20%22stroke%22%3A%20true%2C%20%22weight%22%3A%203%7D%0A%20%20%20%20%20%20%20%20%20%20%20%20%29.addTo%28map_58551aa13d3b4de2ba758d701b5ccdcf%29%3B%0A%20%20%20%20%20%20%20%20%0A%20%20%20%20%0A%20%20%20%20%20%20%20%20var%20popup_eda2b638548e4832a6064b142b68d20a%20%3D%20L.popup%28%7B%22maxWidth%22%3A%20%22100%25%22%7D%29%3B%0A%0A%20%20%20%20%20%20%20%20%0A%20%20%20%20%20%20%20%20%20%20%20%20var%20html_69ec6ee9012b42608f6afe63663db6c7%20%3D%20%24%28%60%3Cdiv%20id%3D%22html_69ec6ee9012b42608f6afe63663db6c7%22%20style%3D%22width%3A%20100.0%25%3B%20height%3A%20100.0%25%3B%22%3EPortland%2C%20OR%3C/div%3E%60%29%5B0%5D%3B%0A%20%20%20%20%20%20%20%20%20%20%20%20popup_eda2b638548e4832a6064b142b68d20a.setContent%28html_69ec6ee9012b42608f6afe63663db6c7%29%3B%0A%20%20%20%20%20%20%20%20%0A%0A%20%20%20%20%20%20%20%20regular_polygon_marker_6be91eb6a3e348c4b89200279bbded02.bindPopup%28popup_eda2b638548e4832a6064b142b68d20a%29%0A%20%20%20%20%20%20%20%20%3B%0A%0A%20%20%20%20%20%20%20%20%0A%20%20%20%20%0A%20%20%20%20%0A%20%20%20%20%20%20%20%20%20%20%20%20var%20regular_polygon_marker_9b64e9e276384efca324fe212a4d00af%20%3D%20new%20L.RegularPolygonMarker%28%0A%20%20%20%20%20%20%20%20%20%20%20%20%20%20%20%20%5B44.94110839%2C%20-123.03560039999999%5D%2C%0A%20%20%20%20%20%20%20%20%20%20%20%20%20%20%20%20%7B%22bubblingMouseEvents%22%3A%20true%2C%20%22color%22%3A%20%22%233388ff%22%2C%20%22dashArray%22%3A%20null%2C%20%22dashOffset%22%3A%20null%2C%20%22fill%22%3A%20false%2C%20%22fillColor%22%3A%20%22%233388ff%22%2C%20%22fillOpacity%22%3A%200.2%2C%20%22fillRule%22%3A%20%22evenodd%22%2C%20%22lineCap%22%3A%20%22round%22%2C%20%22lineJoin%22%3A%20%22round%22%2C%20%22numberOfSides%22%3A%204%2C%20%22opacity%22%3A%201.0%2C%20%22radius%22%3A%204%2C%20%22rotation%22%3A%200%2C%20%22stroke%22%3A%20true%2C%20%22weight%22%3A%203%7D%0A%20%20%20%20%20%20%20%20%20%20%20%20%29.addTo%28map_58551aa13d3b4de2ba758d701b5ccdcf%29%3B%0A%20%20%20%20%20%20%20%20%0A%20%20%20%20%0A%20%20%20%20%20%20%20%20var%20popup_9af1f2c3fb584449b45d78e111fbcef9%20%3D%20L.popup%28%7B%22maxWidth%22%3A%20%22100%25%22%7D%29%3B%0A%0A%20%20%20%20%20%20%20%20%0A%20%20%20%20%20%20%20%20%20%20%20%20var%20html_30507a545b454ed8aadf8a4027724962%20%3D%20%24%28%60%3Cdiv%20id%3D%22html_30507a545b454ed8aadf8a4027724962%22%20style%3D%22width%3A%20100.0%25%3B%20height%3A%20100.0%25%3B%22%3ESalem%2C%20OR%3C/div%3E%60%29%5B0%5D%3B%0A%20%20%20%20%20%20%20%20%20%20%20%20popup_9af1f2c3fb584449b45d78e111fbcef9.setContent%28html_30507a545b454ed8aadf8a4027724962%29%3B%0A%20%20%20%20%20%20%20%20%0A%0A%20%20%20%20%20%20%20%20regular_polygon_marker_9b64e9e276384efca324fe212a4d00af.bindPopup%28popup_9af1f2c3fb584449b45d78e111fbcef9%29%0A%20%20%20%20%20%20%20%20%3B%0A%0A%20%20%20%20%20%20%20%20%0A%20%20%20%20%0A%20%20%20%20%0A%20%20%20%20%20%20%20%20%20%20%20%20var%20regular_polygon_marker_54c4fb3cf8504f53b933e508627355e0%20%3D%20new%20L.RegularPolygonMarker%28%0A%20%20%20%20%20%20%20%20%20%20%20%20%20%20%20%20%5B44.63046937%2C%20-123.10278840000001%5D%2C%0A%20%20%20%20%20%20%20%20%20%20%20%20%20%20%20%20%7B%22bubblingMouseEvents%22%3A%20true%2C%20%22color%22%3A%20%22%233388ff%22%2C%20%22dashArray%22%3A%20null%2C%20%22dashOffset%22%3A%20null%2C%20%22fill%22%3A%20false%2C%20%22fillColor%22%3A%20%22%233388ff%22%2C%20%22fillOpacity%22%3A%200.2%2C%20%22fillRule%22%3A%20%22evenodd%22%2C%20%22lineCap%22%3A%20%22round%22%2C%20%22lineJoin%22%3A%20%22round%22%2C%20%22numberOfSides%22%3A%204%2C%20%22opacity%22%3A%201.0%2C%20%22radius%22%3A%204%2C%20%22rotation%22%3A%200%2C%20%22stroke%22%3A%20true%2C%20%22weight%22%3A%203%7D%0A%20%20%20%20%20%20%20%20%20%20%20%20%29.addTo%28map_58551aa13d3b4de2ba758d701b5ccdcf%29%3B%0A%20%20%20%20%20%20%20%20%0A%20%20%20%20%0A%20%20%20%20%20%20%20%20var%20popup_e7e37241af3d450db140ddacced9681f%20%3D%20L.popup%28%7B%22maxWidth%22%3A%20%22100%25%22%7D%29%3B%0A%0A%20%20%20%20%20%20%20%20%0A%20%20%20%20%20%20%20%20%20%20%20%20var%20html_aa1b0d1a9909414d82699d3e4c15edaf%20%3D%20%24%28%60%3Cdiv%20id%3D%22html_aa1b0d1a9909414d82699d3e4c15edaf%22%20style%3D%22width%3A%20100.0%25%3B%20height%3A%20100.0%25%3B%22%3EAlbany%2C%20OR%3C/div%3E%60%29%5B0%5D%3B%0A%20%20%20%20%20%20%20%20%20%20%20%20popup_e7e37241af3d450db140ddacced9681f.setContent%28html_aa1b0d1a9909414d82699d3e4c15edaf%29%3B%0A%20%20%20%20%20%20%20%20%0A%0A%20%20%20%20%20%20%20%20regular_polygon_marker_54c4fb3cf8504f53b933e508627355e0.bindPopup%28popup_e7e37241af3d450db140ddacced9681f%29%0A%20%20%20%20%20%20%20%20%3B%0A%0A%20%20%20%20%20%20%20%20%0A%20%20%20%20%0A%20%20%20%20%0A%20%20%20%20%20%20%20%20%20%20%20%20var%20regular_polygon_marker_5b158bc0fd7a48ec96454a6f1de8f43c%20%3D%20new%20L.RegularPolygonMarker%28%0A%20%20%20%20%20%20%20%20%20%20%20%20%20%20%20%20%5B44.04279234%2C%20-123.0696423%5D%2C%0A%20%20%20%20%20%20%20%20%20%20%20%20%20%20%20%20%7B%22bubblingMouseEvents%22%3A%20true%2C%20%22color%22%3A%20%22%233388ff%22%2C%20%22dashArray%22%3A%20null%2C%20%22dashOffset%22%3A%20null%2C%20%22fill%22%3A%20false%2C%20%22fillColor%22%3A%20%22%233388ff%22%2C%20%22fillOpacity%22%3A%200.2%2C%20%22fillRule%22%3A%20%22evenodd%22%2C%20%22lineCap%22%3A%20%22round%22%2C%20%22lineJoin%22%3A%20%22round%22%2C%20%22numberOfSides%22%3A%204%2C%20%22opacity%22%3A%201.0%2C%20%22radius%22%3A%204%2C%20%22rotation%22%3A%200%2C%20%22stroke%22%3A%20true%2C%20%22weight%22%3A%203%7D%0A%20%20%20%20%20%20%20%20%20%20%20%20%29.addTo%28map_58551aa13d3b4de2ba758d701b5ccdcf%29%3B%0A%20%20%20%20%20%20%20%20%0A%20%20%20%20%0A%20%20%20%20%20%20%20%20var%20popup_125c0e200c374100a16847e81a8cdcfd%20%3D%20L.popup%28%7B%22maxWidth%22%3A%20%22100%25%22%7D%29%3B%0A%0A%20%20%20%20%20%20%20%20%0A%20%20%20%20%20%20%20%20%20%20%20%20var%20html_e3ed19fc49b84dc5ae658b01a1555f0e%20%3D%20%24%28%60%3Cdiv%20id%3D%22html_e3ed19fc49b84dc5ae658b01a1555f0e%22%20style%3D%22width%3A%20100.0%25%3B%20height%3A%20100.0%25%3B%22%3EEugene%2C%20OR%3C/div%3E%60%29%5B0%5D%3B%0A%20%20%20%20%20%20%20%20%20%20%20%20popup_125c0e200c374100a16847e81a8cdcfd.setContent%28html_e3ed19fc49b84dc5ae658b01a1555f0e%29%3B%0A%20%20%20%20%20%20%20%20%0A%0A%20%20%20%20%20%20%20%20regular_polygon_marker_5b158bc0fd7a48ec96454a6f1de8f43c.bindPopup%28popup_125c0e200c374100a16847e81a8cdcfd%29%0A%20%20%20%20%20%20%20%20%3B%0A%0A%20%20%20%20%20%20%20%20%0A%20%20%20%20%0A%20%20%20%20%0A%20%20%20%20%20%20%20%20%20%20%20%20var%20regular_polygon_marker_bf6957db2e3148e1bb5f2416172f77e4%20%3D%20new%20L.RegularPolygonMarker%28%0A%20%20%20%20%20%20%20%20%20%20%20%20%20%20%20%20%5B43.21678941%2C%20-121.78160790000001%5D%2C%0A%20%20%20%20%20%20%20%20%20%20%20%20%20%20%20%20%7B%22bubblingMouseEvents%22%3A%20true%2C%20%22color%22%3A%20%22%233388ff%22%2C%20%22dashArray%22%3A%20null%2C%20%22dashOffset%22%3A%20null%2C%20%22fill%22%3A%20false%2C%20%22fillColor%22%3A%20%22%233388ff%22%2C%20%22fillOpacity%22%3A%200.2%2C%20%22fillRule%22%3A%20%22evenodd%22%2C%20%22lineCap%22%3A%20%22round%22%2C%20%22lineJoin%22%3A%20%22round%22%2C%20%22numberOfSides%22%3A%204%2C%20%22opacity%22%3A%201.0%2C%20%22radius%22%3A%204%2C%20%22rotation%22%3A%200%2C%20%22stroke%22%3A%20true%2C%20%22weight%22%3A%203%7D%0A%20%20%20%20%20%20%20%20%20%20%20%20%29.addTo%28map_58551aa13d3b4de2ba758d701b5ccdcf%29%3B%0A%20%20%20%20%20%20%20%20%0A%20%20%20%20%0A%20%20%20%20%20%20%20%20var%20popup_9f3a67bec64946f5837d80ec5da49a84%20%3D%20L.popup%28%7B%22maxWidth%22%3A%20%22100%25%22%7D%29%3B%0A%0A%20%20%20%20%20%20%20%20%0A%20%20%20%20%20%20%20%20%20%20%20%20var%20html_bc83fc22eb5c41e197d4268007502f05%20%3D%20%24%28%60%3Cdiv%20id%3D%22html_bc83fc22eb5c41e197d4268007502f05%22%20style%3D%22width%3A%20100.0%25%3B%20height%3A%20100.0%25%3B%22%3EChemult%2C%20OR%3C/div%3E%60%29%5B0%5D%3B%0A%20%20%20%20%20%20%20%20%20%20%20%20popup_9f3a67bec64946f5837d80ec5da49a84.setContent%28html_bc83fc22eb5c41e197d4268007502f05%29%3B%0A%20%20%20%20%20%20%20%20%0A%0A%20%20%20%20%20%20%20%20regular_polygon_marker_bf6957db2e3148e1bb5f2416172f77e4.bindPopup%28popup_9f3a67bec64946f5837d80ec5da49a84%29%0A%20%20%20%20%20%20%20%20%3B%0A%0A%20%20%20%20%20%20%20%20%0A%20%20%20%20%0A%20%20%20%20%0A%20%20%20%20%20%20%20%20%20%20%20%20var%20regular_polygon_marker_3b518a2b690c45c5886c7957dd3df7ce%20%3D%20new%20L.RegularPolygonMarker%28%0A%20%20%20%20%20%20%20%20%20%20%20%20%20%20%20%20%5B42.22551434%2C%20-121.77196570000001%5D%2C%0A%20%20%20%20%20%20%20%20%20%20%20%20%20%20%20%20%7B%22bubblingMouseEvents%22%3A%20true%2C%20%22color%22%3A%20%22%233388ff%22%2C%20%22dashArray%22%3A%20null%2C%20%22dashOffset%22%3A%20null%2C%20%22fill%22%3A%20false%2C%20%22fillColor%22%3A%20%22%233388ff%22%2C%20%22fillOpacity%22%3A%200.2%2C%20%22fillRule%22%3A%20%22evenodd%22%2C%20%22lineCap%22%3A%20%22round%22%2C%20%22lineJoin%22%3A%20%22round%22%2C%20%22numberOfSides%22%3A%204%2C%20%22opacity%22%3A%201.0%2C%20%22radius%22%3A%204%2C%20%22rotation%22%3A%200%2C%20%22stroke%22%3A%20true%2C%20%22weight%22%3A%203%7D%0A%20%20%20%20%20%20%20%20%20%20%20%20%29.addTo%28map_58551aa13d3b4de2ba758d701b5ccdcf%29%3B%0A%20%20%20%20%20%20%20%20%0A%20%20%20%20%0A%20%20%20%20%20%20%20%20var%20popup_00ba1a15e9984320a9a9547d2107c379%20%3D%20L.popup%28%7B%22maxWidth%22%3A%20%22100%25%22%7D%29%3B%0A%0A%20%20%20%20%20%20%20%20%0A%20%20%20%20%20%20%20%20%20%20%20%20var%20html_f2dd06abd2ed4d4f97fa4fef5c2416ff%20%3D%20%24%28%60%3Cdiv%20id%3D%22html_f2dd06abd2ed4d4f97fa4fef5c2416ff%22%20style%3D%22width%3A%20100.0%25%3B%20height%3A%20100.0%25%3B%22%3EKlamath%20Falls%2C%20OR%3C/div%3E%60%29%5B0%5D%3B%0A%20%20%20%20%20%20%20%20%20%20%20%20popup_00ba1a15e9984320a9a9547d2107c379.setContent%28html_f2dd06abd2ed4d4f97fa4fef5c2416ff%29%3B%0A%20%20%20%20%20%20%20%20%0A%0A%20%20%20%20%20%20%20%20regular_polygon_marker_3b518a2b690c45c5886c7957dd3df7ce.bindPopup%28popup_00ba1a15e9984320a9a9547d2107c379%29%0A%20%20%20%20%20%20%20%20%3B%0A%0A%20%20%20%20%20%20%20%20%0A%20%20%20%20%0A%20%20%20%20%0A%20%20%20%20%20%20%20%20%20%20%20%20var%20regular_polygon_marker_1888f12b1f944f9f829eccd8d93991fb%20%3D%20new%20L.RegularPolygonMarker%28%0A%20%20%20%20%20%20%20%20%20%20%20%20%20%20%20%20%5B41.21113222%2C%20-122.2706007%5D%2C%0A%20%20%20%20%20%20%20%20%20%20%20%20%20%20%20%20%7B%22bubblingMouseEvents%22%3A%20true%2C%20%22color%22%3A%20%22%233388ff%22%2C%20%22dashArray%22%3A%20null%2C%20%22dashOffset%22%3A%20null%2C%20%22fill%22%3A%20false%2C%20%22fillColor%22%3A%20%22%233388ff%22%2C%20%22fillOpacity%22%3A%200.2%2C%20%22fillRule%22%3A%20%22evenodd%22%2C%20%22lineCap%22%3A%20%22round%22%2C%20%22lineJoin%22%3A%20%22round%22%2C%20%22numberOfSides%22%3A%204%2C%20%22opacity%22%3A%201.0%2C%20%22radius%22%3A%204%2C%20%22rotation%22%3A%200%2C%20%22stroke%22%3A%20true%2C%20%22weight%22%3A%203%7D%0A%20%20%20%20%20%20%20%20%20%20%20%20%29.addTo%28map_58551aa13d3b4de2ba758d701b5ccdcf%29%3B%0A%20%20%20%20%20%20%20%20%0A%20%20%20%20%0A%20%20%20%20%20%20%20%20var%20popup_27a44fce6ce8490183b316583b081a1f%20%3D%20L.popup%28%7B%22maxWidth%22%3A%20%22100%25%22%7D%29%3B%0A%0A%20%20%20%20%20%20%20%20%0A%20%20%20%20%20%20%20%20%20%20%20%20var%20html_ae005e8b8ad84ab694ed1cfc7a31adab%20%3D%20%24%28%60%3Cdiv%20id%3D%22html_ae005e8b8ad84ab694ed1cfc7a31adab%22%20style%3D%22width%3A%20100.0%25%3B%20height%3A%20100.0%25%3B%22%3EDunsmuir%2C%20CA%3C/div%3E%60%29%5B0%5D%3B%0A%20%20%20%20%20%20%20%20%20%20%20%20popup_27a44fce6ce8490183b316583b081a1f.setContent%28html_ae005e8b8ad84ab694ed1cfc7a31adab%29%3B%0A%20%20%20%20%20%20%20%20%0A%0A%20%20%20%20%20%20%20%20regular_polygon_marker_1888f12b1f944f9f829eccd8d93991fb.bindPopup%28popup_27a44fce6ce8490183b316583b081a1f%29%0A%20%20%20%20%20%20%20%20%3B%0A%0A%20%20%20%20%20%20%20%20%0A%20%20%20%20%0A%20%20%20%20%0A%20%20%20%20%20%20%20%20%20%20%20%20var%20regular_polygon_marker_6e2b7ff780304836b5c4c8f084a03458%20%3D%20new%20L.RegularPolygonMarker%28%0A%20%20%20%20%20%20%20%20%20%20%20%20%20%20%20%20%5B40.58352617%2C%20-122.39278159999999%5D%2C%0A%20%20%20%20%20%20%20%20%20%20%20%20%20%20%20%20%7B%22bubblingMouseEvents%22%3A%20true%2C%20%22color%22%3A%20%22%233388ff%22%2C%20%22dashArray%22%3A%20null%2C%20%22dashOffset%22%3A%20null%2C%20%22fill%22%3A%20false%2C%20%22fillColor%22%3A%20%22%233388ff%22%2C%20%22fillOpacity%22%3A%200.2%2C%20%22fillRule%22%3A%20%22evenodd%22%2C%20%22lineCap%22%3A%20%22round%22%2C%20%22lineJoin%22%3A%20%22round%22%2C%20%22numberOfSides%22%3A%204%2C%20%22opacity%22%3A%201.0%2C%20%22radius%22%3A%204%2C%20%22rotation%22%3A%200%2C%20%22stroke%22%3A%20true%2C%20%22weight%22%3A%203%7D%0A%20%20%20%20%20%20%20%20%20%20%20%20%29.addTo%28map_58551aa13d3b4de2ba758d701b5ccdcf%29%3B%0A%20%20%20%20%20%20%20%20%0A%20%20%20%20%0A%20%20%20%20%20%20%20%20var%20popup_5eb64c04111b48ef9fbfbb623ed01891%20%3D%20L.popup%28%7B%22maxWidth%22%3A%20%22100%25%22%7D%29%3B%0A%0A%20%20%20%20%20%20%20%20%0A%20%20%20%20%20%20%20%20%20%20%20%20var%20html_fa391cd711ca4cc7827eb93972f0cf0b%20%3D%20%24%28%60%3Cdiv%20id%3D%22html_fa391cd711ca4cc7827eb93972f0cf0b%22%20style%3D%22width%3A%20100.0%25%3B%20height%3A%20100.0%25%3B%22%3ERedding%2C%20CA%3C/div%3E%60%29%5B0%5D%3B%0A%20%20%20%20%20%20%20%20%20%20%20%20popup_5eb64c04111b48ef9fbfbb623ed01891.setContent%28html_fa391cd711ca4cc7827eb93972f0cf0b%29%3B%0A%20%20%20%20%20%20%20%20%0A%0A%20%20%20%20%20%20%20%20regular_polygon_marker_6e2b7ff780304836b5c4c8f084a03458.bindPopup%28popup_5eb64c04111b48ef9fbfbb623ed01891%29%0A%20%20%20%20%20%20%20%20%3B%0A%0A%20%20%20%20%20%20%20%20%0A%20%20%20%20%0A%20%20%20%20%0A%20%20%20%20%20%20%20%20%20%20%20%20var%20regular_polygon_marker_5e175cb6a47e471298dc92c1c427ed1a%20%3D%20new%20L.RegularPolygonMarker%28%0A%20%20%20%20%20%20%20%20%20%20%20%20%20%20%20%20%5B39.72326414%2C%20-121.8458744%5D%2C%0A%20%20%20%20%20%20%20%20%20%20%20%20%20%20%20%20%7B%22bubblingMouseEvents%22%3A%20true%2C%20%22color%22%3A%20%22%233388ff%22%2C%20%22dashArray%22%3A%20null%2C%20%22dashOffset%22%3A%20null%2C%20%22fill%22%3A%20false%2C%20%22fillColor%22%3A%20%22%233388ff%22%2C%20%22fillOpacity%22%3A%200.2%2C%20%22fillRule%22%3A%20%22evenodd%22%2C%20%22lineCap%22%3A%20%22round%22%2C%20%22lineJoin%22%3A%20%22round%22%2C%20%22numberOfSides%22%3A%204%2C%20%22opacity%22%3A%201.0%2C%20%22radius%22%3A%204%2C%20%22rotation%22%3A%200%2C%20%22stroke%22%3A%20true%2C%20%22weight%22%3A%203%7D%0A%20%20%20%20%20%20%20%20%20%20%20%20%29.addTo%28map_58551aa13d3b4de2ba758d701b5ccdcf%29%3B%0A%20%20%20%20%20%20%20%20%0A%20%20%20%20%0A%20%20%20%20%20%20%20%20var%20popup_8bdf81248d6844959b97d4ddec7915bd%20%3D%20L.popup%28%7B%22maxWidth%22%3A%20%22100%25%22%7D%29%3B%0A%0A%20%20%20%20%20%20%20%20%0A%20%20%20%20%20%20%20%20%20%20%20%20var%20html_c8b4857786ea42309abb8fadc8f33004%20%3D%20%24%28%60%3Cdiv%20id%3D%22html_c8b4857786ea42309abb8fadc8f33004%22%20style%3D%22width%3A%20100.0%25%3B%20height%3A%20100.0%25%3B%22%3EChico%2C%20CA%3C/div%3E%60%29%5B0%5D%3B%0A%20%20%20%20%20%20%20%20%20%20%20%20popup_8bdf81248d6844959b97d4ddec7915bd.setContent%28html_c8b4857786ea42309abb8fadc8f33004%29%3B%0A%20%20%20%20%20%20%20%20%0A%0A%20%20%20%20%20%20%20%20regular_polygon_marker_5e175cb6a47e471298dc92c1c427ed1a.bindPopup%28popup_8bdf81248d6844959b97d4ddec7915bd%29%0A%20%20%20%20%20%20%20%20%3B%0A%0A%20%20%20%20%20%20%20%20%0A%20%20%20%20%0A%20%20%20%20%0A%20%20%20%20%20%20%20%20%20%20%20%20var%20regular_polygon_marker_4551c3b2eadc4e1f8459fc03033c615c%20%3D%20new%20L.RegularPolygonMarker%28%0A%20%20%20%20%20%20%20%20%20%20%20%20%20%20%20%20%5B38.58400908%2C%20-121.5007172%5D%2C%0A%20%20%20%20%20%20%20%20%20%20%20%20%20%20%20%20%7B%22bubblingMouseEvents%22%3A%20true%2C%20%22color%22%3A%20%22%233388ff%22%2C%20%22dashArray%22%3A%20null%2C%20%22dashOffset%22%3A%20null%2C%20%22fill%22%3A%20false%2C%20%22fillColor%22%3A%20%22%233388ff%22%2C%20%22fillOpacity%22%3A%200.2%2C%20%22fillRule%22%3A%20%22evenodd%22%2C%20%22lineCap%22%3A%20%22round%22%2C%20%22lineJoin%22%3A%20%22round%22%2C%20%22numberOfSides%22%3A%204%2C%20%22opacity%22%3A%201.0%2C%20%22radius%22%3A%204%2C%20%22rotation%22%3A%200%2C%20%22stroke%22%3A%20true%2C%20%22weight%22%3A%203%7D%0A%20%20%20%20%20%20%20%20%20%20%20%20%29.addTo%28map_58551aa13d3b4de2ba758d701b5ccdcf%29%3B%0A%20%20%20%20%20%20%20%20%0A%20%20%20%20%0A%20%20%20%20%20%20%20%20var%20popup_1506f2831428483d9104a6e9ab655bd3%20%3D%20L.popup%28%7B%22maxWidth%22%3A%20%22100%25%22%7D%29%3B%0A%0A%20%20%20%20%20%20%20%20%0A%20%20%20%20%20%20%20%20%20%20%20%20var%20html_f86d8be9ad3942b5b2855eaa0d4f912e%20%3D%20%24%28%60%3Cdiv%20id%3D%22html_f86d8be9ad3942b5b2855eaa0d4f912e%22%20style%3D%22width%3A%20100.0%25%3B%20height%3A%20100.0%25%3B%22%3ESacramento%2C%20CA%3C/div%3E%60%29%5B0%5D%3B%0A%20%20%20%20%20%20%20%20%20%20%20%20popup_1506f2831428483d9104a6e9ab655bd3.setContent%28html_f86d8be9ad3942b5b2855eaa0d4f912e%29%3B%0A%20%20%20%20%20%20%20%20%0A%0A%20%20%20%20%20%20%20%20regular_polygon_marker_4551c3b2eadc4e1f8459fc03033c615c.bindPopup%28popup_1506f2831428483d9104a6e9ab655bd3%29%0A%20%20%20%20%20%20%20%20%3B%0A%0A%20%20%20%20%20%20%20%20%0A%20%20%20%20%0A%20%20%20%20%0A%20%20%20%20%20%20%20%20%20%20%20%20var%20regular_polygon_marker_a2b866dc71a443f1ba0c38a90ec5980d%20%3D%20new%20L.RegularPolygonMarker%28%0A%20%20%20%20%20%20%20%20%20%20%20%20%20%20%20%20%5B38.54356706%2C%20-121.7377202%5D%2C%0A%20%20%20%20%20%20%20%20%20%20%20%20%20%20%20%20%7B%22bubblingMouseEvents%22%3A%20true%2C%20%22color%22%3A%20%22%233388ff%22%2C%20%22dashArray%22%3A%20null%2C%20%22dashOffset%22%3A%20null%2C%20%22fill%22%3A%20false%2C%20%22fillColor%22%3A%20%22%233388ff%22%2C%20%22fillOpacity%22%3A%200.2%2C%20%22fillRule%22%3A%20%22evenodd%22%2C%20%22lineCap%22%3A%20%22round%22%2C%20%22lineJoin%22%3A%20%22round%22%2C%20%22numberOfSides%22%3A%204%2C%20%22opacity%22%3A%201.0%2C%20%22radius%22%3A%204%2C%20%22rotation%22%3A%200%2C%20%22stroke%22%3A%20true%2C%20%22weight%22%3A%203%7D%0A%20%20%20%20%20%20%20%20%20%20%20%20%29.addTo%28map_58551aa13d3b4de2ba758d701b5ccdcf%29%3B%0A%20%20%20%20%20%20%20%20%0A%20%20%20%20%0A%20%20%20%20%20%20%20%20var%20popup_2cfddc444c1840d8bfe0aad89f86cf2d%20%3D%20L.popup%28%7B%22maxWidth%22%3A%20%22100%25%22%7D%29%3B%0A%0A%20%20%20%20%20%20%20%20%0A%20%20%20%20%20%20%20%20%20%20%20%20var%20html_69de1608796741138a559a02f7899de0%20%3D%20%24%28%60%3Cdiv%20id%3D%22html_69de1608796741138a559a02f7899de0%22%20style%3D%22width%3A%20100.0%25%3B%20height%3A%20100.0%25%3B%22%3EDavis%2C%20CA%3C/div%3E%60%29%5B0%5D%3B%0A%20%20%20%20%20%20%20%20%20%20%20%20popup_2cfddc444c1840d8bfe0aad89f86cf2d.setContent%28html_69de1608796741138a559a02f7899de0%29%3B%0A%20%20%20%20%20%20%20%20%0A%0A%20%20%20%20%20%20%20%20regular_polygon_marker_a2b866dc71a443f1ba0c38a90ec5980d.bindPopup%28popup_2cfddc444c1840d8bfe0aad89f86cf2d%29%0A%20%20%20%20%20%20%20%20%3B%0A%0A%20%20%20%20%20%20%20%20%0A%20%20%20%20%0A%20%20%20%20%0A%20%20%20%20%20%20%20%20%20%20%20%20var%20regular_polygon_marker_cf1d72df22e1471a8b6a816907f1fc31%20%3D%20new%20L.RegularPolygonMarker%28%0A%20%20%20%20%20%20%20%20%20%20%20%20%20%20%20%20%5B38.01892598%2C%20-122.13879720000001%5D%2C%0A%20%20%20%20%20%20%20%20%20%20%20%20%20%20%20%20%7B%22bubblingMouseEvents%22%3A%20true%2C%20%22color%22%3A%20%22%233388ff%22%2C%20%22dashArray%22%3A%20null%2C%20%22dashOffset%22%3A%20null%2C%20%22fill%22%3A%20false%2C%20%22fillColor%22%3A%20%22%233388ff%22%2C%20%22fillOpacity%22%3A%200.2%2C%20%22fillRule%22%3A%20%22evenodd%22%2C%20%22lineCap%22%3A%20%22round%22%2C%20%22lineJoin%22%3A%20%22round%22%2C%20%22numberOfSides%22%3A%204%2C%20%22opacity%22%3A%201.0%2C%20%22radius%22%3A%204%2C%20%22rotation%22%3A%200%2C%20%22stroke%22%3A%20true%2C%20%22weight%22%3A%203%7D%0A%20%20%20%20%20%20%20%20%20%20%20%20%29.addTo%28map_58551aa13d3b4de2ba758d701b5ccdcf%29%3B%0A%20%20%20%20%20%20%20%20%0A%20%20%20%20%0A%20%20%20%20%20%20%20%20var%20popup_a1931cfaeef1466fb660984fa3b95fdc%20%3D%20L.popup%28%7B%22maxWidth%22%3A%20%22100%25%22%7D%29%3B%0A%0A%20%20%20%20%20%20%20%20%0A%20%20%20%20%20%20%20%20%20%20%20%20var%20html_a574c6cac26d40dd81ca91ea6e009282%20%3D%20%24%28%60%3Cdiv%20id%3D%22html_a574c6cac26d40dd81ca91ea6e009282%22%20style%3D%22width%3A%20100.0%25%3B%20height%3A%20100.0%25%3B%22%3EMartinez%2C%20CA%3C/div%3E%60%29%5B0%5D%3B%0A%20%20%20%20%20%20%20%20%20%20%20%20popup_a1931cfaeef1466fb660984fa3b95fdc.setContent%28html_a574c6cac26d40dd81ca91ea6e009282%29%3B%0A%20%20%20%20%20%20%20%20%0A%0A%20%20%20%20%20%20%20%20regular_polygon_marker_cf1d72df22e1471a8b6a816907f1fc31.bindPopup%28popup_a1931cfaeef1466fb660984fa3b95fdc%29%0A%20%20%20%20%20%20%20%20%3B%0A%0A%20%20%20%20%20%20%20%20%0A%20%20%20%20%0A%20%20%20%20%0A%20%20%20%20%20%20%20%20%20%20%20%20var%20regular_polygon_marker_e6cba7c0ecc9473bad13888a6402e1a1%20%3D%20new%20L.RegularPolygonMarker%28%0A%20%20%20%20%20%20%20%20%20%20%20%20%20%20%20%20%5B37.84047896%2C%20-122.2916282%5D%2C%0A%20%20%20%20%20%20%20%20%20%20%20%20%20%20%20%20%7B%22bubblingMouseEvents%22%3A%20true%2C%20%22color%22%3A%20%22%233388ff%22%2C%20%22dashArray%22%3A%20null%2C%20%22dashOffset%22%3A%20null%2C%20%22fill%22%3A%20false%2C%20%22fillColor%22%3A%20%22%233388ff%22%2C%20%22fillOpacity%22%3A%200.2%2C%20%22fillRule%22%3A%20%22evenodd%22%2C%20%22lineCap%22%3A%20%22round%22%2C%20%22lineJoin%22%3A%20%22round%22%2C%20%22numberOfSides%22%3A%204%2C%20%22opacity%22%3A%201.0%2C%20%22radius%22%3A%204%2C%20%22rotation%22%3A%200%2C%20%22stroke%22%3A%20true%2C%20%22weight%22%3A%203%7D%0A%20%20%20%20%20%20%20%20%20%20%20%20%29.addTo%28map_58551aa13d3b4de2ba758d701b5ccdcf%29%3B%0A%20%20%20%20%20%20%20%20%0A%20%20%20%20%0A%20%20%20%20%20%20%20%20var%20popup_8eb59101de024e739efb92c6bfebc541%20%3D%20L.popup%28%7B%22maxWidth%22%3A%20%22100%25%22%7D%29%3B%0A%0A%20%20%20%20%20%20%20%20%0A%20%20%20%20%20%20%20%20%20%20%20%20var%20html_94fd8feff7214c5c99c38f7859a7d939%20%3D%20%24%28%60%3Cdiv%20id%3D%22html_94fd8feff7214c5c99c38f7859a7d939%22%20style%3D%22width%3A%20100.0%25%3B%20height%3A%20100.0%25%3B%22%3EEmeryville%2C%20CA%3C/div%3E%60%29%5B0%5D%3B%0A%20%20%20%20%20%20%20%20%20%20%20%20popup_8eb59101de024e739efb92c6bfebc541.setContent%28html_94fd8feff7214c5c99c38f7859a7d939%29%3B%0A%20%20%20%20%20%20%20%20%0A%0A%20%20%20%20%20%20%20%20regular_polygon_marker_e6cba7c0ecc9473bad13888a6402e1a1.bindPopup%28popup_8eb59101de024e739efb92c6bfebc541%29%0A%20%20%20%20%20%20%20%20%3B%0A%0A%20%20%20%20%20%20%20%20%0A%20%20%20%20%0A%20%20%20%20%0A%20%20%20%20%20%20%20%20%20%20%20%20var%20regular_polygon_marker_cb1776fbb7184ffa92e31eafc6725ff4%20%3D%20new%20L.RegularPolygonMarker%28%0A%20%20%20%20%20%20%20%20%20%20%20%20%20%20%20%20%5B37.79387096%2C%20-122.27168020000002%5D%2C%0A%20%20%20%20%20%20%20%20%20%20%20%20%20%20%20%20%7B%22bubblingMouseEvents%22%3A%20true%2C%20%22color%22%3A%20%22%233388ff%22%2C%20%22dashArray%22%3A%20null%2C%20%22dashOffset%22%3A%20null%2C%20%22fill%22%3A%20false%2C%20%22fillColor%22%3A%20%22%233388ff%22%2C%20%22fillOpacity%22%3A%200.2%2C%20%22fillRule%22%3A%20%22evenodd%22%2C%20%22lineCap%22%3A%20%22round%22%2C%20%22lineJoin%22%3A%20%22round%22%2C%20%22numberOfSides%22%3A%204%2C%20%22opacity%22%3A%201.0%2C%20%22radius%22%3A%204%2C%20%22rotation%22%3A%200%2C%20%22stroke%22%3A%20true%2C%20%22weight%22%3A%203%7D%0A%20%20%20%20%20%20%20%20%20%20%20%20%29.addTo%28map_58551aa13d3b4de2ba758d701b5ccdcf%29%3B%0A%20%20%20%20%20%20%20%20%0A%20%20%20%20%0A%20%20%20%20%20%20%20%20var%20popup_04a38f9c99c64109b0b5f0a0e7b3cb2c%20%3D%20L.popup%28%7B%22maxWidth%22%3A%20%22100%25%22%7D%29%3B%0A%0A%20%20%20%20%20%20%20%20%0A%20%20%20%20%20%20%20%20%20%20%20%20var%20html_a6b19c35837049fcb20945b393f9be15%20%3D%20%24%28%60%3Cdiv%20id%3D%22html_a6b19c35837049fcb20945b393f9be15%22%20style%3D%22width%3A%20100.0%25%3B%20height%3A%20100.0%25%3B%22%3EOakland%2C%20CA%3C/div%3E%60%29%5B0%5D%3B%0A%20%20%20%20%20%20%20%20%20%20%20%20popup_04a38f9c99c64109b0b5f0a0e7b3cb2c.setContent%28html_a6b19c35837049fcb20945b393f9be15%29%3B%0A%20%20%20%20%20%20%20%20%0A%0A%20%20%20%20%20%20%20%20regular_polygon_marker_cb1776fbb7184ffa92e31eafc6725ff4.bindPopup%28popup_04a38f9c99c64109b0b5f0a0e7b3cb2c%29%0A%20%20%20%20%20%20%20%20%3B%0A%0A%20%20%20%20%20%20%20%20%0A%20%20%20%20%0A%20%20%20%20%0A%20%20%20%20%20%20%20%20%20%20%20%20var%20regular_polygon_marker_4ca9829885f0487594061cf4014f1433%20%3D%20new%20L.RegularPolygonMarker%28%0A%20%20%20%20%20%20%20%20%20%20%20%20%20%20%20%20%5B37.32993794%2C%20-121.90240109999999%5D%2C%0A%20%20%20%20%20%20%20%20%20%20%20%20%20%20%20%20%7B%22bubblingMouseEvents%22%3A%20true%2C%20%22color%22%3A%20%22%233388ff%22%2C%20%22dashArray%22%3A%20null%2C%20%22dashOffset%22%3A%20null%2C%20%22fill%22%3A%20false%2C%20%22fillColor%22%3A%20%22%233388ff%22%2C%20%22fillOpacity%22%3A%200.2%2C%20%22fillRule%22%3A%20%22evenodd%22%2C%20%22lineCap%22%3A%20%22round%22%2C%20%22lineJoin%22%3A%20%22round%22%2C%20%22numberOfSides%22%3A%204%2C%20%22opacity%22%3A%201.0%2C%20%22radius%22%3A%204%2C%20%22rotation%22%3A%200%2C%20%22stroke%22%3A%20true%2C%20%22weight%22%3A%203%7D%0A%20%20%20%20%20%20%20%20%20%20%20%20%29.addTo%28map_58551aa13d3b4de2ba758d701b5ccdcf%29%3B%0A%20%20%20%20%20%20%20%20%0A%20%20%20%20%0A%20%20%20%20%20%20%20%20var%20popup_4ade2191bf004ed2b2938bc1f8649ee0%20%3D%20L.popup%28%7B%22maxWidth%22%3A%20%22100%25%22%7D%29%3B%0A%0A%20%20%20%20%20%20%20%20%0A%20%20%20%20%20%20%20%20%20%20%20%20var%20html_f2c6fdbc7707440bb132f1e9d314d8cf%20%3D%20%24%28%60%3Cdiv%20id%3D%22html_f2c6fdbc7707440bb132f1e9d314d8cf%22%20style%3D%22width%3A%20100.0%25%3B%20height%3A%20100.0%25%3B%22%3ESan%20Jose%2C%20CA%3C/div%3E%60%29%5B0%5D%3B%0A%20%20%20%20%20%20%20%20%20%20%20%20popup_4ade2191bf004ed2b2938bc1f8649ee0.setContent%28html_f2c6fdbc7707440bb132f1e9d314d8cf%29%3B%0A%20%20%20%20%20%20%20%20%0A%0A%20%20%20%20%20%20%20%20regular_polygon_marker_4ca9829885f0487594061cf4014f1433.bindPopup%28popup_4ade2191bf004ed2b2938bc1f8649ee0%29%0A%20%20%20%20%20%20%20%20%3B%0A%0A%20%20%20%20%20%20%20%20%0A%20%20%20%20%0A%20%20%20%20%0A%20%20%20%20%20%20%20%20%20%20%20%20var%20regular_polygon_marker_cb8924eacef34a9580b10ca86d95bbed%20%3D%20new%20L.RegularPolygonMarker%28%0A%20%20%20%20%20%20%20%20%20%20%20%20%20%20%20%20%5B37.79387096%2C%20-122.27168020000002%5D%2C%0A%20%20%20%20%20%20%20%20%20%20%20%20%20%20%20%20%7B%22bubblingMouseEvents%22%3A%20true%2C%20%22color%22%3A%20%22%233388ff%22%2C%20%22dashArray%22%3A%20null%2C%20%22dashOffset%22%3A%20null%2C%20%22fill%22%3A%20false%2C%20%22fillColor%22%3A%20%22%233388ff%22%2C%20%22fillOpacity%22%3A%200.2%2C%20%22fillRule%22%3A%20%22evenodd%22%2C%20%22lineCap%22%3A%20%22round%22%2C%20%22lineJoin%22%3A%20%22round%22%2C%20%22numberOfSides%22%3A%204%2C%20%22opacity%22%3A%201.0%2C%20%22radius%22%3A%204%2C%20%22rotation%22%3A%200%2C%20%22stroke%22%3A%20true%2C%20%22weight%22%3A%203%7D%0A%20%20%20%20%20%20%20%20%20%20%20%20%29.addTo%28map_58551aa13d3b4de2ba758d701b5ccdcf%29%3B%0A%20%20%20%20%20%20%20%20%0A%20%20%20%20%0A%20%20%20%20%20%20%20%20var%20popup_4cc3f8c966fb4691aac1ae9c91f037a8%20%3D%20L.popup%28%7B%22maxWidth%22%3A%20%22100%25%22%7D%29%3B%0A%0A%20%20%20%20%20%20%20%20%0A%20%20%20%20%20%20%20%20%20%20%20%20var%20html_78a4f0870ec94943aff87ccdc4046308%20%3D%20%24%28%60%3Cdiv%20id%3D%22html_78a4f0870ec94943aff87ccdc4046308%22%20style%3D%22width%3A%20100.0%25%3B%20height%3A%20100.0%25%3B%22%3EOakland%2C%20CA%3C/div%3E%60%29%5B0%5D%3B%0A%20%20%20%20%20%20%20%20%20%20%20%20popup_4cc3f8c966fb4691aac1ae9c91f037a8.setContent%28html_78a4f0870ec94943aff87ccdc4046308%29%3B%0A%20%20%20%20%20%20%20%20%0A%0A%20%20%20%20%20%20%20%20regular_polygon_marker_cb8924eacef34a9580b10ca86d95bbed.bindPopup%28popup_4cc3f8c966fb4691aac1ae9c91f037a8%29%0A%20%20%20%20%20%20%20%20%3B%0A%0A%20%20%20%20%20%20%20%20%0A%20%20%20%20%0A%20%20%20%20%0A%20%20%20%20%20%20%20%20%20%20%20%20var%20regular_polygon_marker_e7135c0d85154cf39283c12d3e5aeedc%20%3D%20new%20L.RegularPolygonMarker%28%0A%20%20%20%20%20%20%20%20%20%20%20%20%20%20%20%20%5B37.84047896%2C%20-122.2916282%5D%2C%0A%20%20%20%20%20%20%20%20%20%20%20%20%20%20%20%20%7B%22bubblingMouseEvents%22%3A%20true%2C%20%22color%22%3A%20%22%233388ff%22%2C%20%22dashArray%22%3A%20null%2C%20%22dashOffset%22%3A%20null%2C%20%22fill%22%3A%20false%2C%20%22fillColor%22%3A%20%22%233388ff%22%2C%20%22fillOpacity%22%3A%200.2%2C%20%22fillRule%22%3A%20%22evenodd%22%2C%20%22lineCap%22%3A%20%22round%22%2C%20%22lineJoin%22%3A%20%22round%22%2C%20%22numberOfSides%22%3A%204%2C%20%22opacity%22%3A%201.0%2C%20%22radius%22%3A%204%2C%20%22rotation%22%3A%200%2C%20%22stroke%22%3A%20true%2C%20%22weight%22%3A%203%7D%0A%20%20%20%20%20%20%20%20%20%20%20%20%29.addTo%28map_58551aa13d3b4de2ba758d701b5ccdcf%29%3B%0A%20%20%20%20%20%20%20%20%0A%20%20%20%20%0A%20%20%20%20%20%20%20%20var%20popup_005fab7a427f40d5b3b0143386865f56%20%3D%20L.popup%28%7B%22maxWidth%22%3A%20%22100%25%22%7D%29%3B%0A%0A%20%20%20%20%20%20%20%20%0A%20%20%20%20%20%20%20%20%20%20%20%20var%20html_18291b7d5e9140d8aa9f7d28b7939583%20%3D%20%24%28%60%3Cdiv%20id%3D%22html_18291b7d5e9140d8aa9f7d28b7939583%22%20style%3D%22width%3A%20100.0%25%3B%20height%3A%20100.0%25%3B%22%3EEmeryville%2C%20CA%3C/div%3E%60%29%5B0%5D%3B%0A%20%20%20%20%20%20%20%20%20%20%20%20popup_005fab7a427f40d5b3b0143386865f56.setContent%28html_18291b7d5e9140d8aa9f7d28b7939583%29%3B%0A%20%20%20%20%20%20%20%20%0A%0A%20%20%20%20%20%20%20%20regular_polygon_marker_e7135c0d85154cf39283c12d3e5aeedc.bindPopup%28popup_005fab7a427f40d5b3b0143386865f56%29%0A%20%20%20%20%20%20%20%20%3B%0A%0A%20%20%20%20%20%20%20%20%0A%20%20%20%20%0A%20%20%20%20%0A%20%20%20%20%20%20%20%20%20%20%20%20var%20regular_polygon_marker_34c5484bf9974c7197b9ec03d1a12425%20%3D%20new%20L.RegularPolygonMarker%28%0A%20%20%20%20%20%20%20%20%20%20%20%20%20%20%20%20%5B37.86725896%2C%20-122.3007202%5D%2C%0A%20%20%20%20%20%20%20%20%20%20%20%20%20%20%20%20%7B%22bubblingMouseEvents%22%3A%20true%2C%20%22color%22%3A%20%22%233388ff%22%2C%20%22dashArray%22%3A%20null%2C%20%22dashOffset%22%3A%20null%2C%20%22fill%22%3A%20false%2C%20%22fillColor%22%3A%20%22%233388ff%22%2C%20%22fillOpacity%22%3A%200.2%2C%20%22fillRule%22%3A%20%22evenodd%22%2C%20%22lineCap%22%3A%20%22round%22%2C%20%22lineJoin%22%3A%20%22round%22%2C%20%22numberOfSides%22%3A%204%2C%20%22opacity%22%3A%201.0%2C%20%22radius%22%3A%204%2C%20%22rotation%22%3A%200%2C%20%22stroke%22%3A%20true%2C%20%22weight%22%3A%203%7D%0A%20%20%20%20%20%20%20%20%20%20%20%20%29.addTo%28map_58551aa13d3b4de2ba758d701b5ccdcf%29%3B%0A%20%20%20%20%20%20%20%20%0A%20%20%20%20%0A%20%20%20%20%20%20%20%20var%20popup_35501db934bb43cd9ea63ea4e2a6ab58%20%3D%20L.popup%28%7B%22maxWidth%22%3A%20%22100%25%22%7D%29%3B%0A%0A%20%20%20%20%20%20%20%20%0A%20%20%20%20%20%20%20%20%20%20%20%20var%20html_3757a3561e01443c8793f5140252a34c%20%3D%20%24%28%60%3Cdiv%20id%3D%22html_3757a3561e01443c8793f5140252a34c%22%20style%3D%22width%3A%20100.0%25%3B%20height%3A%20100.0%25%3B%22%3EBerkeley%2C%20CA%3C/div%3E%60%29%5B0%5D%3B%0A%20%20%20%20%20%20%20%20%20%20%20%20popup_35501db934bb43cd9ea63ea4e2a6ab58.setContent%28html_3757a3561e01443c8793f5140252a34c%29%3B%0A%20%20%20%20%20%20%20%20%0A%0A%20%20%20%20%20%20%20%20regular_polygon_marker_34c5484bf9974c7197b9ec03d1a12425.bindPopup%28popup_35501db934bb43cd9ea63ea4e2a6ab58%29%0A%20%20%20%20%20%20%20%20%3B%0A%0A%20%20%20%20%20%20%20%20%0A%20%20%20%20%0A%20%20%20%20%0A%20%20%20%20%20%20%20%20%20%20%20%20var%20regular_polygon_marker_52f35332ff6f4919ac5e93cd033d1f0c%20%3D%20new%20L.RegularPolygonMarker%28%0A%20%20%20%20%20%20%20%20%20%20%20%20%20%20%20%20%5B37.93675696%2C%20-122.35414320000001%5D%2C%0A%20%20%20%20%20%20%20%20%20%20%20%20%20%20%20%20%7B%22bubblingMouseEvents%22%3A%20true%2C%20%22color%22%3A%20%22%233388ff%22%2C%20%22dashArray%22%3A%20null%2C%20%22dashOffset%22%3A%20null%2C%20%22fill%22%3A%20false%2C%20%22fillColor%22%3A%20%22%233388ff%22%2C%20%22fillOpacity%22%3A%200.2%2C%20%22fillRule%22%3A%20%22evenodd%22%2C%20%22lineCap%22%3A%20%22round%22%2C%20%22lineJoin%22%3A%20%22round%22%2C%20%22numberOfSides%22%3A%204%2C%20%22opacity%22%3A%201.0%2C%20%22radius%22%3A%204%2C%20%22rotation%22%3A%200%2C%20%22stroke%22%3A%20true%2C%20%22weight%22%3A%203%7D%0A%20%20%20%20%20%20%20%20%20%20%20%20%29.addTo%28map_58551aa13d3b4de2ba758d701b5ccdcf%29%3B%0A%20%20%20%20%20%20%20%20%0A%20%20%20%20%0A%20%20%20%20%20%20%20%20var%20popup_6d768616eb0a4767bfba02696855b0c2%20%3D%20L.popup%28%7B%22maxWidth%22%3A%20%22100%25%22%7D%29%3B%0A%0A%20%20%20%20%20%20%20%20%0A%20%20%20%20%20%20%20%20%20%20%20%20var%20html_6543329ff5df4bee8a362a930edecf15%20%3D%20%24%28%60%3Cdiv%20id%3D%22html_6543329ff5df4bee8a362a930edecf15%22%20style%3D%22width%3A%20100.0%25%3B%20height%3A%20100.0%25%3B%22%3ERichmond%2C%20CA%3C/div%3E%60%29%5B0%5D%3B%0A%20%20%20%20%20%20%20%20%20%20%20%20popup_6d768616eb0a4767bfba02696855b0c2.setContent%28html_6543329ff5df4bee8a362a930edecf15%29%3B%0A%20%20%20%20%20%20%20%20%0A%0A%20%20%20%20%20%20%20%20regular_polygon_marker_52f35332ff6f4919ac5e93cd033d1f0c.bindPopup%28popup_6d768616eb0a4767bfba02696855b0c2%29%0A%20%20%20%20%20%20%20%20%3B%0A%0A%20%20%20%20%20%20%20%20%0A%20%20%20%20%0A%20%20%20%20%0A%20%20%20%20%20%20%20%20%20%20%20%20var%20regular_polygon_marker_e0a5b07a66d643d39d5f89c6f92884f9%20%3D%20new%20L.RegularPolygonMarker%28%0A%20%20%20%20%20%20%20%20%20%20%20%20%20%20%20%20%5B38.01892598%2C%20-122.13879720000001%5D%2C%0A%20%20%20%20%20%20%20%20%20%20%20%20%20%20%20%20%7B%22bubblingMouseEvents%22%3A%20true%2C%20%22color%22%3A%20%22%233388ff%22%2C%20%22dashArray%22%3A%20null%2C%20%22dashOffset%22%3A%20null%2C%20%22fill%22%3A%20false%2C%20%22fillColor%22%3A%20%22%233388ff%22%2C%20%22fillOpacity%22%3A%200.2%2C%20%22fillRule%22%3A%20%22evenodd%22%2C%20%22lineCap%22%3A%20%22round%22%2C%20%22lineJoin%22%3A%20%22round%22%2C%20%22numberOfSides%22%3A%204%2C%20%22opacity%22%3A%201.0%2C%20%22radius%22%3A%204%2C%20%22rotation%22%3A%200%2C%20%22stroke%22%3A%20true%2C%20%22weight%22%3A%203%7D%0A%20%20%20%20%20%20%20%20%20%20%20%20%29.addTo%28map_58551aa13d3b4de2ba758d701b5ccdcf%29%3B%0A%20%20%20%20%20%20%20%20%0A%20%20%20%20%0A%20%20%20%20%20%20%20%20var%20popup_abc5d456d7764056a04e0788f1b97b2a%20%3D%20L.popup%28%7B%22maxWidth%22%3A%20%22100%25%22%7D%29%3B%0A%0A%20%20%20%20%20%20%20%20%0A%20%20%20%20%20%20%20%20%20%20%20%20var%20html_82d3676c229541889d47d6c2fe4d87c1%20%3D%20%24%28%60%3Cdiv%20id%3D%22html_82d3676c229541889d47d6c2fe4d87c1%22%20style%3D%22width%3A%20100.0%25%3B%20height%3A%20100.0%25%3B%22%3EMartinez%2C%20CA%3C/div%3E%60%29%5B0%5D%3B%0A%20%20%20%20%20%20%20%20%20%20%20%20popup_abc5d456d7764056a04e0788f1b97b2a.setContent%28html_82d3676c229541889d47d6c2fe4d87c1%29%3B%0A%20%20%20%20%20%20%20%20%0A%0A%20%20%20%20%20%20%20%20regular_polygon_marker_e0a5b07a66d643d39d5f89c6f92884f9.bindPopup%28popup_abc5d456d7764056a04e0788f1b97b2a%29%0A%20%20%20%20%20%20%20%20%3B%0A%0A%20%20%20%20%20%20%20%20%0A%20%20%20%20%0A%20%20%20%20%0A%20%20%20%20%20%20%20%20%20%20%20%20var%20regular_polygon_marker_6fce5394f72b46dfb99f74ac542353fc%20%3D%20new%20L.RegularPolygonMarker%28%0A%20%20%20%20%20%20%20%20%20%20%20%20%20%20%20%20%5B38.24340601%2C%20-122.0411122%5D%2C%0A%20%20%20%20%20%20%20%20%20%20%20%20%20%20%20%20%7B%22bubblingMouseEvents%22%3A%20true%2C%20%22color%22%3A%20%22%233388ff%22%2C%20%22dashArray%22%3A%20null%2C%20%22dashOffset%22%3A%20null%2C%20%22fill%22%3A%20false%2C%20%22fillColor%22%3A%20%22%233388ff%22%2C%20%22fillOpacity%22%3A%200.2%2C%20%22fillRule%22%3A%20%22evenodd%22%2C%20%22lineCap%22%3A%20%22round%22%2C%20%22lineJoin%22%3A%20%22round%22%2C%20%22numberOfSides%22%3A%204%2C%20%22opacity%22%3A%201.0%2C%20%22radius%22%3A%204%2C%20%22rotation%22%3A%200%2C%20%22stroke%22%3A%20true%2C%20%22weight%22%3A%203%7D%0A%20%20%20%20%20%20%20%20%20%20%20%20%29.addTo%28map_58551aa13d3b4de2ba758d701b5ccdcf%29%3B%0A%20%20%20%20%20%20%20%20%0A%20%20%20%20%0A%20%20%20%20%20%20%20%20var%20popup_1d2af4a3513444508c83ae8be2fc1788%20%3D%20L.popup%28%7B%22maxWidth%22%3A%20%22100%25%22%7D%29%3B%0A%0A%20%20%20%20%20%20%20%20%0A%20%20%20%20%20%20%20%20%20%20%20%20var%20html_8baf107da47d422f8f981f5d9a37c079%20%3D%20%24%28%60%3Cdiv%20id%3D%22html_8baf107da47d422f8f981f5d9a37c079%22%20style%3D%22width%3A%20100.0%25%3B%20height%3A%20100.0%25%3B%22%3ESuisun-Fairfield%2C%20CA%3C/div%3E%60%29%5B0%5D%3B%0A%20%20%20%20%20%20%20%20%20%20%20%20popup_1d2af4a3513444508c83ae8be2fc1788.setContent%28html_8baf107da47d422f8f981f5d9a37c079%29%3B%0A%20%20%20%20%20%20%20%20%0A%0A%20%20%20%20%20%20%20%20regular_polygon_marker_6fce5394f72b46dfb99f74ac542353fc.bindPopup%28popup_1d2af4a3513444508c83ae8be2fc1788%29%0A%20%20%20%20%20%20%20%20%3B%0A%0A%20%20%20%20%20%20%20%20%0A%20%20%20%20%0A%20%20%20%20%0A%20%20%20%20%20%20%20%20%20%20%20%20var%20regular_polygon_marker_f5ce31c305324cb3a955e5632c48725e%20%3D%20new%20L.RegularPolygonMarker%28%0A%20%20%20%20%20%20%20%20%20%20%20%20%20%20%20%20%5B38.28563102%2C%20-121.9679392%5D%2C%0A%20%20%20%20%20%20%20%20%20%20%20%20%20%20%20%20%7B%22bubblingMouseEvents%22%3A%20true%2C%20%22color%22%3A%20%22%233388ff%22%2C%20%22dashArray%22%3A%20null%2C%20%22dashOffset%22%3A%20null%2C%20%22fill%22%3A%20false%2C%20%22fillColor%22%3A%20%22%233388ff%22%2C%20%22fillOpacity%22%3A%200.2%2C%20%22fillRule%22%3A%20%22evenodd%22%2C%20%22lineCap%22%3A%20%22round%22%2C%20%22lineJoin%22%3A%20%22round%22%2C%20%22numberOfSides%22%3A%204%2C%20%22opacity%22%3A%201.0%2C%20%22radius%22%3A%204%2C%20%22rotation%22%3A%200%2C%20%22stroke%22%3A%20true%2C%20%22weight%22%3A%203%7D%0A%20%20%20%20%20%20%20%20%20%20%20%20%29.addTo%28map_58551aa13d3b4de2ba758d701b5ccdcf%29%3B%0A%20%20%20%20%20%20%20%20%0A%20%20%20%20%0A%20%20%20%20%20%20%20%20var%20popup_a3c89dc243604aeea712f722bc341121%20%3D%20L.popup%28%7B%22maxWidth%22%3A%20%22100%25%22%7D%29%3B%0A%0A%20%20%20%20%20%20%20%20%0A%20%20%20%20%20%20%20%20%20%20%20%20var%20html_a3fc35590a3246b7ac53231b00203c61%20%3D%20%24%28%60%3Cdiv%20id%3D%22html_a3fc35590a3246b7ac53231b00203c61%22%20style%3D%22width%3A%20100.0%25%3B%20height%3A%20100.0%25%3B%22%3EFairfield-Vacaville%2C%20CA%3C/div%3E%60%29%5B0%5D%3B%0A%20%20%20%20%20%20%20%20%20%20%20%20popup_a3c89dc243604aeea712f722bc341121.setContent%28html_a3fc35590a3246b7ac53231b00203c61%29%3B%0A%20%20%20%20%20%20%20%20%0A%0A%20%20%20%20%20%20%20%20regular_polygon_marker_f5ce31c305324cb3a955e5632c48725e.bindPopup%28popup_a3c89dc243604aeea712f722bc341121%29%0A%20%20%20%20%20%20%20%20%3B%0A%0A%20%20%20%20%20%20%20%20%0A%20%20%20%20%0A%20%20%20%20%0A%20%20%20%20%20%20%20%20%20%20%20%20var%20regular_polygon_marker_8d78ecd6697148cca59334b2d13c5bbb%20%3D%20new%20L.RegularPolygonMarker%28%0A%20%20%20%20%20%20%20%20%20%20%20%20%20%20%20%20%5B38.54356706%2C%20-121.7377202%5D%2C%0A%20%20%20%20%20%20%20%20%20%20%20%20%20%20%20%20%7B%22bubblingMouseEvents%22%3A%20true%2C%20%22color%22%3A%20%22%233388ff%22%2C%20%22dashArray%22%3A%20null%2C%20%22dashOffset%22%3A%20null%2C%20%22fill%22%3A%20false%2C%20%22fillColor%22%3A%20%22%233388ff%22%2C%20%22fillOpacity%22%3A%200.2%2C%20%22fillRule%22%3A%20%22evenodd%22%2C%20%22lineCap%22%3A%20%22round%22%2C%20%22lineJoin%22%3A%20%22round%22%2C%20%22numberOfSides%22%3A%204%2C%20%22opacity%22%3A%201.0%2C%20%22radius%22%3A%204%2C%20%22rotation%22%3A%200%2C%20%22stroke%22%3A%20true%2C%20%22weight%22%3A%203%7D%0A%20%20%20%20%20%20%20%20%20%20%20%20%29.addTo%28map_58551aa13d3b4de2ba758d701b5ccdcf%29%3B%0A%20%20%20%20%20%20%20%20%0A%20%20%20%20%0A%20%20%20%20%20%20%20%20var%20popup_a5e740573dd644f6b738f9070b01bdef%20%3D%20L.popup%28%7B%22maxWidth%22%3A%20%22100%25%22%7D%29%3B%0A%0A%20%20%20%20%20%20%20%20%0A%20%20%20%20%20%20%20%20%20%20%20%20var%20html_63a61751c9ce408dae34c21e4448c624%20%3D%20%24%28%60%3Cdiv%20id%3D%22html_63a61751c9ce408dae34c21e4448c624%22%20style%3D%22width%3A%20100.0%25%3B%20height%3A%20100.0%25%3B%22%3EDavis%2C%20CA%3C/div%3E%60%29%5B0%5D%3B%0A%20%20%20%20%20%20%20%20%20%20%20%20popup_a5e740573dd644f6b738f9070b01bdef.setContent%28html_63a61751c9ce408dae34c21e4448c624%29%3B%0A%20%20%20%20%20%20%20%20%0A%0A%20%20%20%20%20%20%20%20regular_polygon_marker_8d78ecd6697148cca59334b2d13c5bbb.bindPopup%28popup_a5e740573dd644f6b738f9070b01bdef%29%0A%20%20%20%20%20%20%20%20%3B%0A%0A%20%20%20%20%20%20%20%20%0A%20%20%20%20%0A%20%20%20%20%0A%20%20%20%20%20%20%20%20%20%20%20%20map_58551aa13d3b4de2ba758d701b5ccdcf.fitBounds%28%0A%20%20%20%20%20%20%20%20%20%20%20%20%20%20%20%20%5B%5B37.32993794%2C%20-123.10278840000001%5D%2C%20%5B47.61362861%2C%20-121.5007172%5D%5D%2C%0A%20%20%20%20%20%20%20%20%20%20%20%20%20%20%20%20%7B%7D%0A%20%20%20%20%20%20%20%20%20%20%20%20%29%3B%0A%20%20%20%20%20%20%20%20%0A%3C/script%3E onload=\"this.contentDocument.open();this.contentDocument.write(    decodeURIComponent(this.getAttribute('data-html')));this.contentDocument.close();\" allowfullscreen webkitallowfullscreen mozallowfullscreen></iframe></div></div>"
      ],
      "text/plain": [
       "<folium.folium.Map at 0x5ed56b0>"
      ]
     },
     "execution_count": 7,
     "metadata": {},
     "output_type": "execute_result"
    }
   ],
   "source": [
    "m = folium.Map(tiles=\"CartoDB dark_matter\")\n",
    "\n",
    "for i in range(0, 31, 1):\n",
    "   folium.RegularPolygonMarker(\n",
    "      location=[df['Longitude'][i], df['Latitude'][i]], radius = 4,\n",
    "      popup=df['Location'][i], icon=folium.Icon(color='pink')).add_to(m)\n",
    "\n",
    "# Show the map again\n",
    "m.fit_bounds(m.get_bounds())\n",
    "m"
   ]
  },
  {
   "cell_type": "markdown",
   "metadata": {},
   "source": [
    "Next stop: Glenwood Springs. See you on the other side!"
   ]
  }
 ],
 "metadata": {
  "language_info": {
   "name": "python"
  },
  "orig_nbformat": 4
 },
 "nbformat": 4,
 "nbformat_minor": 2
}
